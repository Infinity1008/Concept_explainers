{
 "cells": [
  {
   "cell_type": "markdown",
   "id": "6bfa3e04",
   "metadata": {},
   "source": [
    "<h1><center>Industry Application of Analytics </center></h1>\n",
    "\n",
    "![](https://media.giphy.com/media/3oKIPEqDGUULpEU0aQ/giphy.gif)"
   ]
  },
  {
   "cell_type": "markdown",
   "id": "5932fff3",
   "metadata": {},
   "source": [
    "# Topics\n",
    "1. Introduction to Business Analytics. \n",
    "2. Basic Statistics \n",
    "3. Exploratory Data Analysis with pandas\n",
    "4. Data Visualization with Seaborn (optional) \n",
    "5. Modelling with python:- \n",
    "    - Regression \n",
    "        - Linear Regression <------------------------------------------------ **This is where we are**\n",
    "    - Classification\n",
    "        - Logistic Regression (We meet again !)\n",
    "        - Decision Tree\n",
    "    - Analysing our models\n",
    "6. Churn Analysis\n",
    "7. Social Media Analytics\n",
    "    - Web Scraping\n",
    "8. Marketing Analytics (maybe !)\n",
    "9. Time Series Forecasting (maybe maybe !!)\n",
    "10. Supply Chain Analytics (maybe maybe maybe !!!)"
   ]
  },
  {
   "cell_type": "markdown",
   "id": "5ba111f8",
   "metadata": {},
   "source": [
    "# Modelling with Python\n",
    "\n",
    "Modelling can be broadly seperated in 2 parts:-\n",
    "1. Supervised Learning\n",
    "2. Unsupervised Learning"
   ]
  },
  {
   "cell_type": "markdown",
   "id": "0f2bdb86",
   "metadata": {},
   "source": [
    "![](https://quantdare.com/wp-content/uploads/2016/03/LearningTypes-1091x766.png)"
   ]
  },
  {
   "cell_type": "markdown",
   "id": "8c890ddc",
   "metadata": {},
   "source": [
    "# Supervised Learning\n",
    "Supervised learning is a type of machine learning where a computer algorithm learns to map input data to corresponding output data, based on labeled examples provided in a training dataset.\n",
    "\n",
    "In supervised learning, the algorithm is given a set of input features, and the correct output values for each input example, and then it learns to produce accurate outputs for new input data based on this training data. The goal of the algorithm is to generalize from the training data, and to produce accurate predictions for new, unseen data.\n",
    "\n",
    "Supervised learning is often used for tasks such as classification (predicting a discrete label, such as identifying whether an email is spam or not), regression (predicting a continuous value, such as predicting the price of a house), and sequence labeling (such as identifying the parts of speech in a sentence).\n",
    "\n",
    "---\n",
    "\n",
    "# Unsupervised Learning\n",
    "Unsupervised learning is a type of machine learning where the algorithm learns to find patterns and structure in unlabeled data, without being given explicit feedback or guidance on the correct output.\n",
    "\n",
    "In unsupervised learning, the algorithm is given a dataset containing input features, but no corresponding output labels. The goal of the algorithm is to discover inherent patterns or relationships in the data, and group similar data points together. This can be useful for tasks such as clustering, anomaly detection, and dimensionality reduction.\n",
    "\n",
    "One common approach in unsupervised learning is clustering, which involves grouping similar data points together based on their features. Another approach is dimensionality reduction, which involves reducing the number of input features to a smaller, more manageable set of features, while preserving the essential information in the data.\n",
    "\n",
    "Unsupervised learning can be a powerful tool for discovering new insights and hidden patterns in large, complex datasets. However, it can also be more challenging than supervised learning, as there is no explicit guidance on the correct output, and the algorithms must rely on their own internal criteria to evaluate their performance.\n",
    "\n",
    "---"
   ]
  },
  {
   "cell_type": "markdown",
   "id": "d7335eaa",
   "metadata": {},
   "source": [
    "![](https://quantdare.com/wp-content/uploads/2016/03/MLAlgorithms-e1456930214606-1054x766.png)"
   ]
  },
  {
   "cell_type": "markdown",
   "id": "f8de3f64",
   "metadata": {},
   "source": [
    "# The Flow of Modelling\n",
    "The flow of machine learning modeling typically involves the following steps:\n",
    "\n",
    "1. **Data Collection**: Gathering the relevant data from various sources. This may include data cleaning and preprocessing to ensure that the data is in a format that can be used for modeling.\n",
    "2. **Data Exploration**: Exploring the data to gain insights into its properties and relationships. This may involve visualizations, statistical analysis, and feature engineering.\n",
    "3. **Data Preparation**: Splitting the data into training, validation, and test sets. The training set is used to train the model, the validation set is used to tune the model hyperparameters, and the test set is used to evaluate the final performance of the model.\n",
    "4. **Model Selection**: Choosing an appropriate machine learning algorithm based on the problem and the data. This may involve comparing multiple algorithms and selecting the one that provides the best performance.\n",
    "5. **Model Training**: Using the training data to train the model, adjusting the model parameters to minimize the error on the training set.\n",
    "6. **Model Evaluation**: Using the validation set to evaluate the performance of the model, adjusting the hyperparameters to optimize performance on the validation set.\n",
    "7. **Model Testing**: Using the test set to evaluate the final performance of the model on unseen data.\n",
    "8. **Model Deployment**: Deploying the model in a production environment, where it can be used to make predictions on new data.\n",
    "9. **Model Monitoring and Maintenance**: Continuously monitoring the performance of the model and updating it as needed to maintain its accuracy and relevance.\n",
    "\n",
    "This flow can vary depending on the specific problem and the available data, but it provides a general framework for the machine learning modeling process.\n",
    "\n",
    "\n"
   ]
  },
  {
   "cell_type": "markdown",
   "id": "e0655216",
   "metadata": {},
   "source": [
    "![](https://quantdare.com/wp-content/uploads/2016/03/MLStages-1-1046x766.png)"
   ]
  },
  {
   "cell_type": "markdown",
   "id": "958bf278",
   "metadata": {},
   "source": [
    "# Now, who wants to do all the manually\n",
    "\n",
    "![](https://media.tenor.com/fBvQV_5Lp6UAAAAC/we-dont-do-that-here-black-panther.gif)\n",
    "\n",
    "We will use sklearn, a python machine learning modelling library that will help us train all of these models."
   ]
  },
  {
   "cell_type": "markdown",
   "id": "ef3a0346",
   "metadata": {},
   "source": [
    "# Sklearn\n",
    "![](https://www.dartistics.com/images/medium_ml_map.png)"
   ]
  },
  {
   "cell_type": "markdown",
   "id": "a2765e99",
   "metadata": {},
   "source": [
    "# Linear Regression"
   ]
  },
  {
   "cell_type": "code",
   "execution_count": null,
   "id": "924c685b",
   "metadata": {},
   "outputs": [],
   "source": []
  },
  {
   "cell_type": "code",
   "execution_count": null,
   "id": "e567e76a",
   "metadata": {},
   "outputs": [],
   "source": []
  },
  {
   "cell_type": "code",
   "execution_count": null,
   "id": "12e08209",
   "metadata": {},
   "outputs": [],
   "source": []
  }
 ],
 "metadata": {
  "kernelspec": {
   "display_name": "Python 3 (ipykernel)",
   "language": "python",
   "name": "python3"
  },
  "language_info": {
   "codemirror_mode": {
    "name": "ipython",
    "version": 3
   },
   "file_extension": ".py",
   "mimetype": "text/x-python",
   "name": "python",
   "nbconvert_exporter": "python",
   "pygments_lexer": "ipython3",
   "version": "3.7.16"
  }
 },
 "nbformat": 4,
 "nbformat_minor": 5
}
