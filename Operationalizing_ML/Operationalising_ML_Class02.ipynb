{
 "cells": [
  {
   "cell_type": "markdown",
   "id": "59eb725b",
   "metadata": {},
   "source": [
    "# Operationalising ML"
   ]
  },
  {
   "cell_type": "markdown",
   "id": "38f5f86c",
   "metadata": {},
   "source": [
    "![](https://www.researchgate.net/profile/Philipp-Hartlieb/publication/361258805/figure/fig1/AS:1168965330042880@1655714461815/Main-phases-of-the-ML-life-cycle-targeted-at-operationalising-ML-models-in-production.ppm)"
   ]
  },
  {
   "cell_type": "code",
   "execution_count": 2,
   "id": "116d391f",
   "metadata": {
    "scrolled": true
   },
   "outputs": [],
   "source": [
    "import pandas as pd\n",
    "df3 = pd.read_csv('datasets/drug200.csv')"
   ]
  },
  {
   "cell_type": "code",
   "execution_count": 3,
   "id": "247218ab",
   "metadata": {},
   "outputs": [
    {
     "data": {
      "text/html": [
       "<div>\n",
       "<style scoped>\n",
       "    .dataframe tbody tr th:only-of-type {\n",
       "        vertical-align: middle;\n",
       "    }\n",
       "\n",
       "    .dataframe tbody tr th {\n",
       "        vertical-align: top;\n",
       "    }\n",
       "\n",
       "    .dataframe thead th {\n",
       "        text-align: right;\n",
       "    }\n",
       "</style>\n",
       "<table border=\"1\" class=\"dataframe\">\n",
       "  <thead>\n",
       "    <tr style=\"text-align: right;\">\n",
       "      <th></th>\n",
       "      <th>Age</th>\n",
       "      <th>Sex</th>\n",
       "      <th>BP</th>\n",
       "      <th>Cholesterol</th>\n",
       "      <th>Na_to_K</th>\n",
       "      <th>Drug</th>\n",
       "    </tr>\n",
       "  </thead>\n",
       "  <tbody>\n",
       "    <tr>\n",
       "      <th>0</th>\n",
       "      <td>23</td>\n",
       "      <td>F</td>\n",
       "      <td>HIGH</td>\n",
       "      <td>HIGH</td>\n",
       "      <td>25.355</td>\n",
       "      <td>DrugY</td>\n",
       "    </tr>\n",
       "    <tr>\n",
       "      <th>1</th>\n",
       "      <td>47</td>\n",
       "      <td>M</td>\n",
       "      <td>LOW</td>\n",
       "      <td>HIGH</td>\n",
       "      <td>13.093</td>\n",
       "      <td>drugC</td>\n",
       "    </tr>\n",
       "    <tr>\n",
       "      <th>2</th>\n",
       "      <td>47</td>\n",
       "      <td>M</td>\n",
       "      <td>LOW</td>\n",
       "      <td>HIGH</td>\n",
       "      <td>10.114</td>\n",
       "      <td>drugC</td>\n",
       "    </tr>\n",
       "    <tr>\n",
       "      <th>3</th>\n",
       "      <td>28</td>\n",
       "      <td>F</td>\n",
       "      <td>NORMAL</td>\n",
       "      <td>HIGH</td>\n",
       "      <td>7.798</td>\n",
       "      <td>drugX</td>\n",
       "    </tr>\n",
       "    <tr>\n",
       "      <th>4</th>\n",
       "      <td>61</td>\n",
       "      <td>F</td>\n",
       "      <td>LOW</td>\n",
       "      <td>HIGH</td>\n",
       "      <td>18.043</td>\n",
       "      <td>DrugY</td>\n",
       "    </tr>\n",
       "    <tr>\n",
       "      <th>...</th>\n",
       "      <td>...</td>\n",
       "      <td>...</td>\n",
       "      <td>...</td>\n",
       "      <td>...</td>\n",
       "      <td>...</td>\n",
       "      <td>...</td>\n",
       "    </tr>\n",
       "    <tr>\n",
       "      <th>195</th>\n",
       "      <td>56</td>\n",
       "      <td>F</td>\n",
       "      <td>LOW</td>\n",
       "      <td>HIGH</td>\n",
       "      <td>11.567</td>\n",
       "      <td>drugC</td>\n",
       "    </tr>\n",
       "    <tr>\n",
       "      <th>196</th>\n",
       "      <td>16</td>\n",
       "      <td>M</td>\n",
       "      <td>LOW</td>\n",
       "      <td>HIGH</td>\n",
       "      <td>12.006</td>\n",
       "      <td>drugC</td>\n",
       "    </tr>\n",
       "    <tr>\n",
       "      <th>197</th>\n",
       "      <td>52</td>\n",
       "      <td>M</td>\n",
       "      <td>NORMAL</td>\n",
       "      <td>HIGH</td>\n",
       "      <td>9.894</td>\n",
       "      <td>drugX</td>\n",
       "    </tr>\n",
       "    <tr>\n",
       "      <th>198</th>\n",
       "      <td>23</td>\n",
       "      <td>M</td>\n",
       "      <td>NORMAL</td>\n",
       "      <td>NORMAL</td>\n",
       "      <td>14.020</td>\n",
       "      <td>drugX</td>\n",
       "    </tr>\n",
       "    <tr>\n",
       "      <th>199</th>\n",
       "      <td>40</td>\n",
       "      <td>F</td>\n",
       "      <td>LOW</td>\n",
       "      <td>NORMAL</td>\n",
       "      <td>11.349</td>\n",
       "      <td>drugX</td>\n",
       "    </tr>\n",
       "  </tbody>\n",
       "</table>\n",
       "<p>200 rows × 6 columns</p>\n",
       "</div>"
      ],
      "text/plain": [
       "     Age Sex      BP Cholesterol  Na_to_K   Drug\n",
       "0     23   F    HIGH        HIGH   25.355  DrugY\n",
       "1     47   M     LOW        HIGH   13.093  drugC\n",
       "2     47   M     LOW        HIGH   10.114  drugC\n",
       "3     28   F  NORMAL        HIGH    7.798  drugX\n",
       "4     61   F     LOW        HIGH   18.043  DrugY\n",
       "..   ...  ..     ...         ...      ...    ...\n",
       "195   56   F     LOW        HIGH   11.567  drugC\n",
       "196   16   M     LOW        HIGH   12.006  drugC\n",
       "197   52   M  NORMAL        HIGH    9.894  drugX\n",
       "198   23   M  NORMAL      NORMAL   14.020  drugX\n",
       "199   40   F     LOW      NORMAL   11.349  drugX\n",
       "\n",
       "[200 rows x 6 columns]"
      ]
     },
     "execution_count": 3,
     "metadata": {},
     "output_type": "execute_result"
    }
   ],
   "source": [
    "df3"
   ]
  },
  {
   "cell_type": "markdown",
   "id": "11c133a3",
   "metadata": {},
   "source": [
    "# Making it work for 2 inputs. This is your task"
   ]
  },
  {
   "cell_type": "code",
   "execution_count": 4,
   "id": "49e12905",
   "metadata": {},
   "outputs": [],
   "source": [
    "test_data = [[28, 'F', 'NORMAL', 'HIGH', 7.798], [61, 'F', 'LOW', 'HIGH', 18.043]]"
   ]
  },
  {
   "cell_type": "code",
   "execution_count": 5,
   "id": "683e0e36",
   "metadata": {
    "scrolled": true
   },
   "outputs": [
    {
     "data": {
      "text/html": [
       "<div>\n",
       "<style scoped>\n",
       "    .dataframe tbody tr th:only-of-type {\n",
       "        vertical-align: middle;\n",
       "    }\n",
       "\n",
       "    .dataframe tbody tr th {\n",
       "        vertical-align: top;\n",
       "    }\n",
       "\n",
       "    .dataframe thead th {\n",
       "        text-align: right;\n",
       "    }\n",
       "</style>\n",
       "<table border=\"1\" class=\"dataframe\">\n",
       "  <thead>\n",
       "    <tr style=\"text-align: right;\">\n",
       "      <th></th>\n",
       "      <th>Age</th>\n",
       "      <th>Sex</th>\n",
       "      <th>BP</th>\n",
       "      <th>Cholesterol</th>\n",
       "      <th>Na_to_K</th>\n",
       "      <th>Drug</th>\n",
       "    </tr>\n",
       "  </thead>\n",
       "  <tbody>\n",
       "    <tr>\n",
       "      <th>3</th>\n",
       "      <td>28</td>\n",
       "      <td>F</td>\n",
       "      <td>NORMAL</td>\n",
       "      <td>HIGH</td>\n",
       "      <td>7.798</td>\n",
       "      <td>drugX</td>\n",
       "    </tr>\n",
       "    <tr>\n",
       "      <th>4</th>\n",
       "      <td>61</td>\n",
       "      <td>F</td>\n",
       "      <td>LOW</td>\n",
       "      <td>HIGH</td>\n",
       "      <td>18.043</td>\n",
       "      <td>DrugY</td>\n",
       "    </tr>\n",
       "  </tbody>\n",
       "</table>\n",
       "</div>"
      ],
      "text/plain": [
       "   Age Sex      BP Cholesterol  Na_to_K   Drug\n",
       "3   28   F  NORMAL        HIGH    7.798  drugX\n",
       "4   61   F     LOW        HIGH   18.043  DrugY"
      ]
     },
     "execution_count": 5,
     "metadata": {},
     "output_type": "execute_result"
    }
   ],
   "source": [
    "df3.iloc[3:5,:]"
   ]
  },
  {
   "cell_type": "code",
   "execution_count": 6,
   "id": "2a9ebc44",
   "metadata": {},
   "outputs": [],
   "source": [
    "# get_prediction('my_df3_decision_tree.joblib', \n",
    "#                'my_df3_encoder.joblib', \n",
    "#                'my_df3_label_encoder.joblib', \n",
    "#                [\n",
    "#                    [28, 'F', 'NORMAL', 'HIGH', 7.798], \n",
    "#                    [61, 'F', 'LOW', 'HIGH', 18.043]\n",
    "#                ])"
   ]
  },
  {
   "cell_type": "markdown",
   "id": "2d5ec411",
   "metadata": {},
   "source": [
    "# Answer"
   ]
  },
  {
   "cell_type": "code",
   "execution_count": 19,
   "id": "f530e609",
   "metadata": {},
   "outputs": [],
   "source": [
    "from joblib import load, dump\n",
    "\n",
    "def get_prediction(model_path, encoder_path, label_encoder_path, user_input):\n",
    "    \n",
    "    # Let's load our model\n",
    "    clf = load(model_path) # load and reuse the model\n",
    "    print('Model Successfully Loaded')\n",
    "\n",
    "    # Let's load our encoder\n",
    "    enc = load(encoder_path) # load and reuse the model\n",
    "    print('Encoder Successfully Loaded')\n",
    " \n",
    "    # Let's load my label encoder\n",
    "    le = load(label_encoder_path) # load and reuse the model\n",
    "    print('Label Encoder Successfully Loaded')\n",
    "    \n",
    "    # 1. Firstly, create a DataFrame out of the user input\n",
    "    \n",
    "    # Now, i know i have told you that you can do this with dictionary comprehensions. \n",
    "    # But i was just sneakily trying to teach you about them. \n",
    "    # The truth is, you could have easily done the same with pd.DataFrame. Look !!!\n",
    "    # Hey, don't be mad at me, we all learned something here. \n",
    "    \n",
    "    pd_columns = ['Age', 'Sex', 'BP', 'Cholesterol', 'Na_to_K']\n",
    "\n",
    "    # Creating DataFrame\n",
    "    df_temp = pd.DataFrame(user_input, columns = pd_columns)\n",
    "    print(\"DataFrame Successfully created from user data.\")\n",
    "    \n",
    "    # 2. Get your categorical df with df3[['Sex', 'BP', 'Cholesterol']]\n",
    "    cat_data = df_temp[['Sex', 'BP', 'Cholesterol']]\n",
    "    \n",
    "    # 3. Get your numerical df with df3[['Age', 'Na_to_K']]\n",
    "    num_data = df_temp[['Age', 'Na_to_K']]\n",
    "    \n",
    "    # 4. Encode your categorical columns\n",
    "    enc.transform(cat_data) # This will encode, but give me a sparse matrix in result\n",
    "    enc.transform(cat_data).toarray() # This will give me the array i want\n",
    "    \n",
    "    # Let's create a DataFrame now\n",
    "    pd.DataFrame(enc.transform(cat_data).toarray(), columns = enc.get_feature_names_out())\n",
    "    print(\"DataFrame Successfully Encoded.\")\n",
    "    \n",
    "    # 5. Save your encoded df.\n",
    "    df_encoded = pd.DataFrame(enc.transform(cat_data).toarray(), columns = enc.get_feature_names_out())\n",
    "    \n",
    "    # 6. Combine your encoded df with your df_num\n",
    "    df_X = num_data.join(df_encoded)\n",
    "    print(\"Data Successfully Transformed to desired format.\")\n",
    "    \n",
    "    # This about this\n",
    "    # 7. At step 7, your data looks exactly like the data you used to train your model\n",
    "    \n",
    "    # ---------------------- This is Done now ----------------------\n",
    "    \n",
    "    # 8. Can you not just do clf.predict(yourdata)\n",
    "    clf.predict(df_X) # This gives me a label as a prediction in an array\n",
    "    \n",
    "    prediction = clf.predict(df_X) # Saving my prediction\n",
    "    print(\"Successfully captured prediction.\")\n",
    "\n",
    "    \n",
    "    # 9. This will give your a label.\n",
    "    le.inverse_transform(prediction) # This will again give me the output saved in an array. I will extract the 0'th item and return that.\n",
    "    output = le.inverse_transform(prediction) # Saving my output\n",
    "    print(\"Label Generated\")\n",
    "    \n",
    "    print('------------------------------------------------------')\n",
    "    \n",
    "    # 10. You will have to convert that encoded label to the actual label, you can do that with you label encoder. \n",
    "    return output"
   ]
  },
  {
   "cell_type": "markdown",
   "id": "d5e83635",
   "metadata": {},
   "source": [
    "# Let's see if this works now"
   ]
  },
  {
   "cell_type": "code",
   "execution_count": 20,
   "id": "f86c7867",
   "metadata": {},
   "outputs": [
    {
     "name": "stdout",
     "output_type": "stream",
     "text": [
      "Model Successfully Loaded\n",
      "Encoder Successfully Loaded\n",
      "Label Encoder Successfully Loaded\n",
      "DataFrame Successfully created from user data.\n",
      "DataFrame Successfully Encoded.\n",
      "Data Successfully Transformed to desired format.\n",
      "Successfully captured prediction.\n",
      "Label Generated\n",
      "------------------------------------------------------\n"
     ]
    },
    {
     "data": {
      "text/plain": [
       "array(['drugX', 'DrugY'], dtype=object)"
      ]
     },
     "execution_count": 20,
     "metadata": {},
     "output_type": "execute_result"
    }
   ],
   "source": [
    "get_prediction('my_df3_decision_tree.joblib', \n",
    "               'my_df3_encoder.joblib', \n",
    "               'my_df3_label_encoder.joblib', \n",
    "               [\n",
    "                   [28, 'F', 'NORMAL', 'HIGH', 7.798], \n",
    "                   [61, 'F', 'LOW', 'HIGH', 18.043]\n",
    "               ])"
   ]
  },
  {
   "cell_type": "code",
   "execution_count": 21,
   "id": "a02928d8",
   "metadata": {},
   "outputs": [
    {
     "name": "stdout",
     "output_type": "stream",
     "text": [
      "Model Successfully Loaded\n",
      "Encoder Successfully Loaded\n",
      "Label Encoder Successfully Loaded\n",
      "DataFrame Successfully created from user data.\n",
      "DataFrame Successfully Encoded.\n",
      "Data Successfully Transformed to desired format.\n",
      "Successfully captured prediction.\n",
      "Label Generated\n",
      "------------------------------------------------------\n"
     ]
    },
    {
     "data": {
      "text/plain": [
       "array(['drugX', 'DrugY'], dtype=object)"
      ]
     },
     "execution_count": 21,
     "metadata": {},
     "output_type": "execute_result"
    }
   ],
   "source": [
    "# Let's see\n",
    "get_prediction('my_df3_decision_tree.joblib', 'my_df3_encoder.joblib', 'my_df3_label_encoder.joblib', [[28, 'F', 'NORMAL', 'HIGH', 7.798], [61, 'F', 'LOW', 'HIGH', 18.043]])"
   ]
  },
  {
   "cell_type": "code",
   "execution_count": 22,
   "id": "ef4616b4",
   "metadata": {},
   "outputs": [
    {
     "name": "stdout",
     "output_type": "stream",
     "text": [
      "Model Successfully Loaded\n",
      "Encoder Successfully Loaded\n",
      "Label Encoder Successfully Loaded\n",
      "DataFrame Successfully created from user data.\n",
      "DataFrame Successfully Encoded.\n",
      "Data Successfully Transformed to desired format.\n",
      "Successfully captured prediction.\n",
      "Label Generated\n",
      "------------------------------------------------------\n"
     ]
    },
    {
     "data": {
      "text/plain": [
       "array(['drugX', 'DrugY'], dtype=object)"
      ]
     },
     "execution_count": 22,
     "metadata": {},
     "output_type": "execute_result"
    }
   ],
   "source": [
    "get_prediction('my_df3_decision_tree.joblib', 'my_df3_encoder.joblib', 'my_df3_label_encoder.joblib', [[28, 'F', 'NORMAL', 'HIGH', 7.798], [61, 'F', 'LOW', 'HIGH', 18.043]])"
   ]
  },
  {
   "cell_type": "markdown",
   "id": "51c2aac8",
   "metadata": {},
   "source": [
    "### An explanation, of how i used it "
   ]
  },
  {
   "cell_type": "code",
   "execution_count": 7,
   "id": "f9284c93",
   "metadata": {},
   "outputs": [],
   "source": [
    "# Import pandas library\n",
    "import pandas as pd"
   ]
  },
  {
   "cell_type": "code",
   "execution_count": 9,
   "id": "4722e3b0",
   "metadata": {
    "scrolled": false
   },
   "outputs": [],
   "source": [
    "# initialize list of lists\n",
    "data = [['SomeText', 20, 10], ['Sometext2', 5, 10], ['some_text3', 100, 10]]"
   ]
  },
  {
   "cell_type": "code",
   "execution_count": 10,
   "id": "e475d526",
   "metadata": {},
   "outputs": [
    {
     "data": {
      "text/html": [
       "<div>\n",
       "<style scoped>\n",
       "    .dataframe tbody tr th:only-of-type {\n",
       "        vertical-align: middle;\n",
       "    }\n",
       "\n",
       "    .dataframe tbody tr th {\n",
       "        vertical-align: top;\n",
       "    }\n",
       "\n",
       "    .dataframe thead th {\n",
       "        text-align: right;\n",
       "    }\n",
       "</style>\n",
       "<table border=\"1\" class=\"dataframe\">\n",
       "  <thead>\n",
       "    <tr style=\"text-align: right;\">\n",
       "      <th></th>\n",
       "      <th>text</th>\n",
       "      <th>number1</th>\n",
       "      <th>number2</th>\n",
       "    </tr>\n",
       "  </thead>\n",
       "  <tbody>\n",
       "    <tr>\n",
       "      <th>0</th>\n",
       "      <td>SomeText</td>\n",
       "      <td>20</td>\n",
       "      <td>10</td>\n",
       "    </tr>\n",
       "    <tr>\n",
       "      <th>1</th>\n",
       "      <td>Sometext2</td>\n",
       "      <td>5</td>\n",
       "      <td>10</td>\n",
       "    </tr>\n",
       "    <tr>\n",
       "      <th>2</th>\n",
       "      <td>some_text3</td>\n",
       "      <td>100</td>\n",
       "      <td>10</td>\n",
       "    </tr>\n",
       "  </tbody>\n",
       "</table>\n",
       "</div>"
      ],
      "text/plain": [
       "         text  number1  number2\n",
       "0    SomeText       20       10\n",
       "1   Sometext2        5       10\n",
       "2  some_text3      100       10"
      ]
     },
     "execution_count": 10,
     "metadata": {},
     "output_type": "execute_result"
    }
   ],
   "source": [
    "pd.DataFrame(data,columns=['text', 'number1', 'number2'])"
   ]
  },
  {
   "cell_type": "code",
   "execution_count": 13,
   "id": "e93d2b69",
   "metadata": {},
   "outputs": [
    {
     "data": {
      "text/html": [
       "<div>\n",
       "<style scoped>\n",
       "    .dataframe tbody tr th:only-of-type {\n",
       "        vertical-align: middle;\n",
       "    }\n",
       "\n",
       "    .dataframe tbody tr th {\n",
       "        vertical-align: top;\n",
       "    }\n",
       "\n",
       "    .dataframe thead th {\n",
       "        text-align: right;\n",
       "    }\n",
       "</style>\n",
       "<table border=\"1\" class=\"dataframe\">\n",
       "  <thead>\n",
       "    <tr style=\"text-align: right;\">\n",
       "      <th></th>\n",
       "      <th>mycolumns</th>\n",
       "    </tr>\n",
       "  </thead>\n",
       "  <tbody>\n",
       "    <tr>\n",
       "      <th>0</th>\n",
       "      <td>one_value</td>\n",
       "    </tr>\n",
       "  </tbody>\n",
       "</table>\n",
       "</div>"
      ],
      "text/plain": [
       "   mycolumns\n",
       "0  one_value"
      ]
     },
     "execution_count": 13,
     "metadata": {},
     "output_type": "execute_result"
    }
   ],
   "source": [
    "pd.DataFrame([['one_value']], columns=['mycolumns'])"
   ]
  },
  {
   "cell_type": "code",
   "execution_count": 15,
   "id": "28b221a9",
   "metadata": {},
   "outputs": [],
   "source": [
    "user_data = [23,'F','HIGH','HIGH',25.355]"
   ]
  },
  {
   "cell_type": "code",
   "execution_count": 16,
   "id": "3bedfb36",
   "metadata": {},
   "outputs": [],
   "source": [
    "pd_columns = ['Age', 'Sex', 'BP', 'Cholesterol', 'Na_to_K']"
   ]
  },
  {
   "cell_type": "code",
   "execution_count": 18,
   "id": "8d17dccc",
   "metadata": {},
   "outputs": [
    {
     "data": {
      "text/html": [
       "<div>\n",
       "<style scoped>\n",
       "    .dataframe tbody tr th:only-of-type {\n",
       "        vertical-align: middle;\n",
       "    }\n",
       "\n",
       "    .dataframe tbody tr th {\n",
       "        vertical-align: top;\n",
       "    }\n",
       "\n",
       "    .dataframe thead th {\n",
       "        text-align: right;\n",
       "    }\n",
       "</style>\n",
       "<table border=\"1\" class=\"dataframe\">\n",
       "  <thead>\n",
       "    <tr style=\"text-align: right;\">\n",
       "      <th></th>\n",
       "      <th>Age</th>\n",
       "      <th>Sex</th>\n",
       "      <th>BP</th>\n",
       "      <th>Cholesterol</th>\n",
       "      <th>Na_to_K</th>\n",
       "    </tr>\n",
       "  </thead>\n",
       "  <tbody>\n",
       "    <tr>\n",
       "      <th>0</th>\n",
       "      <td>23</td>\n",
       "      <td>F</td>\n",
       "      <td>HIGH</td>\n",
       "      <td>HIGH</td>\n",
       "      <td>25.355</td>\n",
       "    </tr>\n",
       "  </tbody>\n",
       "</table>\n",
       "</div>"
      ],
      "text/plain": [
       "   Age Sex    BP Cholesterol  Na_to_K\n",
       "0   23   F  HIGH        HIGH   25.355"
      ]
     },
     "execution_count": 18,
     "metadata": {},
     "output_type": "execute_result"
    }
   ],
   "source": [
    "pd.DataFrame([user_data], columns=pd_columns)"
   ]
  },
  {
   "cell_type": "code",
   "execution_count": 19,
   "id": "86d0c0ae",
   "metadata": {},
   "outputs": [],
   "source": [
    "# Create the pandas DataFrame\n",
    "df = pd.DataFrame(data, columns = ['Name', 'Age', 'random'])"
   ]
  },
  {
   "cell_type": "code",
   "execution_count": 20,
   "id": "242d3746",
   "metadata": {},
   "outputs": [
    {
     "data": {
      "text/html": [
       "<div>\n",
       "<style scoped>\n",
       "    .dataframe tbody tr th:only-of-type {\n",
       "        vertical-align: middle;\n",
       "    }\n",
       "\n",
       "    .dataframe tbody tr th {\n",
       "        vertical-align: top;\n",
       "    }\n",
       "\n",
       "    .dataframe thead th {\n",
       "        text-align: right;\n",
       "    }\n",
       "</style>\n",
       "<table border=\"1\" class=\"dataframe\">\n",
       "  <thead>\n",
       "    <tr style=\"text-align: right;\">\n",
       "      <th></th>\n",
       "      <th>Name</th>\n",
       "      <th>Age</th>\n",
       "      <th>random</th>\n",
       "    </tr>\n",
       "  </thead>\n",
       "  <tbody>\n",
       "    <tr>\n",
       "      <th>0</th>\n",
       "      <td>SomeText</td>\n",
       "      <td>20</td>\n",
       "      <td>10</td>\n",
       "    </tr>\n",
       "    <tr>\n",
       "      <th>1</th>\n",
       "      <td>Sometext2</td>\n",
       "      <td>5</td>\n",
       "      <td>10</td>\n",
       "    </tr>\n",
       "    <tr>\n",
       "      <th>2</th>\n",
       "      <td>some_text3</td>\n",
       "      <td>100</td>\n",
       "      <td>10</td>\n",
       "    </tr>\n",
       "  </tbody>\n",
       "</table>\n",
       "</div>"
      ],
      "text/plain": [
       "         Name  Age  random\n",
       "0    SomeText   20      10\n",
       "1   Sometext2    5      10\n",
       "2  some_text3  100      10"
      ]
     },
     "execution_count": 20,
     "metadata": {},
     "output_type": "execute_result"
    }
   ],
   "source": [
    "# Let's look at the dataframe.\n",
    "df"
   ]
  },
  {
   "cell_type": "markdown",
   "id": "43d31136",
   "metadata": {},
   "source": [
    "### For 1 column"
   ]
  },
  {
   "cell_type": "code",
   "execution_count": 30,
   "id": "ce4fb567",
   "metadata": {},
   "outputs": [],
   "source": [
    "# initialize list of lists\n",
    "data = [['SomeText'], ['Sometext2'], ['some_text3']]"
   ]
  },
  {
   "cell_type": "code",
   "execution_count": 31,
   "id": "834b9bc0",
   "metadata": {},
   "outputs": [],
   "source": [
    "# Create the pandas DataFrame\n",
    "df = pd.DataFrame(data, columns = ['Name'])"
   ]
  },
  {
   "cell_type": "code",
   "execution_count": 32,
   "id": "446a2b09",
   "metadata": {},
   "outputs": [
    {
     "data": {
      "text/html": [
       "<div>\n",
       "<style scoped>\n",
       "    .dataframe tbody tr th:only-of-type {\n",
       "        vertical-align: middle;\n",
       "    }\n",
       "\n",
       "    .dataframe tbody tr th {\n",
       "        vertical-align: top;\n",
       "    }\n",
       "\n",
       "    .dataframe thead th {\n",
       "        text-align: right;\n",
       "    }\n",
       "</style>\n",
       "<table border=\"1\" class=\"dataframe\">\n",
       "  <thead>\n",
       "    <tr style=\"text-align: right;\">\n",
       "      <th></th>\n",
       "      <th>Name</th>\n",
       "    </tr>\n",
       "  </thead>\n",
       "  <tbody>\n",
       "    <tr>\n",
       "      <th>0</th>\n",
       "      <td>SomeText</td>\n",
       "    </tr>\n",
       "    <tr>\n",
       "      <th>1</th>\n",
       "      <td>Sometext2</td>\n",
       "    </tr>\n",
       "    <tr>\n",
       "      <th>2</th>\n",
       "      <td>some_text3</td>\n",
       "    </tr>\n",
       "  </tbody>\n",
       "</table>\n",
       "</div>"
      ],
      "text/plain": [
       "         Name\n",
       "0    SomeText\n",
       "1   Sometext2\n",
       "2  some_text3"
      ]
     },
     "execution_count": 32,
     "metadata": {},
     "output_type": "execute_result"
    }
   ],
   "source": [
    "# Let's look at the dataframe.\n",
    "df"
   ]
  },
  {
   "cell_type": "markdown",
   "id": "458ec0c7",
   "metadata": {},
   "source": [
    "### An explanation for our use case. "
   ]
  },
  {
   "cell_type": "code",
   "execution_count": 22,
   "id": "d0796cab",
   "metadata": {},
   "outputs": [],
   "source": [
    "data = [23,'F','HIGH','HIGH',25.355]"
   ]
  },
  {
   "cell_type": "code",
   "execution_count": 24,
   "id": "7e6b2eab",
   "metadata": {},
   "outputs": [],
   "source": [
    "df = pd.DataFrame([data], columns = ['Age', 'Sex', 'BP', 'Cholesterol', 'Na_to_K'])"
   ]
  },
  {
   "cell_type": "code",
   "execution_count": 29,
   "id": "fa1f39a5",
   "metadata": {},
   "outputs": [
    {
     "data": {
      "text/html": [
       "<div>\n",
       "<style scoped>\n",
       "    .dataframe tbody tr th:only-of-type {\n",
       "        vertical-align: middle;\n",
       "    }\n",
       "\n",
       "    .dataframe tbody tr th {\n",
       "        vertical-align: top;\n",
       "    }\n",
       "\n",
       "    .dataframe thead th {\n",
       "        text-align: right;\n",
       "    }\n",
       "</style>\n",
       "<table border=\"1\" class=\"dataframe\">\n",
       "  <thead>\n",
       "    <tr style=\"text-align: right;\">\n",
       "      <th></th>\n",
       "      <th>Age</th>\n",
       "      <th>Sex</th>\n",
       "      <th>BP</th>\n",
       "      <th>Cholesterol</th>\n",
       "      <th>Na_to_K</th>\n",
       "    </tr>\n",
       "  </thead>\n",
       "  <tbody>\n",
       "    <tr>\n",
       "      <th>0</th>\n",
       "      <td>23</td>\n",
       "      <td>F</td>\n",
       "      <td>HIGH</td>\n",
       "      <td>HIGH</td>\n",
       "      <td>25.355</td>\n",
       "    </tr>\n",
       "  </tbody>\n",
       "</table>\n",
       "</div>"
      ],
      "text/plain": [
       "   Age Sex    BP Cholesterol  Na_to_K\n",
       "0   23   F  HIGH        HIGH   25.355"
      ]
     },
     "execution_count": 29,
     "metadata": {},
     "output_type": "execute_result"
    }
   ],
   "source": [
    "df"
   ]
  },
  {
   "cell_type": "markdown",
   "id": "25647179",
   "metadata": {},
   "source": [
    "# What if we want to read from a csv. \n",
    "\n",
    "That would make my life much easier"
   ]
  },
  {
   "cell_type": "code",
   "execution_count": 23,
   "id": "8bea6d77",
   "metadata": {},
   "outputs": [],
   "source": [
    "import pandas as pd\n",
    "df3 = pd.read_csv('datasets/drug200.csv')"
   ]
  },
  {
   "cell_type": "code",
   "execution_count": 24,
   "id": "38711521",
   "metadata": {},
   "outputs": [
    {
     "data": {
      "text/html": [
       "<div>\n",
       "<style scoped>\n",
       "    .dataframe tbody tr th:only-of-type {\n",
       "        vertical-align: middle;\n",
       "    }\n",
       "\n",
       "    .dataframe tbody tr th {\n",
       "        vertical-align: top;\n",
       "    }\n",
       "\n",
       "    .dataframe thead th {\n",
       "        text-align: right;\n",
       "    }\n",
       "</style>\n",
       "<table border=\"1\" class=\"dataframe\">\n",
       "  <thead>\n",
       "    <tr style=\"text-align: right;\">\n",
       "      <th></th>\n",
       "      <th>Age</th>\n",
       "      <th>Sex</th>\n",
       "      <th>BP</th>\n",
       "      <th>Cholesterol</th>\n",
       "      <th>Na_to_K</th>\n",
       "      <th>Drug</th>\n",
       "    </tr>\n",
       "  </thead>\n",
       "  <tbody>\n",
       "    <tr>\n",
       "      <th>0</th>\n",
       "      <td>23</td>\n",
       "      <td>F</td>\n",
       "      <td>HIGH</td>\n",
       "      <td>HIGH</td>\n",
       "      <td>25.355</td>\n",
       "      <td>DrugY</td>\n",
       "    </tr>\n",
       "    <tr>\n",
       "      <th>1</th>\n",
       "      <td>47</td>\n",
       "      <td>M</td>\n",
       "      <td>LOW</td>\n",
       "      <td>HIGH</td>\n",
       "      <td>13.093</td>\n",
       "      <td>drugC</td>\n",
       "    </tr>\n",
       "    <tr>\n",
       "      <th>2</th>\n",
       "      <td>47</td>\n",
       "      <td>M</td>\n",
       "      <td>LOW</td>\n",
       "      <td>HIGH</td>\n",
       "      <td>10.114</td>\n",
       "      <td>drugC</td>\n",
       "    </tr>\n",
       "    <tr>\n",
       "      <th>3</th>\n",
       "      <td>28</td>\n",
       "      <td>F</td>\n",
       "      <td>NORMAL</td>\n",
       "      <td>HIGH</td>\n",
       "      <td>7.798</td>\n",
       "      <td>drugX</td>\n",
       "    </tr>\n",
       "    <tr>\n",
       "      <th>4</th>\n",
       "      <td>61</td>\n",
       "      <td>F</td>\n",
       "      <td>LOW</td>\n",
       "      <td>HIGH</td>\n",
       "      <td>18.043</td>\n",
       "      <td>DrugY</td>\n",
       "    </tr>\n",
       "    <tr>\n",
       "      <th>...</th>\n",
       "      <td>...</td>\n",
       "      <td>...</td>\n",
       "      <td>...</td>\n",
       "      <td>...</td>\n",
       "      <td>...</td>\n",
       "      <td>...</td>\n",
       "    </tr>\n",
       "    <tr>\n",
       "      <th>195</th>\n",
       "      <td>56</td>\n",
       "      <td>F</td>\n",
       "      <td>LOW</td>\n",
       "      <td>HIGH</td>\n",
       "      <td>11.567</td>\n",
       "      <td>drugC</td>\n",
       "    </tr>\n",
       "    <tr>\n",
       "      <th>196</th>\n",
       "      <td>16</td>\n",
       "      <td>M</td>\n",
       "      <td>LOW</td>\n",
       "      <td>HIGH</td>\n",
       "      <td>12.006</td>\n",
       "      <td>drugC</td>\n",
       "    </tr>\n",
       "    <tr>\n",
       "      <th>197</th>\n",
       "      <td>52</td>\n",
       "      <td>M</td>\n",
       "      <td>NORMAL</td>\n",
       "      <td>HIGH</td>\n",
       "      <td>9.894</td>\n",
       "      <td>drugX</td>\n",
       "    </tr>\n",
       "    <tr>\n",
       "      <th>198</th>\n",
       "      <td>23</td>\n",
       "      <td>M</td>\n",
       "      <td>NORMAL</td>\n",
       "      <td>NORMAL</td>\n",
       "      <td>14.020</td>\n",
       "      <td>drugX</td>\n",
       "    </tr>\n",
       "    <tr>\n",
       "      <th>199</th>\n",
       "      <td>40</td>\n",
       "      <td>F</td>\n",
       "      <td>LOW</td>\n",
       "      <td>NORMAL</td>\n",
       "      <td>11.349</td>\n",
       "      <td>drugX</td>\n",
       "    </tr>\n",
       "  </tbody>\n",
       "</table>\n",
       "<p>200 rows × 6 columns</p>\n",
       "</div>"
      ],
      "text/plain": [
       "     Age Sex      BP Cholesterol  Na_to_K   Drug\n",
       "0     23   F    HIGH        HIGH   25.355  DrugY\n",
       "1     47   M     LOW        HIGH   13.093  drugC\n",
       "2     47   M     LOW        HIGH   10.114  drugC\n",
       "3     28   F  NORMAL        HIGH    7.798  drugX\n",
       "4     61   F     LOW        HIGH   18.043  DrugY\n",
       "..   ...  ..     ...         ...      ...    ...\n",
       "195   56   F     LOW        HIGH   11.567  drugC\n",
       "196   16   M     LOW        HIGH   12.006  drugC\n",
       "197   52   M  NORMAL        HIGH    9.894  drugX\n",
       "198   23   M  NORMAL      NORMAL   14.020  drugX\n",
       "199   40   F     LOW      NORMAL   11.349  drugX\n",
       "\n",
       "[200 rows x 6 columns]"
      ]
     },
     "execution_count": 24,
     "metadata": {},
     "output_type": "execute_result"
    }
   ],
   "source": [
    "df3"
   ]
  },
  {
   "cell_type": "code",
   "execution_count": 25,
   "id": "b18cd3a0",
   "metadata": {},
   "outputs": [],
   "source": [
    "df3 = df3.head()"
   ]
  },
  {
   "cell_type": "code",
   "execution_count": 26,
   "id": "c1d64ada",
   "metadata": {},
   "outputs": [
    {
     "data": {
      "text/html": [
       "<div>\n",
       "<style scoped>\n",
       "    .dataframe tbody tr th:only-of-type {\n",
       "        vertical-align: middle;\n",
       "    }\n",
       "\n",
       "    .dataframe tbody tr th {\n",
       "        vertical-align: top;\n",
       "    }\n",
       "\n",
       "    .dataframe thead th {\n",
       "        text-align: right;\n",
       "    }\n",
       "</style>\n",
       "<table border=\"1\" class=\"dataframe\">\n",
       "  <thead>\n",
       "    <tr style=\"text-align: right;\">\n",
       "      <th></th>\n",
       "      <th>Age</th>\n",
       "      <th>Sex</th>\n",
       "      <th>BP</th>\n",
       "      <th>Cholesterol</th>\n",
       "      <th>Na_to_K</th>\n",
       "      <th>Drug</th>\n",
       "    </tr>\n",
       "  </thead>\n",
       "  <tbody>\n",
       "    <tr>\n",
       "      <th>0</th>\n",
       "      <td>23</td>\n",
       "      <td>F</td>\n",
       "      <td>HIGH</td>\n",
       "      <td>HIGH</td>\n",
       "      <td>25.355</td>\n",
       "      <td>DrugY</td>\n",
       "    </tr>\n",
       "    <tr>\n",
       "      <th>1</th>\n",
       "      <td>47</td>\n",
       "      <td>M</td>\n",
       "      <td>LOW</td>\n",
       "      <td>HIGH</td>\n",
       "      <td>13.093</td>\n",
       "      <td>drugC</td>\n",
       "    </tr>\n",
       "    <tr>\n",
       "      <th>2</th>\n",
       "      <td>47</td>\n",
       "      <td>M</td>\n",
       "      <td>LOW</td>\n",
       "      <td>HIGH</td>\n",
       "      <td>10.114</td>\n",
       "      <td>drugC</td>\n",
       "    </tr>\n",
       "    <tr>\n",
       "      <th>3</th>\n",
       "      <td>28</td>\n",
       "      <td>F</td>\n",
       "      <td>NORMAL</td>\n",
       "      <td>HIGH</td>\n",
       "      <td>7.798</td>\n",
       "      <td>drugX</td>\n",
       "    </tr>\n",
       "    <tr>\n",
       "      <th>4</th>\n",
       "      <td>61</td>\n",
       "      <td>F</td>\n",
       "      <td>LOW</td>\n",
       "      <td>HIGH</td>\n",
       "      <td>18.043</td>\n",
       "      <td>DrugY</td>\n",
       "    </tr>\n",
       "  </tbody>\n",
       "</table>\n",
       "</div>"
      ],
      "text/plain": [
       "   Age Sex      BP Cholesterol  Na_to_K   Drug\n",
       "0   23   F    HIGH        HIGH   25.355  DrugY\n",
       "1   47   M     LOW        HIGH   13.093  drugC\n",
       "2   47   M     LOW        HIGH   10.114  drugC\n",
       "3   28   F  NORMAL        HIGH    7.798  drugX\n",
       "4   61   F     LOW        HIGH   18.043  DrugY"
      ]
     },
     "execution_count": 26,
     "metadata": {},
     "output_type": "execute_result"
    }
   ],
   "source": [
    "df3"
   ]
  },
  {
   "cell_type": "code",
   "execution_count": 28,
   "id": "badc0d18",
   "metadata": {},
   "outputs": [
    {
     "name": "stderr",
     "output_type": "stream",
     "text": [
      "/tmp/ipykernel_358/2674116839.py:2: SettingWithCopyWarning: \n",
      "A value is trying to be set on a copy of a slice from a DataFrame.\n",
      "Try using .loc[row_indexer,col_indexer] = value instead\n",
      "\n",
      "See the caveats in the documentation: https://pandas.pydata.org/pandas-docs/stable/user_guide/indexing.html#returning-a-view-versus-a-copy\n",
      "  df3['Drug'] = pd.Series(np.zeros(5))\n"
     ]
    }
   ],
   "source": [
    "import numpy as np\n",
    "df3['Drug'] = pd.Series(np.zeros(5))"
   ]
  },
  {
   "cell_type": "code",
   "execution_count": 29,
   "id": "95a516c6",
   "metadata": {},
   "outputs": [
    {
     "data": {
      "text/html": [
       "<div>\n",
       "<style scoped>\n",
       "    .dataframe tbody tr th:only-of-type {\n",
       "        vertical-align: middle;\n",
       "    }\n",
       "\n",
       "    .dataframe tbody tr th {\n",
       "        vertical-align: top;\n",
       "    }\n",
       "\n",
       "    .dataframe thead th {\n",
       "        text-align: right;\n",
       "    }\n",
       "</style>\n",
       "<table border=\"1\" class=\"dataframe\">\n",
       "  <thead>\n",
       "    <tr style=\"text-align: right;\">\n",
       "      <th></th>\n",
       "      <th>Age</th>\n",
       "      <th>Sex</th>\n",
       "      <th>BP</th>\n",
       "      <th>Cholesterol</th>\n",
       "      <th>Na_to_K</th>\n",
       "      <th>Drug</th>\n",
       "    </tr>\n",
       "  </thead>\n",
       "  <tbody>\n",
       "    <tr>\n",
       "      <th>0</th>\n",
       "      <td>23</td>\n",
       "      <td>F</td>\n",
       "      <td>HIGH</td>\n",
       "      <td>HIGH</td>\n",
       "      <td>25.355</td>\n",
       "      <td>0.0</td>\n",
       "    </tr>\n",
       "    <tr>\n",
       "      <th>1</th>\n",
       "      <td>47</td>\n",
       "      <td>M</td>\n",
       "      <td>LOW</td>\n",
       "      <td>HIGH</td>\n",
       "      <td>13.093</td>\n",
       "      <td>0.0</td>\n",
       "    </tr>\n",
       "    <tr>\n",
       "      <th>2</th>\n",
       "      <td>47</td>\n",
       "      <td>M</td>\n",
       "      <td>LOW</td>\n",
       "      <td>HIGH</td>\n",
       "      <td>10.114</td>\n",
       "      <td>0.0</td>\n",
       "    </tr>\n",
       "    <tr>\n",
       "      <th>3</th>\n",
       "      <td>28</td>\n",
       "      <td>F</td>\n",
       "      <td>NORMAL</td>\n",
       "      <td>HIGH</td>\n",
       "      <td>7.798</td>\n",
       "      <td>0.0</td>\n",
       "    </tr>\n",
       "    <tr>\n",
       "      <th>4</th>\n",
       "      <td>61</td>\n",
       "      <td>F</td>\n",
       "      <td>LOW</td>\n",
       "      <td>HIGH</td>\n",
       "      <td>18.043</td>\n",
       "      <td>0.0</td>\n",
       "    </tr>\n",
       "  </tbody>\n",
       "</table>\n",
       "</div>"
      ],
      "text/plain": [
       "   Age Sex      BP Cholesterol  Na_to_K  Drug\n",
       "0   23   F    HIGH        HIGH   25.355   0.0\n",
       "1   47   M     LOW        HIGH   13.093   0.0\n",
       "2   47   M     LOW        HIGH   10.114   0.0\n",
       "3   28   F  NORMAL        HIGH    7.798   0.0\n",
       "4   61   F     LOW        HIGH   18.043   0.0"
      ]
     },
     "execution_count": 29,
     "metadata": {},
     "output_type": "execute_result"
    }
   ],
   "source": [
    "df3"
   ]
  },
  {
   "cell_type": "code",
   "execution_count": 30,
   "id": "b83e7a47",
   "metadata": {},
   "outputs": [],
   "source": [
    "df3.to_csv('get_predictions.csv',index=False)"
   ]
  },
  {
   "cell_type": "markdown",
   "id": "4e46b06b",
   "metadata": {},
   "source": [
    "# Let's load our dataset"
   ]
  },
  {
   "cell_type": "code",
   "execution_count": 31,
   "id": "de3e483f",
   "metadata": {},
   "outputs": [],
   "source": [
    "df4 = pd.read_csv('get_predictions.csv')"
   ]
  },
  {
   "cell_type": "code",
   "execution_count": 32,
   "id": "0aae2abb",
   "metadata": {},
   "outputs": [
    {
     "data": {
      "text/html": [
       "<div>\n",
       "<style scoped>\n",
       "    .dataframe tbody tr th:only-of-type {\n",
       "        vertical-align: middle;\n",
       "    }\n",
       "\n",
       "    .dataframe tbody tr th {\n",
       "        vertical-align: top;\n",
       "    }\n",
       "\n",
       "    .dataframe thead th {\n",
       "        text-align: right;\n",
       "    }\n",
       "</style>\n",
       "<table border=\"1\" class=\"dataframe\">\n",
       "  <thead>\n",
       "    <tr style=\"text-align: right;\">\n",
       "      <th></th>\n",
       "      <th>Age</th>\n",
       "      <th>Sex</th>\n",
       "      <th>BP</th>\n",
       "      <th>Cholesterol</th>\n",
       "      <th>Na_to_K</th>\n",
       "      <th>Drug</th>\n",
       "    </tr>\n",
       "  </thead>\n",
       "  <tbody>\n",
       "    <tr>\n",
       "      <th>0</th>\n",
       "      <td>35</td>\n",
       "      <td>M</td>\n",
       "      <td>HIGH</td>\n",
       "      <td>HIGH</td>\n",
       "      <td>15</td>\n",
       "      <td>NaN</td>\n",
       "    </tr>\n",
       "    <tr>\n",
       "      <th>1</th>\n",
       "      <td>25</td>\n",
       "      <td>F</td>\n",
       "      <td>LOW</td>\n",
       "      <td>NORMAL</td>\n",
       "      <td>25</td>\n",
       "      <td>NaN</td>\n",
       "    </tr>\n",
       "  </tbody>\n",
       "</table>\n",
       "</div>"
      ],
      "text/plain": [
       "   Age Sex    BP Cholesterol  Na_to_K  Drug\n",
       "0   35   M  HIGH        HIGH       15   NaN\n",
       "1   25   F   LOW      NORMAL       25   NaN"
      ]
     },
     "execution_count": 32,
     "metadata": {},
     "output_type": "execute_result"
    }
   ],
   "source": [
    "df4"
   ]
  },
  {
   "cell_type": "code",
   "execution_count": 33,
   "id": "506fc0d6",
   "metadata": {},
   "outputs": [],
   "source": [
    "from joblib import load, dump\n",
    "\n",
    "def get_prediction(model_path, encoder_path, label_encoder_path, user_file_path):\n",
    "    \n",
    "    # Let's load our model\n",
    "    clf = load(model_path) # load and reuse the model\n",
    "    print('Model Successfully Loaded')\n",
    "\n",
    "    # Let's load our encoder\n",
    "    enc = load(encoder_path) # load and reuse the model\n",
    "    print('Encoder Successfully Loaded')\n",
    " \n",
    "    # Let's load my label encoder\n",
    "    le = load(label_encoder_path) # load and reuse the model\n",
    "    print('Label Encoder Successfully Loaded')\n",
    "    \n",
    "    # Let's load the user file\n",
    "    df3 = pd.read_csv(user_file_path)\n",
    "    print('User File successfully loaded')\n",
    "    \n",
    "    # 2. Get your categorical df with df3[['Sex', 'BP', 'Cholesterol']]\n",
    "    cat_data = df3[['Sex', 'BP', 'Cholesterol']]\n",
    "    \n",
    "    # 3. Get your numerical df with df3[['Age', 'Na_to_K']]\n",
    "    num_data = df3[['Age', 'Na_to_K']]\n",
    "    \n",
    "    # 4. Encode your categorical columns\n",
    "    enc.transform(cat_data) # This will encode, but give me a sparse matrix in result\n",
    "    enc.transform(cat_data).toarray() # This will give me the array i want\n",
    "    \n",
    "    # Let's create a DataFrame now\n",
    "    pd.DataFrame(enc.transform(cat_data).toarray(), columns = enc.get_feature_names_out())\n",
    "    print(\"DataFrame Successfully Encoded.\")\n",
    "    \n",
    "    # 5. Save your encoded df.\n",
    "    df_encoded = pd.DataFrame(enc.transform(cat_data).toarray(), columns = enc.get_feature_names_out())\n",
    "    \n",
    "    # 6. Combine your encoded df with your df_num\n",
    "    df_X = num_data.join(df_encoded)\n",
    "    print(\"Data Successfully Transformed to desired format.\")\n",
    "    \n",
    "    # This about this\n",
    "    # 7. At step 7, your data looks exactly like the data you used to train your model\n",
    "    \n",
    "    # ---------------------- This is Done now ----------------------\n",
    "    \n",
    "    # 8. Can you not just do clf.predict(yourdata)\n",
    "    clf.predict(df_X) # This gives me a label as a prediction in an array\n",
    "    \n",
    "    prediction = clf.predict(df_X) # Saving my prediction\n",
    "    print(\"Successfully captured prediction.\")\n",
    "\n",
    "    \n",
    "    # 9. This will give your a label.\n",
    "    le.inverse_transform(prediction) # This will again give me the output saved in an array. I will extract the 0'th item and return that.\n",
    "    output = le.inverse_transform(prediction) # Saving my output\n",
    "    print(\"Label Generated\")\n",
    "    # 10. You will have to convert that encoded label to the actual label, you can do that with you label encoder. \n",
    "    \n",
    "    # 11. Now that we have our predictions, time to save our predictions to our new columns\n",
    "    df3['Drug'] = output\n",
    "    \n",
    "    # 12. Saving our DataFrame with our predictions\n",
    "    df3.to_csv(user_file_path,index=False)\n",
    "    \n",
    "    print('------------------------------------------------------')\n",
    "\n",
    "    \n",
    "    return output"
   ]
  },
  {
   "cell_type": "markdown",
   "id": "efba7683",
   "metadata": {},
   "source": [
    "# Let's see if this works now"
   ]
  },
  {
   "cell_type": "code",
   "execution_count": 34,
   "id": "8fa61bca",
   "metadata": {
    "scrolled": true
   },
   "outputs": [
    {
     "name": "stdout",
     "output_type": "stream",
     "text": [
      "Model Successfully Loaded\n",
      "Encoder Successfully Loaded\n",
      "Label Encoder Successfully Loaded\n",
      "User File successfully loaded\n",
      "DataFrame Successfully Encoded.\n",
      "Data Successfully Transformed to desired format.\n",
      "Successfully captured prediction.\n",
      "Label Generated\n",
      "------------------------------------------------------\n"
     ]
    },
    {
     "data": {
      "text/plain": [
       "array(['DrugY', 'DrugY'], dtype=object)"
      ]
     },
     "execution_count": 34,
     "metadata": {},
     "output_type": "execute_result"
    }
   ],
   "source": [
    "# Let's see\n",
    "get_prediction('my_df3_decision_tree.joblib', \n",
    "               'my_df3_encoder.joblib', \n",
    "               'my_df3_label_encoder.joblib', \n",
    "               'get_predictions.csv')"
   ]
  },
  {
   "cell_type": "markdown",
   "id": "595b357a",
   "metadata": {},
   "source": [
    "# One Last Problem.\n",
    "How will the user know which all things are possible.\n",
    "- Time to solve for the same.\n",
    "- By you !!!"
   ]
  },
  {
   "cell_type": "code",
   "execution_count": 63,
   "id": "025958a4",
   "metadata": {},
   "outputs": [
    {
     "data": {
      "text/plain": [
       "array(['F', 'M'], dtype=object)"
      ]
     },
     "execution_count": 63,
     "metadata": {},
     "output_type": "execute_result"
    }
   ],
   "source": [
    "df3['Sex'].unique()"
   ]
  },
  {
   "cell_type": "code",
   "execution_count": 64,
   "id": "79859904",
   "metadata": {},
   "outputs": [
    {
     "data": {
      "text/plain": [
       "array(['HIGH', 'LOW', 'NORMAL'], dtype=object)"
      ]
     },
     "execution_count": 64,
     "metadata": {},
     "output_type": "execute_result"
    }
   ],
   "source": [
    "df3['BP'].unique()"
   ]
  },
  {
   "cell_type": "code",
   "execution_count": 65,
   "id": "421b4236",
   "metadata": {},
   "outputs": [
    {
     "data": {
      "text/plain": [
       "array(['HIGH', 'NORMAL'], dtype=object)"
      ]
     },
     "execution_count": 65,
     "metadata": {},
     "output_type": "execute_result"
    }
   ],
   "source": [
    "df3['Cholesterol'].unique()"
   ]
  },
  {
   "cell_type": "code",
   "execution_count": 60,
   "id": "3060be44",
   "metadata": {},
   "outputs": [
    {
     "data": {
      "text/plain": [
       "HIGH      103\n",
       "NORMAL     97\n",
       "Name: Cholesterol, dtype: int64"
      ]
     },
     "execution_count": 60,
     "metadata": {},
     "output_type": "execute_result"
    }
   ],
   "source": [
    "df3['Cholesterol'].value_counts()"
   ]
  },
  {
   "cell_type": "markdown",
   "id": "0194089c",
   "metadata": {},
   "source": [
    "# Now, we move onto scripting"
   ]
  },
  {
   "cell_type": "markdown",
   "id": "b8660eb5",
   "metadata": {},
   "source": [
    "# We meet back at 11:40\n",
    "![](https://media.tenor.com/obSoMvKiIVwAAAAC/peanuts-snoopy.gif)"
   ]
  },
  {
   "cell_type": "code",
   "execution_count": null,
   "id": "46ccde52",
   "metadata": {},
   "outputs": [],
   "source": []
  },
  {
   "cell_type": "code",
   "execution_count": null,
   "id": "ba0f3238",
   "metadata": {},
   "outputs": [],
   "source": []
  },
  {
   "cell_type": "code",
   "execution_count": null,
   "id": "2a5d0c01",
   "metadata": {},
   "outputs": [],
   "source": []
  },
  {
   "cell_type": "code",
   "execution_count": null,
   "id": "90d3a2ef",
   "metadata": {},
   "outputs": [],
   "source": []
  },
  {
   "cell_type": "code",
   "execution_count": null,
   "id": "5d53fd09",
   "metadata": {},
   "outputs": [],
   "source": []
  },
  {
   "cell_type": "code",
   "execution_count": null,
   "id": "1cacb940",
   "metadata": {},
   "outputs": [],
   "source": []
  },
  {
   "cell_type": "code",
   "execution_count": null,
   "id": "0c0d7c33",
   "metadata": {},
   "outputs": [],
   "source": []
  },
  {
   "cell_type": "code",
   "execution_count": null,
   "id": "b9a0bc38",
   "metadata": {},
   "outputs": [],
   "source": []
  }
 ],
 "metadata": {
  "kernelspec": {
   "display_name": "Python 3 (ipykernel)",
   "language": "python",
   "name": "python3"
  },
  "language_info": {
   "codemirror_mode": {
    "name": "ipython",
    "version": 3
   },
   "file_extension": ".py",
   "mimetype": "text/x-python",
   "name": "python",
   "nbconvert_exporter": "python",
   "pygments_lexer": "ipython3",
   "version": "3.9.16"
  }
 },
 "nbformat": 4,
 "nbformat_minor": 5
}
