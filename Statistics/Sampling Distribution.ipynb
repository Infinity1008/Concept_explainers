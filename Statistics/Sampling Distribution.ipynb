{
 "cells": [
  {
   "cell_type": "markdown",
   "id": "3d960b80",
   "metadata": {},
   "source": [
    "# Normal Distribution\n",
    "Normal distribution, also known as the Gaussian distribution, is a probability distribution that is symmetric about the mean, showing that data near the mean are more frequent in occurrence than data far from the mean.\n",
    "\n",
    "In graphical form, the normal distribution appears as a \"bell curve\".\n",
    "\n",
    "![Normal Distribution](https://www.investopedia.com/thmb/d4jrAW0IPGrI133cZd6IoSh-Kbk=/660x0/filters:no_upscale():max_bytes(150000):strip_icc():format(webp)/The-Normal-Distribution1-51cb75a3e0a34eb6bbff7e966557757e.jpg)"
   ]
  },
  {
   "cell_type": "markdown",
   "id": "a274ec97",
   "metadata": {},
   "source": [
    "# Sampling Distribution\n",
    "A sampling distribution is a probability distribution of a statistic obtained from a larger number of samples drawn from a specific population. The sampling distribution of a given population is the distribution of frequencies of a range of different outcomes that could possibly occur for a statistic of a population.\n",
    "\n",
    "Let's assume that our population is normally distirbuted. \n",
    "We will sample 10 values from our distribution and average them together. \n",
    "\n",
    "Once averaged, we will plot a histogram of all our averaged values, Let's see what happens."
   ]
  },
  {
   "cell_type": "code",
   "execution_count": 1,
   "id": "799cf6a5",
   "metadata": {},
   "outputs": [
    {
     "data": {
      "text/plain": [
       "[<matplotlib.lines.Line2D at 0x7f1ec4f508b0>]"
      ]
     },
     "execution_count": 1,
     "metadata": {},
     "output_type": "execute_result"
    },
    {
     "data": {
      "image/png": "[encoded data removed]",
      "text/plain": [
       "<Figure size 432x288 with 1 Axes>"
      ]
     },
     "metadata": {
      "needs_background": "light"
     },
     "output_type": "display_data"
    }
   ],
   "source": [
    "from scipy.stats import norm\n",
    "import matplotlib.pyplot as plt\n",
    "import numpy as np\n",
    "\n",
    "fig, ax = plt.subplots(1, 1)\n",
    "mean, var, skew, kurt = norm.stats(moments='mvsk')\n",
    "\n",
    "x = np.linspace(norm.ppf(0.0001),\n",
    "                norm.ppf(0.9999), 10000)\n",
    "ax.plot(x, norm.pdf(x),\n",
    "       'r-', lw=5, alpha=0.6, label='norm pdf')\n"
   ]
  },
  {
   "cell_type": "markdown",
   "id": "79fbfee4",
   "metadata": {},
   "source": [
    "### Let's dram samples from a normal distribution with mean 0 and std. dev 0.1"
   ]
  },
  {
   "cell_type": "code",
   "execution_count": 47,
   "id": "dc27c2b7",
   "metadata": {},
   "outputs": [],
   "source": [
    "mu, sigma = 0, 0.1 # mean and standard deviation\n",
    "s = np.random.normal(mu, sigma, 100)"
   ]
  },
  {
   "cell_type": "code",
   "execution_count": 46,
   "id": "7549733e",
   "metadata": {},
   "outputs": [
    {
     "data": {
      "text/plain": [
       "array([-0.02352213,  0.09953794, -0.16388096, -0.13525045,  0.05293008,\n",
       "       -0.14456255,  0.19319942, -0.04044621, -0.11544413,  0.09501572,\n",
       "       -0.04517348,  0.02812882, -0.03957517,  0.04893467, -0.07105091,\n",
       "       -0.14228737, -0.13651478, -0.00802548,  0.0244448 , -0.01318933,\n",
       "        0.05258739, -0.11597543,  0.0166734 ,  0.10500423, -0.00368122,\n",
       "       -0.02818462,  0.14431119,  0.0316568 , -0.02736818,  0.0238358 ,\n",
       "       -0.07573494,  0.07448752, -0.13374981, -0.0415183 ,  0.06197888,\n",
       "       -0.03688843,  0.10001749, -0.0757635 ,  0.03341906,  0.16641875,\n",
       "        0.19085524, -0.01318066,  0.16075129, -0.02995425,  0.07257323,\n",
       "       -0.01180383, -0.02716882, -0.09169042, -0.15217745,  0.23428396,\n",
       "       -0.18492633, -0.0347063 ,  0.06742697, -0.10311431,  0.09494238,\n",
       "       -0.17412541, -0.18820184,  0.03091542,  0.15886885, -0.05622051,\n",
       "        0.07823912,  0.02307035, -0.02121122,  0.17193193,  0.13634121,\n",
       "        0.04202469,  0.00276457,  0.00397584,  0.08020947, -0.12126433,\n",
       "       -0.21663109, -0.0654082 , -0.13368299, -0.18163057,  0.06234033,\n",
       "       -0.13297187, -0.03896086, -0.05002367, -0.13995454, -0.0082548 ,\n",
       "       -0.06486328,  0.09591802,  0.13489554, -0.013262  , -0.07452073,\n",
       "       -0.03671487,  0.13082365, -0.10666204, -0.03861702, -0.02679861,\n",
       "        0.01335387, -0.06106929,  0.07743595, -0.01461651,  0.08281646,\n",
       "        0.09722637, -0.01673531, -0.04488365, -0.03435097,  0.088289  ])"
      ]
     },
     "execution_count": 46,
     "metadata": {},
     "output_type": "execute_result"
    }
   ],
   "source": [
    "s"
   ]
  },
  {
   "cell_type": "markdown",
   "id": "7ee1ed0e",
   "metadata": {},
   "source": [
    "### Let's average this to get a single number"
   ]
  },
  {
   "cell_type": "code",
   "execution_count": 4,
   "id": "74c6b3a2",
   "metadata": {},
   "outputs": [
    {
     "data": {
      "text/plain": [
       "-0.0064329027668875785"
      ]
     },
     "execution_count": 4,
     "metadata": {},
     "output_type": "execute_result"
    }
   ],
   "source": [
    "s.mean()"
   ]
  },
  {
   "cell_type": "code",
   "execution_count": null,
   "id": "cc384824",
   "metadata": {},
   "outputs": [],
   "source": []
  },
  {
   "cell_type": "markdown",
   "id": "e8e148c8",
   "metadata": {},
   "source": [
    "### Now, let's do this many times and keep track of all the averages"
   ]
  },
  {
   "cell_type": "code",
   "execution_count": 5,
   "id": "fd522b18",
   "metadata": {},
   "outputs": [],
   "source": [
    "import ipywidgets as widgets\n",
    "\n",
    "def collect_samples():\n",
    "    s = np.random.normal(mu, sigma, 100)\n",
    "    mean = s.mean()\n",
    "    \n",
    "    print(s)\n",
    "    print('The mean is ',mean)"
   ]
  },
  {
   "cell_type": "code",
   "execution_count": null,
   "id": "b8d557ef",
   "metadata": {},
   "outputs": [],
   "source": []
  },
  {
   "cell_type": "code",
   "execution_count": null,
   "id": "2ca16372",
   "metadata": {},
   "outputs": [],
   "source": []
  },
  {
   "cell_type": "code",
   "execution_count": 6,
   "id": "80e3b693",
   "metadata": {},
   "outputs": [
    {
     "data": {
      "application/vnd.jupyter.widget-view+json": {
       "model_id": "5a5f0aa663564a87b1769ec0a4b10856",
       "version_major": 2,
       "version_minor": 0
      },
      "text/plain": [
       "Button(description='Click Me!', style=ButtonStyle())"
      ]
     },
     "metadata": {},
     "output_type": "display_data"
    },
    {
     "data": {
      "application/vnd.jupyter.widget-view+json": {
       "model_id": "da8f15ef3bd7456fa4bbbcadb550c2fc",
       "version_major": 2,
       "version_minor": 0
      },
      "text/plain": [
       "Output()"
      ]
     },
     "metadata": {},
     "output_type": "display_data"
    }
   ],
   "source": [
    "from IPython.display import display\n",
    "button = widgets.Button(description=\"Click Me!\")\n",
    "output = widgets.Output()\n",
    "\n",
    "display(button, output)\n",
    "\n",
    "sample_mean = []\n",
    "def on_button_clicked(b):\n",
    "    with output:\n",
    "        s = np.random.normal(mu, sigma, 100)\n",
    "        mean = s.mean()\n",
    "\n",
    "        print(s)\n",
    "        print('The mean is ',mean)\n",
    "\n",
    "button.on_click(on_button_clicked)"
   ]
  },
  {
   "cell_type": "code",
   "execution_count": 7,
   "id": "096c38f8",
   "metadata": {},
   "outputs": [
    {
     "data": {
      "application/vnd.jupyter.widget-view+json": {
       "model_id": "ee1d5700a6f3416ca4717aaa2b5dfc24",
       "version_major": 2,
       "version_minor": 0
      },
      "text/plain": [
       "Button(description='Click Me!', style=ButtonStyle())"
      ]
     },
     "metadata": {},
     "output_type": "display_data"
    },
    {
     "data": {
      "application/vnd.jupyter.widget-view+json": {
       "model_id": "da8f15ef3bd7456fa4bbbcadb550c2fc",
       "version_major": 2,
       "version_minor": 0
      },
      "text/plain": [
       "Output()"
      ]
     },
     "metadata": {},
     "output_type": "display_data"
    },
    {
     "data": {
      "image/png": "[encoded data removed]",
      "text/plain": [
       "<Figure size 432x288 with 1 Axes>"
      ]
     },
     "metadata": {
      "needs_background": "light"
     },
     "output_type": "display_data"
    },
    {
     "data": {
      "image/png": "[encoded data removed]",
      "text/plain": [
       "<Figure size 432x288 with 1 Axes>"
      ]
     },
     "metadata": {
      "needs_background": "light"
     },
     "output_type": "display_data"
    },
    {
     "data": {
      "image/png": "[encoded data removed]",
      "text/plain": [
       "<Figure size 432x288 with 1 Axes>"
      ]
     },
     "metadata": {
      "needs_background": "light"
     },
     "output_type": "display_data"
    },
    {
     "data": {
      "image/png": "[encoded data removed]",
      "text/plain": [
       "<Figure size 432x288 with 1 Axes>"
      ]
     },
     "metadata": {
      "needs_background": "light"
     },
     "output_type": "display_data"
    }
   ],
   "source": [
    "from IPython.display import display\n",
    "button = widgets.Button(description=\"Click Me!\")\n",
    "out = widgets.Output()\n",
    "\n",
    "display(button, output)\n",
    "\n",
    "sample_mean = []\n",
    "def on_button_clicked(b):\n",
    "    with out:\n",
    "        s = np.random.normal(mu, sigma, 100)\n",
    "        mean = s.mean()\n",
    "        sample_mean.append(mean)\n",
    "        plt.hist(sample_mean,[1, 2, 3, 4])\n",
    "        print('The mean is ',mean)\n",
    "\n",
    "button.on_click(on_button_clicked)\n"
   ]
  },
  {
   "cell_type": "code",
   "execution_count": 8,
   "id": "1207f910",
   "metadata": {},
   "outputs": [],
   "source": [
    "out.clear_output()\n"
   ]
  },
  {
   "cell_type": "code",
   "execution_count": 42,
   "id": "684d66a0",
   "metadata": {},
   "outputs": [
    {
     "data": {
      "image/png": "[encoded data removed]",
      "text/plain": [
       "<Figure size 432x288 with 1 Axes>"
      ]
     },
     "metadata": {
      "needs_background": "light"
     },
     "output_type": "display_data"
    }
   ],
   "source": [
    "sample_mean = []\n",
    "\n",
    "@out.capture(clear_output=True)\n",
    "def function_with_captured_output():\n",
    "        s = np.random.normal(mu, sigma, 100)\n",
    "        mean = s.mean()\n",
    "        sample_mean.append(mean)\n",
    "        plt.hist(sample_mean)\n",
    "        print('The mean is ',mean)\n",
    "\n",
    "\n",
    "function_with_captured_output()"
   ]
  },
  {
   "cell_type": "code",
   "execution_count": null,
   "id": "12e3fc67",
   "metadata": {},
   "outputs": [],
   "source": []
  },
  {
   "cell_type": "code",
   "execution_count": null,
   "id": "af252251",
   "metadata": {},
   "outputs": [],
   "source": []
  },
  {
   "cell_type": "code",
   "execution_count": 10,
   "id": "5d724b45",
   "metadata": {},
   "outputs": [
    {
     "data": {
      "text/plain": [
       "[0, 1, 2, 3, 4, 5, 6, 7, 8, 9]"
      ]
     },
     "execution_count": 10,
     "metadata": {},
     "output_type": "execute_result"
    }
   ],
   "source": [
    "[i for i in range(10)]"
   ]
  },
  {
   "cell_type": "code",
   "execution_count": null,
   "id": "00acb4ad",
   "metadata": {},
   "outputs": [],
   "source": []
  },
  {
   "cell_type": "code",
   "execution_count": null,
   "id": "d916260b",
   "metadata": {},
   "outputs": [],
   "source": []
  },
  {
   "cell_type": "code",
   "execution_count": 11,
   "id": "6480afd0",
   "metadata": {},
   "outputs": [
    {
     "data": {
      "application/vnd.jupyter.widget-view+json": {
       "model_id": "af1398ec1efb4804af4af1bdde36901a",
       "version_major": 2,
       "version_minor": 0
      },
      "text/plain": [
       "HBox(children=(VBox(children=(FloatSlider(value=0.0, continuous_update=False, description='mean:', max=10.0, m…"
      ]
     },
     "metadata": {},
     "output_type": "display_data"
    }
   ],
   "source": [
    "import numpy as np\n",
    "import matplotlib.pyplot as plt\n",
    "\n",
    "\n",
    "mean = widgets.FloatSlider(\n",
    "            value=0,\n",
    "            min=-10,\n",
    "            max=10.0,\n",
    "            step=0.1,\n",
    "            description='mean:',\n",
    "            disabled=False,\n",
    "            continuous_update=False,\n",
    "            orientation='horizontal',\n",
    "            readout=True,\n",
    "            readout_format='.1f',\n",
    "        )\n",
    "\n",
    "std_dev = widgets.FloatSlider(\n",
    "            value=1,\n",
    "            min=0,\n",
    "            max=8,\n",
    "            step=0.1,\n",
    "            description='std_dev:',\n",
    "            disabled=False,\n",
    "            continuous_update=False,\n",
    "            orientation='horizontal',\n",
    "            readout=True,\n",
    "            readout_format='.1f',\n",
    "        )\n",
    "\n",
    "\n",
    "bins = np.linspace(-15,15,50).tolist()\n",
    "\n",
    "def f(mean,std_dev):\n",
    "    s = np.random.normal(mean, std_dev, 100000)\n",
    "    plt.hist(s,bins=bins,density=True)\n",
    "\n",
    "out = widgets.interactive_output(f, {'mean': mean, 'std_dev': std_dev})\n",
    "\n",
    "\n",
    "widgets.HBox([widgets.VBox([mean, std_dev]), out])"
   ]
  },
  {
   "cell_type": "code",
   "execution_count": 12,
   "id": "bb61d64c",
   "metadata": {},
   "outputs": [
    {
     "data": {
      "text/plain": [
       "0.0"
      ]
     },
     "execution_count": 12,
     "metadata": {},
     "output_type": "execute_result"
    }
   ],
   "source": [
    "mean.value"
   ]
  },
  {
   "cell_type": "code",
   "execution_count": 13,
   "id": "1ea9086e",
   "metadata": {},
   "outputs": [
    {
     "data": {
      "text/plain": [
       "1.0"
      ]
     },
     "execution_count": 13,
     "metadata": {},
     "output_type": "execute_result"
    }
   ],
   "source": [
    "std_dev.value"
   ]
  },
  {
   "cell_type": "markdown",
   "id": "08389f60",
   "metadata": {},
   "source": [
    "# Getting a sample from this distribution "
   ]
  },
  {
   "cell_type": "code",
   "execution_count": 49,
   "id": "34f5def1",
   "metadata": {},
   "outputs": [
    {
     "data": {
      "application/vnd.jupyter.widget-view+json": {
       "model_id": "52249df531ab41458ce54c8f6458a933",
       "version_major": 2,
       "version_minor": 0
      },
      "text/plain": [
       "Button(description='Click Me!', style=ButtonStyle())"
      ]
     },
     "metadata": {},
     "output_type": "display_data"
    },
    {
     "data": {
      "application/vnd.jupyter.widget-view+json": {
       "model_id": "da8f15ef3bd7456fa4bbbcadb550c2fc",
       "version_major": 2,
       "version_minor": 0
      },
      "text/plain": [
       "Output(outputs=({'output_type': 'stream', 'text': '[ 0.16990144 -0.02689243 -0.08323356  0.05493178  0.0031347…"
      ]
     },
     "metadata": {},
     "output_type": "display_data"
    },
    {
     "data": {
      "image/png": "[encoded data removed]",
      "text/plain": [
       "<Figure size 432x288 with 1 Axes>"
      ]
     },
     "metadata": {
      "needs_background": "light"
     },
     "output_type": "display_data"
    },
    {
     "data": {
      "image/png": "[encoded data removed]",
      "text/plain": [
       "<Figure size 432x288 with 1 Axes>"
      ]
     },
     "metadata": {
      "needs_background": "light"
     },
     "output_type": "display_data"
    },
    {
     "data": {
      "image/png": "[encoded data removed]",
      "text/plain": [
       "<Figure size 432x288 with 1 Axes>"
      ]
     },
     "metadata": {
      "needs_background": "light"
     },
     "output_type": "display_data"
    },
    {
     "data": {
      "image/png": "[encoded data removed]",
      "text/plain": [
       "<Figure size 432x288 with 1 Axes>"
      ]
     },
     "metadata": {
      "needs_background": "light"
     },
     "output_type": "display_data"
    },
    {
     "data": {
      "image/png": "[encoded data removed]",
      "text/plain": [
       "<Figure size 432x288 with 1 Axes>"
      ]
     },
     "metadata": {
      "needs_background": "light"
     },
     "output_type": "display_data"
    },
    {
     "data": {
      "image/png": "[encoded data removed]",
      "text/plain": [
       "<Figure size 432x288 with 1 Axes>"
      ]
     },
     "metadata": {
      "needs_background": "light"
     },
     "output_type": "display_data"
    },
    {
     "data": {
      "image/png": "[encoded data removed]",
      "text/plain": [
       "<Figure size 432x288 with 1 Axes>"
      ]
     },
     "metadata": {
      "needs_background": "light"
     },
     "output_type": "display_data"
    },
    {
     "data": {
      "image/png": "[encoded data removed]",
      "text/plain": [
       "<Figure size 432x288 with 1 Axes>"
      ]
     },
     "metadata": {
      "needs_background": "light"
     },
     "output_type": "display_data"
    },
    {
     "data": {
      "image/png": "[encoded data removed]",
      "text/plain": [
       "<Figure size 432x288 with 1 Axes>"
      ]
     },
     "metadata": {
      "needs_background": "light"
     },
     "output_type": "display_data"
    },
    {
     "data": {
      "image/png": "[encoded data removed]",
      "text/plain": [
       "<Figure size 432x288 with 1 Axes>"
      ]
     },
     "metadata": {
      "needs_background": "light"
     },
     "output_type": "display_data"
    }
   ],
   "source": [
    "from IPython.display import display\n",
    "button = widgets.Button(description=\"Click Me!\")\n",
    "out = widgets.Output()\n",
    "\n",
    "display(button, output)\n",
    "\n",
    "sample_mean = []\n",
    "def on_button_clicked(b):\n",
    "    with out:\n",
    "        s = np.random.normal(mu, sigma, 100)\n",
    "        mean = s.mean()\n",
    "        sample_mean.append(mean)\n",
    "        plt.hist(sample_mean,[1, 2, 3, 4])\n",
    "        print('The mean is ',mean)\n",
    "\n",
    "button.on_click(on_button_clicked)\n"
   ]
  },
  {
   "cell_type": "code",
   "execution_count": 17,
   "id": "bc560f69",
   "metadata": {},
   "outputs": [],
   "source": [
    "@out.capture()\n",
    "def function_with_captured_output():\n",
    "    print('This goes into the output widget')\n",
    "    raise Exception('As does this')\n",
    "\n",
    "function_with_captured_output()"
   ]
  },
  {
   "cell_type": "code",
   "execution_count": null,
   "id": "254cc5f3",
   "metadata": {},
   "outputs": [],
   "source": []
  },
  {
   "cell_type": "code",
   "execution_count": null,
   "id": "6fa8b022",
   "metadata": {},
   "outputs": [],
   "source": []
  },
  {
   "cell_type": "code",
   "execution_count": null,
   "id": "198e097b",
   "metadata": {},
   "outputs": [],
   "source": []
  },
  {
   "cell_type": "code",
   "execution_count": null,
   "id": "d7d7b94b",
   "metadata": {},
   "outputs": [],
   "source": []
  },
  {
   "cell_type": "code",
   "execution_count": 18,
   "id": "7eef452a",
   "metadata": {},
   "outputs": [
    {
     "data": {
      "application/vnd.jupyter.widget-view+json": {
       "model_id": "8d00c24007a5485cb9b664848e5fb34f",
       "version_major": 2,
       "version_minor": 0
      },
      "text/plain": [
       "Button(description='Click Me!', style=ButtonStyle())"
      ]
     },
     "metadata": {},
     "output_type": "display_data"
    },
    {
     "data": {
      "application/vnd.jupyter.widget-view+json": {
       "model_id": "da8f15ef3bd7456fa4bbbcadb550c2fc",
       "version_major": 2,
       "version_minor": 0
      },
      "text/plain": [
       "Output()"
      ]
     },
     "metadata": {},
     "output_type": "display_data"
    }
   ],
   "source": [
    "out = widgets.Output()\n",
    "button = widgets.Button(description=\"Click Me!\")\n",
    "\n",
    "# sample_mean = []\n",
    "# bins = np.linspace(-15,15,50).tolist()\n",
    "\n",
    "\n",
    "def f(b):\n",
    "    with out:\n",
    "        s = np.random.normal(mean.value, std_dev.value, 10)\n",
    "        print(s)\n",
    "\n",
    "\n",
    "# def on_button_clicked(b):\n",
    "#     with out:\n",
    "#         s = np.random.normal(mu, sigma, 100)\n",
    "#         mean = s.mean()\n",
    "#         sample_mean.append(mean)\n",
    "#         plt.hist(sample_mean,[1, 2, 3, 4])\n",
    "#         print('The mean is ',mean)\n",
    "\n",
    "button.on_click(f)\n",
    "\n",
    "\n",
    "display(button, output)"
   ]
  }
 ],
 "metadata": {
  "kernelspec": {
   "display_name": "Python 3 (ipykernel)",
   "language": "python",
   "name": "python3"
  },
  "language_info": {
   "codemirror_mode": {
    "name": "ipython",
    "version": 3
   },
   "file_extension": ".py",
   "mimetype": "text/x-python",
   "name": "python",
   "nbconvert_exporter": "python",
   "pygments_lexer": "ipython3",
   "version": "3.9.12"
  }
 },
 "nbformat": 4,
 "nbformat_minor": 5
}
