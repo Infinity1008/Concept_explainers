{
 "cells": [
  {
   "cell_type": "markdown",
   "id": "3d960b80",
   "metadata": {},
   "source": [
    "# Normal Distribution\n",
    "Normal distribution, also known as the Gaussian distribution, is a probability distribution that is symmetric about the mean, showing that data near the mean are more frequent in occurrence than data far from the mean.\n",
    "\n",
    "In graphical form, the normal distribution appears as a \"bell curve\".\n",
    "\n",
    "![Normal Distribution](https://www.investopedia.com/thmb/d4jrAW0IPGrI133cZd6IoSh-Kbk=/660x0/filters:no_upscale():max_bytes(150000):strip_icc():format(webp)/The-Normal-Distribution1-51cb75a3e0a34eb6bbff7e966557757e.jpg)"
   ]
  },
  {
   "cell_type": "markdown",
   "id": "a274ec97",
   "metadata": {},
   "source": [
    "# Sampling Distribution\n",
    "A sampling distribution is a probability distribution of a statistic obtained from a larger number of samples drawn from a specific population. The sampling distribution of a given population is the distribution of frequencies of a range of different outcomes that could possibly occur for a statistic of a population.\n",
    "\n",
    "Let's assume that our population is normally distirbuted. \n",
    "We will sample 10 values from our distribution and average them together. \n",
    "\n",
    "Once averaged, we will plot a histogram of all our averaged values, Let's see what happens."
   ]
  },
  {
   "cell_type": "code",
   "execution_count": 88,
   "id": "799cf6a5",
   "metadata": {},
   "outputs": [
    {
     "data": {
      "text/plain": [
       "[<matplotlib.lines.Line2D at 0x7f67d3226220>]"
      ]
     },
     "execution_count": 88,
     "metadata": {},
     "output_type": "execute_result"
    },
    {
     "data": {
      "image/png": "[encoded data removed]",
      "text/plain": [
       "<Figure size 432x288 with 1 Axes>"
      ]
     },
     "metadata": {
      "needs_background": "light"
     },
     "output_type": "display_data"
    }
   ],
   "source": [
    "from scipy.stats import norm\n",
    "import matplotlib.pyplot as plt\n",
    "fig, ax = plt.subplots(1, 1)\n",
    "mean, var, skew, kurt = norm.stats(moments='mvsk')\n",
    "\n",
    "x = np.linspace(norm.ppf(0.0001),\n",
    "                norm.ppf(0.9999), 10000)\n",
    "ax.plot(x, norm.pdf(x),\n",
    "       'r-', lw=5, alpha=0.6, label='norm pdf')\n"
   ]
  },
  {
   "cell_type": "markdown",
   "id": "79fbfee4",
   "metadata": {},
   "source": [
    "### Let's dram samples from a normal distribution with mean 0 and std. dev 0.1"
   ]
  },
  {
   "cell_type": "code",
   "execution_count": 89,
   "id": "dc27c2b7",
   "metadata": {},
   "outputs": [],
   "source": [
    "mu, sigma = 0, 0.1 # mean and standard deviation\n",
    "s = np.random.normal(mu, sigma, 100)"
   ]
  },
  {
   "cell_type": "code",
   "execution_count": 90,
   "id": "7549733e",
   "metadata": {},
   "outputs": [
    {
     "data": {
      "text/plain": [
       "array([ 0.07763975,  0.02273205, -0.03948681, -0.07807645, -0.03414301,\n",
       "       -0.060739  ,  0.04604089, -0.08035971, -0.0276745 ,  0.00465073,\n",
       "        0.1397381 ,  0.10918961, -0.04360416,  0.04710887, -0.01730816,\n",
       "        0.02797487,  0.06968099,  0.07415205,  0.18108755, -0.09928358,\n",
       "       -0.07866412,  0.03487217,  0.04086665,  0.00041543, -0.04437166,\n",
       "       -0.01151966,  0.05419137,  0.0427779 , -0.09264478, -0.11041131,\n",
       "        0.10900374,  0.040834  ,  0.15681219,  0.01521419,  0.0554253 ,\n",
       "        0.00878849, -0.01681199, -0.14680893,  0.04735309,  0.13221233,\n",
       "       -0.09924247,  0.06054776, -0.19006096,  0.08659575, -0.14662623,\n",
       "       -0.12073382,  0.03683489,  0.06234222, -0.09626837,  0.06780127,\n",
       "       -0.01834977,  0.21625294, -0.02628017, -0.07920593, -0.06145911,\n",
       "        0.12436543, -0.00084923, -0.04614081,  0.0762746 ,  0.08398242,\n",
       "       -0.00899248,  0.08620729, -0.00043262,  0.02701302, -0.1814301 ,\n",
       "       -0.00207013,  0.03427246, -0.0462249 , -0.03890701,  0.10170921,\n",
       "        0.0344076 , -0.08692376,  0.25192195, -0.02105228, -0.18361935,\n",
       "       -0.00729315, -0.02665575,  0.0964535 ,  0.04315876, -0.20840734,\n",
       "       -0.05162562,  0.00376557,  0.0864812 , -0.06134078,  0.10936475,\n",
       "       -0.08001016, -0.00974083, -0.08343751, -0.07935911, -0.01140797,\n",
       "        0.22255118, -0.07833588, -0.01012544,  0.06826248, -0.07347312,\n",
       "       -0.04754683,  0.06523722, -0.09200291,  0.07328643, -0.09769845])"
      ]
     },
     "execution_count": 90,
     "metadata": {},
     "output_type": "execute_result"
    }
   ],
   "source": [
    "s"
   ]
  },
  {
   "cell_type": "markdown",
   "id": "7ee1ed0e",
   "metadata": {},
   "source": [
    "### Let's average this to get a single number"
   ]
  },
  {
   "cell_type": "code",
   "execution_count": 113,
   "id": "74c6b3a2",
   "metadata": {},
   "outputs": [
    {
     "data": {
      "text/plain": [
       "0.0020261396533359376"
      ]
     },
     "execution_count": 113,
     "metadata": {},
     "output_type": "execute_result"
    }
   ],
   "source": [
    "s.mean()"
   ]
  },
  {
   "cell_type": "code",
   "execution_count": null,
   "id": "cc384824",
   "metadata": {},
   "outputs": [],
   "source": []
  },
  {
   "cell_type": "markdown",
   "id": "e8e148c8",
   "metadata": {},
   "source": [
    "### Now, let's do this many times and keep track of all the averages"
   ]
  },
  {
   "cell_type": "code",
   "execution_count": 111,
   "id": "fd522b18",
   "metadata": {},
   "outputs": [],
   "source": [
    "import ipywidgets as widgets\n",
    "\n",
    "def collect_samples():\n",
    "    s = np.random.normal(mu, sigma, 100)\n",
    "    mean = s.mean()\n",
    "    \n",
    "    print(s)\n",
    "    print('The mean is ',mean)"
   ]
  },
  {
   "cell_type": "code",
   "execution_count": 102,
   "id": "b8d557ef",
   "metadata": {},
   "outputs": [],
   "source": []
  },
  {
   "cell_type": "code",
   "execution_count": null,
   "id": "2ca16372",
   "metadata": {},
   "outputs": [],
   "source": []
  },
  {
   "cell_type": "code",
   "execution_count": 112,
   "id": "80e3b693",
   "metadata": {},
   "outputs": [
    {
     "data": {
      "application/vnd.jupyter.widget-view+json": {
       "model_id": "1de5972190b04ac9ab3cbef03bae5530",
       "version_major": 2,
       "version_minor": 0
      },
      "text/plain": [
       "Button(description='Click Me!', style=ButtonStyle())"
      ]
     },
     "metadata": {},
     "output_type": "display_data"
    },
    {
     "data": {
      "application/vnd.jupyter.widget-view+json": {
       "model_id": "d2e513fc614b4bbbb41ae38160a86bbb",
       "version_major": 2,
       "version_minor": 0
      },
      "text/plain": [
       "Output()"
      ]
     },
     "metadata": {},
     "output_type": "display_data"
    }
   ],
   "source": [
    "from IPython.display import display\n",
    "button = widgets.Button(description=\"Click Me!\")\n",
    "output = widgets.Output()\n",
    "\n",
    "display(button, output)\n",
    "\n",
    "sample_mean = []\n",
    "def on_button_clicked(b):\n",
    "    with output:\n",
    "        s = np.random.normal(mu, sigma, 100)\n",
    "        mean = s.mean()\n",
    "\n",
    "        print(s)\n",
    "        print('The mean is ',mean)\n",
    "\n",
    "button.on_click(on_button_clicked)"
   ]
  },
  {
   "cell_type": "code",
   "execution_count": 128,
   "id": "096c38f8",
   "metadata": {},
   "outputs": [
    {
     "data": {
      "application/vnd.jupyter.widget-view+json": {
       "model_id": "36f81cd402254db7af42b90e2d4fb426",
       "version_major": 2,
       "version_minor": 0
      },
      "text/plain": [
       "Button(description='Click Me!', style=ButtonStyle())"
      ]
     },
     "metadata": {},
     "output_type": "display_data"
    },
    {
     "data": {
      "application/vnd.jupyter.widget-view+json": {
       "model_id": "86781017527a4b1597ea6bbabea10771",
       "version_major": 2,
       "version_minor": 0
      },
      "text/plain": [
       "Output()"
      ]
     },
     "metadata": {},
     "output_type": "display_data"
    },
    {
     "data": {
      "image/png": "[encoded data removed]",
      "text/plain": [
       "<Figure size 432x288 with 1 Axes>"
      ]
     },
     "metadata": {
      "needs_background": "light"
     },
     "output_type": "display_data"
    },
    {
     "data": {
      "image/png": "[encoded data removed]",
      "text/plain": [
       "<Figure size 432x288 with 1 Axes>"
      ]
     },
     "metadata": {
      "needs_background": "light"
     },
     "output_type": "display_data"
    },
    {
     "data": {
      "image/png": "[encoded data removed]",
      "text/plain": [
       "<Figure size 432x288 with 1 Axes>"
      ]
     },
     "metadata": {
      "needs_background": "light"
     },
     "output_type": "display_data"
    }
   ],
   "source": [
    "from IPython.display import display\n",
    "button = widgets.Button(description=\"Click Me!\")\n",
    "out = widgets.Output()\n",
    "\n",
    "display(button, output)\n",
    "\n",
    "sample_mean = []\n",
    "def on_button_clicked(b):\n",
    "    with out:\n",
    "        s = np.random.normal(mu, sigma, 100)\n",
    "        mean = s.mean()\n",
    "        sample_mean.append(mean)\n",
    "        plt.hist(sample_mean,[1, 2, 3, 4])\n",
    "        print('The mean is ',mean)\n",
    "\n",
    "button.on_click(on_button_clicked)\n"
   ]
  },
  {
   "cell_type": "code",
   "execution_count": 132,
   "id": "1207f910",
   "metadata": {},
   "outputs": [],
   "source": [
    "out.clear_output()\n"
   ]
  },
  {
   "cell_type": "code",
   "execution_count": 163,
   "id": "684d66a0",
   "metadata": {},
   "outputs": [
    {
     "data": {
      "image/png": "[encoded data removed]",
      "text/plain": [
       "<Figure size 432x288 with 1 Axes>"
      ]
     },
     "metadata": {
      "needs_background": "light"
     },
     "output_type": "display_data"
    }
   ],
   "source": [
    "sample_mean = []\n",
    "\n",
    "@out.capture(clear_output=True)\n",
    "def function_with_captured_output():\n",
    "        s = np.random.normal(mu, sigma, 100)\n",
    "        mean = s.mean()\n",
    "        sample_mean.append(mean)\n",
    "        plt.hist(sample_mean)\n",
    "        print('The mean is ',mean)\n",
    "\n",
    "\n",
    "function_with_captured_output()"
   ]
  },
  {
   "cell_type": "code",
   "execution_count": null,
   "id": "12e3fc67",
   "metadata": {},
   "outputs": [],
   "source": []
  },
  {
   "cell_type": "code",
   "execution_count": 177,
   "id": "af252251",
   "metadata": {},
   "outputs": [
    {
     "data": {
      "text/plain": [
       "[-10.0,\n",
       " -9.591836734693878,\n",
       " -9.183673469387756,\n",
       " -8.775510204081632,\n",
       " -8.36734693877551,\n",
       " -7.959183673469388,\n",
       " -7.551020408163265,\n",
       " -7.142857142857142,\n",
       " -6.73469387755102,\n",
       " -6.326530612244898,\n",
       " -5.918367346938775,\n",
       " -5.5102040816326525,\n",
       " -5.1020408163265305,\n",
       " -4.6938775510204085,\n",
       " -4.285714285714286,\n",
       " -3.8775510204081627,\n",
       " -3.4693877551020407,\n",
       " -3.0612244897959187,\n",
       " -2.6530612244897958,\n",
       " -2.244897959183673,\n",
       " -1.8367346938775508,\n",
       " -1.4285714285714288,\n",
       " -1.020408163265305,\n",
       " -0.612244897959183,\n",
       " -0.204081632653061,\n",
       " 0.204081632653061,\n",
       " 0.612244897959183,\n",
       " 1.0204081632653068,\n",
       " 1.4285714285714288,\n",
       " 1.8367346938775508,\n",
       " 2.2448979591836746,\n",
       " 2.6530612244897966,\n",
       " 3.0612244897959187,\n",
       " 3.4693877551020407,\n",
       " 3.8775510204081627,\n",
       " 4.2857142857142865,\n",
       " 4.6938775510204085,\n",
       " 5.1020408163265305,\n",
       " 5.510204081632654,\n",
       " 5.918367346938776,\n",
       " 6.326530612244898,\n",
       " 6.73469387755102,\n",
       " 7.142857142857142,\n",
       " 7.551020408163264,\n",
       " 7.95918367346939,\n",
       " 8.367346938775512,\n",
       " 8.775510204081634,\n",
       " 9.183673469387756,\n",
       " 9.591836734693878,\n",
       " 10.0]"
      ]
     },
     "execution_count": 177,
     "metadata": {},
     "output_type": "execute_result"
    }
   ],
   "source": []
  },
  {
   "cell_type": "code",
   "execution_count": 165,
   "id": "5d724b45",
   "metadata": {},
   "outputs": [
    {
     "data": {
      "text/plain": [
       "[0, 1, 2, 3, 4, 5, 6, 7, 8, 9]"
      ]
     },
     "execution_count": 165,
     "metadata": {},
     "output_type": "execute_result"
    }
   ],
   "source": [
    "[i for i in range(10)]"
   ]
  },
  {
   "cell_type": "code",
   "execution_count": null,
   "id": "00acb4ad",
   "metadata": {},
   "outputs": [],
   "source": []
  },
  {
   "cell_type": "code",
   "execution_count": null,
   "id": "d916260b",
   "metadata": {},
   "outputs": [],
   "source": []
  }
 ],
 "metadata": {
  "kernelspec": {
   "display_name": "Python 3 (ipykernel)",
   "language": "python",
   "name": "python3"
  },
  "language_info": {
   "codemirror_mode": {
    "name": "ipython",
    "version": 3
   },
   "file_extension": ".py",
   "mimetype": "text/x-python",
   "name": "python",
   "nbconvert_exporter": "python",
   "pygments_lexer": "ipython3",
   "version": "3.9.7"
  }
 },
 "nbformat": 4,
 "nbformat_minor": 5
}
