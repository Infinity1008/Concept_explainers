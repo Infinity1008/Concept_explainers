{
 "cells": [
  {
   "cell_type": "markdown",
   "id": "3d960b80",
   "metadata": {},
   "source": [
    "# Normal Distribution\n",
    "Normal distribution, also known as the Gaussian distribution, is a probability distribution that is symmetric about the mean, showing that data near the mean are more frequent in occurrence than data far from the mean.\n",
    "\n",
    "In graphical form, the normal distribution appears as a \"bell curve\".\n",
    "\n",
    "![Normal Distribution](https://www.investopedia.com/thmb/d4jrAW0IPGrI133cZd6IoSh-Kbk=/660x0/filters:no_upscale():max_bytes(150000):strip_icc():format(webp)/The-Normal-Distribution1-51cb75a3e0a34eb6bbff7e966557757e.jpg)"
   ]
  },
  {
   "cell_type": "markdown",
   "id": "a274ec97",
   "metadata": {},
   "source": [
    "# Sampling Distribution\n",
    "A sampling distribution is a probability distribution of a statistic obtained from a larger number of samples drawn from a specific population. The sampling distribution of a given population is the distribution of frequencies of a range of different outcomes that could possibly occur for a statistic of a population.\n",
    "\n",
    "Let's assume that our population is normally distirbuted. \n",
    "We will sample 10 values from our distribution and average them together. \n",
    "\n",
    "Once averaged, we will plot a histogram of all our averaged values, Let's see what happens."
   ]
  },
  {
   "cell_type": "code",
   "execution_count": 2,
   "id": "799cf6a5",
   "metadata": {},
   "outputs": [
    {
     "data": {
      "text/plain": [
       "[<matplotlib.lines.Line2D at 0x7f63ee4c5520>]"
      ]
     },
     "execution_count": 2,
     "metadata": {},
     "output_type": "execute_result"
    },
    {
     "data": {
      "image/png": "[encoded data removed]",
      "text/plain": [
       "<Figure size 432x288 with 1 Axes>"
      ]
     },
     "metadata": {
      "needs_background": "light"
     },
     "output_type": "display_data"
    }
   ],
   "source": [
    "from scipy.stats import norm\n",
    "import matplotlib.pyplot as plt\n",
    "import numpy as np\n",
    "\n",
    "fig, ax = plt.subplots(1, 1)\n",
    "mean, var, skew, kurt = norm.stats(moments='mvsk')\n",
    "\n",
    "x = np.linspace(norm.ppf(0.0001),\n",
    "                norm.ppf(0.9999), 10000)\n",
    "ax.plot(x, norm.pdf(x),\n",
    "       'r-', lw=5, alpha=0.6, label='norm pdf')\n"
   ]
  },
  {
   "cell_type": "markdown",
   "id": "79fbfee4",
   "metadata": {},
   "source": [
    "### Let's dram samples from a normal distribution with mean 0 and std. dev 0.1"
   ]
  },
  {
   "cell_type": "code",
   "execution_count": 3,
   "id": "dc27c2b7",
   "metadata": {},
   "outputs": [],
   "source": [
    "mu, sigma = 0, 0.1 # mean and standard deviation\n",
    "s = np.random.normal(mu, sigma, 100)"
   ]
  },
  {
   "cell_type": "code",
   "execution_count": 4,
   "id": "7549733e",
   "metadata": {},
   "outputs": [
    {
     "data": {
      "text/plain": [
       "array([-0.02614561,  0.07275569, -0.00576039, -0.06305235, -0.01930546,\n",
       "        0.11274849, -0.03955355, -0.13794644,  0.09299834, -0.20114512,\n",
       "        0.07236797, -0.06414463, -0.01369764,  0.0301549 ,  0.10651128,\n",
       "        0.09482157,  0.04806883, -0.00059434,  0.20667874,  0.02667108,\n",
       "        0.11732523,  0.03223212,  0.03426765,  0.18217125,  0.04166975,\n",
       "       -0.04966754,  0.14280813,  0.00078445,  0.05295731, -0.00526671,\n",
       "       -0.08220371,  0.03185608, -0.07588761,  0.03880842,  0.00866672,\n",
       "        0.01220334, -0.00737765, -0.03013692, -0.00156865,  0.01024028,\n",
       "        0.08382232, -0.17041646, -0.02091493, -0.05874468,  0.07994375,\n",
       "        0.01414752, -0.07117679,  0.01684696, -0.01604157,  0.18078933,\n",
       "        0.06920248, -0.14356177,  0.06564699,  0.17386893,  0.08925909,\n",
       "        0.09261403,  0.03834853, -0.24623589,  0.0512932 , -0.08272807,\n",
       "       -0.04717667,  0.17717972, -0.02283792, -0.01543687,  0.08009138,\n",
       "        0.0163062 , -0.06258263,  0.13601064,  0.01341914, -0.01278149,\n",
       "        0.10324652,  0.03899173,  0.1985125 ,  0.06406516, -0.00688813,\n",
       "       -0.00073819, -0.19540342,  0.09589852,  0.03185581,  0.17864629,\n",
       "       -0.16188687, -0.24835431, -0.11760147,  0.05017813, -0.08819367,\n",
       "        0.01754023,  0.01902743, -0.00843338, -0.0725388 , -0.09281283,\n",
       "        0.02086276, -0.17170327,  0.00397447, -0.11210184, -0.00425953,\n",
       "       -0.19061279, -0.05235885, -0.06988605, -0.13205393, -0.0947864 ])"
      ]
     },
     "execution_count": 4,
     "metadata": {},
     "output_type": "execute_result"
    }
   ],
   "source": [
    "s"
   ]
  },
  {
   "cell_type": "markdown",
   "id": "7ee1ed0e",
   "metadata": {},
   "source": [
    "### Let's average this to get a single number"
   ]
  },
  {
   "cell_type": "code",
   "execution_count": 5,
   "id": "74c6b3a2",
   "metadata": {},
   "outputs": [
    {
     "data": {
      "text/plain": [
       "0.001566535974475867"
      ]
     },
     "execution_count": 5,
     "metadata": {},
     "output_type": "execute_result"
    }
   ],
   "source": [
    "s.mean()"
   ]
  },
  {
   "cell_type": "code",
   "execution_count": null,
   "id": "cc384824",
   "metadata": {},
   "outputs": [],
   "source": []
  },
  {
   "cell_type": "markdown",
   "id": "e8e148c8",
   "metadata": {},
   "source": [
    "### Now, let's do this many times and keep track of all the averages"
   ]
  },
  {
   "cell_type": "code",
   "execution_count": 6,
   "id": "fd522b18",
   "metadata": {},
   "outputs": [],
   "source": [
    "import ipywidgets as widgets\n",
    "\n",
    "def collect_samples():\n",
    "    s = np.random.normal(mu, sigma, 100)\n",
    "    mean = s.mean()\n",
    "    \n",
    "    print(s)\n",
    "    print('The mean is ',mean)"
   ]
  },
  {
   "cell_type": "code",
   "execution_count": null,
   "id": "b8d557ef",
   "metadata": {},
   "outputs": [],
   "source": []
  },
  {
   "cell_type": "code",
   "execution_count": null,
   "id": "2ca16372",
   "metadata": {},
   "outputs": [],
   "source": []
  },
  {
   "cell_type": "code",
   "execution_count": 7,
   "id": "80e3b693",
   "metadata": {},
   "outputs": [
    {
     "data": {
      "application/vnd.jupyter.widget-view+json": {
       "model_id": "266f25c58cdc479d8803b437deac0a20",
       "version_major": 2,
       "version_minor": 0
      },
      "text/plain": [
       "Button(description='Click Me!', style=ButtonStyle())"
      ]
     },
     "metadata": {},
     "output_type": "display_data"
    },
    {
     "data": {
      "application/vnd.jupyter.widget-view+json": {
       "model_id": "8bea6e992be846f0968f8f8877d2c7fd",
       "version_major": 2,
       "version_minor": 0
      },
      "text/plain": [
       "Output()"
      ]
     },
     "metadata": {},
     "output_type": "display_data"
    }
   ],
   "source": [
    "from IPython.display import display\n",
    "button = widgets.Button(description=\"Click Me!\")\n",
    "output = widgets.Output()\n",
    "\n",
    "display(button, output)\n",
    "\n",
    "sample_mean = []\n",
    "def on_button_clicked(b):\n",
    "    with output:\n",
    "        s = np.random.normal(mu, sigma, 100)\n",
    "        mean = s.mean()\n",
    "\n",
    "        print(s)\n",
    "        print('The mean is ',mean)\n",
    "\n",
    "button.on_click(on_button_clicked)"
   ]
  },
  {
   "cell_type": "code",
   "execution_count": 8,
   "id": "096c38f8",
   "metadata": {},
   "outputs": [
    {
     "data": {
      "application/vnd.jupyter.widget-view+json": {
       "model_id": "705fa376ca3346fc9408be922710b65b",
       "version_major": 2,
       "version_minor": 0
      },
      "text/plain": [
       "Button(description='Click Me!', style=ButtonStyle())"
      ]
     },
     "metadata": {},
     "output_type": "display_data"
    },
    {
     "data": {
      "application/vnd.jupyter.widget-view+json": {
       "model_id": "8bea6e992be846f0968f8f8877d2c7fd",
       "version_major": 2,
       "version_minor": 0
      },
      "text/plain": [
       "Output()"
      ]
     },
     "metadata": {},
     "output_type": "display_data"
    }
   ],
   "source": [
    "from IPython.display import display\n",
    "button = widgets.Button(description=\"Click Me!\")\n",
    "out = widgets.Output()\n",
    "\n",
    "display(button, output)\n",
    "\n",
    "sample_mean = []\n",
    "def on_button_clicked(b):\n",
    "    with out:\n",
    "        s = np.random.normal(mu, sigma, 100)\n",
    "        mean = s.mean()\n",
    "        sample_mean.append(mean)\n",
    "        plt.hist(sample_mean,[1, 2, 3, 4])\n",
    "        print('The mean is ',mean)\n",
    "\n",
    "button.on_click(on_button_clicked)\n"
   ]
  },
  {
   "cell_type": "code",
   "execution_count": 9,
   "id": "1207f910",
   "metadata": {},
   "outputs": [],
   "source": [
    "out.clear_output()\n"
   ]
  },
  {
   "cell_type": "code",
   "execution_count": 10,
   "id": "684d66a0",
   "metadata": {},
   "outputs": [
    {
     "data": {
      "image/png": "[encoded data removed]",
      "text/plain": [
       "<Figure size 432x288 with 1 Axes>"
      ]
     },
     "metadata": {
      "needs_background": "light"
     },
     "output_type": "display_data"
    }
   ],
   "source": [
    "sample_mean = []\n",
    "\n",
    "@out.capture(clear_output=True)\n",
    "def function_with_captured_output():\n",
    "        s = np.random.normal(mu, sigma, 100)\n",
    "        mean = s.mean()\n",
    "        sample_mean.append(mean)\n",
    "        plt.hist(sample_mean)\n",
    "        print('The mean is ',mean)\n",
    "\n",
    "\n",
    "function_with_captured_output()"
   ]
  },
  {
   "cell_type": "code",
   "execution_count": null,
   "id": "12e3fc67",
   "metadata": {},
   "outputs": [],
   "source": []
  },
  {
   "cell_type": "code",
   "execution_count": null,
   "id": "af252251",
   "metadata": {},
   "outputs": [],
   "source": []
  },
  {
   "cell_type": "code",
   "execution_count": null,
   "id": "5d724b45",
   "metadata": {},
   "outputs": [],
   "source": [
    "[i for i in range(10)]"
   ]
  },
  {
   "cell_type": "code",
   "execution_count": null,
   "id": "00acb4ad",
   "metadata": {},
   "outputs": [],
   "source": []
  },
  {
   "cell_type": "code",
   "execution_count": null,
   "id": "d916260b",
   "metadata": {},
   "outputs": [],
   "source": []
  },
  {
   "cell_type": "code",
   "execution_count": 11,
   "id": "6480afd0",
   "metadata": {},
   "outputs": [
    {
     "data": {
      "application/vnd.jupyter.widget-view+json": {
       "model_id": "f79bacc8a86243ff9a6df93ac15233bc",
       "version_major": 2,
       "version_minor": 0
      },
      "text/plain": [
       "HBox(children=(VBox(children=(FloatSlider(value=0.0, continuous_update=False, description='mean:', max=10.0, m…"
      ]
     },
     "metadata": {},
     "output_type": "display_data"
    }
   ],
   "source": [
    "import numpy as np\n",
    "import matplotlib.pyplot as plt\n",
    "\n",
    "\n",
    "mean = widgets.FloatSlider(\n",
    "            value=0,\n",
    "            min=-10,\n",
    "            max=10.0,\n",
    "            step=0.1,\n",
    "            description='mean:',\n",
    "            disabled=False,\n",
    "            continuous_update=False,\n",
    "            orientation='horizontal',\n",
    "            readout=True,\n",
    "            readout_format='.1f',\n",
    "        )\n",
    "\n",
    "std_dev = widgets.FloatSlider(\n",
    "            value=1,\n",
    "            min=0,\n",
    "            max=8,\n",
    "            step=0.1,\n",
    "            description='std_dev:',\n",
    "            disabled=False,\n",
    "            continuous_update=False,\n",
    "            orientation='horizontal',\n",
    "            readout=True,\n",
    "            readout_format='.1f',\n",
    "        )\n",
    "\n",
    "\n",
    "bins = np.linspace(-15,15,50).tolist()\n",
    "\n",
    "def f(mean,std_dev):\n",
    "    s = np.random.normal(mean, std_dev, 100000)\n",
    "    plt.hist(s,bins=bins,density=True)\n",
    "\n",
    "out = widgets.interactive_output(f, {'mean': mean, 'std_dev': std_dev})\n",
    "\n",
    "\n",
    "widgets.HBox([widgets.VBox([mean, std_dev]), out])"
   ]
  },
  {
   "cell_type": "code",
   "execution_count": 12,
   "id": "bb61d64c",
   "metadata": {},
   "outputs": [
    {
     "data": {
      "text/plain": [
       "0.0"
      ]
     },
     "execution_count": 12,
     "metadata": {},
     "output_type": "execute_result"
    }
   ],
   "source": [
    "mean.value"
   ]
  },
  {
   "cell_type": "code",
   "execution_count": 13,
   "id": "1ea9086e",
   "metadata": {},
   "outputs": [
    {
     "data": {
      "text/plain": [
       "1.0"
      ]
     },
     "execution_count": 13,
     "metadata": {},
     "output_type": "execute_result"
    }
   ],
   "source": [
    "std_dev.value"
   ]
  },
  {
   "cell_type": "markdown",
   "id": "08389f60",
   "metadata": {},
   "source": [
    "# Getting a sample from this distribution "
   ]
  },
  {
   "cell_type": "code",
   "execution_count": 36,
   "id": "34f5def1",
   "metadata": {},
   "outputs": [
    {
     "data": {
      "application/vnd.jupyter.widget-view+json": {
       "model_id": "9117feedbcb44970b980258dd9515b4f",
       "version_major": 2,
       "version_minor": 0
      },
      "text/plain": [
       "Button(description='Click Me!', style=ButtonStyle())"
      ]
     },
     "metadata": {},
     "output_type": "display_data"
    },
    {
     "data": {
      "application/vnd.jupyter.widget-view+json": {
       "model_id": "8bea6e992be846f0968f8f8877d2c7fd",
       "version_major": 2,
       "version_minor": 0
      },
      "text/plain": [
       "Output()"
      ]
     },
     "metadata": {},
     "output_type": "display_data"
    },
    {
     "data": {
      "image/png": "[encoded data removed]",
      "text/plain": [
       "<Figure size 432x288 with 1 Axes>"
      ]
     },
     "metadata": {
      "needs_background": "light"
     },
     "output_type": "display_data"
    }
   ],
   "source": [
    "from IPython.display import display\n",
    "button = widgets.Button(description=\"Click Me!\")\n",
    "out = widgets.Output()\n",
    "\n",
    "display(button, output)\n",
    "\n",
    "sample_mean = []\n",
    "def on_button_clicked(b):\n",
    "    with out:\n",
    "        s = np.random.normal(mu, sigma, 100)\n",
    "        mean = s.mean()\n",
    "        sample_mean.append(mean)\n",
    "        plt.hist(sample_mean,[1, 2, 3, 4])\n",
    "        print('The mean is ',mean)\n",
    "\n",
    "button.on_click(on_button_clicked)\n"
   ]
  },
  {
   "cell_type": "code",
   "execution_count": null,
   "id": "bc560f69",
   "metadata": {},
   "outputs": [],
   "source": [
    "@out.capture()\n",
    "def function_with_captured_output():\n",
    "    print('This goes into the output widget')\n",
    "    raise Exception('As does this')\n",
    "\n",
    "function_with_captured_output()"
   ]
  },
  {
   "cell_type": "code",
   "execution_count": null,
   "id": "254cc5f3",
   "metadata": {},
   "outputs": [],
   "source": []
  },
  {
   "cell_type": "code",
   "execution_count": null,
   "id": "6fa8b022",
   "metadata": {},
   "outputs": [],
   "source": []
  },
  {
   "cell_type": "code",
   "execution_count": 20,
   "id": "198e097b",
   "metadata": {},
   "outputs": [],
   "source": []
  },
  {
   "cell_type": "code",
   "execution_count": 18,
   "id": "d7d7b94b",
   "metadata": {},
   "outputs": [],
   "source": []
  },
  {
   "cell_type": "code",
   "execution_count": 23,
   "id": "7eef452a",
   "metadata": {},
   "outputs": [
    {
     "data": {
      "application/vnd.jupyter.widget-view+json": {
       "model_id": "b3b7e75b6f2e461c80f6ea4e2e257ef6",
       "version_major": 2,
       "version_minor": 0
      },
      "text/plain": [
       "Button(description='Click Me!', style=ButtonStyle())"
      ]
     },
     "metadata": {},
     "output_type": "display_data"
    },
    {
     "data": {
      "application/vnd.jupyter.widget-view+json": {
       "model_id": "8bea6e992be846f0968f8f8877d2c7fd",
       "version_major": 2,
       "version_minor": 0
      },
      "text/plain": [
       "Output()"
      ]
     },
     "metadata": {},
     "output_type": "display_data"
    }
   ],
   "source": [
    "out = widgets.Output()\n",
    "button = widgets.Button(description=\"Click Me!\")\n",
    "\n",
    "# sample_mean = []\n",
    "# bins = np.linspace(-15,15,50).tolist()\n",
    "\n",
    "\n",
    "def f(b):\n",
    "    with out:\n",
    "        s = np.random.normal(mean.value, std_dev.value, 10)\n",
    "        print(s)\n",
    "\n",
    "\n",
    "# def on_button_clicked(b):\n",
    "#     with out:\n",
    "#         s = np.random.normal(mu, sigma, 100)\n",
    "#         mean = s.mean()\n",
    "#         sample_mean.append(mean)\n",
    "#         plt.hist(sample_mean,[1, 2, 3, 4])\n",
    "#         print('The mean is ',mean)\n",
    "\n",
    "button.on_click(f)\n",
    "\n",
    "\n",
    "display(button, output)"
   ]
  }
 ],
 "metadata": {
  "kernelspec": {
   "display_name": "Python 3 (ipykernel)",
   "language": "python",
   "name": "python3"
  },
  "language_info": {
   "codemirror_mode": {
    "name": "ipython",
    "version": 3
   },
   "file_extension": ".py",
   "mimetype": "text/x-python",
   "name": "python",
   "nbconvert_exporter": "python",
   "pygments_lexer": "ipython3",
   "version": "3.9.12"
  }
 },
 "nbformat": 4,
 "nbformat_minor": 5
}
