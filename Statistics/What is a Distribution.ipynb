{
 "cells": [
  {
   "cell_type": "markdown",
   "id": "aa4ebde0",
   "metadata": {},
   "source": [
    "# What is a distributionm\n",
    "\n",
    "A sample of data will form a distribution, and by far the most well-known distribution is the Gaussian distribution, often called the Normal distribution.\n",
    "\n",
    "---\n",
    "\n",
    "### Normal Distribution\n",
    "Normal distribution, also known as the Gaussian distribution, is a probability distribution that is symmetric about the mean, showing that data near the mean are more frequent in occurrence than data far from the mean.\n",
    "\n",
    "In graphical form, the normal distribution appears as a \"bell curve\".\n",
    "\n",
    "![Normal Distribution](https://www.investopedia.com/thmb/d4jrAW0IPGrI133cZd6IoSh-Kbk=/660x0/filters:no_upscale():max_bytes(150000):strip_icc():format(webp)/The-Normal-Distribution1-51cb75a3e0a34eb6bbff7e966557757e.jpg)\n",
    "\n",
    "\n",
    "![normal_distribution](https://www.gstatic.com/education/formulas2/472522532/en/normal_distribution.svg)\n"
   ]
  },
  {
   "cell_type": "markdown",
   "id": "41705ee1",
   "metadata": {},
   "source": [
    "### Let's look at some data\n",
    "I am going to take the data from the game **Fifa 15**"
   ]
  },
  {
   "cell_type": "code",
   "execution_count": 1,
   "id": "f67e43ed",
   "metadata": {},
   "outputs": [],
   "source": [
    "import pandas as pd\n",
    "import matplotlib.pyplot as plt\n",
    "import numpy as np\n",
    "\n",
    "\n",
    "df = pd.read_csv('dataset/players_15.csv')"
   ]
  },
  {
   "cell_type": "code",
   "execution_count": 39,
   "id": "9cf7fcce",
   "metadata": {},
   "outputs": [
    {
     "data": {
      "text/html": [
       "<div>\n",
       "<style scoped>\n",
       "    .dataframe tbody tr th:only-of-type {\n",
       "        vertical-align: middle;\n",
       "    }\n",
       "\n",
       "    .dataframe tbody tr th {\n",
       "        vertical-align: top;\n",
       "    }\n",
       "\n",
       "    .dataframe thead th {\n",
       "        text-align: right;\n",
       "    }\n",
       "</style>\n",
       "<table border=\"1\" class=\"dataframe\">\n",
       "  <thead>\n",
       "    <tr style=\"text-align: right;\">\n",
       "      <th></th>\n",
       "      <th>sofifa_id</th>\n",
       "      <th>player_url</th>\n",
       "      <th>short_name</th>\n",
       "      <th>long_name</th>\n",
       "      <th>age</th>\n",
       "      <th>dob</th>\n",
       "      <th>height_cm</th>\n",
       "      <th>weight_kg</th>\n",
       "      <th>nationality</th>\n",
       "      <th>club_name</th>\n",
       "      <th>...</th>\n",
       "      <th>lwb</th>\n",
       "      <th>ldm</th>\n",
       "      <th>cdm</th>\n",
       "      <th>rdm</th>\n",
       "      <th>rwb</th>\n",
       "      <th>lb</th>\n",
       "      <th>lcb</th>\n",
       "      <th>cb</th>\n",
       "      <th>rcb</th>\n",
       "      <th>rb</th>\n",
       "    </tr>\n",
       "  </thead>\n",
       "  <tbody>\n",
       "    <tr>\n",
       "      <th>0</th>\n",
       "      <td>158023</td>\n",
       "      <td>https://sofifa.com/player/158023/lionel-messi/...</td>\n",
       "      <td>L. Messi</td>\n",
       "      <td>Lionel Andrés Messi Cuccittini</td>\n",
       "      <td>27</td>\n",
       "      <td>1987-06-24</td>\n",
       "      <td>169</td>\n",
       "      <td>67</td>\n",
       "      <td>Argentina</td>\n",
       "      <td>FC Barcelona</td>\n",
       "      <td>...</td>\n",
       "      <td>62+3</td>\n",
       "      <td>62+3</td>\n",
       "      <td>62+3</td>\n",
       "      <td>62+3</td>\n",
       "      <td>62+3</td>\n",
       "      <td>54+3</td>\n",
       "      <td>45+3</td>\n",
       "      <td>45+3</td>\n",
       "      <td>45+3</td>\n",
       "      <td>54+3</td>\n",
       "    </tr>\n",
       "    <tr>\n",
       "      <th>1</th>\n",
       "      <td>20801</td>\n",
       "      <td>https://sofifa.com/player/20801/c-ronaldo-dos-...</td>\n",
       "      <td>Cristiano Ronaldo</td>\n",
       "      <td>Cristiano Ronaldo dos Santos Aveiro</td>\n",
       "      <td>29</td>\n",
       "      <td>1985-02-05</td>\n",
       "      <td>185</td>\n",
       "      <td>80</td>\n",
       "      <td>Portugal</td>\n",
       "      <td>Real Madrid</td>\n",
       "      <td>...</td>\n",
       "      <td>63+3</td>\n",
       "      <td>63+3</td>\n",
       "      <td>63+3</td>\n",
       "      <td>63+3</td>\n",
       "      <td>63+3</td>\n",
       "      <td>57+3</td>\n",
       "      <td>52+3</td>\n",
       "      <td>52+3</td>\n",
       "      <td>52+3</td>\n",
       "      <td>57+3</td>\n",
       "    </tr>\n",
       "    <tr>\n",
       "      <th>2</th>\n",
       "      <td>9014</td>\n",
       "      <td>https://sofifa.com/player/9014/arjen-robben/15...</td>\n",
       "      <td>A. Robben</td>\n",
       "      <td>Arjen Robben</td>\n",
       "      <td>30</td>\n",
       "      <td>1984-01-23</td>\n",
       "      <td>180</td>\n",
       "      <td>80</td>\n",
       "      <td>Netherlands</td>\n",
       "      <td>FC Bayern München</td>\n",
       "      <td>...</td>\n",
       "      <td>64+3</td>\n",
       "      <td>64+3</td>\n",
       "      <td>64+3</td>\n",
       "      <td>64+3</td>\n",
       "      <td>64+3</td>\n",
       "      <td>55+3</td>\n",
       "      <td>46+3</td>\n",
       "      <td>46+3</td>\n",
       "      <td>46+3</td>\n",
       "      <td>55+3</td>\n",
       "    </tr>\n",
       "    <tr>\n",
       "      <th>3</th>\n",
       "      <td>41236</td>\n",
       "      <td>https://sofifa.com/player/41236/zlatan-ibrahim...</td>\n",
       "      <td>Z. Ibrahimović</td>\n",
       "      <td>Zlatan Ibrahimović</td>\n",
       "      <td>32</td>\n",
       "      <td>1981-10-03</td>\n",
       "      <td>195</td>\n",
       "      <td>95</td>\n",
       "      <td>Sweden</td>\n",
       "      <td>Paris Saint-Germain</td>\n",
       "      <td>...</td>\n",
       "      <td>61+3</td>\n",
       "      <td>65+3</td>\n",
       "      <td>65+3</td>\n",
       "      <td>65+3</td>\n",
       "      <td>61+3</td>\n",
       "      <td>56+3</td>\n",
       "      <td>55+3</td>\n",
       "      <td>55+3</td>\n",
       "      <td>55+3</td>\n",
       "      <td>56+3</td>\n",
       "    </tr>\n",
       "    <tr>\n",
       "      <th>4</th>\n",
       "      <td>167495</td>\n",
       "      <td>https://sofifa.com/player/167495/manuel-neuer/...</td>\n",
       "      <td>M. Neuer</td>\n",
       "      <td>Manuel Neuer</td>\n",
       "      <td>28</td>\n",
       "      <td>1986-03-27</td>\n",
       "      <td>193</td>\n",
       "      <td>92</td>\n",
       "      <td>Germany</td>\n",
       "      <td>FC Bayern München</td>\n",
       "      <td>...</td>\n",
       "      <td>36+3</td>\n",
       "      <td>40+3</td>\n",
       "      <td>40+3</td>\n",
       "      <td>40+3</td>\n",
       "      <td>36+3</td>\n",
       "      <td>36+3</td>\n",
       "      <td>38+3</td>\n",
       "      <td>38+3</td>\n",
       "      <td>38+3</td>\n",
       "      <td>36+3</td>\n",
       "    </tr>\n",
       "  </tbody>\n",
       "</table>\n",
       "<p>5 rows × 106 columns</p>\n",
       "</div>"
      ],
      "text/plain": [
       "   sofifa_id                                         player_url  \\\n",
       "0     158023  https://sofifa.com/player/158023/lionel-messi/...   \n",
       "1      20801  https://sofifa.com/player/20801/c-ronaldo-dos-...   \n",
       "2       9014  https://sofifa.com/player/9014/arjen-robben/15...   \n",
       "3      41236  https://sofifa.com/player/41236/zlatan-ibrahim...   \n",
       "4     167495  https://sofifa.com/player/167495/manuel-neuer/...   \n",
       "\n",
       "          short_name                            long_name  age         dob  \\\n",
       "0           L. Messi       Lionel Andrés Messi Cuccittini   27  1987-06-24   \n",
       "1  Cristiano Ronaldo  Cristiano Ronaldo dos Santos Aveiro   29  1985-02-05   \n",
       "2          A. Robben                         Arjen Robben   30  1984-01-23   \n",
       "3     Z. Ibrahimović                   Zlatan Ibrahimović   32  1981-10-03   \n",
       "4           M. Neuer                         Manuel Neuer   28  1986-03-27   \n",
       "\n",
       "   height_cm  weight_kg  nationality            club_name  ...   lwb   ldm  \\\n",
       "0        169         67    Argentina         FC Barcelona  ...  62+3  62+3   \n",
       "1        185         80     Portugal          Real Madrid  ...  63+3  63+3   \n",
       "2        180         80  Netherlands    FC Bayern München  ...  64+3  64+3   \n",
       "3        195         95       Sweden  Paris Saint-Germain  ...  61+3  65+3   \n",
       "4        193         92      Germany    FC Bayern München  ...  36+3  40+3   \n",
       "\n",
       "    cdm   rdm   rwb    lb   lcb    cb   rcb    rb  \n",
       "0  62+3  62+3  62+3  54+3  45+3  45+3  45+3  54+3  \n",
       "1  63+3  63+3  63+3  57+3  52+3  52+3  52+3  57+3  \n",
       "2  64+3  64+3  64+3  55+3  46+3  46+3  46+3  55+3  \n",
       "3  65+3  65+3  61+3  56+3  55+3  55+3  55+3  56+3  \n",
       "4  40+3  40+3  36+3  36+3  38+3  38+3  38+3  36+3  \n",
       "\n",
       "[5 rows x 106 columns]"
      ]
     },
     "execution_count": 39,
     "metadata": {},
     "output_type": "execute_result"
    }
   ],
   "source": [
    "df.head()"
   ]
  },
  {
   "cell_type": "code",
   "execution_count": 41,
   "id": "cdf7fd7c",
   "metadata": {},
   "outputs": [
    {
     "data": {
      "text/plain": [
       "(16155, 106)"
      ]
     },
     "execution_count": 41,
     "metadata": {},
     "output_type": "execute_result"
    }
   ],
   "source": [
    "df.shape"
   ]
  },
  {
   "cell_type": "markdown",
   "id": "65fc84f3",
   "metadata": {},
   "source": [
    "### Let's look at the height of the players "
   ]
  },
  {
   "cell_type": "code",
   "execution_count": 3,
   "id": "3330533c",
   "metadata": {},
   "outputs": [
    {
     "data": {
      "text/plain": [
       "0        169\n",
       "1        185\n",
       "2        180\n",
       "3        195\n",
       "4        193\n",
       "        ... \n",
       "16150    187\n",
       "16151    178\n",
       "16152    190\n",
       "16153    180\n",
       "16154    175\n",
       "Name: height_cm, Length: 16155, dtype: int64"
      ]
     },
     "execution_count": 3,
     "metadata": {},
     "output_type": "execute_result"
    }
   ],
   "source": [
    "df['height_cm']"
   ]
  },
  {
   "cell_type": "markdown",
   "id": "454b30d2",
   "metadata": {},
   "source": [
    "Let's plot this "
   ]
  },
  {
   "cell_type": "code",
   "execution_count": 5,
   "id": "f552dfa2",
   "metadata": {},
   "outputs": [
    {
     "data": {
      "text/plain": [
       "<AxesSubplot:>"
      ]
     },
     "execution_count": 5,
     "metadata": {},
     "output_type": "execute_result"
    },
    {
     "data": {
      "image/png": "[encoded data removed]",
      "text/plain": [
       "<Figure size 432x288 with 1 Axes>"
      ]
     },
     "metadata": {
      "needs_background": "light"
     },
     "output_type": "display_data"
    }
   ],
   "source": [
    "df['height_cm'].plot()"
   ]
  },
  {
   "cell_type": "markdown",
   "id": "d3cc468d",
   "metadata": {},
   "source": [
    "A histogram will be better"
   ]
  },
  {
   "cell_type": "code",
   "execution_count": 17,
   "id": "dbf3fbea",
   "metadata": {},
   "outputs": [
    {
     "data": {
      "text/plain": [
       "<AxesSubplot:>"
      ]
     },
     "execution_count": 17,
     "metadata": {},
     "output_type": "execute_result"
    },
    {
     "data": {
      "image/png": "[encoded data removed]",
      "text/plain": [
       "<Figure size 432x288 with 1 Axes>"
      ]
     },
     "metadata": {
      "needs_background": "light"
     },
     "output_type": "display_data"
    }
   ],
   "source": [
    "df['height_cm'].hist(bins=10)"
   ]
  },
  {
   "cell_type": "markdown",
   "id": "9b7bba55",
   "metadata": {},
   "source": [
    "Once we start plotting height as a histogram, we start to notice that most people are around the 185 mark, with a few edging towards 200 and a few more edging towards 170. But the majority is in the middle. \n",
    "\n",
    "This distribution of values, where most of the values are in the middle with less and less values being at the edges is what a normaly distrubuted data looks like. "
   ]
  },
  {
   "cell_type": "markdown",
   "id": "7c4c0ee2",
   "metadata": {},
   "source": [
    "### Let's look at the weight"
   ]
  },
  {
   "cell_type": "code",
   "execution_count": 18,
   "id": "c9e684fd",
   "metadata": {},
   "outputs": [
    {
     "data": {
      "text/plain": [
       "0        67\n",
       "1        80\n",
       "2        80\n",
       "3        95\n",
       "4        92\n",
       "         ..\n",
       "16150    81\n",
       "16151    57\n",
       "16152    76\n",
       "16153    70\n",
       "16154    72\n",
       "Name: weight_kg, Length: 16155, dtype: int64"
      ]
     },
     "execution_count": 18,
     "metadata": {},
     "output_type": "execute_result"
    }
   ],
   "source": [
    "df['weight_kg']"
   ]
  },
  {
   "cell_type": "code",
   "execution_count": 31,
   "id": "73fa18c6",
   "metadata": {},
   "outputs": [
    {
     "data": {
      "text/plain": [
       "<AxesSubplot:>"
      ]
     },
     "execution_count": 31,
     "metadata": {},
     "output_type": "execute_result"
    },
    {
     "data": {
      "image/png": "[encoded data removed]",
      "text/plain": [
       "<Figure size 432x288 with 1 Axes>"
      ]
     },
     "metadata": {
      "needs_background": "light"
     },
     "output_type": "display_data"
    }
   ],
   "source": [
    "df['weight_kg'].hist(bins=20)"
   ]
  },
  {
   "cell_type": "markdown",
   "id": "99888951",
   "metadata": {},
   "source": [
    "We see something similar again, a distribution of data that resembles that of a normal distribution. "
   ]
  },
  {
   "cell_type": "markdown",
   "id": "11e74f0c",
   "metadata": {},
   "source": [
    "# What is population distribution\n",
    "When we get the data for all the participants in a given domain, we call it a population distribution.\n",
    "So, for example, if we could hypothetically get the height data of all the people living in india, that would be a population distribution. And almost always, that will be normal distribution. \n",
    "\n",
    "So, assuming it to be a normally distributed. We can draw samples from it. "
   ]
  },
  {
   "cell_type": "code",
   "execution_count": 32,
   "id": "9ebf3346",
   "metadata": {},
   "outputs": [
    {
     "data": {
      "text/plain": [
       "[<matplotlib.lines.Line2D at 0x7fc072a0d820>]"
      ]
     },
     "execution_count": 32,
     "metadata": {},
     "output_type": "execute_result"
    },
    {
     "data": {
      "image/png": "[encoded data removed]",
      "text/plain": [
       "<Figure size 432x288 with 1 Axes>"
      ]
     },
     "metadata": {
      "needs_background": "light"
     },
     "output_type": "display_data"
    }
   ],
   "source": [
    "from scipy.stats import norm\n",
    "import matplotlib.pyplot as plt\n",
    "import numpy as np\n",
    "\n",
    "fig, ax = plt.subplots(1, 1)\n",
    "mean, var, skew, kurt = norm.stats(moments='mvsk')\n",
    "\n",
    "x = np.linspace(norm.ppf(0.0001),\n",
    "                norm.ppf(0.9999), 10000)\n",
    "ax.plot(x, norm.pdf(x),\n",
    "       'r-', lw=5, alpha=0.6, label='norm pdf')"
   ]
  },
  {
   "cell_type": "markdown",
   "id": "79fbfee4",
   "metadata": {},
   "source": [
    "### Let's dram samples from a normal distribution with mean 0 and std. dev 0.1"
   ]
  },
  {
   "cell_type": "code",
   "execution_count": 33,
   "id": "dc27c2b7",
   "metadata": {},
   "outputs": [],
   "source": [
    "mu, sigma = 0, 0.1 # mean and standard deviation\n",
    "s = np.random.normal(mu, sigma, 100)"
   ]
  },
  {
   "cell_type": "code",
   "execution_count": 38,
   "id": "7549733e",
   "metadata": {},
   "outputs": [
    {
     "data": {
      "text/plain": [
       "array([-0.00301604,  0.00229865, -0.08890114, -0.02009633,  0.05335778,\n",
       "       -0.06190453, -0.05947931, -0.02441854,  0.10211187,  0.17830449,\n",
       "       -0.01359956,  0.05843915,  0.08864795,  0.02396444, -0.11529383,\n",
       "       -0.02600215,  0.01491301, -0.05412434, -0.0385971 ,  0.06728138,\n",
       "       -0.07169452, -0.00677591, -0.01402402, -0.02886767, -0.00278715,\n",
       "        0.04584844, -0.20198571,  0.09657246, -0.03072856, -0.11495395,\n",
       "       -0.0915211 ,  0.05124658,  0.10029142, -0.19577358, -0.0982061 ,\n",
       "        0.09998837,  0.00886503, -0.00269424,  0.1022958 , -0.0758194 ,\n",
       "       -0.00542279, -0.12501494,  0.05095923,  0.00891018, -0.14553372,\n",
       "       -0.06225171,  0.1316831 ,  0.0196267 , -0.14437914,  0.09356791,\n",
       "       -0.10386048, -0.038869  ,  0.02100019, -0.04539581, -0.03947741,\n",
       "        0.22982294,  0.13040404,  0.02511966,  0.04594531,  0.11839368,\n",
       "       -0.10188291, -0.0081115 ,  0.00632268, -0.14106717, -0.06226115,\n",
       "       -0.1422483 ,  0.04849671,  0.19623791,  0.03409791, -0.16446968,\n",
       "        0.03841771,  0.20628407, -0.1056605 , -0.0067619 ,  0.04835632,\n",
       "       -0.00846757, -0.13233801,  0.10225158, -0.05766252,  0.13766082,\n",
       "        0.26684069,  0.04000926, -0.20456452,  0.00757085,  0.05760299,\n",
       "       -0.1050435 ,  0.02962504,  0.07537751,  0.06365055, -0.04996697,\n",
       "        0.05438054, -0.01194757, -0.00295471, -0.13714457,  0.15528954,\n",
       "       -0.02501915, -0.0984856 , -0.0830356 ,  0.13228692, -0.10318327])"
      ]
     },
     "execution_count": 38,
     "metadata": {},
     "output_type": "execute_result"
    }
   ],
   "source": [
    "s"
   ]
  },
  {
   "cell_type": "code",
   "execution_count": null,
   "id": "f444bf03",
   "metadata": {},
   "outputs": [],
   "source": []
  },
  {
   "cell_type": "code",
   "execution_count": null,
   "id": "33b00998",
   "metadata": {},
   "outputs": [],
   "source": []
  },
  {
   "cell_type": "code",
   "execution_count": null,
   "id": "b2417df0",
   "metadata": {},
   "outputs": [],
   "source": []
  },
  {
   "cell_type": "markdown",
   "id": "70794d7a",
   "metadata": {},
   "source": [
    "# Sampling Distribution\n",
    "A sampling distribution is a probability distribution of a statistic obtained from a larger number of samples drawn from a specific population. The sampling distribution of a given population is the distribution of frequencies of a range of different outcomes that could possibly occur for a statistic of a population.\n",
    "\n",
    "Let's assume that our population is normally distirbuted. \n",
    "We will sample 10 values from our distribution and average them together. \n",
    "\n",
    "Once averaged, we will plot a histogram of all our averaged values, Let's see what happens."
   ]
  },
  {
   "cell_type": "code",
   "execution_count": null,
   "id": "c24bdb50",
   "metadata": {},
   "outputs": [],
   "source": []
  },
  {
   "cell_type": "code",
   "execution_count": null,
   "id": "26b52901",
   "metadata": {},
   "outputs": [],
   "source": []
  },
  {
   "cell_type": "code",
   "execution_count": null,
   "id": "5bc99d5c",
   "metadata": {},
   "outputs": [],
   "source": []
  }
 ],
 "metadata": {
  "kernelspec": {
   "display_name": "Python 3 (ipykernel)",
   "language": "python",
   "name": "python3"
  },
  "language_info": {
   "codemirror_mode": {
    "name": "ipython",
    "version": 3
   },
   "file_extension": ".py",
   "mimetype": "text/x-python",
   "name": "python",
   "nbconvert_exporter": "python",
   "pygments_lexer": "ipython3",
   "version": "3.9.12"
  }
 },
 "nbformat": 4,
 "nbformat_minor": 5
}
