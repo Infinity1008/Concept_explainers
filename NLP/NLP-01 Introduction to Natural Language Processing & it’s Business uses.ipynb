{
 "cells": [
  {
   "cell_type": "markdown",
   "id": "cb97ff66",
   "metadata": {},
   "source": [
    "<h1><center>Natural Language Processing</center></h1>\n",
    "\n",
    "![](https://149695847.v2.pressablecdn.com/wp-content/uploads/2022/05/NLP_AIM.gif)"
   ]
  },
  {
   "cell_type": "markdown",
   "id": "f2b0b8e2",
   "metadata": {},
   "source": [
    "# What is NLP\n",
    "**Natural language processing (NLP)** is a field of artificial intelligence that focuses on enabling computers to understand, interpret, and generate human language. NLP has a wide range of applications in business, some examples include:"
   ]
  },
  {
   "cell_type": "markdown",
   "id": "a7ff03d3",
   "metadata": {},
   "source": [
    "\n",
    "---------\n",
    "\n",
    "1. **Text classification and sentiment analysis:** NLP can be used to classify and analyze the sentiment of customer reviews, social media posts, and support tickets to understand customer sentiment and improve the customer experience.\n",
    "\n",
    "---------\n",
    "\n",
    "2. **Chatbots and virtual assistants:** NLP can be used to build chatbots and virtual assistants that can understand and respond to customer queries and requests in a natural way.\n",
    "\n",
    "---------\n",
    "\n",
    "3. **Content recommendation:** NLP can be used to analyze the content of an article or product description and recommend related content to users.\n",
    "\n",
    "---------\n",
    "\n",
    "4. **Language translation:** NLP can be used to translate text from one language to another, enabling businesses to communicate with customers in their preferred language.\n",
    "\n",
    "---------\n",
    "\n",
    "5. **Data mining and information extraction:** NLP can be used to extract useful information from large amounts of unstructured text data, such as resumes, research papers, and news articles.\n",
    "\n",
    "---------\n",
    "\n",
    "6. **Email sorting and categorization:** NLP can be used to sort and categorize emails, making it easier for businesses to manage and respond to customer inquiries.\n",
    "\n",
    "---------\n",
    "\n",
    "7. **Sentiment analysis in financial markets:** NLP can be used to analyze news articles and social media posts to understand sentiment about a particular company or industry, which can help inform investment decisions.\n",
    "\n",
    "---------\n",
    "\n",
    "8. **Fraud detection:** NLP can be used to analyze customer interactions and transactions to identify patterns that may indicate fraudulent activity.\n",
    "\n",
    "---------\n"
   ]
  },
  {
   "cell_type": "markdown",
   "id": "d3784a2d",
   "metadata": {},
   "source": [
    "# Python Basics"
   ]
  },
  {
   "cell_type": "markdown",
   "id": "9dcdd8c9",
   "metadata": {},
   "source": [
    "1. Numbers\n",
    "2. Strings\n",
    "3. Booleans"
   ]
  },
  {
   "cell_type": "code",
   "execution_count": 3,
   "id": "6916230f",
   "metadata": {},
   "outputs": [
    {
     "data": {
      "text/plain": [
       "1"
      ]
     },
     "execution_count": 3,
     "metadata": {},
     "output_type": "execute_result"
    }
   ],
   "source": [
    "1"
   ]
  },
  {
   "cell_type": "code",
   "execution_count": 7,
   "id": "4487c88a",
   "metadata": {},
   "outputs": [
    {
     "data": {
      "text/plain": [
       "2"
      ]
     },
     "execution_count": 7,
     "metadata": {},
     "output_type": "execute_result"
    }
   ],
   "source": [
    "2"
   ]
  },
  {
   "cell_type": "code",
   "execution_count": 9,
   "id": "1c495c4d",
   "metadata": {},
   "outputs": [
    {
     "data": {
      "text/plain": [
       "1.1"
      ]
     },
     "execution_count": 9,
     "metadata": {},
     "output_type": "execute_result"
    }
   ],
   "source": [
    "1.1"
   ]
  },
  {
   "cell_type": "code",
   "execution_count": 11,
   "id": "79b96968",
   "metadata": {},
   "outputs": [
    {
     "data": {
      "text/plain": [
       "True"
      ]
     },
     "execution_count": 11,
     "metadata": {},
     "output_type": "execute_result"
    }
   ],
   "source": [
    "True"
   ]
  },
  {
   "cell_type": "code",
   "execution_count": 13,
   "id": "c5c65111",
   "metadata": {},
   "outputs": [
    {
     "data": {
      "text/plain": [
       "False"
      ]
     },
     "execution_count": 13,
     "metadata": {},
     "output_type": "execute_result"
    }
   ],
   "source": [
    "False"
   ]
  },
  {
   "cell_type": "code",
   "execution_count": 16,
   "id": "aebd0de3",
   "metadata": {},
   "outputs": [],
   "source": [
    "a = 1"
   ]
  },
  {
   "cell_type": "code",
   "execution_count": 17,
   "id": "e56928d4",
   "metadata": {},
   "outputs": [
    {
     "data": {
      "text/plain": [
       "1"
      ]
     },
     "execution_count": 17,
     "metadata": {},
     "output_type": "execute_result"
    }
   ],
   "source": [
    "a"
   ]
  },
  {
   "cell_type": "code",
   "execution_count": 18,
   "id": "e8291269",
   "metadata": {},
   "outputs": [
    {
     "data": {
      "text/plain": [
       "int"
      ]
     },
     "execution_count": 18,
     "metadata": {},
     "output_type": "execute_result"
    }
   ],
   "source": [
    "type(a)"
   ]
  },
  {
   "cell_type": "code",
   "execution_count": 20,
   "id": "173c30c3",
   "metadata": {},
   "outputs": [],
   "source": [
    "b = 10.55555"
   ]
  },
  {
   "cell_type": "code",
   "execution_count": 22,
   "id": "24e225ad",
   "metadata": {},
   "outputs": [
    {
     "data": {
      "text/plain": [
       "10.55555"
      ]
     },
     "execution_count": 22,
     "metadata": {},
     "output_type": "execute_result"
    }
   ],
   "source": [
    "b"
   ]
  },
  {
   "cell_type": "code",
   "execution_count": 24,
   "id": "63322dd6",
   "metadata": {},
   "outputs": [
    {
     "data": {
      "text/plain": [
       "float"
      ]
     },
     "execution_count": 24,
     "metadata": {},
     "output_type": "execute_result"
    }
   ],
   "source": [
    "type(b)"
   ]
  },
  {
   "cell_type": "markdown",
   "id": "d1b3c1a6",
   "metadata": {},
   "source": [
    "# Strings"
   ]
  },
  {
   "cell_type": "code",
   "execution_count": 25,
   "id": "c7554a3e",
   "metadata": {},
   "outputs": [
    {
     "data": {
      "text/plain": [
       "'This is a string'"
      ]
     },
     "execution_count": 25,
     "metadata": {},
     "output_type": "execute_result"
    }
   ],
   "source": [
    "'This is a string'"
   ]
  },
  {
   "cell_type": "code",
   "execution_count": 27,
   "id": "4edf20de",
   "metadata": {},
   "outputs": [
    {
     "data": {
      "text/plain": [
       "'This is another string'"
      ]
     },
     "execution_count": 27,
     "metadata": {},
     "output_type": "execute_result"
    }
   ],
   "source": [
    "\"This is another string\""
   ]
  },
  {
   "cell_type": "code",
   "execution_count": 31,
   "id": "e504b6bb",
   "metadata": {},
   "outputs": [
    {
     "ename": "SyntaxError",
     "evalue": "EOL while scanning string literal (1895831963.py, line 1)",
     "output_type": "error",
     "traceback": [
      "\u001b[0;36m  File \u001b[0;32m\"/var/folders/qm/dbhwkv990ggf8k64763bvn1w0000gn/T/ipykernel_92671/1895831963.py\"\u001b[0;36m, line \u001b[0;32m1\u001b[0m\n\u001b[0;31m    'This \"\u001b[0m\n\u001b[0m           ^\u001b[0m\n\u001b[0;31mSyntaxError\u001b[0m\u001b[0;31m:\u001b[0m EOL while scanning string literal\n"
     ]
    }
   ],
   "source": [
    "'This \""
   ]
  },
  {
   "cell_type": "code",
   "execution_count": 33,
   "id": "78578f27",
   "metadata": {},
   "outputs": [
    {
     "data": {
      "text/plain": [
       "' This is a string'"
      ]
     },
     "execution_count": 33,
     "metadata": {},
     "output_type": "execute_result"
    }
   ],
   "source": [
    "\"\"\" This is a string\"\"\""
   ]
  },
  {
   "cell_type": "code",
   "execution_count": 36,
   "id": "5adb0f44",
   "metadata": {},
   "outputs": [],
   "source": [
    "c = \"This is a string\""
   ]
  },
  {
   "cell_type": "code",
   "execution_count": 37,
   "id": "60850b4f",
   "metadata": {},
   "outputs": [
    {
     "data": {
      "text/plain": [
       "'This is a string'"
      ]
     },
     "execution_count": 37,
     "metadata": {},
     "output_type": "execute_result"
    }
   ],
   "source": [
    "c"
   ]
  },
  {
   "cell_type": "code",
   "execution_count": 35,
   "id": "056cce23",
   "metadata": {},
   "outputs": [
    {
     "data": {
      "text/plain": [
       "str"
      ]
     },
     "execution_count": 35,
     "metadata": {},
     "output_type": "execute_result"
    }
   ],
   "source": [
    "type(c)"
   ]
  },
  {
   "cell_type": "markdown",
   "id": "42871e7f",
   "metadata": {},
   "source": [
    "# Booleans"
   ]
  },
  {
   "cell_type": "code",
   "execution_count": 43,
   "id": "26b8f566",
   "metadata": {},
   "outputs": [],
   "source": [
    "d = False"
   ]
  },
  {
   "cell_type": "code",
   "execution_count": 44,
   "id": "ebd0839b",
   "metadata": {},
   "outputs": [
    {
     "data": {
      "text/plain": [
       "False"
      ]
     },
     "execution_count": 44,
     "metadata": {},
     "output_type": "execute_result"
    }
   ],
   "source": [
    "d"
   ]
  },
  {
   "cell_type": "code",
   "execution_count": 45,
   "id": "1c049cf8",
   "metadata": {},
   "outputs": [
    {
     "data": {
      "text/plain": [
       "bool"
      ]
     },
     "execution_count": 45,
     "metadata": {},
     "output_type": "execute_result"
    }
   ],
   "source": [
    "type(d)"
   ]
  },
  {
   "cell_type": "markdown",
   "id": "683956bc",
   "metadata": {},
   "source": [
    "# Methods"
   ]
  },
  {
   "cell_type": "markdown",
   "id": "f384bf86",
   "metadata": {},
   "source": [
    "## String methods"
   ]
  },
  {
   "cell_type": "code",
   "execution_count": 57,
   "id": "01bb3786",
   "metadata": {},
   "outputs": [],
   "source": [
    "a = \"siDDharth\""
   ]
  },
  {
   "cell_type": "code",
   "execution_count": 55,
   "id": "fa615f6b",
   "metadata": {},
   "outputs": [
    {
     "data": {
      "text/plain": [
       "'siddharth'"
      ]
     },
     "execution_count": 55,
     "metadata": {},
     "output_type": "execute_result"
    }
   ],
   "source": [
    "a"
   ]
  },
  {
   "cell_type": "code",
   "execution_count": 49,
   "id": "dcf5c730",
   "metadata": {},
   "outputs": [
    {
     "data": {
      "text/plain": [
       "'SIDDHARTH'"
      ]
     },
     "execution_count": 49,
     "metadata": {},
     "output_type": "execute_result"
    }
   ],
   "source": [
    "a.upper()"
   ]
  },
  {
   "cell_type": "code",
   "execution_count": 51,
   "id": "4cec76a2",
   "metadata": {},
   "outputs": [
    {
     "data": {
      "text/plain": [
       "'siddharth'"
      ]
     },
     "execution_count": 51,
     "metadata": {},
     "output_type": "execute_result"
    }
   ],
   "source": [
    "a.lower()"
   ]
  },
  {
   "cell_type": "code",
   "execution_count": 59,
   "id": "d6c4ab65",
   "metadata": {},
   "outputs": [
    {
     "data": {
      "text/plain": [
       "'Siddharth'"
      ]
     },
     "execution_count": 59,
     "metadata": {},
     "output_type": "execute_result"
    }
   ],
   "source": [
    "a.capitalize()"
   ]
  },
  {
   "cell_type": "code",
   "execution_count": 63,
   "id": "85e99b08",
   "metadata": {},
   "outputs": [
    {
     "data": {
      "text/plain": [
       "2"
      ]
     },
     "execution_count": 63,
     "metadata": {},
     "output_type": "execute_result"
    }
   ],
   "source": [
    "a.count('D')"
   ]
  },
  {
   "cell_type": "code",
   "execution_count": 68,
   "id": "25b19f99",
   "metadata": {},
   "outputs": [
    {
     "data": {
      "text/plain": [
       "3"
      ]
     },
     "execution_count": 68,
     "metadata": {},
     "output_type": "execute_result"
    }
   ],
   "source": [
    "len('   ')"
   ]
  },
  {
   "cell_type": "code",
   "execution_count": 69,
   "id": "a53369f0",
   "metadata": {},
   "outputs": [],
   "source": [
    "?a.find"
   ]
  },
  {
   "cell_type": "markdown",
   "id": "5972df6c",
   "metadata": {},
   "source": [
    "# Integers"
   ]
  },
  {
   "cell_type": "code",
   "execution_count": 70,
   "id": "734fdfd9",
   "metadata": {},
   "outputs": [],
   "source": [
    "a = 99"
   ]
  },
  {
   "cell_type": "code",
   "execution_count": 72,
   "id": "f812fe8e",
   "metadata": {},
   "outputs": [
    {
     "data": {
      "text/plain": [
       "99"
      ]
     },
     "execution_count": 72,
     "metadata": {},
     "output_type": "execute_result"
    }
   ],
   "source": [
    "a"
   ]
  },
  {
   "cell_type": "code",
   "execution_count": 74,
   "id": "976f1ebf",
   "metadata": {},
   "outputs": [
    {
     "data": {
      "text/plain": [
       "int"
      ]
     },
     "execution_count": 74,
     "metadata": {},
     "output_type": "execute_result"
    }
   ],
   "source": [
    "type(a)"
   ]
  },
  {
   "cell_type": "code",
   "execution_count": 76,
   "id": "e6aad811",
   "metadata": {},
   "outputs": [
    {
     "data": {
      "text/plain": [
       "99"
      ]
     },
     "execution_count": 76,
     "metadata": {},
     "output_type": "execute_result"
    }
   ],
   "source": [
    "a.numerator"
   ]
  },
  {
   "cell_type": "markdown",
   "id": "c6c2a0fa",
   "metadata": {},
   "source": [
    "# Floats"
   ]
  },
  {
   "cell_type": "code",
   "execution_count": 77,
   "id": "c6388b2b",
   "metadata": {},
   "outputs": [],
   "source": [
    "a = 50.378"
   ]
  },
  {
   "cell_type": "code",
   "execution_count": 79,
   "id": "6149073a",
   "metadata": {},
   "outputs": [
    {
     "data": {
      "text/plain": [
       "50.378"
      ]
     },
     "execution_count": 79,
     "metadata": {},
     "output_type": "execute_result"
    }
   ],
   "source": [
    "a"
   ]
  },
  {
   "cell_type": "code",
   "execution_count": 80,
   "id": "e41b1aac",
   "metadata": {},
   "outputs": [
    {
     "data": {
      "text/plain": [
       "float"
      ]
     },
     "execution_count": 80,
     "metadata": {},
     "output_type": "execute_result"
    }
   ],
   "source": [
    "type(a)"
   ]
  },
  {
   "cell_type": "code",
   "execution_count": 83,
   "id": "03c98aae",
   "metadata": {},
   "outputs": [
    {
     "data": {
      "text/plain": [
       "'0x1.930624dd2f1aap+5'"
      ]
     },
     "execution_count": 83,
     "metadata": {},
     "output_type": "execute_result"
    }
   ],
   "source": [
    "a.hex()"
   ]
  },
  {
   "cell_type": "markdown",
   "id": "618253ac",
   "metadata": {},
   "source": [
    "# Booleans"
   ]
  },
  {
   "cell_type": "code",
   "execution_count": 85,
   "id": "e35a2ef2",
   "metadata": {},
   "outputs": [],
   "source": [
    "a = False"
   ]
  },
  {
   "cell_type": "code",
   "execution_count": 87,
   "id": "0a07f12d",
   "metadata": {},
   "outputs": [
    {
     "data": {
      "text/plain": [
       "False"
      ]
     },
     "execution_count": 87,
     "metadata": {},
     "output_type": "execute_result"
    }
   ],
   "source": [
    "a"
   ]
  },
  {
   "cell_type": "code",
   "execution_count": 88,
   "id": "919e339d",
   "metadata": {},
   "outputs": [
    {
     "data": {
      "text/plain": [
       "bool"
      ]
     },
     "execution_count": 88,
     "metadata": {},
     "output_type": "execute_result"
    }
   ],
   "source": [
    "type(a)"
   ]
  },
  {
   "cell_type": "code",
   "execution_count": 90,
   "id": "7502c397",
   "metadata": {},
   "outputs": [
    {
     "data": {
      "text/plain": [
       "0"
      ]
     },
     "execution_count": 90,
     "metadata": {},
     "output_type": "execute_result"
    }
   ],
   "source": [
    "a.numerator"
   ]
  },
  {
   "cell_type": "code",
   "execution_count": 91,
   "id": "b46448ec",
   "metadata": {},
   "outputs": [
    {
     "data": {
      "text/plain": [
       "1"
      ]
     },
     "execution_count": 91,
     "metadata": {},
     "output_type": "execute_result"
    }
   ],
   "source": [
    "a.denominator"
   ]
  },
  {
   "cell_type": "markdown",
   "id": "2aafd17c",
   "metadata": {},
   "source": [
    "# Basic Maths in python"
   ]
  },
  {
   "cell_type": "code",
   "execution_count": 92,
   "id": "d99f00ea",
   "metadata": {},
   "outputs": [
    {
     "data": {
      "text/plain": [
       "2"
      ]
     },
     "execution_count": 92,
     "metadata": {},
     "output_type": "execute_result"
    }
   ],
   "source": [
    "1 + 1"
   ]
  },
  {
   "cell_type": "code",
   "execution_count": 93,
   "id": "6e18807a",
   "metadata": {},
   "outputs": [
    {
     "data": {
      "text/plain": [
       "2"
      ]
     },
     "execution_count": 93,
     "metadata": {},
     "output_type": "execute_result"
    }
   ],
   "source": [
    "5-3"
   ]
  },
  {
   "cell_type": "code",
   "execution_count": 94,
   "id": "f7100a6c",
   "metadata": {},
   "outputs": [
    {
     "data": {
      "text/plain": [
       "20"
      ]
     },
     "execution_count": 94,
     "metadata": {},
     "output_type": "execute_result"
    }
   ],
   "source": [
    "10 * 2"
   ]
  },
  {
   "cell_type": "code",
   "execution_count": 95,
   "id": "22139c2c",
   "metadata": {},
   "outputs": [
    {
     "data": {
      "text/plain": [
       "5.0"
      ]
     },
     "execution_count": 95,
     "metadata": {},
     "output_type": "execute_result"
    }
   ],
   "source": [
    "10 / 2"
   ]
  },
  {
   "cell_type": "code",
   "execution_count": 97,
   "id": "1bf6809f",
   "metadata": {},
   "outputs": [
    {
     "data": {
      "text/plain": [
       "0"
      ]
     },
     "execution_count": 97,
     "metadata": {},
     "output_type": "execute_result"
    }
   ],
   "source": [
    "10 % 2"
   ]
  },
  {
   "cell_type": "markdown",
   "id": "66754970",
   "metadata": {},
   "source": [
    "# Strings - Some detail"
   ]
  },
  {
   "cell_type": "code",
   "execution_count": 98,
   "id": "72a2effd",
   "metadata": {},
   "outputs": [],
   "source": [
    "a = 'Lionel Messi'"
   ]
  },
  {
   "cell_type": "code",
   "execution_count": 100,
   "id": "1d820fa3",
   "metadata": {},
   "outputs": [
    {
     "data": {
      "text/plain": [
       "12"
      ]
     },
     "execution_count": 100,
     "metadata": {},
     "output_type": "execute_result"
    }
   ],
   "source": [
    "len(a)"
   ]
  },
  {
   "cell_type": "code",
   "execution_count": 102,
   "id": "62329741",
   "metadata": {},
   "outputs": [
    {
     "data": {
      "text/plain": [
       "'Lionel Messi'"
      ]
     },
     "execution_count": 102,
     "metadata": {},
     "output_type": "execute_result"
    }
   ],
   "source": [
    "a"
   ]
  },
  {
   "cell_type": "code",
   "execution_count": 103,
   "id": "18415828",
   "metadata": {},
   "outputs": [
    {
     "data": {
      "text/plain": [
       "str"
      ]
     },
     "execution_count": 103,
     "metadata": {},
     "output_type": "execute_result"
    }
   ],
   "source": [
    "type(a)"
   ]
  },
  {
   "cell_type": "code",
   "execution_count": 106,
   "id": "23c51f8e",
   "metadata": {},
   "outputs": [
    {
     "data": {
      "text/plain": [
       "'n'"
      ]
     },
     "execution_count": 106,
     "metadata": {},
     "output_type": "execute_result"
    }
   ],
   "source": [
    "a[3]"
   ]
  },
  {
   "cell_type": "code",
   "execution_count": 108,
   "id": "bf334aae",
   "metadata": {},
   "outputs": [
    {
     "data": {
      "text/plain": [
       "'s'"
      ]
     },
     "execution_count": 108,
     "metadata": {},
     "output_type": "execute_result"
    }
   ],
   "source": [
    "a[10]"
   ]
  },
  {
   "cell_type": "code",
   "execution_count": 110,
   "id": "cbcaee87",
   "metadata": {},
   "outputs": [
    {
     "data": {
      "text/plain": [
       "'i'"
      ]
     },
     "execution_count": 110,
     "metadata": {},
     "output_type": "execute_result"
    }
   ],
   "source": [
    "a[-1]"
   ]
  },
  {
   "cell_type": "code",
   "execution_count": 111,
   "id": "18f9c956",
   "metadata": {},
   "outputs": [
    {
     "data": {
      "text/plain": [
       "'s'"
      ]
     },
     "execution_count": 111,
     "metadata": {},
     "output_type": "execute_result"
    }
   ],
   "source": [
    "a[-2]"
   ]
  },
  {
   "cell_type": "code",
   "execution_count": 114,
   "id": "25be2d51",
   "metadata": {},
   "outputs": [
    {
     "data": {
      "text/plain": [
       "'Lione'"
      ]
     },
     "execution_count": 114,
     "metadata": {},
     "output_type": "execute_result"
    }
   ],
   "source": [
    "a[0:5]"
   ]
  },
  {
   "cell_type": "code",
   "execution_count": 115,
   "id": "7cd511d2",
   "metadata": {},
   "outputs": [
    {
     "data": {
      "text/plain": [
       "'Lionel Messi'"
      ]
     },
     "execution_count": 115,
     "metadata": {},
     "output_type": "execute_result"
    }
   ],
   "source": [
    "a"
   ]
  },
  {
   "cell_type": "code",
   "execution_count": 120,
   "id": "53718039",
   "metadata": {},
   "outputs": [
    {
     "data": {
      "text/plain": [
       "'nel'"
      ]
     },
     "execution_count": 120,
     "metadata": {},
     "output_type": "execute_result"
    }
   ],
   "source": [
    "a[3:6]"
   ]
  },
  {
   "cell_type": "code",
   "execution_count": 122,
   "id": "b34f1e26",
   "metadata": {},
   "outputs": [
    {
     "data": {
      "text/plain": [
       "'i'"
      ]
     },
     "execution_count": 122,
     "metadata": {},
     "output_type": "execute_result"
    }
   ],
   "source": [
    "a[1]"
   ]
  },
  {
   "cell_type": "code",
   "execution_count": 123,
   "id": "9e128117",
   "metadata": {},
   "outputs": [
    {
     "data": {
      "text/plain": [
       "'o'"
      ]
     },
     "execution_count": 123,
     "metadata": {},
     "output_type": "execute_result"
    }
   ],
   "source": [
    "a[2]"
   ]
  },
  {
   "cell_type": "code",
   "execution_count": 124,
   "id": "ec7d423a",
   "metadata": {},
   "outputs": [
    {
     "data": {
      "text/plain": [
       "'i'"
      ]
     },
     "execution_count": 124,
     "metadata": {},
     "output_type": "execute_result"
    }
   ],
   "source": [
    "a[1:2]"
   ]
  },
  {
   "cell_type": "code",
   "execution_count": 126,
   "id": "3834dcde",
   "metadata": {},
   "outputs": [
    {
     "data": {
      "text/plain": [
       "''"
      ]
     },
     "execution_count": 126,
     "metadata": {},
     "output_type": "execute_result"
    }
   ],
   "source": [
    "a[1:1]"
   ]
  },
  {
   "cell_type": "code",
   "execution_count": 129,
   "id": "8cf61911",
   "metadata": {},
   "outputs": [
    {
     "data": {
      "text/plain": [
       "'Lionel Mess'"
      ]
     },
     "execution_count": 129,
     "metadata": {},
     "output_type": "execute_result"
    }
   ],
   "source": [
    "a[0:-1]"
   ]
  },
  {
   "cell_type": "code",
   "execution_count": 131,
   "id": "6262e0a1",
   "metadata": {},
   "outputs": [
    {
     "data": {
      "text/plain": [
       "'Lionel Messi'"
      ]
     },
     "execution_count": 131,
     "metadata": {},
     "output_type": "execute_result"
    }
   ],
   "source": [
    "a"
   ]
  },
  {
   "cell_type": "code",
   "execution_count": 133,
   "id": "58dd2068",
   "metadata": {},
   "outputs": [
    {
     "data": {
      "text/plain": [
       "'ss'"
      ]
     },
     "execution_count": 133,
     "metadata": {},
     "output_type": "execute_result"
    }
   ],
   "source": [
    "a[-3:-1]"
   ]
  },
  {
   "cell_type": "code",
   "execution_count": 135,
   "id": "e016d8d4",
   "metadata": {},
   "outputs": [
    {
     "data": {
      "text/plain": [
       "'s'"
      ]
     },
     "execution_count": 135,
     "metadata": {},
     "output_type": "execute_result"
    }
   ],
   "source": [
    "a[-3]"
   ]
  },
  {
   "cell_type": "code",
   "execution_count": 137,
   "id": "ae58e957",
   "metadata": {},
   "outputs": [
    {
     "data": {
      "text/plain": [
       "'i'"
      ]
     },
     "execution_count": 137,
     "metadata": {},
     "output_type": "execute_result"
    }
   ],
   "source": [
    "a[-1]"
   ]
  },
  {
   "cell_type": "markdown",
   "id": "836f27c0",
   "metadata": {},
   "source": [
    "# Lists"
   ]
  },
  {
   "cell_type": "code",
   "execution_count": 146,
   "id": "3b2ff62f",
   "metadata": {},
   "outputs": [],
   "source": [
    "a = [1,2,3,4,5]"
   ]
  },
  {
   "cell_type": "code",
   "execution_count": 139,
   "id": "ffe6039b",
   "metadata": {},
   "outputs": [
    {
     "data": {
      "text/plain": [
       "[1, 2, 3]"
      ]
     },
     "execution_count": 139,
     "metadata": {},
     "output_type": "execute_result"
    }
   ],
   "source": [
    "a"
   ]
  },
  {
   "cell_type": "code",
   "execution_count": 140,
   "id": "202c1657",
   "metadata": {},
   "outputs": [
    {
     "data": {
      "text/plain": [
       "list"
      ]
     },
     "execution_count": 140,
     "metadata": {},
     "output_type": "execute_result"
    }
   ],
   "source": [
    "type(a)"
   ]
  },
  {
   "cell_type": "code",
   "execution_count": 142,
   "id": "c227e034",
   "metadata": {},
   "outputs": [
    {
     "data": {
      "text/plain": [
       "1"
      ]
     },
     "execution_count": 142,
     "metadata": {},
     "output_type": "execute_result"
    }
   ],
   "source": [
    "a[0]"
   ]
  },
  {
   "cell_type": "code",
   "execution_count": 144,
   "id": "ea01359f",
   "metadata": {},
   "outputs": [
    {
     "data": {
      "text/plain": [
       "3"
      ]
     },
     "execution_count": 144,
     "metadata": {},
     "output_type": "execute_result"
    }
   ],
   "source": [
    "a[2]"
   ]
  },
  {
   "cell_type": "code",
   "execution_count": 147,
   "id": "6cd8776a",
   "metadata": {},
   "outputs": [
    {
     "data": {
      "text/plain": [
       "5"
      ]
     },
     "execution_count": 147,
     "metadata": {},
     "output_type": "execute_result"
    }
   ],
   "source": [
    "a[-1]"
   ]
  },
  {
   "cell_type": "code",
   "execution_count": 149,
   "id": "a8b97d4b",
   "metadata": {},
   "outputs": [
    {
     "data": {
      "text/plain": [
       "[1, 2, 3]"
      ]
     },
     "execution_count": 149,
     "metadata": {},
     "output_type": "execute_result"
    }
   ],
   "source": [
    "a[0:3]"
   ]
  },
  {
   "cell_type": "code",
   "execution_count": 150,
   "id": "faf096d5",
   "metadata": {},
   "outputs": [],
   "source": [
    "a = [True, 10, 10.1, 'Messi',1,2,3]"
   ]
  },
  {
   "cell_type": "code",
   "execution_count": 154,
   "id": "703dfa4d",
   "metadata": {},
   "outputs": [
    {
     "data": {
      "text/plain": [
       "10.1"
      ]
     },
     "execution_count": 154,
     "metadata": {},
     "output_type": "execute_result"
    }
   ],
   "source": [
    "a[2]"
   ]
  },
  {
   "cell_type": "code",
   "execution_count": 157,
   "id": "88d30468",
   "metadata": {},
   "outputs": [
    {
     "data": {
      "text/plain": [
       "str"
      ]
     },
     "execution_count": 157,
     "metadata": {},
     "output_type": "execute_result"
    }
   ],
   "source": [
    "type(a[3])"
   ]
  },
  {
   "cell_type": "code",
   "execution_count": 158,
   "id": "2977e9e2",
   "metadata": {},
   "outputs": [
    {
     "data": {
      "text/plain": [
       "[True, 10, 10.1]"
      ]
     },
     "execution_count": 158,
     "metadata": {},
     "output_type": "execute_result"
    }
   ],
   "source": [
    "a[0:3]"
   ]
  },
  {
   "cell_type": "code",
   "execution_count": 159,
   "id": "0856610f",
   "metadata": {},
   "outputs": [
    {
     "data": {
      "text/plain": [
       "list"
      ]
     },
     "execution_count": 159,
     "metadata": {},
     "output_type": "execute_result"
    }
   ],
   "source": [
    "type(a[0:3])"
   ]
  },
  {
   "cell_type": "code",
   "execution_count": 163,
   "id": "78e524b8",
   "metadata": {},
   "outputs": [
    {
     "data": {
      "text/plain": [
       "True"
      ]
     },
     "execution_count": 163,
     "metadata": {},
     "output_type": "execute_result"
    }
   ],
   "source": [
    "a[0:3][0]"
   ]
  },
  {
   "cell_type": "code",
   "execution_count": 164,
   "id": "74017480",
   "metadata": {},
   "outputs": [
    {
     "data": {
      "text/plain": [
       "[True, 10, 10.1, 'Messi', 1, 2, 3]"
      ]
     },
     "execution_count": 164,
     "metadata": {},
     "output_type": "execute_result"
    }
   ],
   "source": [
    "a"
   ]
  },
  {
   "cell_type": "code",
   "execution_count": 165,
   "id": "a478af34",
   "metadata": {},
   "outputs": [
    {
     "data": {
      "text/plain": [
       "[10, 10.1, 'Messi']"
      ]
     },
     "execution_count": 165,
     "metadata": {},
     "output_type": "execute_result"
    }
   ],
   "source": [
    "a[1:4]"
   ]
  },
  {
   "cell_type": "code",
   "execution_count": 174,
   "id": "35619957",
   "metadata": {},
   "outputs": [
    {
     "data": {
      "text/plain": [
       "10"
      ]
     },
     "execution_count": 174,
     "metadata": {},
     "output_type": "execute_result"
    }
   ],
   "source": [
    "a[1:4][0]"
   ]
  },
  {
   "cell_type": "code",
   "execution_count": 170,
   "id": "2f684427",
   "metadata": {},
   "outputs": [],
   "source": [
    "b = a[1:4]"
   ]
  },
  {
   "cell_type": "code",
   "execution_count": 172,
   "id": "37eb8f84",
   "metadata": {},
   "outputs": [
    {
     "data": {
      "text/plain": [
       "[10, 10.1, 'Messi']"
      ]
     },
     "execution_count": 172,
     "metadata": {},
     "output_type": "execute_result"
    }
   ],
   "source": [
    "b"
   ]
  },
  {
   "cell_type": "code",
   "execution_count": 173,
   "id": "e7d02bff",
   "metadata": {},
   "outputs": [
    {
     "data": {
      "text/plain": [
       "10"
      ]
     },
     "execution_count": 173,
     "metadata": {},
     "output_type": "execute_result"
    }
   ],
   "source": [
    "b[0]"
   ]
  },
  {
   "cell_type": "code",
   "execution_count": 178,
   "id": "18b07815",
   "metadata": {},
   "outputs": [
    {
     "data": {
      "text/plain": [
       "[True, 10, 10.1, 'Messi']"
      ]
     },
     "execution_count": 178,
     "metadata": {},
     "output_type": "execute_result"
    }
   ],
   "source": [
    "a[0:4]"
   ]
  },
  {
   "cell_type": "code",
   "execution_count": 179,
   "id": "fea0f500",
   "metadata": {},
   "outputs": [
    {
     "data": {
      "text/plain": [
       "[True, 10, 10.1]"
      ]
     },
     "execution_count": 179,
     "metadata": {},
     "output_type": "execute_result"
    }
   ],
   "source": [
    "a[0:4][0:3]"
   ]
  },
  {
   "cell_type": "code",
   "execution_count": 180,
   "id": "c72fa897",
   "metadata": {},
   "outputs": [
    {
     "data": {
      "text/plain": [
       "[True, 10, 10.1, 'Messi', 1, 2, 3]"
      ]
     },
     "execution_count": 180,
     "metadata": {},
     "output_type": "execute_result"
    }
   ],
   "source": [
    "a"
   ]
  },
  {
   "cell_type": "code",
   "execution_count": 184,
   "id": "81e51747",
   "metadata": {},
   "outputs": [
    {
     "data": {
      "text/plain": [
       "[]"
      ]
     },
     "execution_count": 184,
     "metadata": {},
     "output_type": "execute_result"
    }
   ],
   "source": [
    "a[0:5][0:0]"
   ]
  },
  {
   "cell_type": "code",
   "execution_count": 186,
   "id": "070231e3",
   "metadata": {},
   "outputs": [],
   "source": [
    "c = []"
   ]
  },
  {
   "cell_type": "code",
   "execution_count": 187,
   "id": "92422547",
   "metadata": {},
   "outputs": [
    {
     "data": {
      "text/plain": [
       "[]"
      ]
     },
     "execution_count": 187,
     "metadata": {},
     "output_type": "execute_result"
    }
   ],
   "source": [
    "c"
   ]
  },
  {
   "cell_type": "code",
   "execution_count": 189,
   "id": "930a84a9",
   "metadata": {},
   "outputs": [
    {
     "data": {
      "text/plain": [
       "list"
      ]
     },
     "execution_count": 189,
     "metadata": {},
     "output_type": "execute_result"
    }
   ],
   "source": [
    "type(c)"
   ]
  },
  {
   "cell_type": "code",
   "execution_count": 195,
   "id": "75a5ee2c",
   "metadata": {},
   "outputs": [
    {
     "data": {
      "text/plain": [
       "[True, 10, 10.1, 'Messi', 1, 2, 3]"
      ]
     },
     "execution_count": 195,
     "metadata": {},
     "output_type": "execute_result"
    }
   ],
   "source": [
    "a"
   ]
  },
  {
   "cell_type": "code",
   "execution_count": 196,
   "id": "bd9a99ed",
   "metadata": {},
   "outputs": [
    {
     "data": {
      "text/plain": [
       "[True, 10, 10.1, 'Messi', 1]"
      ]
     },
     "execution_count": 196,
     "metadata": {},
     "output_type": "execute_result"
    }
   ],
   "source": [
    "a[0:5]"
   ]
  },
  {
   "cell_type": "code",
   "execution_count": 197,
   "id": "947c95d6",
   "metadata": {},
   "outputs": [
    {
     "data": {
      "text/plain": [
       "[True, 10, 10.1, 'Messi']"
      ]
     },
     "execution_count": 197,
     "metadata": {},
     "output_type": "execute_result"
    }
   ],
   "source": [
    "a[0:5][0:4]"
   ]
  },
  {
   "cell_type": "code",
   "execution_count": 199,
   "id": "97a60750",
   "metadata": {},
   "outputs": [
    {
     "data": {
      "text/plain": [
       "[True, 10, 10.1]"
      ]
     },
     "execution_count": 199,
     "metadata": {},
     "output_type": "execute_result"
    }
   ],
   "source": [
    "a[0:5][0:4][0:3]"
   ]
  },
  {
   "cell_type": "markdown",
   "id": "a2f5149d",
   "metadata": {},
   "source": [
    "#### Stuff inside "
   ]
  },
  {
   "cell_type": "code",
   "execution_count": 200,
   "id": "4831b7d7",
   "metadata": {},
   "outputs": [],
   "source": [
    "a = [True, 10, 10.1, 'Messi', [10,20,30], [11,23,45]]"
   ]
  },
  {
   "cell_type": "code",
   "execution_count": 202,
   "id": "57d8bf3c",
   "metadata": {},
   "outputs": [
    {
     "data": {
      "text/plain": [
       "list"
      ]
     },
     "execution_count": 202,
     "metadata": {},
     "output_type": "execute_result"
    }
   ],
   "source": [
    "type(a)"
   ]
  },
  {
   "cell_type": "code",
   "execution_count": 203,
   "id": "35b5e129",
   "metadata": {},
   "outputs": [
    {
     "data": {
      "text/plain": [
       "[11, 23, 45]"
      ]
     },
     "execution_count": 203,
     "metadata": {},
     "output_type": "execute_result"
    }
   ],
   "source": [
    "a[-1]"
   ]
  },
  {
   "cell_type": "code",
   "execution_count": 204,
   "id": "5c69ed66",
   "metadata": {},
   "outputs": [
    {
     "data": {
      "text/plain": [
       "list"
      ]
     },
     "execution_count": 204,
     "metadata": {},
     "output_type": "execute_result"
    }
   ],
   "source": [
    "type(a[-1])"
   ]
  },
  {
   "cell_type": "code",
   "execution_count": 207,
   "id": "ae71d31a",
   "metadata": {},
   "outputs": [
    {
     "data": {
      "text/plain": [
       "11"
      ]
     },
     "execution_count": 207,
     "metadata": {},
     "output_type": "execute_result"
    }
   ],
   "source": [
    "a[-1][0]"
   ]
  },
  {
   "cell_type": "markdown",
   "id": "e0efa0a9",
   "metadata": {},
   "source": [
    "# Item assignment"
   ]
  },
  {
   "cell_type": "code",
   "execution_count": 208,
   "id": "c85f6c8f",
   "metadata": {},
   "outputs": [],
   "source": [
    "a = [1,2,3,4]"
   ]
  },
  {
   "cell_type": "code",
   "execution_count": 210,
   "id": "5efd2e83",
   "metadata": {},
   "outputs": [
    {
     "data": {
      "text/plain": [
       "[1, 2, 3, 4]"
      ]
     },
     "execution_count": 210,
     "metadata": {},
     "output_type": "execute_result"
    }
   ],
   "source": [
    "a"
   ]
  },
  {
   "cell_type": "code",
   "execution_count": 211,
   "id": "1e06a175",
   "metadata": {},
   "outputs": [
    {
     "data": {
      "text/plain": [
       "1"
      ]
     },
     "execution_count": 211,
     "metadata": {},
     "output_type": "execute_result"
    }
   ],
   "source": [
    "a[0]"
   ]
  },
  {
   "cell_type": "code",
   "execution_count": 212,
   "id": "bef7f61d",
   "metadata": {},
   "outputs": [],
   "source": [
    "a[0] =10"
   ]
  },
  {
   "cell_type": "code",
   "execution_count": 213,
   "id": "a072e1ea",
   "metadata": {},
   "outputs": [
    {
     "data": {
      "text/plain": [
       "[10, 2, 3, 4]"
      ]
     },
     "execution_count": 213,
     "metadata": {},
     "output_type": "execute_result"
    }
   ],
   "source": [
    "a"
   ]
  },
  {
   "cell_type": "markdown",
   "id": "bcacbd3e",
   "metadata": {},
   "source": [
    "# Tuples\n",
    "You can't overwrite stuff"
   ]
  },
  {
   "cell_type": "code",
   "execution_count": 224,
   "id": "b2454194",
   "metadata": {},
   "outputs": [],
   "source": [
    "a = (1,2,3,4,5, True, 'Hello', 10.1, [1,2,3], (10,20,30))"
   ]
  },
  {
   "cell_type": "code",
   "execution_count": 225,
   "id": "bef0af5d",
   "metadata": {},
   "outputs": [
    {
     "data": {
      "text/plain": [
       "(1, 2, 3, 4, 5, True, 'Hello', 10.1, [1, 2, 3], (10, 20, 30))"
      ]
     },
     "execution_count": 225,
     "metadata": {},
     "output_type": "execute_result"
    }
   ],
   "source": [
    "a"
   ]
  },
  {
   "cell_type": "code",
   "execution_count": 226,
   "id": "4912ab40",
   "metadata": {},
   "outputs": [
    {
     "data": {
      "text/plain": [
       "tuple"
      ]
     },
     "execution_count": 226,
     "metadata": {},
     "output_type": "execute_result"
    }
   ],
   "source": [
    "type(a)"
   ]
  },
  {
   "cell_type": "code",
   "execution_count": 227,
   "id": "a4f94979",
   "metadata": {},
   "outputs": [
    {
     "data": {
      "text/plain": [
       "1"
      ]
     },
     "execution_count": 227,
     "metadata": {},
     "output_type": "execute_result"
    }
   ],
   "source": [
    "a[0]"
   ]
  },
  {
   "cell_type": "code",
   "execution_count": 229,
   "id": "b116c8e8",
   "metadata": {},
   "outputs": [
    {
     "data": {
      "text/plain": [
       "(10, 20, 30)"
      ]
     },
     "execution_count": 229,
     "metadata": {},
     "output_type": "execute_result"
    }
   ],
   "source": [
    "a[-1]"
   ]
  },
  {
   "cell_type": "code",
   "execution_count": 230,
   "id": "1b8cd95c",
   "metadata": {},
   "outputs": [
    {
     "data": {
      "text/plain": [
       "tuple"
      ]
     },
     "execution_count": 230,
     "metadata": {},
     "output_type": "execute_result"
    }
   ],
   "source": [
    "type(a[-1])"
   ]
  },
  {
   "cell_type": "code",
   "execution_count": 221,
   "id": "dabd2437",
   "metadata": {},
   "outputs": [
    {
     "data": {
      "text/plain": [
       "(1, 2, 3)"
      ]
     },
     "execution_count": 221,
     "metadata": {},
     "output_type": "execute_result"
    }
   ],
   "source": [
    "a[0:3]"
   ]
  },
  {
   "cell_type": "code",
   "execution_count": 231,
   "id": "fced7f21",
   "metadata": {},
   "outputs": [
    {
     "ename": "TypeError",
     "evalue": "'tuple' object does not support item assignment",
     "output_type": "error",
     "traceback": [
      "\u001b[0;31m---------------------------------------------------------------------------\u001b[0m",
      "\u001b[0;31mTypeError\u001b[0m                                 Traceback (most recent call last)",
      "\u001b[0;32m/var/folders/qm/dbhwkv990ggf8k64763bvn1w0000gn/T/ipykernel_92671/2539478077.py\u001b[0m in \u001b[0;36m<module>\u001b[0;34m\u001b[0m\n\u001b[0;32m----> 1\u001b[0;31m \u001b[0ma\u001b[0m\u001b[0;34m[\u001b[0m\u001b[0;36m0\u001b[0m\u001b[0;34m]\u001b[0m \u001b[0;34m=\u001b[0m \u001b[0;36m10\u001b[0m\u001b[0;34m\u001b[0m\u001b[0;34m\u001b[0m\u001b[0m\n\u001b[0m",
      "\u001b[0;31mTypeError\u001b[0m: 'tuple' object does not support item assignment"
     ]
    }
   ],
   "source": [
    "a[0] = 10"
   ]
  },
  {
   "cell_type": "code",
   "execution_count": 232,
   "id": "c5dcc31f",
   "metadata": {},
   "outputs": [
    {
     "data": {
      "text/plain": [
       "(1, 2, 3, 4, 5, True, 'Hello', 10.1, [1, 2, 3], (10, 20, 30))"
      ]
     },
     "execution_count": 232,
     "metadata": {},
     "output_type": "execute_result"
    }
   ],
   "source": [
    "a"
   ]
  },
  {
   "cell_type": "code",
   "execution_count": 235,
   "id": "be73754f",
   "metadata": {},
   "outputs": [
    {
     "ename": "TypeError",
     "evalue": "'tuple' object does not support item assignment",
     "output_type": "error",
     "traceback": [
      "\u001b[0;31m---------------------------------------------------------------------------\u001b[0m",
      "\u001b[0;31mTypeError\u001b[0m                                 Traceback (most recent call last)",
      "\u001b[0;32m/var/folders/qm/dbhwkv990ggf8k64763bvn1w0000gn/T/ipykernel_92671/808014107.py\u001b[0m in \u001b[0;36m<module>\u001b[0;34m\u001b[0m\n\u001b[0;32m----> 1\u001b[0;31m \u001b[0ma\u001b[0m\u001b[0;34m[\u001b[0m\u001b[0;36m1\u001b[0m\u001b[0;34m]\u001b[0m \u001b[0;34m=\u001b[0m \u001b[0;36m20\u001b[0m\u001b[0;34m\u001b[0m\u001b[0;34m\u001b[0m\u001b[0m\n\u001b[0m",
      "\u001b[0;31mTypeError\u001b[0m: 'tuple' object does not support item assignment"
     ]
    }
   ],
   "source": [
    "a[1] = 20"
   ]
  },
  {
   "cell_type": "code",
   "execution_count": 237,
   "id": "9929d6ec",
   "metadata": {},
   "outputs": [
    {
     "data": {
      "text/plain": [
       "[1, 2, 3]"
      ]
     },
     "execution_count": 237,
     "metadata": {},
     "output_type": "execute_result"
    }
   ],
   "source": [
    "a[-2]"
   ]
  },
  {
   "cell_type": "code",
   "execution_count": 238,
   "id": "2e822b7f",
   "metadata": {},
   "outputs": [
    {
     "data": {
      "text/plain": [
       "list"
      ]
     },
     "execution_count": 238,
     "metadata": {},
     "output_type": "execute_result"
    }
   ],
   "source": [
    "type(a[-2])"
   ]
  },
  {
   "cell_type": "markdown",
   "id": "0b7f60e4",
   "metadata": {},
   "source": [
    "# Sets "
   ]
  },
  {
   "cell_type": "code",
   "execution_count": 1,
   "id": "9f0f8ca2",
   "metadata": {},
   "outputs": [],
   "source": [
    "a = {1,2,3,5.5,6.3647,True, 'Hello world'}"
   ]
  },
  {
   "cell_type": "code",
   "execution_count": 2,
   "id": "686787e0",
   "metadata": {},
   "outputs": [
    {
     "data": {
      "text/plain": [
       "{1, 2, 3, 5.5, 6.3647, 'Hello world'}"
      ]
     },
     "execution_count": 2,
     "metadata": {},
     "output_type": "execute_result"
    }
   ],
   "source": [
    "a"
   ]
  },
  {
   "cell_type": "code",
   "execution_count": 4,
   "id": "efb5de56",
   "metadata": {},
   "outputs": [
    {
     "data": {
      "text/plain": [
       "set"
      ]
     },
     "execution_count": 4,
     "metadata": {},
     "output_type": "execute_result"
    }
   ],
   "source": [
    "type(a)"
   ]
  },
  {
   "cell_type": "code",
   "execution_count": 6,
   "id": "ccf45f94",
   "metadata": {},
   "outputs": [
    {
     "ename": "TypeError",
     "evalue": "'set' object is not subscriptable",
     "output_type": "error",
     "traceback": [
      "\u001b[0;31m---------------------------------------------------------------------------\u001b[0m",
      "\u001b[0;31mTypeError\u001b[0m                                 Traceback (most recent call last)",
      "\u001b[0;32m/var/folders/qm/dbhwkv990ggf8k64763bvn1w0000gn/T/ipykernel_20703/1109539928.py\u001b[0m in \u001b[0;36m<module>\u001b[0;34m\u001b[0m\n\u001b[0;32m----> 1\u001b[0;31m \u001b[0ma\u001b[0m\u001b[0;34m[\u001b[0m\u001b[0;36m0\u001b[0m\u001b[0;34m]\u001b[0m\u001b[0;34m\u001b[0m\u001b[0;34m\u001b[0m\u001b[0m\n\u001b[0m",
      "\u001b[0;31mTypeError\u001b[0m: 'set' object is not subscriptable"
     ]
    }
   ],
   "source": [
    "a[0]"
   ]
  },
  {
   "cell_type": "code",
   "execution_count": 14,
   "id": "176e4cf9",
   "metadata": {},
   "outputs": [],
   "source": [
    "a = {0, 1,1,1,2,2,5,5,5,5, False, \"hello\", \"hello\", \"Hello\", True}"
   ]
  },
  {
   "cell_type": "code",
   "execution_count": 16,
   "id": "39ece7dc",
   "metadata": {},
   "outputs": [
    {
     "data": {
      "text/plain": [
       "{0, 1, 2, 5, 'Hello', 'hello'}"
      ]
     },
     "execution_count": 16,
     "metadata": {},
     "output_type": "execute_result"
    }
   ],
   "source": [
    "a"
   ]
  },
  {
   "cell_type": "code",
   "execution_count": 17,
   "id": "5ee2a40b",
   "metadata": {},
   "outputs": [],
   "source": [
    "a = {1,2,3}\n",
    "b = {3,4,5}"
   ]
  },
  {
   "cell_type": "code",
   "execution_count": 19,
   "id": "1c4635a1",
   "metadata": {},
   "outputs": [
    {
     "data": {
      "text/plain": [
       "{3}"
      ]
     },
     "execution_count": 19,
     "metadata": {},
     "output_type": "execute_result"
    }
   ],
   "source": [
    "a.intersection(b)"
   ]
  },
  {
   "cell_type": "code",
   "execution_count": 21,
   "id": "ccb99ca3",
   "metadata": {},
   "outputs": [
    {
     "data": {
      "text/plain": [
       "{1, 2, 3, 4, 5}"
      ]
     },
     "execution_count": 21,
     "metadata": {},
     "output_type": "execute_result"
    }
   ],
   "source": [
    "a.union(b)"
   ]
  },
  {
   "cell_type": "markdown",
   "id": "9dcaff2c",
   "metadata": {},
   "source": [
    "# Dictionaries"
   ]
  },
  {
   "cell_type": "markdown",
   "id": "5a909341",
   "metadata": {},
   "source": [
    "You can't have ```list``` as keys"
   ]
  },
  {
   "cell_type": "code",
   "execution_count": 22,
   "id": "6995d8fa",
   "metadata": {},
   "outputs": [],
   "source": [
    "a = {'key1':10,'key2':100, 'key3':True, 'key4':'This is a string'}"
   ]
  },
  {
   "cell_type": "code",
   "execution_count": 23,
   "id": "0e64a760",
   "metadata": {},
   "outputs": [
    {
     "data": {
      "text/plain": [
       "True"
      ]
     },
     "execution_count": 23,
     "metadata": {},
     "output_type": "execute_result"
    }
   ],
   "source": [
    "a['key3']"
   ]
  },
  {
   "cell_type": "code",
   "execution_count": 25,
   "id": "74dbcced",
   "metadata": {},
   "outputs": [
    {
     "data": {
      "text/plain": [
       "bool"
      ]
     },
     "execution_count": 25,
     "metadata": {},
     "output_type": "execute_result"
    }
   ],
   "source": [
    "type(a['key3'])"
   ]
  },
  {
   "cell_type": "code",
   "execution_count": 27,
   "id": "f9ad9b2f",
   "metadata": {},
   "outputs": [
    {
     "data": {
      "text/plain": [
       "10"
      ]
     },
     "execution_count": 27,
     "metadata": {},
     "output_type": "execute_result"
    }
   ],
   "source": [
    "a['key1']"
   ]
  },
  {
   "cell_type": "code",
   "execution_count": 28,
   "id": "96c176f1",
   "metadata": {},
   "outputs": [
    {
     "ename": "KeyError",
     "evalue": "'key5'",
     "output_type": "error",
     "traceback": [
      "\u001b[0;31m---------------------------------------------------------------------------\u001b[0m",
      "\u001b[0;31mKeyError\u001b[0m                                  Traceback (most recent call last)",
      "\u001b[0;32m/var/folders/qm/dbhwkv990ggf8k64763bvn1w0000gn/T/ipykernel_20703/2863994788.py\u001b[0m in \u001b[0;36m<module>\u001b[0;34m\u001b[0m\n\u001b[0;32m----> 1\u001b[0;31m \u001b[0ma\u001b[0m\u001b[0;34m[\u001b[0m\u001b[0;34m'key5'\u001b[0m\u001b[0;34m]\u001b[0m\u001b[0;34m\u001b[0m\u001b[0;34m\u001b[0m\u001b[0m\n\u001b[0m",
      "\u001b[0;31mKeyError\u001b[0m: 'key5'"
     ]
    }
   ],
   "source": [
    "a['key5']"
   ]
  },
  {
   "cell_type": "code",
   "execution_count": 29,
   "id": "7e3f985a",
   "metadata": {},
   "outputs": [],
   "source": [
    "a = {'key1':10,'key2':100, 'key2':500}"
   ]
  },
  {
   "cell_type": "code",
   "execution_count": 31,
   "id": "bdd36ac3",
   "metadata": {},
   "outputs": [
    {
     "data": {
      "text/plain": [
       "{'key1': 10, 'key2': 500}"
      ]
     },
     "execution_count": 31,
     "metadata": {},
     "output_type": "execute_result"
    }
   ],
   "source": [
    "a"
   ]
  },
  {
   "cell_type": "code",
   "execution_count": 33,
   "id": "f6dfe229",
   "metadata": {},
   "outputs": [
    {
     "data": {
      "text/plain": [
       "dict_keys(['key1', 'key2'])"
      ]
     },
     "execution_count": 33,
     "metadata": {},
     "output_type": "execute_result"
    }
   ],
   "source": [
    "a.keys()"
   ]
  },
  {
   "cell_type": "code",
   "execution_count": 34,
   "id": "573cdacc",
   "metadata": {},
   "outputs": [
    {
     "data": {
      "text/plain": [
       "dict_values([10, 500])"
      ]
     },
     "execution_count": 34,
     "metadata": {},
     "output_type": "execute_result"
    }
   ],
   "source": [
    "a.values()"
   ]
  },
  {
   "cell_type": "code",
   "execution_count": 36,
   "id": "c92d76e6",
   "metadata": {},
   "outputs": [
    {
     "data": {
      "text/plain": [
       "dict_items([('key1', 10), ('key2', 500)])"
      ]
     },
     "execution_count": 36,
     "metadata": {},
     "output_type": "execute_result"
    }
   ],
   "source": [
    "a.items()"
   ]
  },
  {
   "cell_type": "code",
   "execution_count": 39,
   "id": "c0cd3bdd",
   "metadata": {},
   "outputs": [],
   "source": [
    "a.get('key3')"
   ]
  },
  {
   "cell_type": "code",
   "execution_count": 41,
   "id": "7b159744",
   "metadata": {},
   "outputs": [
    {
     "data": {
      "text/plain": [
       "500"
      ]
     },
     "execution_count": 41,
     "metadata": {},
     "output_type": "execute_result"
    }
   ],
   "source": [
    "a.pop('key2')"
   ]
  },
  {
   "cell_type": "code",
   "execution_count": 42,
   "id": "7c7abe05",
   "metadata": {},
   "outputs": [
    {
     "data": {
      "text/plain": [
       "{'key1': 10}"
      ]
     },
     "execution_count": 42,
     "metadata": {},
     "output_type": "execute_result"
    }
   ],
   "source": [
    "a"
   ]
  },
  {
   "cell_type": "markdown",
   "id": "50f2a22b",
   "metadata": {},
   "source": [
    "# Converting stuff"
   ]
  },
  {
   "cell_type": "code",
   "execution_count": 43,
   "id": "aa3183cc",
   "metadata": {},
   "outputs": [],
   "source": [
    "a = 10"
   ]
  },
  {
   "cell_type": "code",
   "execution_count": 44,
   "id": "d22944fb",
   "metadata": {},
   "outputs": [
    {
     "data": {
      "text/plain": [
       "'10'"
      ]
     },
     "execution_count": 44,
     "metadata": {},
     "output_type": "execute_result"
    }
   ],
   "source": [
    "str(a)"
   ]
  },
  {
   "cell_type": "code",
   "execution_count": 45,
   "id": "9d4cad4d",
   "metadata": {},
   "outputs": [
    {
     "data": {
      "text/plain": [
       "int"
      ]
     },
     "execution_count": 45,
     "metadata": {},
     "output_type": "execute_result"
    }
   ],
   "source": [
    "type(a)"
   ]
  },
  {
   "cell_type": "code",
   "execution_count": 46,
   "id": "a13de679",
   "metadata": {},
   "outputs": [
    {
     "data": {
      "text/plain": [
       "10.0"
      ]
     },
     "execution_count": 46,
     "metadata": {},
     "output_type": "execute_result"
    }
   ],
   "source": [
    "float(10)"
   ]
  },
  {
   "cell_type": "code",
   "execution_count": 53,
   "id": "9266cbbc",
   "metadata": {},
   "outputs": [],
   "source": [
    "a = '55a'"
   ]
  },
  {
   "cell_type": "code",
   "execution_count": 54,
   "id": "b7be9afc",
   "metadata": {},
   "outputs": [
    {
     "data": {
      "text/plain": [
       "'55a'"
      ]
     },
     "execution_count": 54,
     "metadata": {},
     "output_type": "execute_result"
    }
   ],
   "source": [
    "a"
   ]
  },
  {
   "cell_type": "code",
   "execution_count": 55,
   "id": "54f88950",
   "metadata": {},
   "outputs": [
    {
     "data": {
      "text/plain": [
       "str"
      ]
     },
     "execution_count": 55,
     "metadata": {},
     "output_type": "execute_result"
    }
   ],
   "source": [
    "type(a)"
   ]
  },
  {
   "cell_type": "code",
   "execution_count": 57,
   "id": "c2537cee",
   "metadata": {},
   "outputs": [
    {
     "ename": "ValueError",
     "evalue": "invalid literal for int() with base 10: '55a'",
     "output_type": "error",
     "traceback": [
      "\u001b[0;31m---------------------------------------------------------------------------\u001b[0m",
      "\u001b[0;31mValueError\u001b[0m                                Traceback (most recent call last)",
      "\u001b[0;32m/var/folders/qm/dbhwkv990ggf8k64763bvn1w0000gn/T/ipykernel_20703/766485689.py\u001b[0m in \u001b[0;36m<module>\u001b[0;34m\u001b[0m\n\u001b[0;32m----> 1\u001b[0;31m \u001b[0mint\u001b[0m\u001b[0;34m(\u001b[0m\u001b[0ma\u001b[0m\u001b[0;34m)\u001b[0m\u001b[0;34m\u001b[0m\u001b[0;34m\u001b[0m\u001b[0m\n\u001b[0m",
      "\u001b[0;31mValueError\u001b[0m: invalid literal for int() with base 10: '55a'"
     ]
    }
   ],
   "source": [
    "int(a)"
   ]
  },
  {
   "cell_type": "code",
   "execution_count": 72,
   "id": "e6cdff5b",
   "metadata": {},
   "outputs": [],
   "source": [
    "a = '10.1'"
   ]
  },
  {
   "cell_type": "code",
   "execution_count": 73,
   "id": "c9becda7",
   "metadata": {},
   "outputs": [
    {
     "data": {
      "text/plain": [
       "'10.1'"
      ]
     },
     "execution_count": 73,
     "metadata": {},
     "output_type": "execute_result"
    }
   ],
   "source": [
    "a"
   ]
  },
  {
   "cell_type": "code",
   "execution_count": 74,
   "id": "183ba63f",
   "metadata": {},
   "outputs": [
    {
     "data": {
      "text/plain": [
       "str"
      ]
     },
     "execution_count": 74,
     "metadata": {},
     "output_type": "execute_result"
    }
   ],
   "source": [
    "type(a)"
   ]
  },
  {
   "cell_type": "code",
   "execution_count": 76,
   "id": "264efc8f",
   "metadata": {},
   "outputs": [
    {
     "ename": "ValueError",
     "evalue": "invalid literal for int() with base 10: '10.1'",
     "output_type": "error",
     "traceback": [
      "\u001b[0;31m---------------------------------------------------------------------------\u001b[0m",
      "\u001b[0;31mValueError\u001b[0m                                Traceback (most recent call last)",
      "\u001b[0;32m/var/folders/qm/dbhwkv990ggf8k64763bvn1w0000gn/T/ipykernel_20703/766485689.py\u001b[0m in \u001b[0;36m<module>\u001b[0;34m\u001b[0m\n\u001b[0;32m----> 1\u001b[0;31m \u001b[0mint\u001b[0m\u001b[0;34m(\u001b[0m\u001b[0ma\u001b[0m\u001b[0;34m)\u001b[0m\u001b[0;34m\u001b[0m\u001b[0;34m\u001b[0m\u001b[0m\n\u001b[0m",
      "\u001b[0;31mValueError\u001b[0m: invalid literal for int() with base 10: '10.1'"
     ]
    }
   ],
   "source": [
    "int(a)"
   ]
  },
  {
   "cell_type": "code",
   "execution_count": 78,
   "id": "731fd7c3",
   "metadata": {},
   "outputs": [
    {
     "data": {
      "text/plain": [
       "10.1"
      ]
     },
     "execution_count": 78,
     "metadata": {},
     "output_type": "execute_result"
    }
   ],
   "source": [
    "float(a)"
   ]
  },
  {
   "cell_type": "code",
   "execution_count": 80,
   "id": "2de1b39f",
   "metadata": {},
   "outputs": [
    {
     "data": {
      "text/plain": [
       "'10.1'"
      ]
     },
     "execution_count": 80,
     "metadata": {},
     "output_type": "execute_result"
    }
   ],
   "source": [
    "a"
   ]
  },
  {
   "cell_type": "code",
   "execution_count": 82,
   "id": "c4d78b2d",
   "metadata": {},
   "outputs": [
    {
     "data": {
      "text/plain": [
       "10"
      ]
     },
     "execution_count": 82,
     "metadata": {},
     "output_type": "execute_result"
    }
   ],
   "source": [
    "int(float(a))"
   ]
  },
  {
   "cell_type": "code",
   "execution_count": 68,
   "id": "009e0e9b",
   "metadata": {},
   "outputs": [],
   "source": [
    "b = 10.9"
   ]
  },
  {
   "cell_type": "code",
   "execution_count": 69,
   "id": "0f37db8c",
   "metadata": {},
   "outputs": [
    {
     "data": {
      "text/plain": [
       "10.9"
      ]
     },
     "execution_count": 69,
     "metadata": {},
     "output_type": "execute_result"
    }
   ],
   "source": [
    "b"
   ]
  },
  {
   "cell_type": "code",
   "execution_count": 70,
   "id": "44659265",
   "metadata": {},
   "outputs": [
    {
     "data": {
      "text/plain": [
       "float"
      ]
     },
     "execution_count": 70,
     "metadata": {},
     "output_type": "execute_result"
    }
   ],
   "source": [
    "type(b)"
   ]
  },
  {
   "cell_type": "code",
   "execution_count": 71,
   "id": "1f050060",
   "metadata": {},
   "outputs": [
    {
     "data": {
      "text/plain": [
       "10"
      ]
     },
     "execution_count": 71,
     "metadata": {},
     "output_type": "execute_result"
    }
   ],
   "source": [
    "int(b)"
   ]
  },
  {
   "cell_type": "code",
   "execution_count": 96,
   "id": "fb3219a2",
   "metadata": {},
   "outputs": [],
   "source": [
    "a = True"
   ]
  },
  {
   "cell_type": "code",
   "execution_count": 97,
   "id": "f4afa5f3",
   "metadata": {},
   "outputs": [
    {
     "data": {
      "text/plain": [
       "True"
      ]
     },
     "execution_count": 97,
     "metadata": {},
     "output_type": "execute_result"
    }
   ],
   "source": [
    "a"
   ]
  },
  {
   "cell_type": "code",
   "execution_count": 98,
   "id": "4e62e8bb",
   "metadata": {},
   "outputs": [
    {
     "data": {
      "text/plain": [
       "bool"
      ]
     },
     "execution_count": 98,
     "metadata": {},
     "output_type": "execute_result"
    }
   ],
   "source": [
    "type(a)"
   ]
  },
  {
   "cell_type": "code",
   "execution_count": 99,
   "id": "7bb632f7",
   "metadata": {},
   "outputs": [
    {
     "data": {
      "text/plain": [
       "'True'"
      ]
     },
     "execution_count": 99,
     "metadata": {},
     "output_type": "execute_result"
    }
   ],
   "source": [
    "str(a)"
   ]
  },
  {
   "cell_type": "code",
   "execution_count": 100,
   "id": "4fbd8b32",
   "metadata": {},
   "outputs": [
    {
     "data": {
      "text/plain": [
       "1"
      ]
     },
     "execution_count": 100,
     "metadata": {},
     "output_type": "execute_result"
    }
   ],
   "source": [
    "int(a)"
   ]
  },
  {
   "cell_type": "code",
   "execution_count": 101,
   "id": "92dcc2e6",
   "metadata": {},
   "outputs": [
    {
     "data": {
      "text/plain": [
       "1.0"
      ]
     },
     "execution_count": 101,
     "metadata": {},
     "output_type": "execute_result"
    }
   ],
   "source": [
    "float(a)"
   ]
  },
  {
   "cell_type": "code",
   "execution_count": 103,
   "id": "7118312a",
   "metadata": {},
   "outputs": [],
   "source": [
    "a = [1,2,3]"
   ]
  },
  {
   "cell_type": "code",
   "execution_count": 108,
   "id": "709157b7",
   "metadata": {},
   "outputs": [
    {
     "data": {
      "text/plain": [
       "list"
      ]
     },
     "execution_count": 108,
     "metadata": {},
     "output_type": "execute_result"
    }
   ],
   "source": [
    "type(a)"
   ]
  },
  {
   "cell_type": "code",
   "execution_count": 111,
   "id": "4acea364",
   "metadata": {},
   "outputs": [
    {
     "data": {
      "text/plain": [
       "'[1, 2, 3]'"
      ]
     },
     "execution_count": 111,
     "metadata": {},
     "output_type": "execute_result"
    }
   ],
   "source": [
    "str(a)"
   ]
  },
  {
   "cell_type": "code",
   "execution_count": 112,
   "id": "96415d58",
   "metadata": {},
   "outputs": [
    {
     "data": {
      "text/plain": [
       "','"
      ]
     },
     "execution_count": 112,
     "metadata": {},
     "output_type": "execute_result"
    }
   ],
   "source": [
    "str(a)[2]"
   ]
  },
  {
   "cell_type": "code",
   "execution_count": 107,
   "id": "5bd0fe26",
   "metadata": {},
   "outputs": [
    {
     "data": {
      "text/plain": [
       "'['"
      ]
     },
     "execution_count": 107,
     "metadata": {},
     "output_type": "execute_result"
    }
   ],
   "source": [
    "str(a)[0]"
   ]
  },
  {
   "cell_type": "code",
   "execution_count": 116,
   "id": "d09b0023",
   "metadata": {},
   "outputs": [
    {
     "ename": "TypeError",
     "evalue": "unsupported operand type(s) for /: 'str' and 'str'",
     "output_type": "error",
     "traceback": [
      "\u001b[0;31m---------------------------------------------------------------------------\u001b[0m",
      "\u001b[0;31mTypeError\u001b[0m                                 Traceback (most recent call last)",
      "\u001b[0;32m/var/folders/qm/dbhwkv990ggf8k64763bvn1w0000gn/T/ipykernel_20703/3890486728.py\u001b[0m in \u001b[0;36m<module>\u001b[0;34m\u001b[0m\n\u001b[0;32m----> 1\u001b[0;31m \u001b[0;34m'This is a string'\u001b[0m \u001b[0;34m/\u001b[0m \u001b[0;34m'This is another string'\u001b[0m\u001b[0;34m\u001b[0m\u001b[0;34m\u001b[0m\u001b[0m\n\u001b[0m",
      "\u001b[0;31mTypeError\u001b[0m: unsupported operand type(s) for /: 'str' and 'str'"
     ]
    }
   ],
   "source": [
    "'This is a string' / 'This is another string'"
   ]
  },
  {
   "cell_type": "markdown",
   "id": "4d2582a7",
   "metadata": {},
   "source": [
    "# List copying"
   ]
  },
  {
   "cell_type": "code",
   "execution_count": 126,
   "id": "321e4774",
   "metadata": {},
   "outputs": [],
   "source": [
    "a = [1,2,3]"
   ]
  },
  {
   "cell_type": "code",
   "execution_count": 127,
   "id": "978a4774",
   "metadata": {},
   "outputs": [],
   "source": [
    "b = a"
   ]
  },
  {
   "cell_type": "code",
   "execution_count": 128,
   "id": "10715b5c",
   "metadata": {},
   "outputs": [],
   "source": [
    "c = a"
   ]
  },
  {
   "cell_type": "code",
   "execution_count": 130,
   "id": "e910f2ae",
   "metadata": {},
   "outputs": [],
   "source": [
    "d = a"
   ]
  },
  {
   "cell_type": "code",
   "execution_count": 132,
   "id": "19451f42",
   "metadata": {},
   "outputs": [
    {
     "data": {
      "text/plain": [
       "1"
      ]
     },
     "execution_count": 132,
     "metadata": {},
     "output_type": "execute_result"
    }
   ],
   "source": [
    "c[0]"
   ]
  },
  {
   "cell_type": "code",
   "execution_count": 133,
   "id": "ac9020cc",
   "metadata": {},
   "outputs": [],
   "source": [
    "c[0] = 'True'"
   ]
  },
  {
   "cell_type": "code",
   "execution_count": 134,
   "id": "335a06c7",
   "metadata": {},
   "outputs": [
    {
     "data": {
      "text/plain": [
       "['True', 2, 3]"
      ]
     },
     "execution_count": 134,
     "metadata": {},
     "output_type": "execute_result"
    }
   ],
   "source": [
    "a"
   ]
  },
  {
   "cell_type": "code",
   "execution_count": 135,
   "id": "529f10cc",
   "metadata": {},
   "outputs": [
    {
     "data": {
      "text/plain": [
       "['True', 2, 3]"
      ]
     },
     "execution_count": 135,
     "metadata": {},
     "output_type": "execute_result"
    }
   ],
   "source": [
    "b"
   ]
  },
  {
   "cell_type": "code",
   "execution_count": 136,
   "id": "d2941d95",
   "metadata": {},
   "outputs": [
    {
     "data": {
      "text/plain": [
       "['True', 2, 3]"
      ]
     },
     "execution_count": 136,
     "metadata": {},
     "output_type": "execute_result"
    }
   ],
   "source": [
    "c"
   ]
  },
  {
   "cell_type": "code",
   "execution_count": 137,
   "id": "606cbc34",
   "metadata": {},
   "outputs": [
    {
     "data": {
      "text/plain": [
       "['True', 2, 3]"
      ]
     },
     "execution_count": 137,
     "metadata": {},
     "output_type": "execute_result"
    }
   ],
   "source": [
    "d"
   ]
  },
  {
   "cell_type": "code",
   "execution_count": 138,
   "id": "13ec24d9",
   "metadata": {},
   "outputs": [],
   "source": [
    "b = a.copy()"
   ]
  },
  {
   "cell_type": "code",
   "execution_count": 140,
   "id": "b102531a",
   "metadata": {},
   "outputs": [
    {
     "data": {
      "text/plain": [
       "['True', 2, 3]"
      ]
     },
     "execution_count": 140,
     "metadata": {},
     "output_type": "execute_result"
    }
   ],
   "source": [
    "a"
   ]
  },
  {
   "cell_type": "code",
   "execution_count": 142,
   "id": "f0d3db11",
   "metadata": {},
   "outputs": [
    {
     "data": {
      "text/plain": [
       "['True', 2, 3]"
      ]
     },
     "execution_count": 142,
     "metadata": {},
     "output_type": "execute_result"
    }
   ],
   "source": [
    "b"
   ]
  },
  {
   "cell_type": "code",
   "execution_count": 143,
   "id": "17ab7377",
   "metadata": {},
   "outputs": [],
   "source": [
    "a[1] = 200"
   ]
  },
  {
   "cell_type": "code",
   "execution_count": 145,
   "id": "bb9f4462",
   "metadata": {},
   "outputs": [
    {
     "data": {
      "text/plain": [
       "['True', 200, 3]"
      ]
     },
     "execution_count": 145,
     "metadata": {},
     "output_type": "execute_result"
    }
   ],
   "source": [
    "a"
   ]
  },
  {
   "cell_type": "code",
   "execution_count": 146,
   "id": "68b8a186",
   "metadata": {},
   "outputs": [
    {
     "data": {
      "text/plain": [
       "['True', 2, 3]"
      ]
     },
     "execution_count": 146,
     "metadata": {},
     "output_type": "execute_result"
    }
   ],
   "source": [
    "b"
   ]
  },
  {
   "cell_type": "code",
   "execution_count": null,
   "id": "60b41423",
   "metadata": {},
   "outputs": [],
   "source": []
  },
  {
   "cell_type": "code",
   "execution_count": 120,
   "id": "0668193e",
   "metadata": {},
   "outputs": [
    {
     "data": {
      "text/plain": [
       "[1, 2, 3]"
      ]
     },
     "execution_count": 120,
     "metadata": {},
     "output_type": "execute_result"
    }
   ],
   "source": [
    "b"
   ]
  },
  {
   "cell_type": "code",
   "execution_count": 121,
   "id": "c9a0853f",
   "metadata": {},
   "outputs": [
    {
     "data": {
      "text/plain": [
       "list"
      ]
     },
     "execution_count": 121,
     "metadata": {},
     "output_type": "execute_result"
    }
   ],
   "source": [
    "type(b)"
   ]
  },
  {
   "cell_type": "code",
   "execution_count": 123,
   "id": "7084b69a",
   "metadata": {},
   "outputs": [],
   "source": [
    "b[0] = 100"
   ]
  },
  {
   "cell_type": "code",
   "execution_count": 124,
   "id": "ff1b3364",
   "metadata": {},
   "outputs": [
    {
     "data": {
      "text/plain": [
       "[100, 2, 3]"
      ]
     },
     "execution_count": 124,
     "metadata": {},
     "output_type": "execute_result"
    }
   ],
   "source": [
    "b"
   ]
  },
  {
   "cell_type": "code",
   "execution_count": 125,
   "id": "d6bfd040",
   "metadata": {},
   "outputs": [
    {
     "data": {
      "text/plain": [
       "[100, 2, 3]"
      ]
     },
     "execution_count": 125,
     "metadata": {},
     "output_type": "execute_result"
    }
   ],
   "source": [
    "a"
   ]
  },
  {
   "cell_type": "markdown",
   "id": "6216af3a",
   "metadata": {},
   "source": [
    "<h1><center>Loops</center></h1>"
   ]
  },
  {
   "cell_type": "markdown",
   "id": "cb99e8f8",
   "metadata": {},
   "source": [
    "# For Loops"
   ]
  },
  {
   "cell_type": "code",
   "execution_count": null,
   "id": "996ee815",
   "metadata": {},
   "outputs": [],
   "source": [
    "# Stadard template\n",
    "# for i in iterable_items:\n",
    "#     print(i)"
   ]
  },
  {
   "cell_type": "code",
   "execution_count": 151,
   "id": "4f286342",
   "metadata": {},
   "outputs": [],
   "source": [
    "a = [1,2,3]"
   ]
  },
  {
   "cell_type": "code",
   "execution_count": 152,
   "id": "1e7530e4",
   "metadata": {},
   "outputs": [
    {
     "data": {
      "text/plain": [
       "[1, 2, 3]"
      ]
     },
     "execution_count": 152,
     "metadata": {},
     "output_type": "execute_result"
    }
   ],
   "source": [
    "a"
   ]
  },
  {
   "cell_type": "code",
   "execution_count": 154,
   "id": "b73cc129",
   "metadata": {},
   "outputs": [
    {
     "name": "stdout",
     "output_type": "stream",
     "text": [
      "1\n",
      "<class 'int'>\n",
      "2\n",
      "<class 'int'>\n",
      "3\n",
      "<class 'int'>\n"
     ]
    }
   ],
   "source": [
    "for i in a:\n",
    "    print(i)\n",
    "    print(type(i))"
   ]
  },
  {
   "cell_type": "code",
   "execution_count": 156,
   "id": "854bfe75",
   "metadata": {},
   "outputs": [
    {
     "name": "stdout",
     "output_type": "stream",
     "text": [
      "True\n",
      "<class 'bool'>\n",
      "10.1\n",
      "<class 'float'>\n",
      "Hello\n",
      "<class 'str'>\n",
      "10\n",
      "<class 'int'>\n",
      "[1, 2, 3]\n",
      "<class 'list'>\n",
      "(10, 20, 30)\n",
      "<class 'tuple'>\n",
      "{5, 6, 7}\n",
      "<class 'set'>\n"
     ]
    }
   ],
   "source": [
    "a = [True, 10.1, 'Hello',10, [1,2,3], (10,20,30), {5,6,7}]\n",
    "for i in a:\n",
    "    print(i)\n",
    "    print(type(i))"
   ]
  },
  {
   "cell_type": "code",
   "execution_count": 159,
   "id": "c19b8f1d",
   "metadata": {},
   "outputs": [
    {
     "name": "stdout",
     "output_type": "stream",
     "text": [
      "<class 'list'>\n",
      "50\n",
      "<class 'list'>\n",
      "54\n",
      "<class 'list'>\n",
      "57\n"
     ]
    }
   ],
   "source": [
    "a = [[50,51,52], [54,55,56], [57,58,59]]\n",
    "for i in a:\n",
    "    print(type(i))\n",
    "    print(i[0])"
   ]
  },
  {
   "cell_type": "code",
   "execution_count": 160,
   "id": "377e0876",
   "metadata": {},
   "outputs": [],
   "source": [
    "a = 'This is a string'"
   ]
  },
  {
   "cell_type": "code",
   "execution_count": 162,
   "id": "ee31ef85",
   "metadata": {},
   "outputs": [
    {
     "data": {
      "text/plain": [
       "'This is a string'"
      ]
     },
     "execution_count": 162,
     "metadata": {},
     "output_type": "execute_result"
    }
   ],
   "source": [
    "a"
   ]
  },
  {
   "cell_type": "code",
   "execution_count": 164,
   "id": "9af845b6",
   "metadata": {},
   "outputs": [
    {
     "data": {
      "text/plain": [
       "str"
      ]
     },
     "execution_count": 164,
     "metadata": {},
     "output_type": "execute_result"
    }
   ],
   "source": [
    "type(a)"
   ]
  },
  {
   "cell_type": "code",
   "execution_count": 166,
   "id": "492ce44e",
   "metadata": {},
   "outputs": [
    {
     "name": "stdout",
     "output_type": "stream",
     "text": [
      "T\n",
      "H\n",
      "I\n",
      "S\n",
      " \n",
      "I\n",
      "S\n",
      " \n",
      "A\n",
      " \n",
      "S\n",
      "T\n",
      "R\n",
      "I\n",
      "N\n",
      "G\n"
     ]
    }
   ],
   "source": [
    "for i in a:\n",
    "    print(i.upper())"
   ]
  },
  {
   "cell_type": "code",
   "execution_count": 178,
   "id": "1ab527d5",
   "metadata": {},
   "outputs": [],
   "source": [
    "a = ('This', 'is', 'a', 'String','10')"
   ]
  },
  {
   "cell_type": "code",
   "execution_count": 179,
   "id": "e10b6a0a",
   "metadata": {},
   "outputs": [
    {
     "name": "stdout",
     "output_type": "stream",
     "text": [
      "THIS\n",
      "IS\n",
      "A\n",
      "STRING\n",
      "10\n"
     ]
    }
   ],
   "source": [
    "for i in a:\n",
    "    print(i.upper())"
   ]
  },
  {
   "cell_type": "markdown",
   "id": "ba6443f6",
   "metadata": {},
   "source": [
    "# If-Else Condition"
   ]
  },
  {
   "cell_type": "code",
   "execution_count": 186,
   "id": "58b01828",
   "metadata": {},
   "outputs": [
    {
     "data": {
      "text/plain": [
       "False"
      ]
     },
     "execution_count": 186,
     "metadata": {},
     "output_type": "execute_result"
    }
   ],
   "source": [
    "10 < 5"
   ]
  },
  {
   "cell_type": "code",
   "execution_count": 182,
   "id": "03259921",
   "metadata": {},
   "outputs": [],
   "source": [
    "z = 10 > 5"
   ]
  },
  {
   "cell_type": "code",
   "execution_count": 184,
   "id": "2fb96dbb",
   "metadata": {},
   "outputs": [
    {
     "data": {
      "text/plain": [
       "True"
      ]
     },
     "execution_count": 184,
     "metadata": {},
     "output_type": "execute_result"
    }
   ],
   "source": [
    "z"
   ]
  },
  {
   "cell_type": "code",
   "execution_count": 199,
   "id": "516872c1",
   "metadata": {},
   "outputs": [
    {
     "data": {
      "text/plain": [
       "bool"
      ]
     },
     "execution_count": 199,
     "metadata": {},
     "output_type": "execute_result"
    }
   ],
   "source": [
    "type(z)"
   ]
  },
  {
   "cell_type": "markdown",
   "id": "165a5a39",
   "metadata": {},
   "source": [
    "# And & OR"
   ]
  },
  {
   "cell_type": "code",
   "execution_count": null,
   "id": "3f735fcd",
   "metadata": {},
   "outputs": [],
   "source": [
    "type(10 > 5)"
   ]
  },
  {
   "cell_type": "code",
   "execution_count": 187,
   "id": "83b2529d",
   "metadata": {},
   "outputs": [
    {
     "data": {
      "text/plain": [
       "True"
      ]
     },
     "execution_count": 187,
     "metadata": {},
     "output_type": "execute_result"
    }
   ],
   "source": [
    " True and True"
   ]
  },
  {
   "cell_type": "code",
   "execution_count": 188,
   "id": "e4c7a562",
   "metadata": {},
   "outputs": [
    {
     "data": {
      "text/plain": [
       "False"
      ]
     },
     "execution_count": 188,
     "metadata": {},
     "output_type": "execute_result"
    }
   ],
   "source": [
    "True and False "
   ]
  },
  {
   "cell_type": "code",
   "execution_count": 189,
   "id": "8889c053",
   "metadata": {},
   "outputs": [
    {
     "data": {
      "text/plain": [
       "False"
      ]
     },
     "execution_count": 189,
     "metadata": {},
     "output_type": "execute_result"
    }
   ],
   "source": [
    "False and True"
   ]
  },
  {
   "cell_type": "code",
   "execution_count": 191,
   "id": "c638826d",
   "metadata": {},
   "outputs": [
    {
     "data": {
      "text/plain": [
       "False"
      ]
     },
     "execution_count": 191,
     "metadata": {},
     "output_type": "execute_result"
    }
   ],
   "source": [
    "False and False "
   ]
  },
  {
   "cell_type": "code",
   "execution_count": 195,
   "id": "7e8d3a8d",
   "metadata": {},
   "outputs": [
    {
     "data": {
      "text/plain": [
       "False"
      ]
     },
     "execution_count": 195,
     "metadata": {},
     "output_type": "execute_result"
    }
   ],
   "source": [
    " True and True and True and True and True and True and True and True and False "
   ]
  },
  {
   "cell_type": "code",
   "execution_count": 198,
   "id": "97c570cd",
   "metadata": {},
   "outputs": [
    {
     "data": {
      "text/plain": [
       "False"
      ]
     },
     "execution_count": 198,
     "metadata": {},
     "output_type": "execute_result"
    }
   ],
   "source": [
    "False and False and False and False and False and False and False and True"
   ]
  },
  {
   "cell_type": "markdown",
   "id": "ca90e7a4",
   "metadata": {},
   "source": [
    "# OR "
   ]
  },
  {
   "cell_type": "code",
   "execution_count": 200,
   "id": "39642af8",
   "metadata": {},
   "outputs": [
    {
     "data": {
      "text/plain": [
       "True"
      ]
     },
     "execution_count": 200,
     "metadata": {},
     "output_type": "execute_result"
    }
   ],
   "source": [
    "True or True"
   ]
  },
  {
   "cell_type": "code",
   "execution_count": 201,
   "id": "5a2728c9",
   "metadata": {},
   "outputs": [
    {
     "data": {
      "text/plain": [
       "True"
      ]
     },
     "execution_count": 201,
     "metadata": {},
     "output_type": "execute_result"
    }
   ],
   "source": [
    "True or False"
   ]
  },
  {
   "cell_type": "code",
   "execution_count": 202,
   "id": "34fa09f8",
   "metadata": {},
   "outputs": [
    {
     "data": {
      "text/plain": [
       "True"
      ]
     },
     "execution_count": 202,
     "metadata": {},
     "output_type": "execute_result"
    }
   ],
   "source": [
    "False or True "
   ]
  },
  {
   "cell_type": "code",
   "execution_count": 203,
   "id": "2811e118",
   "metadata": {},
   "outputs": [
    {
     "data": {
      "text/plain": [
       "False"
      ]
     },
     "execution_count": 203,
     "metadata": {},
     "output_type": "execute_result"
    }
   ],
   "source": [
    "False or False "
   ]
  },
  {
   "cell_type": "code",
   "execution_count": 206,
   "id": "1a104605",
   "metadata": {},
   "outputs": [
    {
     "data": {
      "text/plain": [
       "False"
      ]
     },
     "execution_count": 206,
     "metadata": {},
     "output_type": "execute_result"
    }
   ],
   "source": [
    "False or False or False or False or False or False or False "
   ]
  },
  {
   "cell_type": "code",
   "execution_count": 207,
   "id": "9fd49b2a",
   "metadata": {},
   "outputs": [
    {
     "data": {
      "text/plain": [
       "True"
      ]
     },
     "execution_count": 207,
     "metadata": {},
     "output_type": "execute_result"
    }
   ],
   "source": [
    "False or False or False or False or False or False or False or True"
   ]
  },
  {
   "cell_type": "code",
   "execution_count": 211,
   "id": "3cb48aaf",
   "metadata": {},
   "outputs": [
    {
     "data": {
      "text/plain": [
       "True"
      ]
     },
     "execution_count": 211,
     "metadata": {},
     "output_type": "execute_result"
    }
   ],
   "source": [
    "# Step 1\n",
    "(True and True and False) or (True and True)"
   ]
  },
  {
   "cell_type": "code",
   "execution_count": 210,
   "id": "563f8a77",
   "metadata": {},
   "outputs": [
    {
     "data": {
      "text/plain": [
       "True"
      ]
     },
     "execution_count": 210,
     "metadata": {},
     "output_type": "execute_result"
    }
   ],
   "source": [
    "# Step 2\n",
    "True and True and True and True"
   ]
  },
  {
   "cell_type": "markdown",
   "id": "55ab42f9",
   "metadata": {},
   "source": [
    "# If-Else "
   ]
  },
  {
   "cell_type": "code",
   "execution_count": null,
   "id": "4a145c4c",
   "metadata": {},
   "outputs": [],
   "source": [
    "# Standard Template\n",
    "# if condition:\n",
    "#     print('Write your if code here')\n",
    "# else:\n",
    "#     print('Write your else code here')"
   ]
  },
  {
   "cell_type": "code",
   "execution_count": 214,
   "id": "e7628785",
   "metadata": {},
   "outputs": [],
   "source": [
    "a = 10"
   ]
  },
  {
   "cell_type": "code",
   "execution_count": 215,
   "id": "f318fda6",
   "metadata": {},
   "outputs": [
    {
     "data": {
      "text/plain": [
       "True"
      ]
     },
     "execution_count": 215,
     "metadata": {},
     "output_type": "execute_result"
    }
   ],
   "source": [
    "a > 5"
   ]
  },
  {
   "cell_type": "code",
   "execution_count": 216,
   "id": "8ca87d4b",
   "metadata": {},
   "outputs": [
    {
     "name": "stdout",
     "output_type": "stream",
     "text": [
      "hello\n"
     ]
    }
   ],
   "source": [
    "if a > 5:\n",
    "    print(\"hello\")\n",
    "else:\n",
    "    print('Bbye')"
   ]
  },
  {
   "cell_type": "code",
   "execution_count": 217,
   "id": "2efb4b18",
   "metadata": {},
   "outputs": [
    {
     "name": "stdout",
     "output_type": "stream",
     "text": [
      "Bbye\n"
     ]
    }
   ],
   "source": [
    "if a > 15:\n",
    "    print(\"hello\")\n",
    "else:\n",
    "    print('Bbye')"
   ]
  },
  {
   "cell_type": "markdown",
   "id": "b202ea7f",
   "metadata": {},
   "source": [
    "# If-elif-else"
   ]
  },
  {
   "cell_type": "code",
   "execution_count": 218,
   "id": "c7f154f0",
   "metadata": {},
   "outputs": [],
   "source": [
    "# Standard Template\n",
    "# if condition:\n",
    "#     print('Write your if code here')\n",
    "# elif condition:\n",
    "#     print('Write your elif code here')\n",
    "# elif condition:\n",
    "#     print('Write your elif code here')\n",
    "# else:\n",
    "#     print('Write your else code here')"
   ]
  },
  {
   "cell_type": "code",
   "execution_count": 222,
   "id": "af66ebbe",
   "metadata": {},
   "outputs": [],
   "source": [
    "a = 56"
   ]
  },
  {
   "cell_type": "code",
   "execution_count": 223,
   "id": "e8c3daba",
   "metadata": {},
   "outputs": [
    {
     "name": "stdout",
     "output_type": "stream",
     "text": [
      "What is wrong with you\n"
     ]
    }
   ],
   "source": [
    "if a > 90:\n",
    "    print('A+')\n",
    "elif a > 80:\n",
    "    print('A')\n",
    "elif a > 70:\n",
    "    print('B+')\n",
    "else:\n",
    "    print('What is wrong with you')"
   ]
  },
  {
   "cell_type": "markdown",
   "id": "b879af83",
   "metadata": {},
   "source": [
    "## Combining, for loops and if-else conditions"
   ]
  },
  {
   "cell_type": "code",
   "execution_count": 236,
   "id": "73f6cf4e",
   "metadata": {},
   "outputs": [],
   "source": [
    "a = [10,20,30]"
   ]
  },
  {
   "cell_type": "code",
   "execution_count": 238,
   "id": "96cc3a91",
   "metadata": {},
   "outputs": [
    {
     "name": "stdout",
     "output_type": "stream",
     "text": [
      "10\n",
      "Less than 15\n",
      "20\n",
      "Got 20\n",
      "30\n",
      "Greater than 15\n"
     ]
    }
   ],
   "source": [
    "for i in a:\n",
    "    print(i)\n",
    "    if i == 20:\n",
    "        print('Got 20')\n",
    "    elif i > 15:\n",
    "        print('Greater than 15')\n",
    "    else:\n",
    "        print('Less than 15')"
   ]
  },
  {
   "cell_type": "markdown",
   "id": "c3562c10",
   "metadata": {},
   "source": [
    "# Functions"
   ]
  },
  {
   "cell_type": "code",
   "execution_count": 239,
   "id": "ece47b99",
   "metadata": {},
   "outputs": [],
   "source": [
    "principal_amount = 10000"
   ]
  },
  {
   "cell_type": "code",
   "execution_count": 240,
   "id": "24c2c468",
   "metadata": {},
   "outputs": [],
   "source": [
    "rate = 0.10"
   ]
  },
  {
   "cell_type": "code",
   "execution_count": 241,
   "id": "b84caf41",
   "metadata": {},
   "outputs": [],
   "source": [
    "years = 5"
   ]
  },
  {
   "cell_type": "code",
   "execution_count": 243,
   "id": "c01e3a6a",
   "metadata": {},
   "outputs": [
    {
     "data": {
      "text/plain": [
       "50.0"
      ]
     },
     "execution_count": 243,
     "metadata": {},
     "output_type": "execute_result"
    }
   ],
   "source": [
    "(principal_amount * rate * years)/100"
   ]
  },
  {
   "cell_type": "code",
   "execution_count": 244,
   "id": "ab570a09",
   "metadata": {},
   "outputs": [],
   "source": [
    "# Standard template\n",
    "# def my_function(p,r,y):\n",
    "#     print('Write your code that will do thigs, and make sure to return in')"
   ]
  },
  {
   "cell_type": "code",
   "execution_count": 245,
   "id": "c4aa4f0d",
   "metadata": {},
   "outputs": [],
   "source": [
    "def my_function(p,r,y):\n",
    "    simple = (p * r * y)/100\n",
    "    print(simple)"
   ]
  },
  {
   "cell_type": "code",
   "execution_count": 247,
   "id": "efbd0e13",
   "metadata": {},
   "outputs": [
    {
     "name": "stdout",
     "output_type": "stream",
     "text": [
      "2000.0\n"
     ]
    }
   ],
   "source": [
    "my_function(100000,0.2,10)"
   ]
  },
  {
   "cell_type": "code",
   "execution_count": 248,
   "id": "7ac15796",
   "metadata": {},
   "outputs": [
    {
     "name": "stdout",
     "output_type": "stream",
     "text": [
      "2000.0\n"
     ]
    }
   ],
   "source": [
    "x = my_function(100000,0.2,10)"
   ]
  },
  {
   "cell_type": "code",
   "execution_count": 250,
   "id": "cc4cde1d",
   "metadata": {},
   "outputs": [],
   "source": [
    "x"
   ]
  },
  {
   "cell_type": "code",
   "execution_count": 251,
   "id": "7e7efbdd",
   "metadata": {},
   "outputs": [
    {
     "data": {
      "text/plain": [
       "NoneType"
      ]
     },
     "execution_count": 251,
     "metadata": {},
     "output_type": "execute_result"
    }
   ],
   "source": [
    "type(x)"
   ]
  },
  {
   "cell_type": "code",
   "execution_count": 252,
   "id": "6ef9fab9",
   "metadata": {},
   "outputs": [],
   "source": [
    "def my_function(p,r,y):\n",
    "    simple = (p * r * y)/100\n",
    "    print(simple)\n",
    "    return simple"
   ]
  },
  {
   "cell_type": "code",
   "execution_count": 253,
   "id": "9b390168",
   "metadata": {},
   "outputs": [
    {
     "name": "stdout",
     "output_type": "stream",
     "text": [
      "2000.0\n"
     ]
    },
    {
     "data": {
      "text/plain": [
       "2000.0"
      ]
     },
     "execution_count": 253,
     "metadata": {},
     "output_type": "execute_result"
    }
   ],
   "source": [
    "my_function(100000,0.2,10)"
   ]
  },
  {
   "cell_type": "code",
   "execution_count": 254,
   "id": "f10d6958",
   "metadata": {},
   "outputs": [
    {
     "name": "stdout",
     "output_type": "stream",
     "text": [
      "2000.0\n"
     ]
    }
   ],
   "source": [
    "x = my_function(100000,0.2,10)"
   ]
  },
  {
   "cell_type": "code",
   "execution_count": 256,
   "id": "66d9c1d6",
   "metadata": {},
   "outputs": [
    {
     "data": {
      "text/plain": [
       "2000.0"
      ]
     },
     "execution_count": 256,
     "metadata": {},
     "output_type": "execute_result"
    }
   ],
   "source": [
    "x"
   ]
  },
  {
   "cell_type": "code",
   "execution_count": null,
   "id": "d75cb5f8",
   "metadata": {},
   "outputs": [],
   "source": []
  },
  {
   "cell_type": "code",
   "execution_count": null,
   "id": "fdbff43c",
   "metadata": {},
   "outputs": [],
   "source": []
  },
  {
   "cell_type": "code",
   "execution_count": null,
   "id": "45b485df",
   "metadata": {},
   "outputs": [],
   "source": []
  },
  {
   "cell_type": "code",
   "execution_count": null,
   "id": "85c6d356",
   "metadata": {},
   "outputs": [],
   "source": []
  }
 ],
 "metadata": {
  "kernelspec": {
   "display_name": "Python 3 (ipykernel)",
   "language": "python",
   "name": "python3"
  },
  "language_info": {
   "codemirror_mode": {
    "name": "ipython",
    "version": 3
   },
   "file_extension": ".py",
   "mimetype": "text/x-python",
   "name": "python",
   "nbconvert_exporter": "python",
   "pygments_lexer": "ipython3",
   "version": "3.7.15"
  }
 },
 "nbformat": 4,
 "nbformat_minor": 5
}
