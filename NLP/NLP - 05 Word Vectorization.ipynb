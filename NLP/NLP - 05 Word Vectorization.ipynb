{
 "cells": [
  {
   "cell_type": "markdown",
   "id": "1560c963",
   "metadata": {},
   "source": [
    "<h1><center>Natural Language Processing</center></h1>\n",
    "\n",
    "<h3><center>NLP 05</center></h3>\n",
    "\n",
    "![hM0xGrmJw](https://miro.medium.com/max/720/1*PGB0w1JZslqA-hM0xGrmJw.gif)"
   ]
  },
  {
   "cell_type": "markdown",
   "id": "446794f3",
   "metadata": {},
   "source": [
    "# Topics\n",
    "1.\tIntroduction to Natural Language Processing\n",
    "2.\tWhy learn NLP?\n",
    "3.\tLet's start playing with Python!\n",
    "4.\tText Wrangling and Cleansing\n",
    " - Sentence splitter\n",
    " - Tokenization\n",
    " - Stemming         \n",
    " - Lemmatization    \n",
    " - Stop word removal\n",
    " - Diving into NLTK\n",
    "5.\tVectorizing with Python\n",
    " - Count Vectorizer <---------------------------------------------------- **This is where we are**\n",
    " - TF-IDF Vectorizer <---------------------------------------------------- **This is where we are**\n",
    "6.\tModelling with Python\n",
    " - Classification\n",
    " - Clustering\n",
    " - Sentiment Analysis\n"
   ]
  },
  {
   "cell_type": "markdown",
   "id": "7d9d1fb8",
   "metadata": {},
   "source": [
    "<h1><center>First thing first, let's clear up python functions</center></h1>"
   ]
  },
  {
   "cell_type": "markdown",
   "id": "c3562c10",
   "metadata": {},
   "source": [
    "# Functions"
   ]
  },
  {
   "cell_type": "code",
   "execution_count": 2,
   "id": "ece47b99",
   "metadata": {},
   "outputs": [],
   "source": [
    "principal_amount = 10000"
   ]
  },
  {
   "cell_type": "code",
   "execution_count": 3,
   "id": "24c2c468",
   "metadata": {},
   "outputs": [],
   "source": [
    "rate = 0.10"
   ]
  },
  {
   "cell_type": "code",
   "execution_count": 4,
   "id": "b84caf41",
   "metadata": {},
   "outputs": [],
   "source": [
    "years = 5"
   ]
  },
  {
   "cell_type": "code",
   "execution_count": 5,
   "id": "c01e3a6a",
   "metadata": {},
   "outputs": [
    {
     "data": {
      "text/plain": [
       "50.0"
      ]
     },
     "execution_count": 5,
     "metadata": {},
     "output_type": "execute_result"
    }
   ],
   "source": [
    "(principal_amount * rate * years)/100"
   ]
  },
  {
   "cell_type": "code",
   "execution_count": 87,
   "id": "ab570a09",
   "metadata": {},
   "outputs": [],
   "source": [
    "# Standard template\n",
    "def my_function(p,r,y):\n",
    "    print('Write your code that will do thigs, and make sure to return in')\n",
    "    return 'whatever you want'"
   ]
  },
  {
   "cell_type": "code",
   "execution_count": 85,
   "id": "7f4addb8",
   "metadata": {},
   "outputs": [],
   "source": [
    "def hello():\n",
    "    print('Hello world')"
   ]
  },
  {
   "cell_type": "code",
   "execution_count": 88,
   "id": "790b7560",
   "metadata": {},
   "outputs": [
    {
     "name": "stdout",
     "output_type": "stream",
     "text": [
      "Hello world\n"
     ]
    }
   ],
   "source": [
    "hello()"
   ]
  },
  {
   "cell_type": "markdown",
   "id": "ed9d4a4e",
   "metadata": {},
   "source": [
    "# Printing vs Returning"
   ]
  },
  {
   "cell_type": "code",
   "execution_count": 102,
   "id": "90bb27c2",
   "metadata": {},
   "outputs": [],
   "source": [
    "def add2(a,b):\n",
    "    c = a + b\n",
    "#     print(c)\n",
    "    return c"
   ]
  },
  {
   "cell_type": "code",
   "execution_count": 103,
   "id": "03e8c454",
   "metadata": {},
   "outputs": [
    {
     "data": {
      "text/plain": [
       "30"
      ]
     },
     "execution_count": 103,
     "metadata": {},
     "output_type": "execute_result"
    }
   ],
   "source": [
    "add2(10,20)"
   ]
  },
  {
   "cell_type": "code",
   "execution_count": 101,
   "id": "6809e42b",
   "metadata": {},
   "outputs": [
    {
     "name": "stdout",
     "output_type": "stream",
     "text": [
      "Hi\n"
     ]
    }
   ],
   "source": [
    "print('Hi')"
   ]
  },
  {
   "cell_type": "code",
   "execution_count": 94,
   "id": "59b7d267",
   "metadata": {},
   "outputs": [
    {
     "name": "stdout",
     "output_type": "stream",
     "text": [
      "30\n"
     ]
    }
   ],
   "source": [
    "f = add2(10,20)"
   ]
  },
  {
   "cell_type": "code",
   "execution_count": 96,
   "id": "1fda0db1",
   "metadata": {},
   "outputs": [],
   "source": [
    "f"
   ]
  },
  {
   "cell_type": "code",
   "execution_count": 97,
   "id": "251b09e4",
   "metadata": {},
   "outputs": [
    {
     "data": {
      "text/plain": [
       "NoneType"
      ]
     },
     "execution_count": 97,
     "metadata": {},
     "output_type": "execute_result"
    }
   ],
   "source": [
    "type(f)"
   ]
  },
  {
   "cell_type": "code",
   "execution_count": 11,
   "id": "c4aa4f0d",
   "metadata": {},
   "outputs": [],
   "source": [
    "def my_function(p,r,y):\n",
    "    simple = (p * r * y)/100\n",
    "    return simple"
   ]
  },
  {
   "cell_type": "code",
   "execution_count": 12,
   "id": "efbd0e13",
   "metadata": {},
   "outputs": [
    {
     "data": {
      "text/plain": [
       "2000.0"
      ]
     },
     "execution_count": 12,
     "metadata": {},
     "output_type": "execute_result"
    }
   ],
   "source": [
    "my_function(100000,0.2,10)"
   ]
  },
  {
   "cell_type": "code",
   "execution_count": 13,
   "id": "7ac15796",
   "metadata": {},
   "outputs": [],
   "source": [
    "x = my_function(100000,0.2,10)"
   ]
  },
  {
   "cell_type": "code",
   "execution_count": 14,
   "id": "cc4cde1d",
   "metadata": {},
   "outputs": [
    {
     "data": {
      "text/plain": [
       "2000.0"
      ]
     },
     "execution_count": 14,
     "metadata": {},
     "output_type": "execute_result"
    }
   ],
   "source": [
    "x"
   ]
  },
  {
   "cell_type": "markdown",
   "id": "e6696699",
   "metadata": {},
   "source": [
    "## A function to return lemmatized text"
   ]
  },
  {
   "cell_type": "markdown",
   "id": "33e62a39",
   "metadata": {},
   "source": [
    "Think of it like this\n",
    "- forget the function and focus on the logic flow, \n",
    "- what would you do to lemmatize your text\n",
    "\n",
    "------"
   ]
  },
  {
   "cell_type": "markdown",
   "id": "a0c9f0a3",
   "metadata": {},
   "source": [
    "## You import the necessary libraries"
   ]
  },
  {
   "cell_type": "code",
   "execution_count": 104,
   "id": "5410e78a",
   "metadata": {},
   "outputs": [],
   "source": [
    "from nltk.stem import WordNetLemmatizer"
   ]
  },
  {
   "cell_type": "markdown",
   "id": "33e4af8b",
   "metadata": {},
   "source": [
    "## You initialise the lemmatizer"
   ]
  },
  {
   "cell_type": "code",
   "execution_count": 105,
   "id": "70f1e7d1",
   "metadata": {},
   "outputs": [],
   "source": [
    "lemmatizer = WordNetLemmatizer()"
   ]
  },
  {
   "cell_type": "markdown",
   "id": "98abe889",
   "metadata": {},
   "source": [
    "## You lemmatize the word"
   ]
  },
  {
   "cell_type": "code",
   "execution_count": 106,
   "id": "5e0a479e",
   "metadata": {},
   "outputs": [
    {
     "data": {
      "text/plain": [
       "'fly'"
      ]
     },
     "execution_count": 106,
     "metadata": {},
     "output_type": "execute_result"
    }
   ],
   "source": [
    "lemmatizer.lemmatize('flies')"
   ]
  },
  {
   "cell_type": "markdown",
   "id": "66bf37a9",
   "metadata": {},
   "source": [
    "## You save the output in a variable"
   ]
  },
  {
   "cell_type": "code",
   "execution_count": 107,
   "id": "ea7c86f1",
   "metadata": {},
   "outputs": [],
   "source": [
    "output = lemmatizer.lemmatize('flies')"
   ]
  },
  {
   "cell_type": "markdown",
   "id": "d00215cd",
   "metadata": {},
   "source": [
    "## And there you go, you have lemmatized a word. \n",
    "- Now all you have to do is to wrap that logic inside a function"
   ]
  },
  {
   "cell_type": "code",
   "execution_count": 108,
   "id": "f8f1f569",
   "metadata": {},
   "outputs": [
    {
     "data": {
      "text/plain": [
       "'fly'"
      ]
     },
     "execution_count": 108,
     "metadata": {},
     "output_type": "execute_result"
    }
   ],
   "source": [
    "output"
   ]
  },
  {
   "cell_type": "markdown",
   "id": "8103e28c",
   "metadata": {},
   "source": [
    "# Let's make it a function"
   ]
  },
  {
   "cell_type": "code",
   "execution_count": 109,
   "id": "6704b86a",
   "metadata": {},
   "outputs": [],
   "source": [
    "# from nltk.stem import WordNetLemmatizer\n",
    "def lemmatext(x):\n",
    "    lemmatizer = WordNetLemmatizer()\n",
    "    result = lemmatizer.lemmatize(x)\n",
    "    return result"
   ]
  },
  {
   "cell_type": "code",
   "execution_count": 110,
   "id": "1ea61433",
   "metadata": {},
   "outputs": [
    {
     "data": {
      "text/plain": [
       "'fly'"
      ]
     },
     "execution_count": 110,
     "metadata": {},
     "output_type": "execute_result"
    }
   ],
   "source": [
    "lemmatext('flies')"
   ]
  },
  {
   "cell_type": "markdown",
   "id": "42756e26",
   "metadata": {},
   "source": [
    "Why does this work, let's explore"
   ]
  },
  {
   "cell_type": "markdown",
   "id": "417e8d11",
   "metadata": {},
   "source": [
    "# Vectorization\n",
    "Converting words into numbers.\n",
    "\n",
    "We will cover:\n",
    "- Count Vectorizer\n",
    "- Tf-Idf Vectorizer\n",
    "\n",
    "Let's learn this wil excel"
   ]
  },
  {
   "cell_type": "markdown",
   "id": "5e585d26",
   "metadata": {},
   "source": [
    "<h1><center>Count Vectorizer</center></h1>"
   ]
  },
  {
   "cell_type": "markdown",
   "id": "ef5dc014",
   "metadata": {},
   "source": [
    "# Now, who wants to do all the work.\n",
    "\n",
    "## In comes sklearn\n",
    "\n",
    "![](https://anderfernandez.com/wp-content/uploads/2021/10/Tutorial-Sklearn.jpg)"
   ]
  },
  {
   "cell_type": "markdown",
   "id": "da948728",
   "metadata": {},
   "source": [
    "# What all can it do\n",
    "![](https://sp-ao.shortpixel.ai/client/to_auto,q_glossy,ret_img,w_2122/https://www.malicksarr.com/wp-content/uploads/2021/06/Sklean-Tutorial-with-a-Machine-Learning-Project-for-Beginners.png)"
   ]
  },
  {
   "cell_type": "markdown",
   "id": "4f1e1d23",
   "metadata": {},
   "source": [
    "## But, we don't care about all that for now. \n",
    "\n",
    "-----\n",
    "\n",
    "## We focus on NLP right now"
   ]
  },
  {
   "cell_type": "markdown",
   "id": "a6b7a564",
   "metadata": {},
   "source": [
    "# ------------------- A Demo -------------------\n",
    "I have created a interactive demo for learning purposes, don't worry if you don't understand the code :)"
   ]
  },
  {
   "cell_type": "markdown",
   "id": "d788f93f",
   "metadata": {},
   "source": [
    "# A Interactive Count Vectorizer"
   ]
  },
  {
   "cell_type": "code",
   "execution_count": 133,
   "id": "29421517",
   "metadata": {},
   "outputs": [],
   "source": [
    "from sklearn.feature_extraction.text import CountVectorizer\n",
    "import pandas as pd\n",
    "\n",
    "from ipywidgets import interact, interactive, fixed, interact_manual\n",
    "import ipywidgets as widgets\n",
    "\n",
    "\n",
    "# Creating a function out of it \n",
    "def calculate_matrix(a):\n",
    "\n",
    "    # document = [\"One Geek helps Two Geeks\",\n",
    "    # \t\t\t\"Two Geeks help Four Geeks\",\n",
    "    # \t\t\t\"Each Geek helps many other Geeks at GeeksforGeeks\"]\n",
    "    \n",
    "    a = a.split('|')\n",
    "    \n",
    "    # Create a Vectorizer Object\n",
    "    vectorizer = CountVectorizer()\n",
    "    vectorizer.fit(a)\n",
    "\n",
    "    # Encode the Document\n",
    "    vector = vectorizer.transform(a)\n",
    "\n",
    "    # Summarizing the Encoded Texts\n",
    "    df = pd.DataFrame(vector.toarray(), columns = vectorizer.get_feature_names_out())\n",
    "\n",
    "    # Returning the df\n",
    "    return df\n",
    "\n",
    "# A demo\n",
    "# calculate_matrix(\"One Geek helps Two Geeks,Two Geeks help Four Geeks,Each Geek helps many other Geeks at GeeksforGeeks\")"
   ]
  },
  {
   "cell_type": "code",
   "execution_count": 134,
   "id": "81721a06",
   "metadata": {},
   "outputs": [
    {
     "data": {
      "application/vnd.jupyter.widget-view+json": {
       "model_id": "dac287762c4045af8ee1c1e903b209b7",
       "version_major": 2,
       "version_minor": 0
      },
      "text/plain": [
       "interactive(children=(Text(value='This is a sentence, Use commas to seperate a sentence', description='a'), Ou…"
      ]
     },
     "metadata": {},
     "output_type": "display_data"
    },
    {
     "data": {
      "text/plain": [
       "<function __main__.calculate_matrix(a)>"
      ]
     },
     "execution_count": 134,
     "metadata": {},
     "output_type": "execute_result"
    }
   ],
   "source": [
    "interact(calculate_matrix, a=\"This is a sentence, Use commas to seperate a sentence\")"
   ]
  },
  {
   "cell_type": "markdown",
   "id": "3add36eb",
   "metadata": {},
   "source": [
    "# ------------------- Demo End -------------------"
   ]
  },
  {
   "cell_type": "code",
   "execution_count": 115,
   "id": "a3ac1815",
   "metadata": {},
   "outputs": [],
   "source": [
    "from sklearn.feature_extraction.text import CountVectorizer"
   ]
  },
  {
   "cell_type": "code",
   "execution_count": 117,
   "id": "4f6d5b3a",
   "metadata": {},
   "outputs": [],
   "source": [
    "# We initialise it\n",
    "vectorizer = CountVectorizer()"
   ]
  },
  {
   "cell_type": "code",
   "execution_count": 118,
   "id": "6a5d044d",
   "metadata": {},
   "outputs": [
    {
     "data": {
      "text/plain": [
       "CountVectorizer()"
      ]
     },
     "execution_count": 118,
     "metadata": {},
     "output_type": "execute_result"
    }
   ],
   "source": [
    "vectorizer"
   ]
  },
  {
   "cell_type": "code",
   "execution_count": 120,
   "id": "6130ee64",
   "metadata": {},
   "outputs": [
    {
     "data": {
      "text/plain": [
       "CountVectorizer()"
      ]
     },
     "execution_count": 120,
     "metadata": {},
     "output_type": "execute_result"
    }
   ],
   "source": [
    "vectorizer.fit(['Whatever text we want','We give it as list'])"
   ]
  },
  {
   "cell_type": "markdown",
   "id": "e7063c3e",
   "metadata": {},
   "source": [
    "### Getting all the vocabulary out."
   ]
  },
  {
   "cell_type": "code",
   "execution_count": 121,
   "id": "739a6e9e",
   "metadata": {},
   "outputs": [
    {
     "data": {
      "text/plain": [
       "array(['as', 'give', 'it', 'list', 'text', 'want', 'we', 'whatever'],\n",
       "      dtype=object)"
      ]
     },
     "execution_count": 121,
     "metadata": {},
     "output_type": "execute_result"
    }
   ],
   "source": [
    "vectorizer.get_feature_names_out()"
   ]
  },
  {
   "cell_type": "markdown",
   "id": "457332c9",
   "metadata": {},
   "source": [
    "### Getting the vectors"
   ]
  },
  {
   "cell_type": "code",
   "execution_count": 122,
   "id": "8ee376f9",
   "metadata": {},
   "outputs": [],
   "source": [
    "# vectorizer.fit(['Whatever text we want','We give it as list'])"
   ]
  },
  {
   "cell_type": "code",
   "execution_count": 123,
   "id": "a69c3f94",
   "metadata": {},
   "outputs": [],
   "source": [
    "vector = vectorizer.transform(['Whatever text we want','We give it as list'])"
   ]
  },
  {
   "cell_type": "code",
   "execution_count": 124,
   "id": "a879abb5",
   "metadata": {},
   "outputs": [
    {
     "data": {
      "text/plain": [
       "<2x8 sparse matrix of type '<class 'numpy.int64'>'\n",
       "\twith 9 stored elements in Compressed Sparse Row format>"
      ]
     },
     "execution_count": 124,
     "metadata": {},
     "output_type": "execute_result"
    }
   ],
   "source": [
    "vector"
   ]
  },
  {
   "cell_type": "code",
   "execution_count": 125,
   "id": "4b2a6f5a",
   "metadata": {},
   "outputs": [
    {
     "data": {
      "text/plain": [
       "array([[0, 0, 0, 0, 1, 1, 1, 1],\n",
       "       [1, 1, 1, 1, 0, 0, 1, 0]])"
      ]
     },
     "execution_count": 125,
     "metadata": {},
     "output_type": "execute_result"
    }
   ],
   "source": [
    "vector.toarray()"
   ]
  },
  {
   "cell_type": "markdown",
   "id": "29dd2045",
   "metadata": {},
   "source": [
    "# That's one thing done\n",
    "\n",
    "![](https://media.tenor.com/EmZ0N3llkAkAAAAC/cat-cats.gif)"
   ]
  },
  {
   "cell_type": "markdown",
   "id": "002b4d68",
   "metadata": {},
   "source": [
    "<h1><center>TF-IDF Vectorizer</center></h1>\n",
    "\n",
    "![](./images/td-idf-graphic.png)\n",
    "\n",
    "Let's do it in excel to see what is going on beneath the hood"
   ]
  },
  {
   "cell_type": "markdown",
   "id": "2352af4d",
   "metadata": {},
   "source": [
    "# ------------------- A Demo -------------------\n",
    "I have created a interactive demo for learning purposes, don't worry if you don't understand the code :)"
   ]
  },
  {
   "cell_type": "markdown",
   "id": "c14624a9",
   "metadata": {},
   "source": [
    "# A Interactive TF-IDF Vectorizer"
   ]
  },
  {
   "cell_type": "code",
   "execution_count": 126,
   "id": "c44a8fb8",
   "metadata": {},
   "outputs": [],
   "source": [
    "from sklearn.feature_extraction.text import TfidfVectorizer\n",
    "import pandas as pd\n",
    "\n",
    "from ipywidgets import interact, interactive, fixed, interact_manual\n",
    "import ipywidgets as widgets\n",
    "\n",
    "\n",
    "# Creating a function out of it \n",
    "def calculate_matrix_tfidf(a):\n",
    "\n",
    "    # document = [\"One Geek helps Two Geeks\",\n",
    "    # \t\t\t\"Two Geeks help Four Geeks\",\n",
    "    # \t\t\t\"Each Geek helps many other Geeks at GeeksforGeeks\"]\n",
    "    \n",
    "    a = a.split(',')\n",
    "    \n",
    "    # Create a Vectorizer Object\n",
    "    vectorizer = TfidfVectorizer()\n",
    "    vectorizer.fit(a)\n",
    "\n",
    "    # Encode the Document\n",
    "    vector = vectorizer.transform(a)\n",
    "\n",
    "    # Summarizing the Encoded Texts\n",
    "    df = pd.DataFrame(vector.toarray(), columns = vectorizer.get_feature_names_out())\n",
    "\n",
    "    # Returning the df\n",
    "    return df\n"
   ]
  },
  {
   "cell_type": "code",
   "execution_count": 127,
   "id": "a63b51d0",
   "metadata": {},
   "outputs": [
    {
     "data": {
      "application/vnd.jupyter.widget-view+json": {
       "model_id": "a315acaa06334029bfd0572a3a809031",
       "version_major": 2,
       "version_minor": 0
      },
      "text/plain": [
       "interactive(children=(Text(value='This is a sentence, Use commas to seperate a sentence', description='a'), Ou…"
      ]
     },
     "metadata": {},
     "output_type": "display_data"
    },
    {
     "data": {
      "text/plain": [
       "<function __main__.calculate_matrix_tfidf(a)>"
      ]
     },
     "execution_count": 127,
     "metadata": {},
     "output_type": "execute_result"
    }
   ],
   "source": [
    "interact(calculate_matrix_tfidf, a=\"This is a sentence, Use commas to seperate a sentence\")"
   ]
  },
  {
   "cell_type": "markdown",
   "id": "d1e43a90",
   "metadata": {},
   "source": [
    "# ------------------- Demo End -------------------"
   ]
  },
  {
   "cell_type": "markdown",
   "id": "30780e15",
   "metadata": {},
   "source": [
    "# Let's do this with sklearn "
   ]
  },
  {
   "cell_type": "code",
   "execution_count": null,
   "id": "af5fd3ec",
   "metadata": {},
   "outputs": [],
   "source": [
    "from sklearn.feature_extraction.text import TfidfVectorizer"
   ]
  },
  {
   "cell_type": "code",
   "execution_count": 59,
   "id": "c3d2c2b0",
   "metadata": {},
   "outputs": [],
   "source": [
    "# Create a Vectorizer Object\n",
    "vectorizer = TfidfVectorizer()"
   ]
  },
  {
   "cell_type": "code",
   "execution_count": 62,
   "id": "ebcd77f8",
   "metadata": {},
   "outputs": [
    {
     "data": {
      "text/plain": [
       "TfidfVectorizer()"
      ]
     },
     "execution_count": 62,
     "metadata": {},
     "output_type": "execute_result"
    }
   ],
   "source": [
    "vectorizer.fit(['Whatever text we want','We give it as list'])"
   ]
  },
  {
   "cell_type": "code",
   "execution_count": 63,
   "id": "cf4d5e45",
   "metadata": {},
   "outputs": [
    {
     "data": {
      "text/plain": [
       "array(['as', 'give', 'it', 'list', 'text', 'want', 'we', 'whatever'],\n",
       "      dtype=object)"
      ]
     },
     "execution_count": 63,
     "metadata": {},
     "output_type": "execute_result"
    }
   ],
   "source": [
    "vectorizer.get_feature_names_out()"
   ]
  },
  {
   "cell_type": "code",
   "execution_count": 66,
   "id": "b4d64aa7",
   "metadata": {},
   "outputs": [],
   "source": [
    "# Encode the Document\n",
    "vector = vectorizer.transform(['Whatever text we want','We give it as list'])"
   ]
  },
  {
   "cell_type": "code",
   "execution_count": 67,
   "id": "4113a32c",
   "metadata": {},
   "outputs": [
    {
     "data": {
      "text/plain": [
       "array([[0.        , 0.        , 0.        , 0.        , 0.53404633,\n",
       "        0.53404633, 0.37997836, 0.53404633],\n",
       "       [0.47107781, 0.47107781, 0.47107781, 0.47107781, 0.        ,\n",
       "        0.        , 0.33517574, 0.        ]])"
      ]
     },
     "execution_count": 67,
     "metadata": {},
     "output_type": "execute_result"
    }
   ],
   "source": [
    "vector.toarray()"
   ]
  },
  {
   "cell_type": "code",
   "execution_count": null,
   "id": "6b657936",
   "metadata": {},
   "outputs": [],
   "source": []
  },
  {
   "cell_type": "markdown",
   "id": "c79621b7",
   "metadata": {},
   "source": [
    "# That's another thing done\n",
    "\n",
    "![](https://media.tenor.com/ji9q87fo4Z4AAAAM/cat-kitten.gif)"
   ]
  },
  {
   "cell_type": "markdown",
   "id": "2bae8834",
   "metadata": {},
   "source": [
    "# Basic flow\n",
    "![](https://devopedia.org/images/article/230/4727.1572189926.png)"
   ]
  },
  {
   "cell_type": "markdown",
   "id": "349d3e92",
   "metadata": {},
   "source": [
    "# Now, how do we do all this for a dataset.\n",
    "\n",
    "Let's look at the dataset\n",
    "\n",
    "We will look at a spam dataset in excel"
   ]
  },
  {
   "cell_type": "markdown",
   "id": "520ce6c3",
   "metadata": {},
   "source": [
    "<h1><center>In comes Pandas</center></h1>\n",
    "\n",
    "![](https://media.tenor.com/12duwIZTtOAAAAAd/angry-panda.gif)\n",
    "\n",
    "<h1><center>Not that one</center></h1>\n",
    "\n",
    "<h1><p style=\"text-align: center;\">Pandas</p></h1>\n",
    "\n",
    "![Pandas](https://upload.wikimedia.org/wikipedia/commons/thumb/e/ed/Pandas_logo.svg/512px-Pandas_logo.svg.png?20200209204934)\n",
    "\n",
    "Pandas is a fast, powerful, flexible and easy to use open source data analysis and manipulation tool,\n",
    "built on top of the Python programming language.\n"
   ]
  },
  {
   "cell_type": "markdown",
   "id": "08fea674",
   "metadata": {},
   "source": [
    "# Why do we need to learn this, just why another thing\n",
    "\n",
    "![](https://media.tenor.com/iTYu258_py8AAAAC/why-whatever.gif)"
   ]
  },
  {
   "cell_type": "markdown",
   "id": "a9461fda",
   "metadata": {},
   "source": [
    "### Remember\n",
    "- How i told you, that companies as they have more and more data, they move on from excel files to SQL databases \n",
    "- Even if we are not looking at SQL databases, we will need to work with excel files or csv,xlsx files. \n",
    "- How do we do this with python\n",
    "- How do we import stuff (excel files) in python to do vectorization\n",
    "\n",
    "# This is where pandas comes in\n",
    "It is going to help us load data(excel files) in python so that we can do our thing\n",
    "\n",
    "### So with that, let's dive into pandas in the next session\n",
    "\n",
    "I am also going to give you some content to read about pandas, go over it\n",
    "\n",
    "![](https://media.tenor.com/F1bqQ93ZfO0AAAAM/panda-revenge.gif)"
   ]
  },
  {
   "cell_type": "code",
   "execution_count": null,
   "id": "6d9cf7c9",
   "metadata": {},
   "outputs": [],
   "source": []
  },
  {
   "cell_type": "code",
   "execution_count": null,
   "id": "266a6a0d",
   "metadata": {},
   "outputs": [],
   "source": []
  },
  {
   "cell_type": "code",
   "execution_count": null,
   "id": "3c5e54b4",
   "metadata": {},
   "outputs": [],
   "source": []
  }
 ],
 "metadata": {
  "kernelspec": {
   "display_name": "Python 3 (ipykernel)",
   "language": "python",
   "name": "python3"
  },
  "language_info": {
   "codemirror_mode": {
    "name": "ipython",
    "version": 3
   },
   "file_extension": ".py",
   "mimetype": "text/x-python",
   "name": "python",
   "nbconvert_exporter": "python",
   "pygments_lexer": "ipython3",
   "version": "3.7.16"
  }
 },
 "nbformat": 4,
 "nbformat_minor": 5
}
