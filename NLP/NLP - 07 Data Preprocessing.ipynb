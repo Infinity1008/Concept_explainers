{
 "cells": [
  {
   "cell_type": "markdown",
   "id": "1560c963",
   "metadata": {},
   "source": [
    "<h1><center>Natural Language Processing</center></h1>\n",
    "\n",
    "<h3><center>NLP 07</center></h3>\n",
    "\n",
    "![hM0xGrmJw](https://miro.medium.com/max/720/1*PGB0w1JZslqA-hM0xGrmJw.gif)"
   ]
  },
  {
   "cell_type": "markdown",
   "id": "446794f3",
   "metadata": {},
   "source": [
    "# Topics\n",
    "1.\tIntroduction to Natural Language Processing\n",
    "2.\tWhy learn NLP?\n",
    "3.\tLet's start playing with Python!\n",
    "4.\tText Wrangling and Cleansing\n",
    " - Sentence splitter\n",
    " - Tokenization\n",
    " - Stemming         \n",
    " - Lemmatization    \n",
    " - Stop word removal\n",
    " - Diving into NLTK\n",
    "5.\tVectorizing with Python\n",
    " - Count Vectorizer \n",
    " - TF-IDF Vectorizer\n",
    "6.\tModelling with Python <---------------------------------------------------- **This is where we are**\n",
    " - Classification\n",
    " - Clustering\n",
    " - Sentiment Analysis\n"
   ]
  },
  {
   "cell_type": "markdown",
   "id": "ca1eb379",
   "metadata": {},
   "source": [
    "# Reading data with pandas "
   ]
  },
  {
   "cell_type": "code",
   "execution_count": 12,
   "id": "61d73e8c",
   "metadata": {},
   "outputs": [],
   "source": [
    "import pandas as pd\n",
    "df = pd.read_csv('SPAM text.csv')"
   ]
  },
  {
   "cell_type": "code",
   "execution_count": 62,
   "id": "6ff12136",
   "metadata": {},
   "outputs": [
    {
     "data": {
      "text/html": [
       "<div>\n",
       "<style scoped>\n",
       "    .dataframe tbody tr th:only-of-type {\n",
       "        vertical-align: middle;\n",
       "    }\n",
       "\n",
       "    .dataframe tbody tr th {\n",
       "        vertical-align: top;\n",
       "    }\n",
       "\n",
       "    .dataframe thead th {\n",
       "        text-align: right;\n",
       "    }\n",
       "</style>\n",
       "<table border=\"1\" class=\"dataframe\">\n",
       "  <thead>\n",
       "    <tr style=\"text-align: right;\">\n",
       "      <th></th>\n",
       "      <th>Category</th>\n",
       "      <th>Message</th>\n",
       "    </tr>\n",
       "  </thead>\n",
       "  <tbody>\n",
       "    <tr>\n",
       "      <th>0</th>\n",
       "      <td>ham</td>\n",
       "      <td>Go until jurong point, crazy.. Available only ...</td>\n",
       "    </tr>\n",
       "    <tr>\n",
       "      <th>1</th>\n",
       "      <td>ham</td>\n",
       "      <td>Ok lar... Joking wif u oni...</td>\n",
       "    </tr>\n",
       "    <tr>\n",
       "      <th>2</th>\n",
       "      <td>spam</td>\n",
       "      <td>Free entry in 2 a wkly comp to win FA Cup fina...</td>\n",
       "    </tr>\n",
       "    <tr>\n",
       "      <th>3</th>\n",
       "      <td>ham</td>\n",
       "      <td>U dun say so early hor... U c already then say...</td>\n",
       "    </tr>\n",
       "    <tr>\n",
       "      <th>4</th>\n",
       "      <td>ham</td>\n",
       "      <td>Nah I don't think he goes to usf, he lives aro...</td>\n",
       "    </tr>\n",
       "  </tbody>\n",
       "</table>\n",
       "</div>"
      ],
      "text/plain": [
       "  Category                                            Message\n",
       "0      ham  Go until jurong point, crazy.. Available only ...\n",
       "1      ham                      Ok lar... Joking wif u oni...\n",
       "2     spam  Free entry in 2 a wkly comp to win FA Cup fina...\n",
       "3      ham  U dun say so early hor... U c already then say...\n",
       "4      ham  Nah I don't think he goes to usf, he lives aro..."
      ]
     },
     "execution_count": 62,
     "metadata": {},
     "output_type": "execute_result"
    }
   ],
   "source": [
    "df.head()"
   ]
  },
  {
   "cell_type": "markdown",
   "id": "06992bb9",
   "metadata": {},
   "source": [
    "# Writing a function to clean out stopwords"
   ]
  },
  {
   "cell_type": "code",
   "execution_count": 16,
   "id": "7caf042a",
   "metadata": {},
   "outputs": [
    {
     "data": {
      "text/plain": [
       "'my name siddharth'"
      ]
     },
     "execution_count": 16,
     "metadata": {},
     "output_type": "execute_result"
    }
   ],
   "source": [
    "# Helper Code \n",
    "' '.join(['my','name','siddharth'])"
   ]
  },
  {
   "cell_type": "code",
   "execution_count": 32,
   "id": "4541e8f5",
   "metadata": {},
   "outputs": [],
   "source": [
    "# df['Message'].apply(yourwrittenfunction)"
   ]
  },
  {
   "cell_type": "code",
   "execution_count": 34,
   "id": "2dd5cfb9",
   "metadata": {},
   "outputs": [],
   "source": [
    "from nltk.tokenize import word_tokenize\n",
    "from nltk.corpus import stopwords"
   ]
  },
  {
   "cell_type": "code",
   "execution_count": 36,
   "id": "9190e444",
   "metadata": {},
   "outputs": [
    {
     "data": {
      "text/plain": [
       "['This', 'is', 'a', 'string']"
      ]
     },
     "execution_count": 36,
     "metadata": {},
     "output_type": "execute_result"
    }
   ],
   "source": [
    "word_tokenize('This is a string')"
   ]
  },
  {
   "cell_type": "code",
   "execution_count": 40,
   "id": "1ee6dcc0",
   "metadata": {},
   "outputs": [],
   "source": [
    "my_stopwords = stopwords.words('english')"
   ]
  },
  {
   "cell_type": "code",
   "execution_count": 41,
   "id": "58f0035d",
   "metadata": {},
   "outputs": [
    {
     "data": {
      "text/plain": [
       "['i',\n",
       " 'me',\n",
       " 'my',\n",
       " 'myself',\n",
       " 'we',\n",
       " 'our',\n",
       " 'ours',\n",
       " 'ourselves',\n",
       " 'you',\n",
       " \"you're\",\n",
       " \"you've\",\n",
       " \"you'll\",\n",
       " \"you'd\",\n",
       " 'your',\n",
       " 'yours',\n",
       " 'yourself',\n",
       " 'yourselves',\n",
       " 'he',\n",
       " 'him',\n",
       " 'his',\n",
       " 'himself',\n",
       " 'she',\n",
       " \"she's\",\n",
       " 'her',\n",
       " 'hers',\n",
       " 'herself',\n",
       " 'it',\n",
       " \"it's\",\n",
       " 'its',\n",
       " 'itself',\n",
       " 'they',\n",
       " 'them',\n",
       " 'their',\n",
       " 'theirs',\n",
       " 'themselves',\n",
       " 'what',\n",
       " 'which',\n",
       " 'who',\n",
       " 'whom',\n",
       " 'this',\n",
       " 'that',\n",
       " \"that'll\",\n",
       " 'these',\n",
       " 'those',\n",
       " 'am',\n",
       " 'is',\n",
       " 'are',\n",
       " 'was',\n",
       " 'were',\n",
       " 'be',\n",
       " 'been',\n",
       " 'being',\n",
       " 'have',\n",
       " 'has',\n",
       " 'had',\n",
       " 'having',\n",
       " 'do',\n",
       " 'does',\n",
       " 'did',\n",
       " 'doing',\n",
       " 'a',\n",
       " 'an',\n",
       " 'the',\n",
       " 'and',\n",
       " 'but',\n",
       " 'if',\n",
       " 'or',\n",
       " 'because',\n",
       " 'as',\n",
       " 'until',\n",
       " 'while',\n",
       " 'of',\n",
       " 'at',\n",
       " 'by',\n",
       " 'for',\n",
       " 'with',\n",
       " 'about',\n",
       " 'against',\n",
       " 'between',\n",
       " 'into',\n",
       " 'through',\n",
       " 'during',\n",
       " 'before',\n",
       " 'after',\n",
       " 'above',\n",
       " 'below',\n",
       " 'to',\n",
       " 'from',\n",
       " 'up',\n",
       " 'down',\n",
       " 'in',\n",
       " 'out',\n",
       " 'on',\n",
       " 'off',\n",
       " 'over',\n",
       " 'under',\n",
       " 'again',\n",
       " 'further',\n",
       " 'then',\n",
       " 'once',\n",
       " 'here',\n",
       " 'there',\n",
       " 'when',\n",
       " 'where',\n",
       " 'why',\n",
       " 'how',\n",
       " 'all',\n",
       " 'any',\n",
       " 'both',\n",
       " 'each',\n",
       " 'few',\n",
       " 'more',\n",
       " 'most',\n",
       " 'other',\n",
       " 'some',\n",
       " 'such',\n",
       " 'no',\n",
       " 'nor',\n",
       " 'not',\n",
       " 'only',\n",
       " 'own',\n",
       " 'same',\n",
       " 'so',\n",
       " 'than',\n",
       " 'too',\n",
       " 'very',\n",
       " 's',\n",
       " 't',\n",
       " 'can',\n",
       " 'will',\n",
       " 'just',\n",
       " 'don',\n",
       " \"don't\",\n",
       " 'should',\n",
       " \"should've\",\n",
       " 'now',\n",
       " 'd',\n",
       " 'll',\n",
       " 'm',\n",
       " 'o',\n",
       " 're',\n",
       " 've',\n",
       " 'y',\n",
       " 'ain',\n",
       " 'aren',\n",
       " \"aren't\",\n",
       " 'couldn',\n",
       " \"couldn't\",\n",
       " 'didn',\n",
       " \"didn't\",\n",
       " 'doesn',\n",
       " \"doesn't\",\n",
       " 'hadn',\n",
       " \"hadn't\",\n",
       " 'hasn',\n",
       " \"hasn't\",\n",
       " 'haven',\n",
       " \"haven't\",\n",
       " 'isn',\n",
       " \"isn't\",\n",
       " 'ma',\n",
       " 'mightn',\n",
       " \"mightn't\",\n",
       " 'mustn',\n",
       " \"mustn't\",\n",
       " 'needn',\n",
       " \"needn't\",\n",
       " 'shan',\n",
       " \"shan't\",\n",
       " 'shouldn',\n",
       " \"shouldn't\",\n",
       " 'wasn',\n",
       " \"wasn't\",\n",
       " 'weren',\n",
       " \"weren't\",\n",
       " 'won',\n",
       " \"won't\",\n",
       " 'wouldn',\n",
       " \"wouldn't\"]"
      ]
     },
     "execution_count": 41,
     "metadata": {},
     "output_type": "execute_result"
    }
   ],
   "source": [
    "my_stopwords"
   ]
  },
  {
   "cell_type": "code",
   "execution_count": 60,
   "id": "3aa87cb3",
   "metadata": {},
   "outputs": [],
   "source": [
    "def datacleaning(mystring):\n",
    "    # Step 1 \n",
    "    # Tokenize the string\n",
    "    my_tokenized_string = word_tokenize(mystring)\n",
    "    \n",
    "    # ----------------- End of step 1 ----------------- #\n",
    "    temp = []\n",
    "    for i in my_tokenized_string:\n",
    "#         print(f'i right now is ({i})')\n",
    "        if i in my_stopwords:\n",
    "            pass\n",
    "        else:\n",
    "            temp.append(i)\n",
    "#             print(f'We just appended ({i}) to our temp list')\n",
    "#             print(f'Our temp currently looks like {temp}')\n",
    "#             print('--------------------------------')\n",
    "    my_new_string = ' '.join(temp)\n",
    "    return my_new_string"
   ]
  },
  {
   "cell_type": "code",
   "execution_count": 51,
   "id": "6269c0a3",
   "metadata": {},
   "outputs": [
    {
     "data": {
      "text/plain": [
       "'my name siddharth'"
      ]
     },
     "execution_count": 51,
     "metadata": {},
     "output_type": "execute_result"
    }
   ],
   "source": [
    "# Helper Code \n",
    "' '.join(['my','name','siddharth'])"
   ]
  },
  {
   "cell_type": "code",
   "execution_count": 63,
   "id": "af55e94f",
   "metadata": {},
   "outputs": [
    {
     "data": {
      "text/plain": [
       "'My name siddharth'"
      ]
     },
     "execution_count": 63,
     "metadata": {},
     "output_type": "execute_result"
    }
   ],
   "source": [
    "datacleaning('My name is siddharth')"
   ]
  },
  {
   "cell_type": "markdown",
   "id": "dffd23b8",
   "metadata": {},
   "source": [
    "# Executing our function on our column"
   ]
  },
  {
   "cell_type": "code",
   "execution_count": 61,
   "id": "606df209",
   "metadata": {},
   "outputs": [
    {
     "data": {
      "text/plain": [
       "0       Go jurong point , crazy .. Available bugis n g...\n",
       "1                         Ok lar ... Joking wif u oni ...\n",
       "2       Free entry 2 wkly comp win FA Cup final tkts 2...\n",
       "3             U dun say early hor ... U c already say ...\n",
       "4          Nah I n't think goes usf , lives around though\n",
       "                              ...                        \n",
       "5567    This 2nd time tried 2 contact u. U £750 Pound ...\n",
       "5568                   Will ü b going esplanade fr home ?\n",
       "5569                 Pity , * mood . So ... suggestions ?\n",
       "5570    The guy bitching I acted like 'd interested bu...\n",
       "5571                                 Rofl . Its true name\n",
       "Name: Message, Length: 5572, dtype: object"
      ]
     },
     "execution_count": 61,
     "metadata": {},
     "output_type": "execute_result"
    }
   ],
   "source": [
    "df['Message'].apply(datacleaning)"
   ]
  },
  {
   "cell_type": "code",
   "execution_count": null,
   "id": "9b72534a",
   "metadata": {},
   "outputs": [],
   "source": []
  },
  {
   "cell_type": "code",
   "execution_count": null,
   "id": "8800e7a1",
   "metadata": {},
   "outputs": [],
   "source": []
  },
  {
   "cell_type": "code",
   "execution_count": null,
   "id": "e40f0f3e",
   "metadata": {},
   "outputs": [],
   "source": []
  },
  {
   "cell_type": "code",
   "execution_count": null,
   "id": "541d9dd7",
   "metadata": {},
   "outputs": [],
   "source": []
  }
 ],
 "metadata": {
  "kernelspec": {
   "display_name": "Python 3 (ipykernel)",
   "language": "python",
   "name": "python3"
  },
  "language_info": {
   "codemirror_mode": {
    "name": "ipython",
    "version": 3
   },
   "file_extension": ".py",
   "mimetype": "text/x-python",
   "name": "python",
   "nbconvert_exporter": "python",
   "pygments_lexer": "ipython3",
   "version": "3.7.16"
  }
 },
 "nbformat": 4,
 "nbformat_minor": 5
}
