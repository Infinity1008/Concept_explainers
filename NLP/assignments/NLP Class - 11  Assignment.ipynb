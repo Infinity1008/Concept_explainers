{
 "cells": [
  {
   "cell_type": "markdown",
   "id": "f7368825",
   "metadata": {},
   "source": [
    "# Assignment\n",
    "Take the Restaurant dataset given in google classroom\n",
    "\n",
    "\n",
    "# Question 1\n",
    "Prepare the data for modelling, This will include\n",
    "- Converting to lowercase\n",
    "- Removing stopwords\n",
    "- Lemmatization\n",
    "- Stemming\n",
    "- Removing numbers \n",
    "\n",
    "### Do it all in 1 function\n",
    "\n",
    "# Question 2\n",
    "Once the data has been cleaned :-\n",
    "- Convert the data into vectors with Count Vectorizer. (No train-test required)\n",
    "- Fit the K-means Clustering Algorithm on your vectors with n_clusters set to 5\n",
    "\n",
    "\n",
    "------------\n",
    "\n",
    "![](https://media.tenor.com/d8fG2J6pkAUAAAAC/friends-chandler.gif)"
   ]
  }
 ],
 "metadata": {
  "kernelspec": {
   "display_name": "Python 3 (ipykernel)",
   "language": "python",
   "name": "python3"
  },
  "language_info": {
   "codemirror_mode": {
    "name": "ipython",
    "version": 3
   },
   "file_extension": ".py",
   "mimetype": "text/x-python",
   "name": "python",
   "nbconvert_exporter": "python",
   "pygments_lexer": "ipython3",
   "version": "3.7.16"
  }
 },
 "nbformat": 4,
 "nbformat_minor": 5
}
