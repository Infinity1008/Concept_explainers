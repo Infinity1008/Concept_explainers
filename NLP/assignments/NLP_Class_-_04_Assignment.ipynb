{
 "cells": [
  {
   "cell_type": "markdown",
   "id": "8f49e536",
   "metadata": {},
   "source": [
    "# Question\n",
    "Create a python function that takes a string as an input and returns a string with every word lemmatized as an output. "
   ]
  },
  {
   "cell_type": "code",
   "execution_count": 6,
   "id": "8d388adf",
   "metadata": {},
   "outputs": [],
   "source": [
    "# I am writing some code as hints, feel free to solve it however you want\n",
    "from nltk.stem import WordNetLemmatizer\n",
    "lemmatizer = WordNetLemmatizer()"
   ]
  },
  {
   "cell_type": "code",
   "execution_count": 7,
   "id": "26be8a95",
   "metadata": {},
   "outputs": [
    {
     "data": {
      "text/plain": [
       "'Something'"
      ]
     },
     "execution_count": 7,
     "metadata": {},
     "output_type": "execute_result"
    }
   ],
   "source": [
    "lemmatizer.lemmatize('Something')"
   ]
  },
  {
   "cell_type": "code",
   "execution_count": 8,
   "id": "17a114c4",
   "metadata": {},
   "outputs": [
    {
     "data": {
      "text/plain": [
       "'running'"
      ]
     },
     "execution_count": 8,
     "metadata": {},
     "output_type": "execute_result"
    }
   ],
   "source": [
    "lemmatizer.lemmatize('running')"
   ]
  },
  {
   "cell_type": "code",
   "execution_count": null,
   "id": "056ed9da",
   "metadata": {},
   "outputs": [],
   "source": []
  }
 ],
 "metadata": {
  "kernelspec": {
   "display_name": "Python 3 (ipykernel)",
   "language": "python",
   "name": "python3"
  },
  "language_info": {
   "codemirror_mode": {
    "name": "ipython",
    "version": 3
   },
   "file_extension": ".py",
   "mimetype": "text/x-python",
   "name": "python",
   "nbconvert_exporter": "python",
   "pygments_lexer": "ipython3",
   "version": "3.9.15"
  }
 },
 "nbformat": 4,
 "nbformat_minor": 5
}
