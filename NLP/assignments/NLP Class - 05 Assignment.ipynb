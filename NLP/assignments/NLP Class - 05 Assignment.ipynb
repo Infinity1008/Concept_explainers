{
 "cells": [
  {
   "cell_type": "markdown",
   "id": "8f49e536",
   "metadata": {},
   "source": [
    "# Assignment\n",
    "Here is some dummy text\n",
    "- 'This is an example text, i am going to write anything here, use this text as your example'\n",
    "- 'You can use this text to convert into vectors'\n",
    "- 'Do remember to clean up the text before you start any processing'\n",
    "- 'Once you are done converting the text into numbers(vectors), do a shinchan dance'\n",
    "\n",
    "# Question 1\n",
    "Write code that will these four sentences into count vectors.\n",
    "\n",
    "# Question 2\n",
    "Write code that will these four sentences into tf-idf vectors."
   ]
  },
  {
   "cell_type": "code",
   "execution_count": 1,
   "id": "8d388adf",
   "metadata": {},
   "outputs": [],
   "source": [
    "# I am writing some code as hints, feel free to solve it however you want\n",
    "from sklearn.feature_extraction.text import CountVectorizer\n",
    "from sklearn.feature_extraction.text import TfidfVectorizer"
   ]
  },
  {
   "cell_type": "code",
   "execution_count": null,
   "id": "7ea684bf",
   "metadata": {},
   "outputs": [],
   "source": []
  },
  {
   "cell_type": "code",
   "execution_count": null,
   "id": "4dc4dfdd",
   "metadata": {},
   "outputs": [],
   "source": []
  },
  {
   "cell_type": "code",
   "execution_count": null,
   "id": "50333339",
   "metadata": {},
   "outputs": [],
   "source": []
  }
 ],
 "metadata": {
  "kernelspec": {
   "display_name": "Python 3 (ipykernel)",
   "language": "python",
   "name": "python3"
  },
  "language_info": {
   "codemirror_mode": {
    "name": "ipython",
    "version": 3
   },
   "file_extension": ".py",
   "mimetype": "text/x-python",
   "name": "python",
   "nbconvert_exporter": "python",
   "pygments_lexer": "ipython3",
   "version": "3.7.16"
  }
 },
 "nbformat": 4,
 "nbformat_minor": 5
}
