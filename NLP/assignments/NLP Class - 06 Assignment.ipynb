{
 "cells": [
  {
   "cell_type": "markdown",
   "id": "8f49e536",
   "metadata": {},
   "source": [
    "# Assignment\n",
    "Take the spam dataset used in class 7\n",
    "\n",
    "\n",
    "# Question 1\n",
    "Calculate how many of the messages are spam and how many are not\n",
    "\n",
    "\n",
    "# Question 2\n",
    "Plot a bar graph, for how many messages are spam and how many are not\n",
    "\n",
    "------------\n",
    "\n",
    "### (Brownie points, will not grade)\n",
    "# Question 3\n",
    "Calculate the length of the text in each row and find out longest text(Most number of words) in the data."
   ]
  },
  {
   "cell_type": "code",
   "execution_count": null,
   "id": "a6f6a082",
   "metadata": {},
   "outputs": [],
   "source": []
  }
 ],
 "metadata": {
  "kernelspec": {
   "display_name": "Python 3 (ipykernel)",
   "language": "python",
   "name": "python3"
  },
  "language_info": {
   "codemirror_mode": {
    "name": "ipython",
    "version": 3
   },
   "file_extension": ".py",
   "mimetype": "text/x-python",
   "name": "python",
   "nbconvert_exporter": "python",
   "pygments_lexer": "ipython3",
   "version": "3.7.16"
  }
 },
 "nbformat": 4,
 "nbformat_minor": 5
}
