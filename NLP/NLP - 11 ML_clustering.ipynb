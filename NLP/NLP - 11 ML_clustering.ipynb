{
 "cells": [
  {
   "cell_type": "markdown",
   "id": "1560c963",
   "metadata": {},
   "source": [
    "<h1><center>Natural Language Processing</center></h1>\n",
    "\n",
    "<h3><center>NLP 11</center></h3>\n",
    "\n",
    "![hM0xGrmJw](https://miro.medium.com/max/720/1*PGB0w1JZslqA-hM0xGrmJw.gif)"
   ]
  },
  {
   "cell_type": "markdown",
   "id": "446794f3",
   "metadata": {},
   "source": [
    "# Topics\n",
    "1.\tIntroduction to Natural Language Processing\n",
    "2.\tWhy learn NLP?\n",
    "3.\tLet's start playing with Python!\n",
    "4.\tText Wrangling and Cleansing\n",
    " - Sentence splitter\n",
    " - Tokenization\n",
    " - Stemming         \n",
    " - Lemmatization    \n",
    " - Stop word removal\n",
    " - Diving into NLTK\n",
    "5.\tVectorizing with Python\n",
    " - Count Vectorizer \n",
    " - TF-IDF Vectorizer\n",
    "6.\tModelling with Python \n",
    " - Classification \n",
    " - Clustering <---------------------------------------------------- **This is where we are**\n",
    " - Sentiment Analysis \n"
   ]
  },
  {
   "cell_type": "code",
   "execution_count": 1,
   "id": "e9631068",
   "metadata": {},
   "outputs": [],
   "source": [
    "import pandas as pd\n",
    "df = pd.read_csv('datasets/ecommerceDataset.csv',header=None, names=['Category','Text'])"
   ]
  },
  {
   "cell_type": "code",
   "execution_count": 2,
   "id": "d64b5078",
   "metadata": {},
   "outputs": [
    {
     "data": {
      "text/html": [
       "<div>\n",
       "<style scoped>\n",
       "    .dataframe tbody tr th:only-of-type {\n",
       "        vertical-align: middle;\n",
       "    }\n",
       "\n",
       "    .dataframe tbody tr th {\n",
       "        vertical-align: top;\n",
       "    }\n",
       "\n",
       "    .dataframe thead th {\n",
       "        text-align: right;\n",
       "    }\n",
       "</style>\n",
       "<table border=\"1\" class=\"dataframe\">\n",
       "  <thead>\n",
       "    <tr style=\"text-align: right;\">\n",
       "      <th></th>\n",
       "      <th>Category</th>\n",
       "      <th>Text</th>\n",
       "    </tr>\n",
       "  </thead>\n",
       "  <tbody>\n",
       "    <tr>\n",
       "      <th>0</th>\n",
       "      <td>Household</td>\n",
       "      <td>Paper Plane Design Framed Wall Hanging Motivat...</td>\n",
       "    </tr>\n",
       "    <tr>\n",
       "      <th>1</th>\n",
       "      <td>Household</td>\n",
       "      <td>SAF 'Floral' Framed Painting (Wood, 30 inch x ...</td>\n",
       "    </tr>\n",
       "    <tr>\n",
       "      <th>2</th>\n",
       "      <td>Household</td>\n",
       "      <td>SAF 'UV Textured Modern Art Print Framed' Pain...</td>\n",
       "    </tr>\n",
       "    <tr>\n",
       "      <th>3</th>\n",
       "      <td>Household</td>\n",
       "      <td>SAF Flower Print Framed Painting (Synthetic, 1...</td>\n",
       "    </tr>\n",
       "    <tr>\n",
       "      <th>4</th>\n",
       "      <td>Household</td>\n",
       "      <td>Incredible Gifts India Wooden Happy Birthday U...</td>\n",
       "    </tr>\n",
       "  </tbody>\n",
       "</table>\n",
       "</div>"
      ],
      "text/plain": [
       "    Category                                               Text\n",
       "0  Household  Paper Plane Design Framed Wall Hanging Motivat...\n",
       "1  Household  SAF 'Floral' Framed Painting (Wood, 30 inch x ...\n",
       "2  Household  SAF 'UV Textured Modern Art Print Framed' Pain...\n",
       "3  Household  SAF Flower Print Framed Painting (Synthetic, 1...\n",
       "4  Household  Incredible Gifts India Wooden Happy Birthday U..."
      ]
     },
     "execution_count": 2,
     "metadata": {},
     "output_type": "execute_result"
    }
   ],
   "source": [
    "df.head()"
   ]
  },
  {
   "cell_type": "code",
   "execution_count": 3,
   "id": "afce8792",
   "metadata": {},
   "outputs": [
    {
     "data": {
      "text/plain": [
       "(50425, 2)"
      ]
     },
     "execution_count": 3,
     "metadata": {},
     "output_type": "execute_result"
    }
   ],
   "source": [
    "df.shape"
   ]
  },
  {
   "cell_type": "markdown",
   "id": "b267b8f7",
   "metadata": {},
   "source": [
    "# If you want to work on a dataset, we can take a subset."
   ]
  },
  {
   "cell_type": "code",
   "execution_count": 4,
   "id": "1a200e85",
   "metadata": {},
   "outputs": [
    {
     "data": {
      "text/html": [
       "<div>\n",
       "<style scoped>\n",
       "    .dataframe tbody tr th:only-of-type {\n",
       "        vertical-align: middle;\n",
       "    }\n",
       "\n",
       "    .dataframe tbody tr th {\n",
       "        vertical-align: top;\n",
       "    }\n",
       "\n",
       "    .dataframe thead th {\n",
       "        text-align: right;\n",
       "    }\n",
       "</style>\n",
       "<table border=\"1\" class=\"dataframe\">\n",
       "  <thead>\n",
       "    <tr style=\"text-align: right;\">\n",
       "      <th></th>\n",
       "      <th>Category</th>\n",
       "      <th>Text</th>\n",
       "    </tr>\n",
       "  </thead>\n",
       "  <tbody>\n",
       "    <tr>\n",
       "      <th>0</th>\n",
       "      <td>Household</td>\n",
       "      <td>Paper Plane Design Framed Wall Hanging Motivat...</td>\n",
       "    </tr>\n",
       "    <tr>\n",
       "      <th>1</th>\n",
       "      <td>Household</td>\n",
       "      <td>SAF 'Floral' Framed Painting (Wood, 30 inch x ...</td>\n",
       "    </tr>\n",
       "    <tr>\n",
       "      <th>2</th>\n",
       "      <td>Household</td>\n",
       "      <td>SAF 'UV Textured Modern Art Print Framed' Pain...</td>\n",
       "    </tr>\n",
       "    <tr>\n",
       "      <th>3</th>\n",
       "      <td>Household</td>\n",
       "      <td>SAF Flower Print Framed Painting (Synthetic, 1...</td>\n",
       "    </tr>\n",
       "    <tr>\n",
       "      <th>4</th>\n",
       "      <td>Household</td>\n",
       "      <td>Incredible Gifts India Wooden Happy Birthday U...</td>\n",
       "    </tr>\n",
       "    <tr>\n",
       "      <th>5</th>\n",
       "      <td>Household</td>\n",
       "      <td>Pitaara Box Romantic Venice Canvas Painting 6m...</td>\n",
       "    </tr>\n",
       "    <tr>\n",
       "      <th>6</th>\n",
       "      <td>Household</td>\n",
       "      <td>Paper Plane Design Starry Night Vangoh Wall Ar...</td>\n",
       "    </tr>\n",
       "    <tr>\n",
       "      <th>7</th>\n",
       "      <td>Household</td>\n",
       "      <td>Pitaara Box Romantic Venice Canvas Painting 6m...</td>\n",
       "    </tr>\n",
       "    <tr>\n",
       "      <th>8</th>\n",
       "      <td>Household</td>\n",
       "      <td>SAF 'Ganesh Modern Art Print' Painting (Synthe...</td>\n",
       "    </tr>\n",
       "    <tr>\n",
       "      <th>9</th>\n",
       "      <td>Household</td>\n",
       "      <td>Paintings Villa UV Textured Modern Art Print F...</td>\n",
       "    </tr>\n",
       "  </tbody>\n",
       "</table>\n",
       "</div>"
      ],
      "text/plain": [
       "    Category                                               Text\n",
       "0  Household  Paper Plane Design Framed Wall Hanging Motivat...\n",
       "1  Household  SAF 'Floral' Framed Painting (Wood, 30 inch x ...\n",
       "2  Household  SAF 'UV Textured Modern Art Print Framed' Pain...\n",
       "3  Household  SAF Flower Print Framed Painting (Synthetic, 1...\n",
       "4  Household  Incredible Gifts India Wooden Happy Birthday U...\n",
       "5  Household  Pitaara Box Romantic Venice Canvas Painting 6m...\n",
       "6  Household  Paper Plane Design Starry Night Vangoh Wall Ar...\n",
       "7  Household  Pitaara Box Romantic Venice Canvas Painting 6m...\n",
       "8  Household  SAF 'Ganesh Modern Art Print' Painting (Synthe...\n",
       "9  Household  Paintings Villa UV Textured Modern Art Print F..."
      ]
     },
     "execution_count": 4,
     "metadata": {},
     "output_type": "execute_result"
    }
   ],
   "source": [
    "df.iloc[0:10,:]"
   ]
  },
  {
   "cell_type": "code",
   "execution_count": 5,
   "id": "b935b18c",
   "metadata": {},
   "outputs": [],
   "source": [
    "df_semi = df.iloc[0:100,:]"
   ]
  },
  {
   "cell_type": "code",
   "execution_count": 6,
   "id": "d10721c5",
   "metadata": {},
   "outputs": [
    {
     "data": {
      "text/plain": [
       "(100, 2)"
      ]
     },
     "execution_count": 6,
     "metadata": {},
     "output_type": "execute_result"
    }
   ],
   "source": [
    "df_semi.shape"
   ]
  },
  {
   "cell_type": "markdown",
   "id": "38bca1e1",
   "metadata": {},
   "source": [
    "# Pre-processing our Data\n",
    "\n",
    "\n",
    "## Step 1\n",
    "Lower case it\n",
    "\n",
    "## Step 2 \n",
    "Tokenize it\n",
    "\n",
    "## Step 3 \n",
    "Removing stopwords\n",
    "\n",
    "## Step 4\n",
    "Removing Numbers\n",
    "\n",
    "## Step 5\n",
    "Lemmatization/ Stemming\n",
    "\n",
    "## Step 6\n",
    "Joining it all back"
   ]
  },
  {
   "cell_type": "markdown",
   "id": "6b68583a",
   "metadata": {},
   "source": [
    "# Step 1\n",
    "Lower case it"
   ]
  },
  {
   "cell_type": "code",
   "execution_count": 7,
   "id": "ab7f9896",
   "metadata": {},
   "outputs": [],
   "source": [
    "x = 'This is my string'"
   ]
  },
  {
   "cell_type": "code",
   "execution_count": 8,
   "id": "281bcf2e",
   "metadata": {},
   "outputs": [
    {
     "data": {
      "text/plain": [
       "'this is my string'"
      ]
     },
     "execution_count": 8,
     "metadata": {},
     "output_type": "execute_result"
    }
   ],
   "source": [
    "x.lower()"
   ]
  },
  {
   "cell_type": "code",
   "execution_count": 9,
   "id": "4d76a371",
   "metadata": {},
   "outputs": [
    {
     "data": {
      "text/plain": [
       "'This is my string'"
      ]
     },
     "execution_count": 9,
     "metadata": {},
     "output_type": "execute_result"
    }
   ],
   "source": [
    "x"
   ]
  },
  {
   "cell_type": "code",
   "execution_count": 10,
   "id": "26c278eb",
   "metadata": {},
   "outputs": [],
   "source": [
    "x = x.lower()"
   ]
  },
  {
   "cell_type": "code",
   "execution_count": 11,
   "id": "035f2bb4",
   "metadata": {},
   "outputs": [
    {
     "data": {
      "text/plain": [
       "'this is my string'"
      ]
     },
     "execution_count": 11,
     "metadata": {},
     "output_type": "execute_result"
    }
   ],
   "source": [
    "x"
   ]
  },
  {
   "cell_type": "markdown",
   "id": "f9885c0c",
   "metadata": {},
   "source": [
    "# Step 2 \n",
    "Tokenize it"
   ]
  },
  {
   "cell_type": "code",
   "execution_count": 12,
   "id": "4beb7708",
   "metadata": {},
   "outputs": [],
   "source": [
    "from nltk.tokenize import word_tokenize"
   ]
  },
  {
   "cell_type": "code",
   "execution_count": 13,
   "id": "b5d4c38d",
   "metadata": {},
   "outputs": [
    {
     "data": {
      "text/plain": [
       "['This', 'is', 'my', 'test', 'string']"
      ]
     },
     "execution_count": 13,
     "metadata": {},
     "output_type": "execute_result"
    }
   ],
   "source": [
    "word_tokenize(\"This is my test string\")"
   ]
  },
  {
   "cell_type": "markdown",
   "id": "a7b0d647",
   "metadata": {},
   "source": [
    "# Step 3 \n",
    "Removing stopwords"
   ]
  },
  {
   "cell_type": "code",
   "execution_count": 14,
   "id": "ef929087",
   "metadata": {},
   "outputs": [],
   "source": [
    "from nltk.corpus import stopwords"
   ]
  },
  {
   "cell_type": "code",
   "execution_count": 15,
   "id": "e1213123",
   "metadata": {},
   "outputs": [
    {
     "data": {
      "text/plain": [
       "<WordListCorpusReader in '/Users/siddharthkothotya/nltk_data/corpora/stopwords'>"
      ]
     },
     "execution_count": 15,
     "metadata": {},
     "output_type": "execute_result"
    }
   ],
   "source": [
    "stopwords"
   ]
  },
  {
   "cell_type": "code",
   "execution_count": 16,
   "id": "4994539d",
   "metadata": {},
   "outputs": [
    {
     "data": {
      "text/plain": [
       "['i',\n",
       " 'me',\n",
       " 'my',\n",
       " 'myself',\n",
       " 'we',\n",
       " 'our',\n",
       " 'ours',\n",
       " 'ourselves',\n",
       " 'you',\n",
       " \"you're\",\n",
       " \"you've\",\n",
       " \"you'll\",\n",
       " \"you'd\",\n",
       " 'your',\n",
       " 'yours',\n",
       " 'yourself',\n",
       " 'yourselves',\n",
       " 'he',\n",
       " 'him',\n",
       " 'his',\n",
       " 'himself',\n",
       " 'she',\n",
       " \"she's\",\n",
       " 'her',\n",
       " 'hers',\n",
       " 'herself',\n",
       " 'it',\n",
       " \"it's\",\n",
       " 'its',\n",
       " 'itself',\n",
       " 'they',\n",
       " 'them',\n",
       " 'their',\n",
       " 'theirs',\n",
       " 'themselves',\n",
       " 'what',\n",
       " 'which',\n",
       " 'who',\n",
       " 'whom',\n",
       " 'this',\n",
       " 'that',\n",
       " \"that'll\",\n",
       " 'these',\n",
       " 'those',\n",
       " 'am',\n",
       " 'is',\n",
       " 'are',\n",
       " 'was',\n",
       " 'were',\n",
       " 'be',\n",
       " 'been',\n",
       " 'being',\n",
       " 'have',\n",
       " 'has',\n",
       " 'had',\n",
       " 'having',\n",
       " 'do',\n",
       " 'does',\n",
       " 'did',\n",
       " 'doing',\n",
       " 'a',\n",
       " 'an',\n",
       " 'the',\n",
       " 'and',\n",
       " 'but',\n",
       " 'if',\n",
       " 'or',\n",
       " 'because',\n",
       " 'as',\n",
       " 'until',\n",
       " 'while',\n",
       " 'of',\n",
       " 'at',\n",
       " 'by',\n",
       " 'for',\n",
       " 'with',\n",
       " 'about',\n",
       " 'against',\n",
       " 'between',\n",
       " 'into',\n",
       " 'through',\n",
       " 'during',\n",
       " 'before',\n",
       " 'after',\n",
       " 'above',\n",
       " 'below',\n",
       " 'to',\n",
       " 'from',\n",
       " 'up',\n",
       " 'down',\n",
       " 'in',\n",
       " 'out',\n",
       " 'on',\n",
       " 'off',\n",
       " 'over',\n",
       " 'under',\n",
       " 'again',\n",
       " 'further',\n",
       " 'then',\n",
       " 'once',\n",
       " 'here',\n",
       " 'there',\n",
       " 'when',\n",
       " 'where',\n",
       " 'why',\n",
       " 'how',\n",
       " 'all',\n",
       " 'any',\n",
       " 'both',\n",
       " 'each',\n",
       " 'few',\n",
       " 'more',\n",
       " 'most',\n",
       " 'other',\n",
       " 'some',\n",
       " 'such',\n",
       " 'no',\n",
       " 'nor',\n",
       " 'not',\n",
       " 'only',\n",
       " 'own',\n",
       " 'same',\n",
       " 'so',\n",
       " 'than',\n",
       " 'too',\n",
       " 'very',\n",
       " 's',\n",
       " 't',\n",
       " 'can',\n",
       " 'will',\n",
       " 'just',\n",
       " 'don',\n",
       " \"don't\",\n",
       " 'should',\n",
       " \"should've\",\n",
       " 'now',\n",
       " 'd',\n",
       " 'll',\n",
       " 'm',\n",
       " 'o',\n",
       " 're',\n",
       " 've',\n",
       " 'y',\n",
       " 'ain',\n",
       " 'aren',\n",
       " \"aren't\",\n",
       " 'couldn',\n",
       " \"couldn't\",\n",
       " 'didn',\n",
       " \"didn't\",\n",
       " 'doesn',\n",
       " \"doesn't\",\n",
       " 'hadn',\n",
       " \"hadn't\",\n",
       " 'hasn',\n",
       " \"hasn't\",\n",
       " 'haven',\n",
       " \"haven't\",\n",
       " 'isn',\n",
       " \"isn't\",\n",
       " 'ma',\n",
       " 'mightn',\n",
       " \"mightn't\",\n",
       " 'mustn',\n",
       " \"mustn't\",\n",
       " 'needn',\n",
       " \"needn't\",\n",
       " 'shan',\n",
       " \"shan't\",\n",
       " 'shouldn',\n",
       " \"shouldn't\",\n",
       " 'wasn',\n",
       " \"wasn't\",\n",
       " 'weren',\n",
       " \"weren't\",\n",
       " 'won',\n",
       " \"won't\",\n",
       " 'wouldn',\n",
       " \"wouldn't\"]"
      ]
     },
     "execution_count": 16,
     "metadata": {},
     "output_type": "execute_result"
    }
   ],
   "source": [
    "stopwords.words('English')"
   ]
  },
  {
   "cell_type": "code",
   "execution_count": 17,
   "id": "3dd1b7ee",
   "metadata": {},
   "outputs": [],
   "source": [
    "stop_words = stopwords.words('English')"
   ]
  },
  {
   "cell_type": "code",
   "execution_count": 18,
   "id": "62468c7c",
   "metadata": {},
   "outputs": [
    {
     "data": {
      "text/plain": [
       "['i',\n",
       " 'me',\n",
       " 'my',\n",
       " 'myself',\n",
       " 'we',\n",
       " 'our',\n",
       " 'ours',\n",
       " 'ourselves',\n",
       " 'you',\n",
       " \"you're\",\n",
       " \"you've\",\n",
       " \"you'll\",\n",
       " \"you'd\",\n",
       " 'your',\n",
       " 'yours',\n",
       " 'yourself',\n",
       " 'yourselves',\n",
       " 'he',\n",
       " 'him',\n",
       " 'his',\n",
       " 'himself',\n",
       " 'she',\n",
       " \"she's\",\n",
       " 'her',\n",
       " 'hers',\n",
       " 'herself',\n",
       " 'it',\n",
       " \"it's\",\n",
       " 'its',\n",
       " 'itself',\n",
       " 'they',\n",
       " 'them',\n",
       " 'their',\n",
       " 'theirs',\n",
       " 'themselves',\n",
       " 'what',\n",
       " 'which',\n",
       " 'who',\n",
       " 'whom',\n",
       " 'this',\n",
       " 'that',\n",
       " \"that'll\",\n",
       " 'these',\n",
       " 'those',\n",
       " 'am',\n",
       " 'is',\n",
       " 'are',\n",
       " 'was',\n",
       " 'were',\n",
       " 'be',\n",
       " 'been',\n",
       " 'being',\n",
       " 'have',\n",
       " 'has',\n",
       " 'had',\n",
       " 'having',\n",
       " 'do',\n",
       " 'does',\n",
       " 'did',\n",
       " 'doing',\n",
       " 'a',\n",
       " 'an',\n",
       " 'the',\n",
       " 'and',\n",
       " 'but',\n",
       " 'if',\n",
       " 'or',\n",
       " 'because',\n",
       " 'as',\n",
       " 'until',\n",
       " 'while',\n",
       " 'of',\n",
       " 'at',\n",
       " 'by',\n",
       " 'for',\n",
       " 'with',\n",
       " 'about',\n",
       " 'against',\n",
       " 'between',\n",
       " 'into',\n",
       " 'through',\n",
       " 'during',\n",
       " 'before',\n",
       " 'after',\n",
       " 'above',\n",
       " 'below',\n",
       " 'to',\n",
       " 'from',\n",
       " 'up',\n",
       " 'down',\n",
       " 'in',\n",
       " 'out',\n",
       " 'on',\n",
       " 'off',\n",
       " 'over',\n",
       " 'under',\n",
       " 'again',\n",
       " 'further',\n",
       " 'then',\n",
       " 'once',\n",
       " 'here',\n",
       " 'there',\n",
       " 'when',\n",
       " 'where',\n",
       " 'why',\n",
       " 'how',\n",
       " 'all',\n",
       " 'any',\n",
       " 'both',\n",
       " 'each',\n",
       " 'few',\n",
       " 'more',\n",
       " 'most',\n",
       " 'other',\n",
       " 'some',\n",
       " 'such',\n",
       " 'no',\n",
       " 'nor',\n",
       " 'not',\n",
       " 'only',\n",
       " 'own',\n",
       " 'same',\n",
       " 'so',\n",
       " 'than',\n",
       " 'too',\n",
       " 'very',\n",
       " 's',\n",
       " 't',\n",
       " 'can',\n",
       " 'will',\n",
       " 'just',\n",
       " 'don',\n",
       " \"don't\",\n",
       " 'should',\n",
       " \"should've\",\n",
       " 'now',\n",
       " 'd',\n",
       " 'll',\n",
       " 'm',\n",
       " 'o',\n",
       " 're',\n",
       " 've',\n",
       " 'y',\n",
       " 'ain',\n",
       " 'aren',\n",
       " \"aren't\",\n",
       " 'couldn',\n",
       " \"couldn't\",\n",
       " 'didn',\n",
       " \"didn't\",\n",
       " 'doesn',\n",
       " \"doesn't\",\n",
       " 'hadn',\n",
       " \"hadn't\",\n",
       " 'hasn',\n",
       " \"hasn't\",\n",
       " 'haven',\n",
       " \"haven't\",\n",
       " 'isn',\n",
       " \"isn't\",\n",
       " 'ma',\n",
       " 'mightn',\n",
       " \"mightn't\",\n",
       " 'mustn',\n",
       " \"mustn't\",\n",
       " 'needn',\n",
       " \"needn't\",\n",
       " 'shan',\n",
       " \"shan't\",\n",
       " 'shouldn',\n",
       " \"shouldn't\",\n",
       " 'wasn',\n",
       " \"wasn't\",\n",
       " 'weren',\n",
       " \"weren't\",\n",
       " 'won',\n",
       " \"won't\",\n",
       " 'wouldn',\n",
       " \"wouldn't\"]"
      ]
     },
     "execution_count": 18,
     "metadata": {},
     "output_type": "execute_result"
    }
   ],
   "source": [
    "stop_words"
   ]
  },
  {
   "cell_type": "code",
   "execution_count": 19,
   "id": "2aec692d",
   "metadata": {},
   "outputs": [
    {
     "data": {
      "text/plain": [
       "False"
      ]
     },
     "execution_count": 19,
     "metadata": {},
     "output_type": "execute_result"
    }
   ],
   "source": [
    "'siddharth' in stop_words"
   ]
  },
  {
   "cell_type": "code",
   "execution_count": 20,
   "id": "0a2abe6a",
   "metadata": {},
   "outputs": [],
   "source": [
    "a = ['This', 'is', 'my', 'test', 'string']"
   ]
  },
  {
   "cell_type": "code",
   "execution_count": 21,
   "id": "106bde1f",
   "metadata": {},
   "outputs": [
    {
     "name": "stdout",
     "output_type": "stream",
     "text": [
      "This\n",
      "is\n",
      "my\n",
      "test\n",
      "string\n"
     ]
    }
   ],
   "source": [
    "for i in a:\n",
    "    print(i)"
   ]
  },
  {
   "cell_type": "code",
   "execution_count": 22,
   "id": "c644c50e",
   "metadata": {},
   "outputs": [
    {
     "name": "stdout",
     "output_type": "stream",
     "text": [
      "This\n",
      "test\n",
      "string\n"
     ]
    }
   ],
   "source": [
    "for i in a:\n",
    "    if i in stop_words:\n",
    "        pass\n",
    "    else:\n",
    "        print(i)"
   ]
  },
  {
   "cell_type": "markdown",
   "id": "b2926509",
   "metadata": {},
   "source": [
    "# Step 4\n",
    "Removing Numbers"
   ]
  },
  {
   "cell_type": "code",
   "execution_count": 23,
   "id": "0cc71612",
   "metadata": {},
   "outputs": [],
   "source": [
    "a = 'Give me any string you want 123123'"
   ]
  },
  {
   "cell_type": "code",
   "execution_count": 24,
   "id": "441f087a",
   "metadata": {},
   "outputs": [
    {
     "data": {
      "text/plain": [
       "'Give me any string you want 123123'"
      ]
     },
     "execution_count": 24,
     "metadata": {},
     "output_type": "execute_result"
    }
   ],
   "source": [
    "a"
   ]
  },
  {
   "cell_type": "code",
   "execution_count": 25,
   "id": "d19f0286",
   "metadata": {},
   "outputs": [
    {
     "data": {
      "text/plain": [
       "False"
      ]
     },
     "execution_count": 25,
     "metadata": {},
     "output_type": "execute_result"
    }
   ],
   "source": [
    "a.isdigit()"
   ]
  },
  {
   "cell_type": "code",
   "execution_count": 26,
   "id": "d2eff6a2",
   "metadata": {},
   "outputs": [
    {
     "data": {
      "text/plain": [
       "False"
      ]
     },
     "execution_count": 26,
     "metadata": {},
     "output_type": "execute_result"
    }
   ],
   "source": [
    "'b'.isdigit()"
   ]
  },
  {
   "cell_type": "code",
   "execution_count": 27,
   "id": "6ac4286e",
   "metadata": {},
   "outputs": [
    {
     "data": {
      "text/plain": [
       "True"
      ]
     },
     "execution_count": 27,
     "metadata": {},
     "output_type": "execute_result"
    }
   ],
   "source": [
    "'100'.isalnum()"
   ]
  },
  {
   "cell_type": "code",
   "execution_count": 28,
   "id": "4c32e9f7",
   "metadata": {},
   "outputs": [
    {
     "data": {
      "text/plain": [
       "False"
      ]
     },
     "execution_count": 28,
     "metadata": {},
     "output_type": "execute_result"
    }
   ],
   "source": [
    "a.isalnum()"
   ]
  },
  {
   "cell_type": "code",
   "execution_count": 29,
   "id": "034a47bd",
   "metadata": {},
   "outputs": [],
   "source": [
    "a = word_tokenize(a)"
   ]
  },
  {
   "cell_type": "code",
   "execution_count": 30,
   "id": "1df8996c",
   "metadata": {},
   "outputs": [
    {
     "data": {
      "text/plain": [
       "['Give', 'me', 'any', 'string', 'you', 'want', '123123']"
      ]
     },
     "execution_count": 30,
     "metadata": {},
     "output_type": "execute_result"
    }
   ],
   "source": [
    "a"
   ]
  },
  {
   "cell_type": "code",
   "execution_count": 31,
   "id": "5783f13f",
   "metadata": {},
   "outputs": [],
   "source": [
    "temp = []\n",
    "for i in a:\n",
    "    if i.isalpha():\n",
    "        temp.append(i)\n",
    "    else:\n",
    "        pass"
   ]
  },
  {
   "cell_type": "code",
   "execution_count": 32,
   "id": "bb9f142e",
   "metadata": {},
   "outputs": [
    {
     "data": {
      "text/plain": [
       "['Give', 'me', 'any', 'string', 'you', 'want']"
      ]
     },
     "execution_count": 32,
     "metadata": {},
     "output_type": "execute_result"
    }
   ],
   "source": [
    "temp"
   ]
  },
  {
   "cell_type": "markdown",
   "id": "0c0c1162",
   "metadata": {},
   "source": [
    "# Step 5\n",
    "Lemmatization/ Stemming"
   ]
  },
  {
   "cell_type": "code",
   "execution_count": 33,
   "id": "3298e9e2",
   "metadata": {},
   "outputs": [],
   "source": [
    "a = 'Give me any string you want 123123'"
   ]
  },
  {
   "cell_type": "code",
   "execution_count": 34,
   "id": "3f69cef4",
   "metadata": {},
   "outputs": [
    {
     "data": {
      "text/plain": [
       "'Give me any string you want 123123'"
      ]
     },
     "execution_count": 34,
     "metadata": {},
     "output_type": "execute_result"
    }
   ],
   "source": [
    "a"
   ]
  },
  {
   "cell_type": "code",
   "execution_count": 35,
   "id": "335a65c5",
   "metadata": {},
   "outputs": [],
   "source": [
    "a = word_tokenize(a)"
   ]
  },
  {
   "cell_type": "code",
   "execution_count": 36,
   "id": "81a02d06",
   "metadata": {},
   "outputs": [
    {
     "data": {
      "text/plain": [
       "['Give', 'me', 'any', 'string', 'you', 'want', '123123']"
      ]
     },
     "execution_count": 36,
     "metadata": {},
     "output_type": "execute_result"
    }
   ],
   "source": [
    "a"
   ]
  },
  {
   "cell_type": "code",
   "execution_count": 37,
   "id": "c715e91f",
   "metadata": {},
   "outputs": [],
   "source": [
    "from nltk.stem import WordNetLemmatizer"
   ]
  },
  {
   "cell_type": "code",
   "execution_count": 38,
   "id": "04c78d6d",
   "metadata": {},
   "outputs": [],
   "source": [
    "# Initialising\n",
    "lemmatizer = WordNetLemmatizer()"
   ]
  },
  {
   "cell_type": "code",
   "execution_count": 39,
   "id": "0da1b6da",
   "metadata": {},
   "outputs": [
    {
     "data": {
      "text/plain": [
       "'running'"
      ]
     },
     "execution_count": 39,
     "metadata": {},
     "output_type": "execute_result"
    }
   ],
   "source": [
    "lemmatizer.lemmatize('running')"
   ]
  },
  {
   "cell_type": "code",
   "execution_count": 40,
   "id": "f3f309e4",
   "metadata": {},
   "outputs": [],
   "source": [
    "temp = []\n",
    "for i in a:\n",
    "    temp.append(lemmatizer.lemmatize(i))"
   ]
  },
  {
   "cell_type": "code",
   "execution_count": 41,
   "id": "66d3c1d1",
   "metadata": {},
   "outputs": [
    {
     "data": {
      "text/plain": [
       "['Give', 'me', 'any', 'string', 'you', 'want', '123123']"
      ]
     },
     "execution_count": 41,
     "metadata": {},
     "output_type": "execute_result"
    }
   ],
   "source": [
    "temp"
   ]
  },
  {
   "cell_type": "markdown",
   "id": "7482b360",
   "metadata": {},
   "source": [
    "# Step 6\n",
    "Joining it all back"
   ]
  },
  {
   "cell_type": "code",
   "execution_count": 42,
   "id": "2a4b81dd",
   "metadata": {},
   "outputs": [],
   "source": [
    "a = ['Give', 'me', 'any', 'string', 'you', 'want', '123123']"
   ]
  },
  {
   "cell_type": "code",
   "execution_count": 43,
   "id": "a48204be",
   "metadata": {},
   "outputs": [
    {
     "data": {
      "text/plain": [
       "['Give', 'me', 'any', 'string', 'you', 'want', '123123']"
      ]
     },
     "execution_count": 43,
     "metadata": {},
     "output_type": "execute_result"
    }
   ],
   "source": [
    "a"
   ]
  },
  {
   "cell_type": "code",
   "execution_count": 44,
   "id": "ba9d28fb",
   "metadata": {},
   "outputs": [
    {
     "data": {
      "text/plain": [
       "'Give me any string you want 123123'"
      ]
     },
     "execution_count": 44,
     "metadata": {},
     "output_type": "execute_result"
    }
   ],
   "source": [
    "' '.join(a)"
   ]
  },
  {
   "cell_type": "markdown",
   "id": "3da419cf",
   "metadata": {},
   "source": [
    "# Making a function out of it\n",
    "\n",
    "We don't do that here.\n",
    "\n",
    "![](https://media.giphy.com/media/TFTTO4OWzdwhFBzSUz/giphy.gif)\n",
    "\n",
    "I'll break my function in 2. "
   ]
  },
  {
   "cell_type": "markdown",
   "id": "71db50db",
   "metadata": {},
   "source": [
    "### Function 1"
   ]
  },
  {
   "cell_type": "code",
   "execution_count": 45,
   "id": "69ffd0e2",
   "metadata": {},
   "outputs": [],
   "source": [
    "# This will lowercase and remove stopwords\n",
    "def stop_words_remover(x):\n",
    "    # Making everything lowercase\n",
    "    x = str(x)\n",
    "    x = x.lower()\n",
    "\n",
    "    # Tokenizing it\n",
    "    tokenized_list = word_tokenize(x)\n",
    "    \n",
    "    # Removing stopwords\n",
    "    without_stopwords_list = []\n",
    "    \n",
    "    for i in tokenized_list:\n",
    "        if i in stop_words:\n",
    "            pass\n",
    "        else:\n",
    "            without_stopwords_list.append(i)\n",
    "            \n",
    "    # Joining it all back \n",
    "    result = ' '.join(without_stopwords_list)\n",
    "    return result"
   ]
  },
  {
   "cell_type": "code",
   "execution_count": 46,
   "id": "ce525015",
   "metadata": {},
   "outputs": [],
   "source": [
    "# Testing our function\n",
    "result = stop_words_remover('This is a test string, lets see if it works like it should')"
   ]
  },
  {
   "cell_type": "code",
   "execution_count": 47,
   "id": "fb3a3e65",
   "metadata": {},
   "outputs": [
    {
     "data": {
      "text/plain": [
       "'test string , lets see works like'"
      ]
     },
     "execution_count": 47,
     "metadata": {},
     "output_type": "execute_result"
    }
   ],
   "source": [
    "result"
   ]
  },
  {
   "cell_type": "markdown",
   "id": "8e3a7744",
   "metadata": {},
   "source": [
    "### Function 2"
   ]
  },
  {
   "cell_type": "code",
   "execution_count": 48,
   "id": "c5f785b8",
   "metadata": {},
   "outputs": [],
   "source": [
    "# This will remove numbers and lemmatize our words\n",
    "def numbers_go_brraa(x):\n",
    "    # Tokenizing it\n",
    "    tokenized_list = word_tokenize(x)\n",
    "    \n",
    "    # Removing numbers\n",
    "    without_numbers_list = []\n",
    "    \n",
    "    for i in tokenized_list:\n",
    "        if i.isnumeric():\n",
    "            pass\n",
    "        else:\n",
    "            without_numbers_list.append(i)\n",
    "\n",
    "    # Lemmatizing it all\n",
    "    lemmatized_list = []\n",
    "\n",
    "    for i in without_numbers_list:\n",
    "        # Initialising\n",
    "        lemmatizer = WordNetLemmatizer()\n",
    "\n",
    "        lemmatized_list.append(lemmatizer.lemmatize(i))\n",
    "\n",
    "    # Joining it all back \n",
    "    result = ' '.join(lemmatized_list)\n",
    "    return result    "
   ]
  },
  {
   "cell_type": "code",
   "execution_count": 49,
   "id": "7ee3848a",
   "metadata": {},
   "outputs": [],
   "source": [
    "# Testing our function\n",
    "result = numbers_go_brraa('This is a test string, lets see if it works like it should 123 000')"
   ]
  },
  {
   "cell_type": "code",
   "execution_count": 50,
   "id": "9ccc1e58",
   "metadata": {},
   "outputs": [
    {
     "data": {
      "text/plain": [
       "'This is a test string , let see if it work like it should'"
      ]
     },
     "execution_count": 50,
     "metadata": {},
     "output_type": "execute_result"
    }
   ],
   "source": [
    "result"
   ]
  },
  {
   "cell_type": "markdown",
   "id": "2129284e",
   "metadata": {},
   "source": [
    "# Applying on a dataframe"
   ]
  },
  {
   "cell_type": "code",
   "execution_count": 51,
   "id": "9e1a13d3",
   "metadata": {},
   "outputs": [
    {
     "data": {
      "text/html": [
       "<div>\n",
       "<style scoped>\n",
       "    .dataframe tbody tr th:only-of-type {\n",
       "        vertical-align: middle;\n",
       "    }\n",
       "\n",
       "    .dataframe tbody tr th {\n",
       "        vertical-align: top;\n",
       "    }\n",
       "\n",
       "    .dataframe thead th {\n",
       "        text-align: right;\n",
       "    }\n",
       "</style>\n",
       "<table border=\"1\" class=\"dataframe\">\n",
       "  <thead>\n",
       "    <tr style=\"text-align: right;\">\n",
       "      <th></th>\n",
       "      <th>Category</th>\n",
       "      <th>Text</th>\n",
       "    </tr>\n",
       "  </thead>\n",
       "  <tbody>\n",
       "    <tr>\n",
       "      <th>0</th>\n",
       "      <td>Household</td>\n",
       "      <td>Paper Plane Design Framed Wall Hanging Motivat...</td>\n",
       "    </tr>\n",
       "    <tr>\n",
       "      <th>1</th>\n",
       "      <td>Household</td>\n",
       "      <td>SAF 'Floral' Framed Painting (Wood, 30 inch x ...</td>\n",
       "    </tr>\n",
       "    <tr>\n",
       "      <th>2</th>\n",
       "      <td>Household</td>\n",
       "      <td>SAF 'UV Textured Modern Art Print Framed' Pain...</td>\n",
       "    </tr>\n",
       "    <tr>\n",
       "      <th>3</th>\n",
       "      <td>Household</td>\n",
       "      <td>SAF Flower Print Framed Painting (Synthetic, 1...</td>\n",
       "    </tr>\n",
       "    <tr>\n",
       "      <th>4</th>\n",
       "      <td>Household</td>\n",
       "      <td>Incredible Gifts India Wooden Happy Birthday U...</td>\n",
       "    </tr>\n",
       "    <tr>\n",
       "      <th>...</th>\n",
       "      <td>...</td>\n",
       "      <td>...</td>\n",
       "    </tr>\n",
       "    <tr>\n",
       "      <th>50420</th>\n",
       "      <td>Electronics</td>\n",
       "      <td>Strontium MicroSD Class 10 8GB Memory Card (Bl...</td>\n",
       "    </tr>\n",
       "    <tr>\n",
       "      <th>50421</th>\n",
       "      <td>Electronics</td>\n",
       "      <td>CrossBeats Wave Waterproof Bluetooth Wireless ...</td>\n",
       "    </tr>\n",
       "    <tr>\n",
       "      <th>50422</th>\n",
       "      <td>Electronics</td>\n",
       "      <td>Karbonn Titanium Wind W4 (White) Karbonn Titan...</td>\n",
       "    </tr>\n",
       "    <tr>\n",
       "      <th>50423</th>\n",
       "      <td>Electronics</td>\n",
       "      <td>Samsung Guru FM Plus (SM-B110E/D, Black) Colou...</td>\n",
       "    </tr>\n",
       "    <tr>\n",
       "      <th>50424</th>\n",
       "      <td>Electronics</td>\n",
       "      <td>Micromax Canvas Win W121 (White)</td>\n",
       "    </tr>\n",
       "  </tbody>\n",
       "</table>\n",
       "<p>50425 rows × 2 columns</p>\n",
       "</div>"
      ],
      "text/plain": [
       "          Category                                               Text\n",
       "0        Household  Paper Plane Design Framed Wall Hanging Motivat...\n",
       "1        Household  SAF 'Floral' Framed Painting (Wood, 30 inch x ...\n",
       "2        Household  SAF 'UV Textured Modern Art Print Framed' Pain...\n",
       "3        Household  SAF Flower Print Framed Painting (Synthetic, 1...\n",
       "4        Household  Incredible Gifts India Wooden Happy Birthday U...\n",
       "...            ...                                                ...\n",
       "50420  Electronics  Strontium MicroSD Class 10 8GB Memory Card (Bl...\n",
       "50421  Electronics  CrossBeats Wave Waterproof Bluetooth Wireless ...\n",
       "50422  Electronics  Karbonn Titanium Wind W4 (White) Karbonn Titan...\n",
       "50423  Electronics  Samsung Guru FM Plus (SM-B110E/D, Black) Colou...\n",
       "50424  Electronics                   Micromax Canvas Win W121 (White)\n",
       "\n",
       "[50425 rows x 2 columns]"
      ]
     },
     "execution_count": 51,
     "metadata": {},
     "output_type": "execute_result"
    }
   ],
   "source": [
    "df"
   ]
  },
  {
   "cell_type": "markdown",
   "id": "748815ca",
   "metadata": {},
   "source": [
    "# Example of how to apply a function on our dataframe"
   ]
  },
  {
   "cell_type": "code",
   "execution_count": 52,
   "id": "4639c21c",
   "metadata": {},
   "outputs": [],
   "source": [
    "# Defining a function\n",
    "def myfunction(x):\n",
    "    return x.lower()"
   ]
  },
  {
   "cell_type": "code",
   "execution_count": 53,
   "id": "e74bc15a",
   "metadata": {},
   "outputs": [
    {
     "data": {
      "text/plain": [
       "0          household\n",
       "1          household\n",
       "2          household\n",
       "3          household\n",
       "4          household\n",
       "            ...     \n",
       "50420    electronics\n",
       "50421    electronics\n",
       "50422    electronics\n",
       "50423    electronics\n",
       "50424    electronics\n",
       "Name: Category, Length: 50425, dtype: object"
      ]
     },
     "execution_count": 53,
     "metadata": {},
     "output_type": "execute_result"
    }
   ],
   "source": [
    "# Applying the said function\n",
    "df['Category'].apply(myfunction)"
   ]
  },
  {
   "cell_type": "code",
   "execution_count": 54,
   "id": "47712934",
   "metadata": {},
   "outputs": [
    {
     "data": {
      "text/html": [
       "<div>\n",
       "<style scoped>\n",
       "    .dataframe tbody tr th:only-of-type {\n",
       "        vertical-align: middle;\n",
       "    }\n",
       "\n",
       "    .dataframe tbody tr th {\n",
       "        vertical-align: top;\n",
       "    }\n",
       "\n",
       "    .dataframe thead th {\n",
       "        text-align: right;\n",
       "    }\n",
       "</style>\n",
       "<table border=\"1\" class=\"dataframe\">\n",
       "  <thead>\n",
       "    <tr style=\"text-align: right;\">\n",
       "      <th></th>\n",
       "      <th>Category</th>\n",
       "      <th>Text</th>\n",
       "    </tr>\n",
       "  </thead>\n",
       "  <tbody>\n",
       "    <tr>\n",
       "      <th>0</th>\n",
       "      <td>Household</td>\n",
       "      <td>Paper Plane Design Framed Wall Hanging Motivat...</td>\n",
       "    </tr>\n",
       "    <tr>\n",
       "      <th>1</th>\n",
       "      <td>Household</td>\n",
       "      <td>SAF 'Floral' Framed Painting (Wood, 30 inch x ...</td>\n",
       "    </tr>\n",
       "    <tr>\n",
       "      <th>2</th>\n",
       "      <td>Household</td>\n",
       "      <td>SAF 'UV Textured Modern Art Print Framed' Pain...</td>\n",
       "    </tr>\n",
       "    <tr>\n",
       "      <th>3</th>\n",
       "      <td>Household</td>\n",
       "      <td>SAF Flower Print Framed Painting (Synthetic, 1...</td>\n",
       "    </tr>\n",
       "    <tr>\n",
       "      <th>4</th>\n",
       "      <td>Household</td>\n",
       "      <td>Incredible Gifts India Wooden Happy Birthday U...</td>\n",
       "    </tr>\n",
       "    <tr>\n",
       "      <th>...</th>\n",
       "      <td>...</td>\n",
       "      <td>...</td>\n",
       "    </tr>\n",
       "    <tr>\n",
       "      <th>50420</th>\n",
       "      <td>Electronics</td>\n",
       "      <td>Strontium MicroSD Class 10 8GB Memory Card (Bl...</td>\n",
       "    </tr>\n",
       "    <tr>\n",
       "      <th>50421</th>\n",
       "      <td>Electronics</td>\n",
       "      <td>CrossBeats Wave Waterproof Bluetooth Wireless ...</td>\n",
       "    </tr>\n",
       "    <tr>\n",
       "      <th>50422</th>\n",
       "      <td>Electronics</td>\n",
       "      <td>Karbonn Titanium Wind W4 (White) Karbonn Titan...</td>\n",
       "    </tr>\n",
       "    <tr>\n",
       "      <th>50423</th>\n",
       "      <td>Electronics</td>\n",
       "      <td>Samsung Guru FM Plus (SM-B110E/D, Black) Colou...</td>\n",
       "    </tr>\n",
       "    <tr>\n",
       "      <th>50424</th>\n",
       "      <td>Electronics</td>\n",
       "      <td>Micromax Canvas Win W121 (White)</td>\n",
       "    </tr>\n",
       "  </tbody>\n",
       "</table>\n",
       "<p>50425 rows × 2 columns</p>\n",
       "</div>"
      ],
      "text/plain": [
       "          Category                                               Text\n",
       "0        Household  Paper Plane Design Framed Wall Hanging Motivat...\n",
       "1        Household  SAF 'Floral' Framed Painting (Wood, 30 inch x ...\n",
       "2        Household  SAF 'UV Textured Modern Art Print Framed' Pain...\n",
       "3        Household  SAF Flower Print Framed Painting (Synthetic, 1...\n",
       "4        Household  Incredible Gifts India Wooden Happy Birthday U...\n",
       "...            ...                                                ...\n",
       "50420  Electronics  Strontium MicroSD Class 10 8GB Memory Card (Bl...\n",
       "50421  Electronics  CrossBeats Wave Waterproof Bluetooth Wireless ...\n",
       "50422  Electronics  Karbonn Titanium Wind W4 (White) Karbonn Titan...\n",
       "50423  Electronics  Samsung Guru FM Plus (SM-B110E/D, Black) Colou...\n",
       "50424  Electronics                   Micromax Canvas Win W121 (White)\n",
       "\n",
       "[50425 rows x 2 columns]"
      ]
     },
     "execution_count": 54,
     "metadata": {},
     "output_type": "execute_result"
    }
   ],
   "source": [
    "# The output does not gets saved, that part you will have to do\n",
    "df"
   ]
  },
  {
   "cell_type": "code",
   "execution_count": 55,
   "id": "9b611104",
   "metadata": {},
   "outputs": [],
   "source": [
    "# You can save it in a new column like this, i am not running this cell \n",
    "# since i don't want to deal with another column.\n",
    "\n",
    "\n",
    "# df['mynewcolumn'] = df['Category'].apply(myfunction)"
   ]
  },
  {
   "cell_type": "code",
   "execution_count": 56,
   "id": "1d5ad283",
   "metadata": {},
   "outputs": [
    {
     "data": {
      "text/html": [
       "<div>\n",
       "<style scoped>\n",
       "    .dataframe tbody tr th:only-of-type {\n",
       "        vertical-align: middle;\n",
       "    }\n",
       "\n",
       "    .dataframe tbody tr th {\n",
       "        vertical-align: top;\n",
       "    }\n",
       "\n",
       "    .dataframe thead th {\n",
       "        text-align: right;\n",
       "    }\n",
       "</style>\n",
       "<table border=\"1\" class=\"dataframe\">\n",
       "  <thead>\n",
       "    <tr style=\"text-align: right;\">\n",
       "      <th></th>\n",
       "      <th>Category</th>\n",
       "      <th>Text</th>\n",
       "    </tr>\n",
       "  </thead>\n",
       "  <tbody>\n",
       "    <tr>\n",
       "      <th>0</th>\n",
       "      <td>Household</td>\n",
       "      <td>Paper Plane Design Framed Wall Hanging Motivat...</td>\n",
       "    </tr>\n",
       "    <tr>\n",
       "      <th>1</th>\n",
       "      <td>Household</td>\n",
       "      <td>SAF 'Floral' Framed Painting (Wood, 30 inch x ...</td>\n",
       "    </tr>\n",
       "    <tr>\n",
       "      <th>2</th>\n",
       "      <td>Household</td>\n",
       "      <td>SAF 'UV Textured Modern Art Print Framed' Pain...</td>\n",
       "    </tr>\n",
       "    <tr>\n",
       "      <th>3</th>\n",
       "      <td>Household</td>\n",
       "      <td>SAF Flower Print Framed Painting (Synthetic, 1...</td>\n",
       "    </tr>\n",
       "    <tr>\n",
       "      <th>4</th>\n",
       "      <td>Household</td>\n",
       "      <td>Incredible Gifts India Wooden Happy Birthday U...</td>\n",
       "    </tr>\n",
       "    <tr>\n",
       "      <th>...</th>\n",
       "      <td>...</td>\n",
       "      <td>...</td>\n",
       "    </tr>\n",
       "    <tr>\n",
       "      <th>50420</th>\n",
       "      <td>Electronics</td>\n",
       "      <td>Strontium MicroSD Class 10 8GB Memory Card (Bl...</td>\n",
       "    </tr>\n",
       "    <tr>\n",
       "      <th>50421</th>\n",
       "      <td>Electronics</td>\n",
       "      <td>CrossBeats Wave Waterproof Bluetooth Wireless ...</td>\n",
       "    </tr>\n",
       "    <tr>\n",
       "      <th>50422</th>\n",
       "      <td>Electronics</td>\n",
       "      <td>Karbonn Titanium Wind W4 (White) Karbonn Titan...</td>\n",
       "    </tr>\n",
       "    <tr>\n",
       "      <th>50423</th>\n",
       "      <td>Electronics</td>\n",
       "      <td>Samsung Guru FM Plus (SM-B110E/D, Black) Colou...</td>\n",
       "    </tr>\n",
       "    <tr>\n",
       "      <th>50424</th>\n",
       "      <td>Electronics</td>\n",
       "      <td>Micromax Canvas Win W121 (White)</td>\n",
       "    </tr>\n",
       "  </tbody>\n",
       "</table>\n",
       "<p>50425 rows × 2 columns</p>\n",
       "</div>"
      ],
      "text/plain": [
       "          Category                                               Text\n",
       "0        Household  Paper Plane Design Framed Wall Hanging Motivat...\n",
       "1        Household  SAF 'Floral' Framed Painting (Wood, 30 inch x ...\n",
       "2        Household  SAF 'UV Textured Modern Art Print Framed' Pain...\n",
       "3        Household  SAF Flower Print Framed Painting (Synthetic, 1...\n",
       "4        Household  Incredible Gifts India Wooden Happy Birthday U...\n",
       "...            ...                                                ...\n",
       "50420  Electronics  Strontium MicroSD Class 10 8GB Memory Card (Bl...\n",
       "50421  Electronics  CrossBeats Wave Waterproof Bluetooth Wireless ...\n",
       "50422  Electronics  Karbonn Titanium Wind W4 (White) Karbonn Titan...\n",
       "50423  Electronics  Samsung Guru FM Plus (SM-B110E/D, Black) Colou...\n",
       "50424  Electronics                   Micromax Canvas Win W121 (White)\n",
       "\n",
       "[50425 rows x 2 columns]"
      ]
     },
     "execution_count": 56,
     "metadata": {},
     "output_type": "execute_result"
    }
   ],
   "source": [
    "df"
   ]
  },
  {
   "cell_type": "markdown",
   "id": "b3de8120",
   "metadata": {},
   "source": [
    "# Let's clean our data\n",
    "\n",
    "![](https://media.giphy.com/media/CjmvTCZf2U3p09Cn0h/giphy.gif)"
   ]
  },
  {
   "cell_type": "code",
   "execution_count": 57,
   "id": "5b72ed1d",
   "metadata": {},
   "outputs": [
    {
     "data": {
      "text/plain": [
       "0        Paper Plane Design Framed Wall Hanging Motivat...\n",
       "1        SAF 'Floral' Framed Painting (Wood, 30 inch x ...\n",
       "2        SAF 'UV Textured Modern Art Print Framed' Pain...\n",
       "3        SAF Flower Print Framed Painting (Synthetic, 1...\n",
       "4        Incredible Gifts India Wooden Happy Birthday U...\n",
       "                               ...                        \n",
       "50420    Strontium MicroSD Class 10 8GB Memory Card (Bl...\n",
       "50421    CrossBeats Wave Waterproof Bluetooth Wireless ...\n",
       "50422    Karbonn Titanium Wind W4 (White) Karbonn Titan...\n",
       "50423    Samsung Guru FM Plus (SM-B110E/D, Black) Colou...\n",
       "50424                     Micromax Canvas Win W121 (White)\n",
       "Name: Text, Length: 50425, dtype: object"
      ]
     },
     "execution_count": 57,
     "metadata": {},
     "output_type": "execute_result"
    }
   ],
   "source": [
    "# Looking at our data\n",
    "df['Text']"
   ]
  },
  {
   "cell_type": "code",
   "execution_count": 58,
   "id": "38fc59a6",
   "metadata": {},
   "outputs": [
    {
     "data": {
      "text/plain": [
       "0        paper plane design framed wall hanging motivat...\n",
       "1        saf 'floral ' framed painting ( wood , 30 inch...\n",
       "2        saf 'uv textured modern art print framed ' pai...\n",
       "3        saf flower print framed painting ( synthetic ,...\n",
       "4        incredible gifts india wooden happy birthday u...\n",
       "                               ...                        \n",
       "50420    strontium microsd class 10 8gb memory card ( b...\n",
       "50421    crossbeats wave waterproof bluetooth wireless ...\n",
       "50422    karbonn titanium wind w4 ( white ) karbonn tit...\n",
       "50423    samsung guru fm plus ( sm-b110e/d , black ) co...\n",
       "50424                   micromax canvas win w121 ( white )\n",
       "Name: Text, Length: 50425, dtype: object"
      ]
     },
     "execution_count": 58,
     "metadata": {},
     "output_type": "execute_result"
    }
   ],
   "source": [
    "# Applying our function on our dataframe\n",
    "df['Text'].apply(stop_words_remover)"
   ]
  },
  {
   "cell_type": "code",
   "execution_count": 59,
   "id": "8d33188e",
   "metadata": {},
   "outputs": [],
   "source": [
    "# Saving it in a column\n",
    "df['Text_no_stopwords'] = df['Text'].apply(stop_words_remover)"
   ]
  },
  {
   "cell_type": "code",
   "execution_count": 60,
   "id": "659dd04e",
   "metadata": {},
   "outputs": [
    {
     "data": {
      "text/html": [
       "<div>\n",
       "<style scoped>\n",
       "    .dataframe tbody tr th:only-of-type {\n",
       "        vertical-align: middle;\n",
       "    }\n",
       "\n",
       "    .dataframe tbody tr th {\n",
       "        vertical-align: top;\n",
       "    }\n",
       "\n",
       "    .dataframe thead th {\n",
       "        text-align: right;\n",
       "    }\n",
       "</style>\n",
       "<table border=\"1\" class=\"dataframe\">\n",
       "  <thead>\n",
       "    <tr style=\"text-align: right;\">\n",
       "      <th></th>\n",
       "      <th>Category</th>\n",
       "      <th>Text</th>\n",
       "      <th>Text_no_stopwords</th>\n",
       "    </tr>\n",
       "  </thead>\n",
       "  <tbody>\n",
       "    <tr>\n",
       "      <th>0</th>\n",
       "      <td>Household</td>\n",
       "      <td>Paper Plane Design Framed Wall Hanging Motivat...</td>\n",
       "      <td>paper plane design framed wall hanging motivat...</td>\n",
       "    </tr>\n",
       "    <tr>\n",
       "      <th>1</th>\n",
       "      <td>Household</td>\n",
       "      <td>SAF 'Floral' Framed Painting (Wood, 30 inch x ...</td>\n",
       "      <td>saf 'floral ' framed painting ( wood , 30 inch...</td>\n",
       "    </tr>\n",
       "    <tr>\n",
       "      <th>2</th>\n",
       "      <td>Household</td>\n",
       "      <td>SAF 'UV Textured Modern Art Print Framed' Pain...</td>\n",
       "      <td>saf 'uv textured modern art print framed ' pai...</td>\n",
       "    </tr>\n",
       "    <tr>\n",
       "      <th>3</th>\n",
       "      <td>Household</td>\n",
       "      <td>SAF Flower Print Framed Painting (Synthetic, 1...</td>\n",
       "      <td>saf flower print framed painting ( synthetic ,...</td>\n",
       "    </tr>\n",
       "    <tr>\n",
       "      <th>4</th>\n",
       "      <td>Household</td>\n",
       "      <td>Incredible Gifts India Wooden Happy Birthday U...</td>\n",
       "      <td>incredible gifts india wooden happy birthday u...</td>\n",
       "    </tr>\n",
       "    <tr>\n",
       "      <th>...</th>\n",
       "      <td>...</td>\n",
       "      <td>...</td>\n",
       "      <td>...</td>\n",
       "    </tr>\n",
       "    <tr>\n",
       "      <th>50420</th>\n",
       "      <td>Electronics</td>\n",
       "      <td>Strontium MicroSD Class 10 8GB Memory Card (Bl...</td>\n",
       "      <td>strontium microsd class 10 8gb memory card ( b...</td>\n",
       "    </tr>\n",
       "    <tr>\n",
       "      <th>50421</th>\n",
       "      <td>Electronics</td>\n",
       "      <td>CrossBeats Wave Waterproof Bluetooth Wireless ...</td>\n",
       "      <td>crossbeats wave waterproof bluetooth wireless ...</td>\n",
       "    </tr>\n",
       "    <tr>\n",
       "      <th>50422</th>\n",
       "      <td>Electronics</td>\n",
       "      <td>Karbonn Titanium Wind W4 (White) Karbonn Titan...</td>\n",
       "      <td>karbonn titanium wind w4 ( white ) karbonn tit...</td>\n",
       "    </tr>\n",
       "    <tr>\n",
       "      <th>50423</th>\n",
       "      <td>Electronics</td>\n",
       "      <td>Samsung Guru FM Plus (SM-B110E/D, Black) Colou...</td>\n",
       "      <td>samsung guru fm plus ( sm-b110e/d , black ) co...</td>\n",
       "    </tr>\n",
       "    <tr>\n",
       "      <th>50424</th>\n",
       "      <td>Electronics</td>\n",
       "      <td>Micromax Canvas Win W121 (White)</td>\n",
       "      <td>micromax canvas win w121 ( white )</td>\n",
       "    </tr>\n",
       "  </tbody>\n",
       "</table>\n",
       "<p>50425 rows × 3 columns</p>\n",
       "</div>"
      ],
      "text/plain": [
       "          Category                                               Text  \\\n",
       "0        Household  Paper Plane Design Framed Wall Hanging Motivat...   \n",
       "1        Household  SAF 'Floral' Framed Painting (Wood, 30 inch x ...   \n",
       "2        Household  SAF 'UV Textured Modern Art Print Framed' Pain...   \n",
       "3        Household  SAF Flower Print Framed Painting (Synthetic, 1...   \n",
       "4        Household  Incredible Gifts India Wooden Happy Birthday U...   \n",
       "...            ...                                                ...   \n",
       "50420  Electronics  Strontium MicroSD Class 10 8GB Memory Card (Bl...   \n",
       "50421  Electronics  CrossBeats Wave Waterproof Bluetooth Wireless ...   \n",
       "50422  Electronics  Karbonn Titanium Wind W4 (White) Karbonn Titan...   \n",
       "50423  Electronics  Samsung Guru FM Plus (SM-B110E/D, Black) Colou...   \n",
       "50424  Electronics                   Micromax Canvas Win W121 (White)   \n",
       "\n",
       "                                       Text_no_stopwords  \n",
       "0      paper plane design framed wall hanging motivat...  \n",
       "1      saf 'floral ' framed painting ( wood , 30 inch...  \n",
       "2      saf 'uv textured modern art print framed ' pai...  \n",
       "3      saf flower print framed painting ( synthetic ,...  \n",
       "4      incredible gifts india wooden happy birthday u...  \n",
       "...                                                  ...  \n",
       "50420  strontium microsd class 10 8gb memory card ( b...  \n",
       "50421  crossbeats wave waterproof bluetooth wireless ...  \n",
       "50422  karbonn titanium wind w4 ( white ) karbonn tit...  \n",
       "50423  samsung guru fm plus ( sm-b110e/d , black ) co...  \n",
       "50424                 micromax canvas win w121 ( white )  \n",
       "\n",
       "[50425 rows x 3 columns]"
      ]
     },
     "execution_count": 60,
     "metadata": {},
     "output_type": "execute_result"
    }
   ],
   "source": [
    "df"
   ]
  },
  {
   "cell_type": "markdown",
   "id": "36baddc5",
   "metadata": {},
   "source": [
    "# Applying our second function"
   ]
  },
  {
   "cell_type": "code",
   "execution_count": 61,
   "id": "45225fff",
   "metadata": {},
   "outputs": [
    {
     "data": {
      "text/plain": [
       "0        paper plane design framed wall hanging motivat...\n",
       "1        saf 'floral ' framed painting ( wood , inch x ...\n",
       "2        saf 'uv textured modern art print framed ' pai...\n",
       "3        saf flower print framed painting ( synthetic ,...\n",
       "4        incredible gift india wooden happy birthday un...\n",
       "                               ...                        \n",
       "50420    strontium microsd class 8gb memory card ( blac...\n",
       "50421    crossbeats wave waterproof bluetooth wireless ...\n",
       "50422    karbonn titanium wind w4 ( white ) karbonn tit...\n",
       "50423    samsung guru fm plus ( sm-b110e/d , black ) co...\n",
       "50424                   micromax canvas win w121 ( white )\n",
       "Name: Text_no_stopwords, Length: 50425, dtype: object"
      ]
     },
     "execution_count": 61,
     "metadata": {},
     "output_type": "execute_result"
    }
   ],
   "source": [
    "df['Text_no_stopwords'].apply(numbers_go_brraa)"
   ]
  },
  {
   "cell_type": "code",
   "execution_count": 62,
   "id": "a950942a",
   "metadata": {},
   "outputs": [],
   "source": [
    "# Saving it to a column\n",
    "df['Text_no_numbers_lemma'] = df['Text_no_stopwords'].apply(numbers_go_brraa)"
   ]
  },
  {
   "cell_type": "code",
   "execution_count": 63,
   "id": "899a71a2",
   "metadata": {},
   "outputs": [
    {
     "data": {
      "text/html": [
       "<div>\n",
       "<style scoped>\n",
       "    .dataframe tbody tr th:only-of-type {\n",
       "        vertical-align: middle;\n",
       "    }\n",
       "\n",
       "    .dataframe tbody tr th {\n",
       "        vertical-align: top;\n",
       "    }\n",
       "\n",
       "    .dataframe thead th {\n",
       "        text-align: right;\n",
       "    }\n",
       "</style>\n",
       "<table border=\"1\" class=\"dataframe\">\n",
       "  <thead>\n",
       "    <tr style=\"text-align: right;\">\n",
       "      <th></th>\n",
       "      <th>Category</th>\n",
       "      <th>Text</th>\n",
       "      <th>Text_no_stopwords</th>\n",
       "      <th>Text_no_numbers_lemma</th>\n",
       "    </tr>\n",
       "  </thead>\n",
       "  <tbody>\n",
       "    <tr>\n",
       "      <th>0</th>\n",
       "      <td>Household</td>\n",
       "      <td>Paper Plane Design Framed Wall Hanging Motivat...</td>\n",
       "      <td>paper plane design framed wall hanging motivat...</td>\n",
       "      <td>paper plane design framed wall hanging motivat...</td>\n",
       "    </tr>\n",
       "    <tr>\n",
       "      <th>1</th>\n",
       "      <td>Household</td>\n",
       "      <td>SAF 'Floral' Framed Painting (Wood, 30 inch x ...</td>\n",
       "      <td>saf 'floral ' framed painting ( wood , 30 inch...</td>\n",
       "      <td>saf 'floral ' framed painting ( wood , inch x ...</td>\n",
       "    </tr>\n",
       "    <tr>\n",
       "      <th>2</th>\n",
       "      <td>Household</td>\n",
       "      <td>SAF 'UV Textured Modern Art Print Framed' Pain...</td>\n",
       "      <td>saf 'uv textured modern art print framed ' pai...</td>\n",
       "      <td>saf 'uv textured modern art print framed ' pai...</td>\n",
       "    </tr>\n",
       "    <tr>\n",
       "      <th>3</th>\n",
       "      <td>Household</td>\n",
       "      <td>SAF Flower Print Framed Painting (Synthetic, 1...</td>\n",
       "      <td>saf flower print framed painting ( synthetic ,...</td>\n",
       "      <td>saf flower print framed painting ( synthetic ,...</td>\n",
       "    </tr>\n",
       "    <tr>\n",
       "      <th>4</th>\n",
       "      <td>Household</td>\n",
       "      <td>Incredible Gifts India Wooden Happy Birthday U...</td>\n",
       "      <td>incredible gifts india wooden happy birthday u...</td>\n",
       "      <td>incredible gift india wooden happy birthday un...</td>\n",
       "    </tr>\n",
       "    <tr>\n",
       "      <th>...</th>\n",
       "      <td>...</td>\n",
       "      <td>...</td>\n",
       "      <td>...</td>\n",
       "      <td>...</td>\n",
       "    </tr>\n",
       "    <tr>\n",
       "      <th>50420</th>\n",
       "      <td>Electronics</td>\n",
       "      <td>Strontium MicroSD Class 10 8GB Memory Card (Bl...</td>\n",
       "      <td>strontium microsd class 10 8gb memory card ( b...</td>\n",
       "      <td>strontium microsd class 8gb memory card ( blac...</td>\n",
       "    </tr>\n",
       "    <tr>\n",
       "      <th>50421</th>\n",
       "      <td>Electronics</td>\n",
       "      <td>CrossBeats Wave Waterproof Bluetooth Wireless ...</td>\n",
       "      <td>crossbeats wave waterproof bluetooth wireless ...</td>\n",
       "      <td>crossbeats wave waterproof bluetooth wireless ...</td>\n",
       "    </tr>\n",
       "    <tr>\n",
       "      <th>50422</th>\n",
       "      <td>Electronics</td>\n",
       "      <td>Karbonn Titanium Wind W4 (White) Karbonn Titan...</td>\n",
       "      <td>karbonn titanium wind w4 ( white ) karbonn tit...</td>\n",
       "      <td>karbonn titanium wind w4 ( white ) karbonn tit...</td>\n",
       "    </tr>\n",
       "    <tr>\n",
       "      <th>50423</th>\n",
       "      <td>Electronics</td>\n",
       "      <td>Samsung Guru FM Plus (SM-B110E/D, Black) Colou...</td>\n",
       "      <td>samsung guru fm plus ( sm-b110e/d , black ) co...</td>\n",
       "      <td>samsung guru fm plus ( sm-b110e/d , black ) co...</td>\n",
       "    </tr>\n",
       "    <tr>\n",
       "      <th>50424</th>\n",
       "      <td>Electronics</td>\n",
       "      <td>Micromax Canvas Win W121 (White)</td>\n",
       "      <td>micromax canvas win w121 ( white )</td>\n",
       "      <td>micromax canvas win w121 ( white )</td>\n",
       "    </tr>\n",
       "  </tbody>\n",
       "</table>\n",
       "<p>50425 rows × 4 columns</p>\n",
       "</div>"
      ],
      "text/plain": [
       "          Category                                               Text  \\\n",
       "0        Household  Paper Plane Design Framed Wall Hanging Motivat...   \n",
       "1        Household  SAF 'Floral' Framed Painting (Wood, 30 inch x ...   \n",
       "2        Household  SAF 'UV Textured Modern Art Print Framed' Pain...   \n",
       "3        Household  SAF Flower Print Framed Painting (Synthetic, 1...   \n",
       "4        Household  Incredible Gifts India Wooden Happy Birthday U...   \n",
       "...            ...                                                ...   \n",
       "50420  Electronics  Strontium MicroSD Class 10 8GB Memory Card (Bl...   \n",
       "50421  Electronics  CrossBeats Wave Waterproof Bluetooth Wireless ...   \n",
       "50422  Electronics  Karbonn Titanium Wind W4 (White) Karbonn Titan...   \n",
       "50423  Electronics  Samsung Guru FM Plus (SM-B110E/D, Black) Colou...   \n",
       "50424  Electronics                   Micromax Canvas Win W121 (White)   \n",
       "\n",
       "                                       Text_no_stopwords  \\\n",
       "0      paper plane design framed wall hanging motivat...   \n",
       "1      saf 'floral ' framed painting ( wood , 30 inch...   \n",
       "2      saf 'uv textured modern art print framed ' pai...   \n",
       "3      saf flower print framed painting ( synthetic ,...   \n",
       "4      incredible gifts india wooden happy birthday u...   \n",
       "...                                                  ...   \n",
       "50420  strontium microsd class 10 8gb memory card ( b...   \n",
       "50421  crossbeats wave waterproof bluetooth wireless ...   \n",
       "50422  karbonn titanium wind w4 ( white ) karbonn tit...   \n",
       "50423  samsung guru fm plus ( sm-b110e/d , black ) co...   \n",
       "50424                 micromax canvas win w121 ( white )   \n",
       "\n",
       "                                   Text_no_numbers_lemma  \n",
       "0      paper plane design framed wall hanging motivat...  \n",
       "1      saf 'floral ' framed painting ( wood , inch x ...  \n",
       "2      saf 'uv textured modern art print framed ' pai...  \n",
       "3      saf flower print framed painting ( synthetic ,...  \n",
       "4      incredible gift india wooden happy birthday un...  \n",
       "...                                                  ...  \n",
       "50420  strontium microsd class 8gb memory card ( blac...  \n",
       "50421  crossbeats wave waterproof bluetooth wireless ...  \n",
       "50422  karbonn titanium wind w4 ( white ) karbonn tit...  \n",
       "50423  samsung guru fm plus ( sm-b110e/d , black ) co...  \n",
       "50424                 micromax canvas win w121 ( white )  \n",
       "\n",
       "[50425 rows x 4 columns]"
      ]
     },
     "execution_count": 63,
     "metadata": {},
     "output_type": "execute_result"
    }
   ],
   "source": [
    "df"
   ]
  },
  {
   "cell_type": "markdown",
   "id": "359ccb8e",
   "metadata": {},
   "source": [
    "# All done\n",
    "We now have a column called Text_no_numbers_lemma, which does not has stopwords/numbers and it lemmatized.\n",
    "\n",
    "### Yay \n",
    "\n",
    "![](https://media.giphy.com/media/fy5iARUXimtVK/giphy.gif)"
   ]
  },
  {
   "cell_type": "markdown",
   "id": "2b5f534e",
   "metadata": {},
   "source": [
    "# Onto Vectorization\n",
    "![](https://media.giphy.com/media/kZKA1wsWnBzr7dJ6Ss/giphy-downsized-large.gif)"
   ]
  },
  {
   "cell_type": "code",
   "execution_count": 64,
   "id": "87fb688e",
   "metadata": {},
   "outputs": [
    {
     "data": {
      "text/plain": [
       "0        paper plane design framed wall hanging motivat...\n",
       "1        saf 'floral ' framed painting ( wood , inch x ...\n",
       "2        saf 'uv textured modern art print framed ' pai...\n",
       "3        saf flower print framed painting ( synthetic ,...\n",
       "4        incredible gift india wooden happy birthday un...\n",
       "                               ...                        \n",
       "50420    strontium microsd class 8gb memory card ( blac...\n",
       "50421    crossbeats wave waterproof bluetooth wireless ...\n",
       "50422    karbonn titanium wind w4 ( white ) karbonn tit...\n",
       "50423    samsung guru fm plus ( sm-b110e/d , black ) co...\n",
       "50424                   micromax canvas win w121 ( white )\n",
       "Name: Text_no_numbers_lemma, Length: 50425, dtype: object"
      ]
     },
     "execution_count": 64,
     "metadata": {},
     "output_type": "execute_result"
    }
   ],
   "source": [
    "# This is the column we are interested in\n",
    "df['Text_no_numbers_lemma']"
   ]
  },
  {
   "cell_type": "code",
   "execution_count": 65,
   "id": "e1764fd0",
   "metadata": {},
   "outputs": [],
   "source": [
    "# Let's save it inside X\n",
    "X = df['Text_no_numbers_lemma']"
   ]
  },
  {
   "cell_type": "markdown",
   "id": "1783d51c",
   "metadata": {},
   "source": [
    "### Vectorizing"
   ]
  },
  {
   "cell_type": "code",
   "execution_count": 66,
   "id": "e3a53dda",
   "metadata": {},
   "outputs": [],
   "source": [
    "from sklearn.feature_extraction.text import CountVectorizer"
   ]
  },
  {
   "cell_type": "code",
   "execution_count": 67,
   "id": "07ba79c2",
   "metadata": {},
   "outputs": [],
   "source": [
    "# We initialise it\n",
    "vectorizer = CountVectorizer()"
   ]
  },
  {
   "cell_type": "code",
   "execution_count": 68,
   "id": "0996d3bd",
   "metadata": {},
   "outputs": [
    {
     "data": {
      "text/plain": [
       "CountVectorizer()"
      ]
     },
     "execution_count": 68,
     "metadata": {},
     "output_type": "execute_result"
    }
   ],
   "source": [
    "vectorizer.fit(X)"
   ]
  },
  {
   "cell_type": "markdown",
   "id": "6b8e645a",
   "metadata": {},
   "source": [
    "Now that we have fit the vectorizer, we can transform our data into vectors"
   ]
  },
  {
   "cell_type": "code",
   "execution_count": 69,
   "id": "cfadc9af",
   "metadata": {},
   "outputs": [
    {
     "data": {
      "text/plain": [
       "<50425x73340 sparse matrix of type '<class 'numpy.int64'>'\n",
       "\twith 2742249 stored elements in Compressed Sparse Row format>"
      ]
     },
     "execution_count": 69,
     "metadata": {},
     "output_type": "execute_result"
    }
   ],
   "source": [
    "vectorizer.transform(X)"
   ]
  },
  {
   "cell_type": "markdown",
   "id": "8f6571ce",
   "metadata": {},
   "source": [
    "Saving the output somewhere"
   ]
  },
  {
   "cell_type": "code",
   "execution_count": 70,
   "id": "fc7a598c",
   "metadata": {},
   "outputs": [],
   "source": [
    "X_vectors = vectorizer.transform(X)"
   ]
  },
  {
   "cell_type": "code",
   "execution_count": 71,
   "id": "c5880187",
   "metadata": {},
   "outputs": [
    {
     "data": {
      "text/plain": [
       "array(['00', '000', '0000', ..., '④supports', 'ヒッジー', 'ﬁltration'],\n",
       "      dtype=object)"
      ]
     },
     "execution_count": 71,
     "metadata": {},
     "output_type": "execute_result"
    }
   ],
   "source": [
    "vectorizer.get_feature_names_out()"
   ]
  },
  {
   "cell_type": "code",
   "execution_count": 72,
   "id": "9a7aff23",
   "metadata": {},
   "outputs": [
    {
     "data": {
      "text/plain": [
       "array(['00', '000', '0000', '00001', '0001', '00020', '0005', '0006',\n",
       "       '000764', '0008', '0008a', '000ers', '000g', '000hrs', '000hz',\n",
       "       '000hzcable', '000hzimpedance', '000mah', '000sresolution',\n",
       "       '000times', '001', '001176', '001276', '00145', '001726', '001745',\n",
       "       '001773', '002', '00207', '00251', '003', '0032', '0035', '00360',\n",
       "       '003711', '004', '0040', '00400', '004069', '0041', '004654',\n",
       "       '004_army', '005', '0051_steel', '0052_steelplainco', '005mm',\n",
       "       '006', '006342', '0069', '006p', '007', '0073', '0075', '008',\n",
       "       '0080r11', '00864', '0087', '009', '00am', '00b', '00ft', '00g',\n",
       "       '00inch', '00m', '00mhz', '00mm', '00mmh', '00oz', '00pm', '00sq',\n",
       "       '00x18', '01', '010', '0105', '010g', '011', '0110', '012', '0120',\n",
       "       '01200', '013', '014', '015', '016', '0160r11', '0161', '016g',\n",
       "       '0172', '01743a', '019kg', '01a', '01cm', '01d', '01dbx', '01lb',\n",
       "       '01lux', '01mm', '01oz', '01percent', '01x1'], dtype=object)"
      ]
     },
     "execution_count": 72,
     "metadata": {},
     "output_type": "execute_result"
    }
   ],
   "source": [
    "vectorizer.get_feature_names_out()[0:100]"
   ]
  },
  {
   "cell_type": "markdown",
   "id": "4dc8fa41",
   "metadata": {},
   "source": [
    "# Now that we have vectors, we can start with clustering"
   ]
  },
  {
   "cell_type": "markdown",
   "id": "b696925b",
   "metadata": {},
   "source": [
    "# Clustering"
   ]
  },
  {
   "cell_type": "code",
   "execution_count": 75,
   "id": "9ccfff60",
   "metadata": {},
   "outputs": [
    {
     "data": {
      "text/plain": [
       "0        paper plane design framed wall hanging motivat...\n",
       "1        saf 'floral ' framed painting ( wood , inch x ...\n",
       "2        saf 'uv textured modern art print framed ' pai...\n",
       "3        saf flower print framed painting ( synthetic ,...\n",
       "4        incredible gift india wooden happy birthday un...\n",
       "                               ...                        \n",
       "50420    strontium microsd class 8gb memory card ( blac...\n",
       "50421    crossbeats wave waterproof bluetooth wireless ...\n",
       "50422    karbonn titanium wind w4 ( white ) karbonn tit...\n",
       "50423    samsung guru fm plus ( sm-b110e/d , black ) co...\n",
       "50424                   micromax canvas win w121 ( white )\n",
       "Name: Text_no_numbers_lemma, Length: 50425, dtype: object"
      ]
     },
     "execution_count": 75,
     "metadata": {},
     "output_type": "execute_result"
    }
   ],
   "source": [
    "X"
   ]
  },
  {
   "cell_type": "code",
   "execution_count": 76,
   "id": "5c02452f",
   "metadata": {},
   "outputs": [
    {
     "data": {
      "text/plain": [
       "<50425x73340 sparse matrix of type '<class 'numpy.int64'>'\n",
       "\twith 2742249 stored elements in Compressed Sparse Row format>"
      ]
     },
     "execution_count": 76,
     "metadata": {},
     "output_type": "execute_result"
    }
   ],
   "source": [
    "X_vectors"
   ]
  },
  {
   "cell_type": "markdown",
   "id": "81a51caf",
   "metadata": {},
   "source": [
    "# Modelling"
   ]
  },
  {
   "cell_type": "code",
   "execution_count": 77,
   "id": "d06d7247",
   "metadata": {},
   "outputs": [],
   "source": [
    "from sklearn.cluster import KMeans\n",
    "import numpy as np"
   ]
  },
  {
   "cell_type": "code",
   "execution_count": 78,
   "id": "586e5278",
   "metadata": {},
   "outputs": [],
   "source": [
    " # I will explain this later\n",
    "\n",
    "# km = KMeans(\n",
    "#     n_clusters=3, init='random',\n",
    "#     n_init=10, max_iter=300, \n",
    "#     tol=1e-04, random_state=0\n",
    "# )"
   ]
  },
  {
   "cell_type": "code",
   "execution_count": 79,
   "id": "0319cb64",
   "metadata": {},
   "outputs": [],
   "source": [
    "# Initialising\n",
    "km = KMeans(n_clusters=5)"
   ]
  },
  {
   "cell_type": "code",
   "execution_count": 80,
   "id": "f3df86ea",
   "metadata": {},
   "outputs": [],
   "source": [
    "# Fitting a model\n",
    "km_model = km.fit(X_vectors)"
   ]
  },
  {
   "cell_type": "code",
   "execution_count": 81,
   "id": "d7f390f9",
   "metadata": {},
   "outputs": [],
   "source": [
    "# Making predictions\n",
    "y_km = km.predict(X_vectors)"
   ]
  },
  {
   "cell_type": "code",
   "execution_count": 82,
   "id": "c51182ba",
   "metadata": {},
   "outputs": [
    {
     "data": {
      "text/plain": [
       "array([1, 2, 1, ..., 4, 4, 2], dtype=int32)"
      ]
     },
     "execution_count": 82,
     "metadata": {},
     "output_type": "execute_result"
    }
   ],
   "source": [
    "# Let's see our predictions\n",
    "y_km"
   ]
  },
  {
   "cell_type": "code",
   "execution_count": 84,
   "id": "1631f72f",
   "metadata": {},
   "outputs": [
    {
     "data": {
      "text/plain": [
       "array([1, 2, 1, ..., 4, 4, 2], dtype=int32)"
      ]
     },
     "execution_count": 84,
     "metadata": {},
     "output_type": "execute_result"
    }
   ],
   "source": [
    "km.labels_"
   ]
  },
  {
   "cell_type": "code",
   "execution_count": 87,
   "id": "c4ba2cae",
   "metadata": {},
   "outputs": [
    {
     "data": {
      "text/plain": [
       "array([[1.67644593e-03, 7.12489522e-02, 8.38222967e-04, ...,\n",
       "        0.00000000e+00, 0.00000000e+00, 0.00000000e+00],\n",
       "       [9.38628159e-03, 1.68471721e-02, 0.00000000e+00, ...,\n",
       "        2.40673887e-04, 0.00000000e+00, 7.22021661e-04],\n",
       "       [2.74038206e-03, 9.23216091e-03, 0.00000000e+00, ...,\n",
       "        0.00000000e+00, 2.66056510e-05, 0.00000000e+00],\n",
       "       [0.00000000e+00, 0.00000000e+00, 0.00000000e+00, ...,\n",
       "        0.00000000e+00, 0.00000000e+00, 0.00000000e+00],\n",
       "       [1.73383318e-02, 1.45267104e-02, 0.00000000e+00, ...,\n",
       "        0.00000000e+00, 0.00000000e+00, 0.00000000e+00]])"
      ]
     },
     "execution_count": 87,
     "metadata": {},
     "output_type": "execute_result"
    }
   ],
   "source": [
    "km.cluster_centers_"
   ]
  },
  {
   "cell_type": "markdown",
   "id": "c8e86dbc",
   "metadata": {},
   "source": [
    "# The elbow plot\n",
    "\n",
    "I will explain in detail what this is"
   ]
  },
  {
   "cell_type": "code",
   "execution_count": 88,
   "id": "b246ff5e",
   "metadata": {},
   "outputs": [
    {
     "data": {
      "image/png": "[encoded data removed]",
      "text/plain": [
       "<Figure size 640x480 with 1 Axes>"
      ]
     },
     "metadata": {},
     "output_type": "display_data"
    }
   ],
   "source": [
    "# calculate distortion for a range of number of cluster\n",
    "import matplotlib.pyplot as plt\n",
    "\n",
    "distortions = []\n",
    "for i in range(1, 11):\n",
    "    km = KMeans(\n",
    "        n_clusters=i, init='random',\n",
    "        n_init=10, max_iter=300,\n",
    "        tol=1e-04, random_state=0\n",
    "    )\n",
    "    km.fit(X_vectors)\n",
    "    distortions.append(km.inertia_)\n",
    "\n",
    "# plot\n",
    "plt.plot(range(1, 11), distortions, marker='o')\n",
    "plt.xlabel('Number of clusters')\n",
    "plt.ylabel('Distortion')\n",
    "plt.show()"
   ]
  },
  {
   "cell_type": "code",
   "execution_count": null,
   "id": "659f7b59",
   "metadata": {},
   "outputs": [],
   "source": []
  },
  {
   "cell_type": "code",
   "execution_count": null,
   "id": "213f53ee",
   "metadata": {},
   "outputs": [],
   "source": []
  },
  {
   "cell_type": "code",
   "execution_count": null,
   "id": "f14aea5b",
   "metadata": {},
   "outputs": [],
   "source": []
  },
  {
   "cell_type": "code",
   "execution_count": null,
   "id": "0505c549",
   "metadata": {},
   "outputs": [],
   "source": []
  }
 ],
 "metadata": {
  "kernelspec": {
   "display_name": "Python 3 (ipykernel)",
   "language": "python",
   "name": "python3"
  },
  "language_info": {
   "codemirror_mode": {
    "name": "ipython",
    "version": 3
   },
   "file_extension": ".py",
   "mimetype": "text/x-python",
   "name": "python",
   "nbconvert_exporter": "python",
   "pygments_lexer": "ipython3",
   "version": "3.7.16"
  }
 },
 "nbformat": 4,
 "nbformat_minor": 5
}
