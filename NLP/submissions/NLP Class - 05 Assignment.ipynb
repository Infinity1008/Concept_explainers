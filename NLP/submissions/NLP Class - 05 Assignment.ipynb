{
 "cells": [
  {
   "cell_type": "markdown",
   "id": "8f49e536",
   "metadata": {},
   "source": [
    "# Assignment\n",
    "Here is some dummy text\n",
    "- 'This is an example text, i am going to write anything here, use this text as your example'\n",
    "- 'You can use this text to convert into vectors'\n",
    "- 'Do remember to clean up the text before you start any processing'\n",
    "- 'Once you are done converting the text into numbers(vectors), do a shinchan dance'\n",
    "\n",
    "# Question 1\n",
    "Write code that will these four sentences into count vectors.\n",
    "\n",
    "# Question 2\n",
    "Write code that will these four sentences into tf-idf vectors."
   ]
  },
  {
   "cell_type": "code",
   "execution_count": 1,
   "id": "8d388adf",
   "metadata": {},
   "outputs": [],
   "source": [
    "#Answer 1"
   ]
  },
  {
   "cell_type": "code",
   "execution_count": 4,
   "id": "f478f68b",
   "metadata": {},
   "outputs": [],
   "source": [
    "from sklearn.feature_extraction.text import CountVectorizer"
   ]
  },
  {
   "cell_type": "code",
   "execution_count": 5,
   "id": "0b1a5be1",
   "metadata": {},
   "outputs": [],
   "source": [
    "sentences = ['This is an example text, i am going to write anything here, use this text as your example'\n",
    "'You can use this text to convert into vectors'\n",
    "'Do remember to clean up the text before you start any processing'\n",
    "'Once you are done converting the text into numbers(vectors), do a shinchan dance']\n",
    "    "
   ]
  },
  {
   "cell_type": "code",
   "execution_count": 6,
   "id": "1241844b",
   "metadata": {},
   "outputs": [],
   "source": [
    "vectorizer = CountVectorizer()\n",
    "vectors = vectorizer.fit_transform(sentences)"
   ]
  },
  {
   "cell_type": "code",
   "execution_count": null,
   "id": "0d06f2e2",
   "metadata": {},
   "outputs": [],
   "source": []
  }
 ],
 "metadata": {
  "kernelspec": {
   "display_name": "Python 3 (ipykernel)",
   "language": "python",
   "name": "python3"
  },
  "language_info": {
   "codemirror_mode": {
    "name": "ipython",
    "version": 3
   },
   "file_extension": ".py",
   "mimetype": "text/x-python",
   "name": "python",
   "nbconvert_exporter": "python",
   "pygments_lexer": "ipython3",
   "version": "3.9.13"
  }
 },
 "nbformat": 4,
 "nbformat_minor": 5
}
