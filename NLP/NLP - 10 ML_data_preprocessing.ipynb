{
 "cells": [
  {
   "cell_type": "markdown",
   "id": "1560c963",
   "metadata": {},
   "source": [
    "<h1><center>Natural Language Processing</center></h1>\n",
    "\n",
    "<h3><center>NLP 10</center></h3>\n",
    "\n",
    "![hM0xGrmJw](https://miro.medium.com/max/720/1*PGB0w1JZslqA-hM0xGrmJw.gif)"
   ]
  },
  {
   "cell_type": "markdown",
   "id": "446794f3",
   "metadata": {},
   "source": [
    "# Topics\n",
    "1.\tIntroduction to Natural Language Processing\n",
    "2.\tWhy learn NLP?\n",
    "3.\tLet's start playing with Python!\n",
    "4.\tText Wrangling and Cleansing\n",
    " - Sentence splitter\n",
    " - Tokenization\n",
    " - Stemming         \n",
    " - Lemmatization    \n",
    " - Stop word removal\n",
    " - Diving into NLTK\n",
    "5.\tVectorizing with Python\n",
    " - Count Vectorizer \n",
    " - TF-IDF Vectorizer\n",
    "6.\tModelling with Python \n",
    " - Classification <---------------------------------------------------- **This is where we are**\n",
    " - Clustering\n",
    " - Sentiment Analysis \n"
   ]
  },
  {
   "cell_type": "code",
   "execution_count": 1,
   "id": "e9631068",
   "metadata": {},
   "outputs": [
    {
     "data": {
      "text/html": [
       "<div>\n",
       "<style scoped>\n",
       "    .dataframe tbody tr th:only-of-type {\n",
       "        vertical-align: middle;\n",
       "    }\n",
       "\n",
       "    .dataframe tbody tr th {\n",
       "        vertical-align: top;\n",
       "    }\n",
       "\n",
       "    .dataframe thead th {\n",
       "        text-align: right;\n",
       "    }\n",
       "</style>\n",
       "<table border=\"1\" class=\"dataframe\">\n",
       "  <thead>\n",
       "    <tr style=\"text-align: right;\">\n",
       "      <th></th>\n",
       "      <th>Category</th>\n",
       "      <th>Message</th>\n",
       "    </tr>\n",
       "  </thead>\n",
       "  <tbody>\n",
       "    <tr>\n",
       "      <th>0</th>\n",
       "      <td>ham</td>\n",
       "      <td>Go until jurong point, crazy.. Available only ...</td>\n",
       "    </tr>\n",
       "    <tr>\n",
       "      <th>1</th>\n",
       "      <td>ham</td>\n",
       "      <td>Ok lar... Joking wif u oni...</td>\n",
       "    </tr>\n",
       "    <tr>\n",
       "      <th>2</th>\n",
       "      <td>spam</td>\n",
       "      <td>Free entry in 2 a wkly comp to win FA Cup fina...</td>\n",
       "    </tr>\n",
       "    <tr>\n",
       "      <th>3</th>\n",
       "      <td>ham</td>\n",
       "      <td>U dun say so early hor... U c already then say...</td>\n",
       "    </tr>\n",
       "    <tr>\n",
       "      <th>4</th>\n",
       "      <td>ham</td>\n",
       "      <td>Nah I don't think he goes to usf, he lives aro...</td>\n",
       "    </tr>\n",
       "  </tbody>\n",
       "</table>\n",
       "</div>"
      ],
      "text/plain": [
       "  Category                                            Message\n",
       "0      ham  Go until jurong point, crazy.. Available only ...\n",
       "1      ham                      Ok lar... Joking wif u oni...\n",
       "2     spam  Free entry in 2 a wkly comp to win FA Cup fina...\n",
       "3      ham  U dun say so early hor... U c already then say...\n",
       "4      ham  Nah I don't think he goes to usf, he lives aro..."
      ]
     },
     "execution_count": 1,
     "metadata": {},
     "output_type": "execute_result"
    }
   ],
   "source": [
    "import pandas as pd\n",
    "df = pd.read_csv('SPAM text.csv')\n",
    "\n",
    "df.head()"
   ]
  },
  {
   "cell_type": "markdown",
   "id": "1a7d3b3f",
   "metadata": {},
   "source": [
    "# Labelled vs Unlabelled\n",
    "\n",
    "You will find 2 types of datasets out and about in the wild.\n",
    "1. Labelled data\n",
    "2. Unlabelled data"
   ]
  },
  {
   "cell_type": "markdown",
   "id": "f796cbb3",
   "metadata": {},
   "source": [
    "## Unlabelled \n",
    "When you are dealing with data, that does not has any category/label attached to the rows, this is called unlabelled data.\n",
    "\n",
    "Here is an example. \n",
    "\n",
    "Imagine if this was your dataset"
   ]
  },
  {
   "cell_type": "code",
   "execution_count": 2,
   "id": "0c0acdb1",
   "metadata": {},
   "outputs": [
    {
     "data": {
      "text/html": [
       "<div>\n",
       "<style scoped>\n",
       "    .dataframe tbody tr th:only-of-type {\n",
       "        vertical-align: middle;\n",
       "    }\n",
       "\n",
       "    .dataframe tbody tr th {\n",
       "        vertical-align: top;\n",
       "    }\n",
       "\n",
       "    .dataframe thead th {\n",
       "        text-align: right;\n",
       "    }\n",
       "</style>\n",
       "<table border=\"1\" class=\"dataframe\">\n",
       "  <thead>\n",
       "    <tr style=\"text-align: right;\">\n",
       "      <th></th>\n",
       "      <th>Message</th>\n",
       "    </tr>\n",
       "  </thead>\n",
       "  <tbody>\n",
       "    <tr>\n",
       "      <th>0</th>\n",
       "      <td>Go until jurong point, crazy.. Available only ...</td>\n",
       "    </tr>\n",
       "    <tr>\n",
       "      <th>1</th>\n",
       "      <td>Ok lar... Joking wif u oni...</td>\n",
       "    </tr>\n",
       "    <tr>\n",
       "      <th>2</th>\n",
       "      <td>Free entry in 2 a wkly comp to win FA Cup fina...</td>\n",
       "    </tr>\n",
       "    <tr>\n",
       "      <th>3</th>\n",
       "      <td>U dun say so early hor... U c already then say...</td>\n",
       "    </tr>\n",
       "    <tr>\n",
       "      <th>4</th>\n",
       "      <td>Nah I don't think he goes to usf, he lives aro...</td>\n",
       "    </tr>\n",
       "    <tr>\n",
       "      <th>...</th>\n",
       "      <td>...</td>\n",
       "    </tr>\n",
       "    <tr>\n",
       "      <th>5567</th>\n",
       "      <td>This is the 2nd time we have tried 2 contact u...</td>\n",
       "    </tr>\n",
       "    <tr>\n",
       "      <th>5568</th>\n",
       "      <td>Will ü b going to esplanade fr home?</td>\n",
       "    </tr>\n",
       "    <tr>\n",
       "      <th>5569</th>\n",
       "      <td>Pity, * was in mood for that. So...any other s...</td>\n",
       "    </tr>\n",
       "    <tr>\n",
       "      <th>5570</th>\n",
       "      <td>The guy did some bitching but I acted like i'd...</td>\n",
       "    </tr>\n",
       "    <tr>\n",
       "      <th>5571</th>\n",
       "      <td>Rofl. Its true to its name</td>\n",
       "    </tr>\n",
       "  </tbody>\n",
       "</table>\n",
       "<p>5572 rows × 1 columns</p>\n",
       "</div>"
      ],
      "text/plain": [
       "                                                Message\n",
       "0     Go until jurong point, crazy.. Available only ...\n",
       "1                         Ok lar... Joking wif u oni...\n",
       "2     Free entry in 2 a wkly comp to win FA Cup fina...\n",
       "3     U dun say so early hor... U c already then say...\n",
       "4     Nah I don't think he goes to usf, he lives aro...\n",
       "...                                                 ...\n",
       "5567  This is the 2nd time we have tried 2 contact u...\n",
       "5568               Will ü b going to esplanade fr home?\n",
       "5569  Pity, * was in mood for that. So...any other s...\n",
       "5570  The guy did some bitching but I acted like i'd...\n",
       "5571                         Rofl. Its true to its name\n",
       "\n",
       "[5572 rows x 1 columns]"
      ]
     },
     "execution_count": 2,
     "metadata": {},
     "output_type": "execute_result"
    }
   ],
   "source": [
    "df[['Message']]"
   ]
  },
  {
   "cell_type": "markdown",
   "id": "0446ad97",
   "metadata": {},
   "source": [
    "This is Unlabelled data"
   ]
  },
  {
   "cell_type": "markdown",
   "id": "a5e8712d",
   "metadata": {},
   "source": [
    "## Labelled \n",
    "When you are dealing with data, that has category/label attached to all the rows, this is called labelled data.\n",
    "\n",
    "Here is an example.\n",
    "\n",
    "Imagine if this was your dataset"
   ]
  },
  {
   "cell_type": "code",
   "execution_count": 3,
   "id": "15119d2e",
   "metadata": {},
   "outputs": [
    {
     "data": {
      "text/html": [
       "<div>\n",
       "<style scoped>\n",
       "    .dataframe tbody tr th:only-of-type {\n",
       "        vertical-align: middle;\n",
       "    }\n",
       "\n",
       "    .dataframe tbody tr th {\n",
       "        vertical-align: top;\n",
       "    }\n",
       "\n",
       "    .dataframe thead th {\n",
       "        text-align: right;\n",
       "    }\n",
       "</style>\n",
       "<table border=\"1\" class=\"dataframe\">\n",
       "  <thead>\n",
       "    <tr style=\"text-align: right;\">\n",
       "      <th></th>\n",
       "      <th>Message</th>\n",
       "      <th>Category</th>\n",
       "    </tr>\n",
       "  </thead>\n",
       "  <tbody>\n",
       "    <tr>\n",
       "      <th>0</th>\n",
       "      <td>Go until jurong point, crazy.. Available only ...</td>\n",
       "      <td>ham</td>\n",
       "    </tr>\n",
       "    <tr>\n",
       "      <th>1</th>\n",
       "      <td>Ok lar... Joking wif u oni...</td>\n",
       "      <td>ham</td>\n",
       "    </tr>\n",
       "    <tr>\n",
       "      <th>2</th>\n",
       "      <td>Free entry in 2 a wkly comp to win FA Cup fina...</td>\n",
       "      <td>spam</td>\n",
       "    </tr>\n",
       "    <tr>\n",
       "      <th>3</th>\n",
       "      <td>U dun say so early hor... U c already then say...</td>\n",
       "      <td>ham</td>\n",
       "    </tr>\n",
       "    <tr>\n",
       "      <th>4</th>\n",
       "      <td>Nah I don't think he goes to usf, he lives aro...</td>\n",
       "      <td>ham</td>\n",
       "    </tr>\n",
       "    <tr>\n",
       "      <th>...</th>\n",
       "      <td>...</td>\n",
       "      <td>...</td>\n",
       "    </tr>\n",
       "    <tr>\n",
       "      <th>5567</th>\n",
       "      <td>This is the 2nd time we have tried 2 contact u...</td>\n",
       "      <td>spam</td>\n",
       "    </tr>\n",
       "    <tr>\n",
       "      <th>5568</th>\n",
       "      <td>Will ü b going to esplanade fr home?</td>\n",
       "      <td>ham</td>\n",
       "    </tr>\n",
       "    <tr>\n",
       "      <th>5569</th>\n",
       "      <td>Pity, * was in mood for that. So...any other s...</td>\n",
       "      <td>ham</td>\n",
       "    </tr>\n",
       "    <tr>\n",
       "      <th>5570</th>\n",
       "      <td>The guy did some bitching but I acted like i'd...</td>\n",
       "      <td>ham</td>\n",
       "    </tr>\n",
       "    <tr>\n",
       "      <th>5571</th>\n",
       "      <td>Rofl. Its true to its name</td>\n",
       "      <td>ham</td>\n",
       "    </tr>\n",
       "  </tbody>\n",
       "</table>\n",
       "<p>5572 rows × 2 columns</p>\n",
       "</div>"
      ],
      "text/plain": [
       "                                                Message Category\n",
       "0     Go until jurong point, crazy.. Available only ...      ham\n",
       "1                         Ok lar... Joking wif u oni...      ham\n",
       "2     Free entry in 2 a wkly comp to win FA Cup fina...     spam\n",
       "3     U dun say so early hor... U c already then say...      ham\n",
       "4     Nah I don't think he goes to usf, he lives aro...      ham\n",
       "...                                                 ...      ...\n",
       "5567  This is the 2nd time we have tried 2 contact u...     spam\n",
       "5568               Will ü b going to esplanade fr home?      ham\n",
       "5569  Pity, * was in mood for that. So...any other s...      ham\n",
       "5570  The guy did some bitching but I acted like i'd...      ham\n",
       "5571                         Rofl. Its true to its name      ham\n",
       "\n",
       "[5572 rows x 2 columns]"
      ]
     },
     "execution_count": 3,
     "metadata": {},
     "output_type": "execute_result"
    }
   ],
   "source": [
    "df[['Message','Category']]"
   ]
  },
  {
   "cell_type": "markdown",
   "id": "2add5ccb",
   "metadata": {},
   "source": [
    "# Train-test split\n",
    "\n",
    "When we are training our ML models. We train them on our dataset. But, we need a way for us to check if our models are correct or not. \n",
    "- For this to work, we need to set-aside some of our data, that we can use later.\n",
    "- We do not use this set-aside data for training the model.\n",
    "- Once the model is trained, we ask it to predict on this set-aside data.\n",
    "- Now remember, we know internally what this set-aside data's real value is.\n",
    "- But we let the model make it's predictions\n",
    "- Now, since we have the model predictions and also the real values. \n",
    "\n",
    "We can compare both to get \n",
    "- Accuracy\n",
    "- True Positive\n",
    "- True Negative\n",
    "- False Positive\n",
    "- False Negative"
   ]
  },
  {
   "cell_type": "code",
   "execution_count": 4,
   "id": "181bcdf0",
   "metadata": {},
   "outputs": [],
   "source": [
    "from sklearn.model_selection import train_test_split"
   ]
  },
  {
   "cell_type": "code",
   "execution_count": 42,
   "id": "1419a5e5",
   "metadata": {},
   "outputs": [],
   "source": [
    "df_x = df['Message']"
   ]
  },
  {
   "cell_type": "code",
   "execution_count": 43,
   "id": "32978833",
   "metadata": {},
   "outputs": [
    {
     "data": {
      "text/plain": [
       "0       Go until jurong point, crazy.. Available only ...\n",
       "1                           Ok lar... Joking wif u oni...\n",
       "2       Free entry in 2 a wkly comp to win FA Cup fina...\n",
       "3       U dun say so early hor... U c already then say...\n",
       "4       Nah I don't think he goes to usf, he lives aro...\n",
       "                              ...                        \n",
       "5567    This is the 2nd time we have tried 2 contact u...\n",
       "5568                 Will ü b going to esplanade fr home?\n",
       "5569    Pity, * was in mood for that. So...any other s...\n",
       "5570    The guy did some bitching but I acted like i'd...\n",
       "5571                           Rofl. Its true to its name\n",
       "Name: Message, Length: 5572, dtype: object"
      ]
     },
     "execution_count": 43,
     "metadata": {},
     "output_type": "execute_result"
    }
   ],
   "source": [
    "df_x"
   ]
  },
  {
   "cell_type": "code",
   "execution_count": 44,
   "id": "1cd88321",
   "metadata": {},
   "outputs": [],
   "source": [
    "df_y = df['Category']"
   ]
  },
  {
   "cell_type": "code",
   "execution_count": 161,
   "id": "36936657",
   "metadata": {},
   "outputs": [
    {
     "data": {
      "text/plain": [
       "0        ham\n",
       "1        ham\n",
       "2       spam\n",
       "3        ham\n",
       "4        ham\n",
       "        ... \n",
       "5567    spam\n",
       "5568     ham\n",
       "5569     ham\n",
       "5570     ham\n",
       "5571     ham\n",
       "Name: Category, Length: 5572, dtype: object"
      ]
     },
     "execution_count": 161,
     "metadata": {},
     "output_type": "execute_result"
    }
   ],
   "source": [
    "df_y"
   ]
  },
  {
   "cell_type": "code",
   "execution_count": null,
   "id": "bc2b2f8c",
   "metadata": {},
   "outputs": [],
   "source": [
    "X_train, X_test, y_train, y_test = train_test_split(df_x, df_y, test_size=0.33, random_state=42)"
   ]
  },
  {
   "cell_type": "code",
   "execution_count": 114,
   "id": "b92acdf2",
   "metadata": {},
   "outputs": [
    {
     "data": {
      "text/plain": [
       "[3385    FREE MSG:We billed your mobile number by mista...\n",
       " 5538    I can't believe how attached I am to seeing yo...\n",
       " 188     Please call our customer service representativ...\n",
       " 1557    Good sleep is about rhythm. The person has to ...\n",
       " 1859                     Sir, i am waiting for your call.\n",
       "                               ...                        \n",
       " 2420    SMS SERVICES For your inclusive text credits p...\n",
       " 5469                                              Ok lor.\n",
       " 1946    Can ü call me at 10:10 to make sure dat i've w...\n",
       " 2869             Aight, tomorrow around  &lt;#&gt;  it is\n",
       " 380     I taught that Ranjith sir called me. So only i...\n",
       " Name: Message, Length: 4457, dtype: object,\n",
       " 4536                        IM LATE TELLMISS IM ON MY WAY\n",
       " 1832    Hello- thanx for taking that call. I got a job...\n",
       " 2873                                       See you there!\n",
       " 521        But that's on ebay it might be less elsewhere.\n",
       " 174     Bloody hell, cant believe you forgot my surnam...\n",
       "                               ...                        \n",
       " 3485    Tell my  bad character which u Dnt lik in me. ...\n",
       " 795     There generally isn't one. It's an uncountable...\n",
       " 2069    Its hard to believe things like this. All can ...\n",
       " 640     I had askd u a question some hours before. Its...\n",
       " 3840    Erm … ill pick you up at about 6.45pm. That'll...\n",
       " Name: Message, Length: 1115, dtype: object,\n",
       " 3385    spam\n",
       " 5538     ham\n",
       " 188     spam\n",
       " 1557     ham\n",
       " 1859     ham\n",
       "         ... \n",
       " 2420    spam\n",
       " 5469     ham\n",
       " 1946     ham\n",
       " 2869     ham\n",
       " 380      ham\n",
       " Name: Category, Length: 4457, dtype: object,\n",
       " 4536    ham\n",
       " 1832    ham\n",
       " 2873    ham\n",
       " 521     ham\n",
       " 174     ham\n",
       "        ... \n",
       " 3485    ham\n",
       " 795     ham\n",
       " 2069    ham\n",
       " 640     ham\n",
       " 3840    ham\n",
       " Name: Category, Length: 1115, dtype: object]"
      ]
     },
     "execution_count": 114,
     "metadata": {},
     "output_type": "execute_result"
    }
   ],
   "source": [
    "train_test_split(df_x, df_y, test_size=0.2)"
   ]
  },
  {
   "cell_type": "code",
   "execution_count": 130,
   "id": "0e36538d",
   "metadata": {},
   "outputs": [
    {
     "data": {
      "text/plain": [
       "[3235                                  Yup ü not comin :-(\n",
       " 945     I sent my scores to sophas and i had to do sec...\n",
       " 5319                         Kothi print out marandratha.\n",
       " 5528    Its just the effect of irritation. Just ignore it\n",
       " 247                        I asked you to call him now ok\n",
       "                               ...                        \n",
       " 3772    Hi, wlcome back, did wonder if you got eaten b...\n",
       " 5191                               Sorry, I'll call later\n",
       " 5226        Prabha..i'm soryda..realy..frm heart i'm sory\n",
       " 5390                           Nt joking seriously i told\n",
       " 860               Did he just say somebody is named tampa\n",
       " Name: Message, Length: 3733, dtype: object,\n",
       " 3245    Squeeeeeze!! This is christmas hug.. If u lik ...\n",
       " 944     And also I've sorta blown him off a couple tim...\n",
       " 1044    Mmm thats better now i got a roast down me! i...\n",
       " 2484        Mm have some kanji dont eat anything heavy ok\n",
       " 812     So there's a ring that comes with the guys cos...\n",
       "                               ...                        \n",
       " 4944    Check mail.i have mailed varma and kept copy t...\n",
       " 3313    I know you are serving. I mean what are you do...\n",
       " 3652         Want to send me a virtual hug?... I need one\n",
       " 14                    I HAVE A DATE ON SUNDAY WITH WILL!!\n",
       " 4758    hey, looks like I was wrong and one of the kap...\n",
       " Name: Message, Length: 1839, dtype: object,\n",
       " 3235    ham\n",
       " 945     ham\n",
       " 5319    ham\n",
       " 5528    ham\n",
       " 247     ham\n",
       "        ... \n",
       " 3772    ham\n",
       " 5191    ham\n",
       " 5226    ham\n",
       " 5390    ham\n",
       " 860     ham\n",
       " Name: Category, Length: 3733, dtype: object,\n",
       " 3245    ham\n",
       " 944     ham\n",
       " 1044    ham\n",
       " 2484    ham\n",
       " 812     ham\n",
       "        ... \n",
       " 4944    ham\n",
       " 3313    ham\n",
       " 3652    ham\n",
       " 14      ham\n",
       " 4758    ham\n",
       " Name: Category, Length: 1839, dtype: object]"
      ]
     },
     "execution_count": 130,
     "metadata": {},
     "output_type": "execute_result"
    }
   ],
   "source": [
    "train_test_split(df_x, df_y, test_size=0.33, random_state=42)"
   ]
  },
  {
   "cell_type": "code",
   "execution_count": 135,
   "id": "96865451",
   "metadata": {},
   "outputs": [],
   "source": [
    "X_train, X_test, y_train, y_test = train_test_split(df_x, df_y, test_size=0.33, random_state=42)"
   ]
  },
  {
   "cell_type": "code",
   "execution_count": 137,
   "id": "a597e21a",
   "metadata": {},
   "outputs": [
    {
     "data": {
      "text/html": [
       "<div>\n",
       "<style scoped>\n",
       "    .dataframe tbody tr th:only-of-type {\n",
       "        vertical-align: middle;\n",
       "    }\n",
       "\n",
       "    .dataframe tbody tr th {\n",
       "        vertical-align: top;\n",
       "    }\n",
       "\n",
       "    .dataframe thead th {\n",
       "        text-align: right;\n",
       "    }\n",
       "</style>\n",
       "<table border=\"1\" class=\"dataframe\">\n",
       "  <thead>\n",
       "    <tr style=\"text-align: right;\">\n",
       "      <th></th>\n",
       "      <th>Category</th>\n",
       "      <th>Message</th>\n",
       "    </tr>\n",
       "  </thead>\n",
       "  <tbody>\n",
       "    <tr>\n",
       "      <th>0</th>\n",
       "      <td>ham</td>\n",
       "      <td>Go until jurong point, crazy.. Available only ...</td>\n",
       "    </tr>\n",
       "    <tr>\n",
       "      <th>1</th>\n",
       "      <td>ham</td>\n",
       "      <td>Ok lar... Joking wif u oni...</td>\n",
       "    </tr>\n",
       "    <tr>\n",
       "      <th>2</th>\n",
       "      <td>spam</td>\n",
       "      <td>Free entry in 2 a wkly comp to win FA Cup fina...</td>\n",
       "    </tr>\n",
       "    <tr>\n",
       "      <th>3</th>\n",
       "      <td>ham</td>\n",
       "      <td>U dun say so early hor... U c already then say...</td>\n",
       "    </tr>\n",
       "    <tr>\n",
       "      <th>4</th>\n",
       "      <td>ham</td>\n",
       "      <td>Nah I don't think he goes to usf, he lives aro...</td>\n",
       "    </tr>\n",
       "    <tr>\n",
       "      <th>...</th>\n",
       "      <td>...</td>\n",
       "      <td>...</td>\n",
       "    </tr>\n",
       "    <tr>\n",
       "      <th>5567</th>\n",
       "      <td>spam</td>\n",
       "      <td>This is the 2nd time we have tried 2 contact u...</td>\n",
       "    </tr>\n",
       "    <tr>\n",
       "      <th>5568</th>\n",
       "      <td>ham</td>\n",
       "      <td>Will ü b going to esplanade fr home?</td>\n",
       "    </tr>\n",
       "    <tr>\n",
       "      <th>5569</th>\n",
       "      <td>ham</td>\n",
       "      <td>Pity, * was in mood for that. So...any other s...</td>\n",
       "    </tr>\n",
       "    <tr>\n",
       "      <th>5570</th>\n",
       "      <td>ham</td>\n",
       "      <td>The guy did some bitching but I acted like i'd...</td>\n",
       "    </tr>\n",
       "    <tr>\n",
       "      <th>5571</th>\n",
       "      <td>ham</td>\n",
       "      <td>Rofl. Its true to its name</td>\n",
       "    </tr>\n",
       "  </tbody>\n",
       "</table>\n",
       "<p>5572 rows × 2 columns</p>\n",
       "</div>"
      ],
      "text/plain": [
       "     Category                                            Message\n",
       "0         ham  Go until jurong point, crazy.. Available only ...\n",
       "1         ham                      Ok lar... Joking wif u oni...\n",
       "2        spam  Free entry in 2 a wkly comp to win FA Cup fina...\n",
       "3         ham  U dun say so early hor... U c already then say...\n",
       "4         ham  Nah I don't think he goes to usf, he lives aro...\n",
       "...       ...                                                ...\n",
       "5567     spam  This is the 2nd time we have tried 2 contact u...\n",
       "5568      ham               Will ü b going to esplanade fr home?\n",
       "5569      ham  Pity, * was in mood for that. So...any other s...\n",
       "5570      ham  The guy did some bitching but I acted like i'd...\n",
       "5571      ham                         Rofl. Its true to its name\n",
       "\n",
       "[5572 rows x 2 columns]"
      ]
     },
     "execution_count": 137,
     "metadata": {},
     "output_type": "execute_result"
    }
   ],
   "source": [
    "df"
   ]
  },
  {
   "cell_type": "code",
   "execution_count": 49,
   "id": "db5329f5",
   "metadata": {},
   "outputs": [
    {
     "data": {
      "text/plain": [
       "3235                                  Yup ü not comin :-(\n",
       "945     I sent my scores to sophas and i had to do sec...\n",
       "5319                         Kothi print out marandratha.\n",
       "5528    Its just the effect of irritation. Just ignore it\n",
       "247                        I asked you to call him now ok\n",
       "                              ...                        \n",
       "3772    Hi, wlcome back, did wonder if you got eaten b...\n",
       "5191                               Sorry, I'll call later\n",
       "5226        Prabha..i'm soryda..realy..frm heart i'm sory\n",
       "5390                           Nt joking seriously i told\n",
       "860               Did he just say somebody is named tampa\n",
       "Name: Message, Length: 3733, dtype: object"
      ]
     },
     "execution_count": 49,
     "metadata": {},
     "output_type": "execute_result"
    }
   ],
   "source": [
    "X_train"
   ]
  },
  {
   "cell_type": "code",
   "execution_count": 50,
   "id": "d515946f",
   "metadata": {},
   "outputs": [
    {
     "data": {
      "text/plain": [
       "3245    Squeeeeeze!! This is christmas hug.. If u lik ...\n",
       "944     And also I've sorta blown him off a couple tim...\n",
       "1044    Mmm thats better now i got a roast down me! i...\n",
       "2484        Mm have some kanji dont eat anything heavy ok\n",
       "812     So there's a ring that comes with the guys cos...\n",
       "                              ...                        \n",
       "4944    Check mail.i have mailed varma and kept copy t...\n",
       "3313    I know you are serving. I mean what are you do...\n",
       "3652         Want to send me a virtual hug?... I need one\n",
       "14                    I HAVE A DATE ON SUNDAY WITH WILL!!\n",
       "4758    hey, looks like I was wrong and one of the kap...\n",
       "Name: Message, Length: 1839, dtype: object"
      ]
     },
     "execution_count": 50,
     "metadata": {},
     "output_type": "execute_result"
    }
   ],
   "source": [
    "X_test"
   ]
  },
  {
   "cell_type": "code",
   "execution_count": 51,
   "id": "f6afa63a",
   "metadata": {},
   "outputs": [
    {
     "data": {
      "text/plain": [
       "3235    ham\n",
       "945     ham\n",
       "5319    ham\n",
       "5528    ham\n",
       "247     ham\n",
       "       ... \n",
       "3772    ham\n",
       "5191    ham\n",
       "5226    ham\n",
       "5390    ham\n",
       "860     ham\n",
       "Name: Category, Length: 3733, dtype: object"
      ]
     },
     "execution_count": 51,
     "metadata": {},
     "output_type": "execute_result"
    }
   ],
   "source": [
    "y_train"
   ]
  },
  {
   "cell_type": "code",
   "execution_count": 52,
   "id": "e1b37f53",
   "metadata": {},
   "outputs": [
    {
     "data": {
      "text/plain": [
       "3245    ham\n",
       "944     ham\n",
       "1044    ham\n",
       "2484    ham\n",
       "812     ham\n",
       "       ... \n",
       "4944    ham\n",
       "3313    ham\n",
       "3652    ham\n",
       "14      ham\n",
       "4758    ham\n",
       "Name: Category, Length: 1839, dtype: object"
      ]
     },
     "execution_count": 52,
     "metadata": {},
     "output_type": "execute_result"
    }
   ],
   "source": [
    "y_test"
   ]
  },
  {
   "cell_type": "markdown",
   "id": "311f40ba",
   "metadata": {},
   "source": [
    "# Confusion Matrix\n",
    "Plotting these 4, gives us 'Confusion Matrix'\n",
    "- True Positive\n",
    "- True Negative\n",
    "- False Positive\n",
    "- False Negative"
   ]
  },
  {
   "cell_type": "code",
   "execution_count": 139,
   "id": "1b872dfe",
   "metadata": {},
   "outputs": [],
   "source": [
    "#Let's say these are our predictions\n",
    "prediction = [0,1,0,0]\n",
    "real_values = [1,1,0,1]"
   ]
  },
  {
   "cell_type": "code",
   "execution_count": 140,
   "id": "a60ffe7a",
   "metadata": {},
   "outputs": [],
   "source": [
    "from sklearn.metrics import confusion_matrix"
   ]
  },
  {
   "cell_type": "code",
   "execution_count": 142,
   "id": "da256755",
   "metadata": {},
   "outputs": [
    {
     "data": {
      "text/plain": [
       "array([[1, 0],\n",
       "       [2, 1]])"
      ]
     },
     "execution_count": 142,
     "metadata": {},
     "output_type": "execute_result"
    }
   ],
   "source": [
    "confusion_matrix(real_values, prediction)"
   ]
  },
  {
   "cell_type": "code",
   "execution_count": 143,
   "id": "f56f963d",
   "metadata": {},
   "outputs": [],
   "source": [
    "cm = confusion_matrix(real_values, prediction)"
   ]
  },
  {
   "cell_type": "code",
   "execution_count": 144,
   "id": "c7449d12",
   "metadata": {},
   "outputs": [
    {
     "data": {
      "text/plain": [
       "array([[1, 0],\n",
       "       [2, 1]])"
      ]
     },
     "execution_count": 144,
     "metadata": {},
     "output_type": "execute_result"
    }
   ],
   "source": [
    "cm"
   ]
  },
  {
   "cell_type": "code",
   "execution_count": 147,
   "id": "3f81eb4a",
   "metadata": {},
   "outputs": [
    {
     "data": {
      "text/plain": [
       "<AxesSubplot:>"
      ]
     },
     "execution_count": 147,
     "metadata": {},
     "output_type": "execute_result"
    },
    {
     "data": {
      "image/png": "[encoded data removed]",
      "text/plain": [
       "<Figure size 640x480 with 2 Axes>"
      ]
     },
     "metadata": {},
     "output_type": "display_data"
    }
   ],
   "source": [
    "sns.heatmap(cm, annot=True)"
   ]
  },
  {
   "cell_type": "markdown",
   "id": "ef566d14",
   "metadata": {},
   "source": [
    "# Splitting on actual data"
   ]
  },
  {
   "cell_type": "code",
   "execution_count": 148,
   "id": "e3a53dda",
   "metadata": {},
   "outputs": [
    {
     "data": {
      "text/plain": [
       "CountVectorizer()"
      ]
     },
     "execution_count": 148,
     "metadata": {},
     "output_type": "execute_result"
    }
   ],
   "source": [
    "from sklearn.feature_extraction.text import CountVectorizer\n",
    "\n",
    "# We initialise it\n",
    "vectorizer = CountVectorizer()\n",
    "\n",
    "vectorizer.fit(X_train)"
   ]
  },
  {
   "cell_type": "code",
   "execution_count": 150,
   "id": "cfadc9af",
   "metadata": {},
   "outputs": [
    {
     "data": {
      "text/plain": [
       "<3733x7081 sparse matrix of type '<class 'numpy.int64'>'\n",
       "\twith 49971 stored elements in Compressed Sparse Row format>"
      ]
     },
     "execution_count": 150,
     "metadata": {},
     "output_type": "execute_result"
    }
   ],
   "source": [
    "vectorizer.transform(X_train)"
   ]
  },
  {
   "cell_type": "code",
   "execution_count": 163,
   "id": "c5880187",
   "metadata": {},
   "outputs": [
    {
     "data": {
      "text/plain": [
       "array(['08712402050', '08712402578', '08712402779', '08712402902',\n",
       "       '08712402972', '08712405020', '08712405022', '08712460324',\n",
       "       '0871277810710p', '0871277810810', '0871277810910p', '08714342399',\n",
       "       '087147123779am', '08714712379', '08714712388', '08714712394',\n",
       "       '08714712412', '08715203028', '08715203649', '08715203656',\n",
       "       '08715203677', '08715203694', '08715205273', '08715500022',\n",
       "       '08715705022', '08717111821', '0871750', '08717507382',\n",
       "       '08717509990', '08717895698', '08717898035', '08718711108',\n",
       "       '08718720201', '08718723815', '08718726270', '087187262701',\n",
       "       '08718726970', '08718726978', '08718727870', '08718730666',\n",
       "       '08718738001', '08718738002', '08718738034', '08719181259',\n",
       "       '08719181503', '08719181513', '08719839835', '08719899229',\n",
       "       '08719899230', '09', '09041940223', '09050000301', '09050000332',\n",
       "       '09050000555', '09050000878', '09050001295', '09050001808',\n",
       "       '09050003091', '09050090044', '09056242159', '09057039994',\n",
       "       '09058091854', '09058091870', '09058094455', '09058094507',\n",
       "       '09058094565', '09058094583', '09058094594', '09058094597',\n",
       "       '09058095107', '09058095201', '09058097189', '09058097218',\n",
       "       '09058098002', '09058099801', '09061104276', '09061104283',\n",
       "       '09061209465', '09061213237', '09061221061', '09061221066',\n",
       "       '09061701444', '09061743386', '09061743806', '09061743810',\n",
       "       '09061744553', '09061749602', '09061790121', '09061790125',\n",
       "       '09061790126', '09063440451', '09063442151', '09063458130',\n",
       "       '0906346330', '09064011000', '09064012160', '09064017295',\n",
       "       '09064017305', '09064018838', '09064019014'], dtype=object)"
      ]
     },
     "execution_count": 163,
     "metadata": {},
     "output_type": "execute_result"
    }
   ],
   "source": [
    "vectorizer.get_feature_names_out()[100:200]"
   ]
  },
  {
   "cell_type": "code",
   "execution_count": 153,
   "id": "ef75132a",
   "metadata": {},
   "outputs": [],
   "source": [
    "X_train_vector = vectorizer.transform(X_train)"
   ]
  },
  {
   "cell_type": "code",
   "execution_count": 154,
   "id": "65237f2d",
   "metadata": {},
   "outputs": [
    {
     "data": {
      "text/plain": [
       "<1839x7081 sparse matrix of type '<class 'numpy.int64'>'\n",
       "\twith 22307 stored elements in Compressed Sparse Row format>"
      ]
     },
     "execution_count": 154,
     "metadata": {},
     "output_type": "execute_result"
    }
   ],
   "source": [
    "vectorizer.transform(X_test)"
   ]
  },
  {
   "cell_type": "code",
   "execution_count": 160,
   "id": "e1b7dffc",
   "metadata": {},
   "outputs": [],
   "source": [
    "X_test_vector = vectorizer.transform(X_test)"
   ]
  },
  {
   "cell_type": "markdown",
   "id": "0e01dbea",
   "metadata": {},
   "source": [
    "# X_train_vector\n",
    "# X_test_vector\n",
    "# y_train_encoded\n",
    "# y_test_encoded"
   ]
  },
  {
   "cell_type": "markdown",
   "id": "d2021b17",
   "metadata": {},
   "source": [
    "# Encoding the categories"
   ]
  },
  {
   "cell_type": "code",
   "execution_count": 68,
   "id": "7fc8e42b",
   "metadata": {},
   "outputs": [],
   "source": [
    "from sklearn.preprocessing import LabelEncoder\n",
    "le = LabelEncoder()"
   ]
  },
  {
   "cell_type": "code",
   "execution_count": 69,
   "id": "192a059c",
   "metadata": {},
   "outputs": [
    {
     "data": {
      "text/plain": [
       "3235    ham\n",
       "945     ham\n",
       "5319    ham\n",
       "5528    ham\n",
       "247     ham\n",
       "       ... \n",
       "3772    ham\n",
       "5191    ham\n",
       "5226    ham\n",
       "5390    ham\n",
       "860     ham\n",
       "Name: Category, Length: 3733, dtype: object"
      ]
     },
     "execution_count": 69,
     "metadata": {},
     "output_type": "execute_result"
    }
   ],
   "source": [
    "y_train"
   ]
  },
  {
   "cell_type": "code",
   "execution_count": 70,
   "id": "bdb17af5",
   "metadata": {},
   "outputs": [
    {
     "data": {
      "text/plain": [
       "LabelEncoder()"
      ]
     },
     "execution_count": 70,
     "metadata": {},
     "output_type": "execute_result"
    }
   ],
   "source": [
    "le.fit(y_train)"
   ]
  },
  {
   "cell_type": "code",
   "execution_count": 156,
   "id": "c323cc24",
   "metadata": {},
   "outputs": [
    {
     "data": {
      "text/plain": [
       "array(['ham', 'spam'], dtype=object)"
      ]
     },
     "execution_count": 156,
     "metadata": {},
     "output_type": "execute_result"
    }
   ],
   "source": [
    "le.classes_"
   ]
  },
  {
   "cell_type": "code",
   "execution_count": 157,
   "id": "67b8b842",
   "metadata": {},
   "outputs": [
    {
     "data": {
      "text/plain": [
       "array([0, 0, 0, ..., 0, 0, 0])"
      ]
     },
     "execution_count": 157,
     "metadata": {},
     "output_type": "execute_result"
    }
   ],
   "source": [
    "le.transform(y_train)"
   ]
  },
  {
   "cell_type": "code",
   "execution_count": 158,
   "id": "9fbd8559",
   "metadata": {},
   "outputs": [],
   "source": [
    "y_train_encoded = le.transform(y_train)"
   ]
  },
  {
   "cell_type": "code",
   "execution_count": 159,
   "id": "d2cf9497",
   "metadata": {},
   "outputs": [],
   "source": [
    "y_test_encoded = le.transform(y_test)"
   ]
  },
  {
   "cell_type": "markdown",
   "id": "fb033b97",
   "metadata": {},
   "source": [
    "# Finally training the model"
   ]
  },
  {
   "cell_type": "code",
   "execution_count": 164,
   "id": "991da2f6",
   "metadata": {},
   "outputs": [],
   "source": [
    "from sklearn.linear_model import LogisticRegression"
   ]
  },
  {
   "cell_type": "code",
   "execution_count": 166,
   "id": "89072d81",
   "metadata": {},
   "outputs": [],
   "source": [
    "# Initialising\n",
    "lr=LogisticRegression()"
   ]
  },
  {
   "cell_type": "code",
   "execution_count": 167,
   "id": "af32824b",
   "metadata": {},
   "outputs": [],
   "source": [
    "#Fitting the model for Bag of words\n",
    "lr_model = lr.fit(X_train_vector,y_train_encoded)"
   ]
  },
  {
   "cell_type": "code",
   "execution_count": 168,
   "id": "5e816ae5",
   "metadata": {},
   "outputs": [
    {
     "name": "stdout",
     "output_type": "stream",
     "text": [
      "LogisticRegression()\n"
     ]
    }
   ],
   "source": [
    "print(lr_model)"
   ]
  },
  {
   "cell_type": "code",
   "execution_count": 169,
   "id": "9072a12f",
   "metadata": {},
   "outputs": [
    {
     "data": {
      "text/plain": [
       "array([0, 0, 0, ..., 0, 0, 0])"
      ]
     },
     "execution_count": 169,
     "metadata": {},
     "output_type": "execute_result"
    }
   ],
   "source": [
    "#Predicting the model for bag of words\n",
    "lr.predict(X_test_vector)"
   ]
  },
  {
   "cell_type": "code",
   "execution_count": 171,
   "id": "1cc9f99c",
   "metadata": {},
   "outputs": [],
   "source": [
    "lr_model_predicted = lr.predict(X_test_vector)"
   ]
  },
  {
   "cell_type": "code",
   "execution_count": 172,
   "id": "afa911d7",
   "metadata": {},
   "outputs": [
    {
     "data": {
      "text/plain": [
       "array([0, 0, 0, ..., 0, 0, 0])"
      ]
     },
     "execution_count": 172,
     "metadata": {},
     "output_type": "execute_result"
    }
   ],
   "source": [
    "lr_model_predicted"
   ]
  },
  {
   "cell_type": "code",
   "execution_count": 174,
   "id": "d36ec786",
   "metadata": {},
   "outputs": [
    {
     "data": {
      "text/plain": [
       "array([0, 0, 0, ..., 0, 0, 0])"
      ]
     },
     "execution_count": 174,
     "metadata": {},
     "output_type": "execute_result"
    }
   ],
   "source": [
    "y_test_encoded"
   ]
  },
  {
   "cell_type": "code",
   "execution_count": 83,
   "id": "3912afab",
   "metadata": {},
   "outputs": [],
   "source": [
    "#Accuracy score for bag of words\n",
    "from sklearn.metrics import accuracy_score"
   ]
  },
  {
   "cell_type": "code",
   "execution_count": 175,
   "id": "eb1aa0d8",
   "metadata": {},
   "outputs": [
    {
     "data": {
      "text/plain": [
       "0.9853181076672104"
      ]
     },
     "execution_count": 175,
     "metadata": {},
     "output_type": "execute_result"
    }
   ],
   "source": [
    "accuracy_score(y_test_encoded,lr_model_predicted)"
   ]
  },
  {
   "cell_type": "code",
   "execution_count": 176,
   "id": "f929cbe9",
   "metadata": {},
   "outputs": [],
   "source": [
    "lr_model_score = accuracy_score(y_test_encoded,lr_model_predicted)"
   ]
  },
  {
   "cell_type": "code",
   "execution_count": 177,
   "id": "c62d3e43",
   "metadata": {},
   "outputs": [
    {
     "name": "stdout",
     "output_type": "stream",
     "text": [
      "lr_bow_score : 0.9853181076672104\n"
     ]
    }
   ],
   "source": [
    "print(\"lr_bow_score :\",lr_model_score)"
   ]
  },
  {
   "cell_type": "markdown",
   "id": "a59bd3a1",
   "metadata": {},
   "source": [
    "# But wait, there's more"
   ]
  },
  {
   "cell_type": "code",
   "execution_count": 178,
   "id": "a8fbd2c7",
   "metadata": {},
   "outputs": [],
   "source": [
    "cm_model = confusion_matrix(y_test_encoded,lr_model_predicted)"
   ]
  },
  {
   "cell_type": "code",
   "execution_count": 179,
   "id": "e24f93c5",
   "metadata": {},
   "outputs": [
    {
     "data": {
      "text/plain": [
       "array([[1590,    3],\n",
       "       [  24,  222]])"
      ]
     },
     "execution_count": 179,
     "metadata": {},
     "output_type": "execute_result"
    }
   ],
   "source": [
    "cm_model"
   ]
  },
  {
   "cell_type": "code",
   "execution_count": 180,
   "id": "51b99254",
   "metadata": {},
   "outputs": [
    {
     "data": {
      "text/plain": [
       "<AxesSubplot:>"
      ]
     },
     "execution_count": 180,
     "metadata": {},
     "output_type": "execute_result"
    },
    {
     "data": {
      "image/png": "[encoded data removed]",
      "text/plain": [
       "<Figure size 640x480 with 2 Axes>"
      ]
     },
     "metadata": {},
     "output_type": "display_data"
    }
   ],
   "source": [
    "sns.heatmap(cm_model, annot=True, fmt=\".1f\")"
   ]
  },
  {
   "cell_type": "markdown",
   "id": "887c0560",
   "metadata": {},
   "source": [
    "# What does this mean ??"
   ]
  },
  {
   "cell_type": "code",
   "execution_count": 200,
   "id": "80c59832",
   "metadata": {},
   "outputs": [],
   "source": [
    "# Let's write some text\n",
    "ourtext = ['Sale, are you interested in buying the new galaxy watch. 50% off on this new offer.']"
   ]
  },
  {
   "cell_type": "code",
   "execution_count": 184,
   "id": "eeab30cf",
   "metadata": {},
   "outputs": [
    {
     "data": {
      "text/plain": [
       "<1x7081 sparse matrix of type '<class 'numpy.int64'>'\n",
       "\twith 14 stored elements in Compressed Sparse Row format>"
      ]
     },
     "execution_count": 184,
     "metadata": {},
     "output_type": "execute_result"
    }
   ],
   "source": [
    "vectorizer.transform(ourtext)"
   ]
  },
  {
   "cell_type": "code",
   "execution_count": 185,
   "id": "d32cee83",
   "metadata": {},
   "outputs": [],
   "source": [
    "ourtext_vector = vectorizer.transform(ourtext)"
   ]
  },
  {
   "cell_type": "code",
   "execution_count": 186,
   "id": "36a30968",
   "metadata": {},
   "outputs": [
    {
     "data": {
      "text/plain": [
       "array([0])"
      ]
     },
     "execution_count": 186,
     "metadata": {},
     "output_type": "execute_result"
    }
   ],
   "source": [
    "lr.predict(ourtext_vector)"
   ]
  },
  {
   "cell_type": "code",
   "execution_count": 204,
   "id": "4196de1e",
   "metadata": {},
   "outputs": [
    {
     "data": {
      "text/plain": [
       "\"Free entry in 2 a wkly comp to win FA Cup final tkts 21st May 2005. Text FA to 87121 to receive entry question(std txt rate)T&C's apply 08452810075over18's\""
      ]
     },
     "execution_count": 204,
     "metadata": {},
     "output_type": "execute_result"
    }
   ],
   "source": [
    "df[df['Category'] == 'spam'].iloc[0,1]"
   ]
  },
  {
   "cell_type": "markdown",
   "id": "1710ee37",
   "metadata": {},
   "source": [
    "# Testing\n"
   ]
  },
  {
   "cell_type": "code",
   "execution_count": 203,
   "id": "f31da11f",
   "metadata": {},
   "outputs": [],
   "source": [
    "ournewtext = [\"Free entry in 2 a wkly comp to win FA Cup final tkts 21st May 2005. Text FA to 87121 to receive entry question(std txt rate)T&C's apply 08452810075over18's\"]"
   ]
  },
  {
   "cell_type": "code",
   "execution_count": 205,
   "id": "4cbc0f50",
   "metadata": {},
   "outputs": [
    {
     "data": {
      "text/plain": [
       "<1x7081 sparse matrix of type '<class 'numpy.int64'>'\n",
       "\twith 23 stored elements in Compressed Sparse Row format>"
      ]
     },
     "execution_count": 205,
     "metadata": {},
     "output_type": "execute_result"
    }
   ],
   "source": [
    "vectorizer.transform(ournewtext)"
   ]
  },
  {
   "cell_type": "code",
   "execution_count": 207,
   "id": "b4ee2df2",
   "metadata": {},
   "outputs": [],
   "source": [
    "ournewtext_vector = vectorizer.transform(ournewtext)"
   ]
  },
  {
   "cell_type": "code",
   "execution_count": 208,
   "id": "333095da",
   "metadata": {},
   "outputs": [
    {
     "data": {
      "text/plain": [
       "array([1])"
      ]
     },
     "execution_count": 208,
     "metadata": {},
     "output_type": "execute_result"
    }
   ],
   "source": [
    "lr.predict(ournewtext_vector)"
   ]
  },
  {
   "cell_type": "code",
   "execution_count": null,
   "id": "5d3dd0bd",
   "metadata": {},
   "outputs": [],
   "source": []
  },
  {
   "cell_type": "code",
   "execution_count": null,
   "id": "011f163e",
   "metadata": {},
   "outputs": [],
   "source": []
  },
  {
   "cell_type": "code",
   "execution_count": null,
   "id": "59cbe238",
   "metadata": {},
   "outputs": [],
   "source": []
  },
  {
   "cell_type": "code",
   "execution_count": null,
   "id": "30f2eb57",
   "metadata": {},
   "outputs": [],
   "source": []
  }
 ],
 "metadata": {
  "kernelspec": {
   "display_name": "Python 3 (ipykernel)",
   "language": "python",
   "name": "python3"
  },
  "language_info": {
   "codemirror_mode": {
    "name": "ipython",
    "version": 3
   },
   "file_extension": ".py",
   "mimetype": "text/x-python",
   "name": "python",
   "nbconvert_exporter": "python",
   "pygments_lexer": "ipython3",
   "version": "3.7.16"
  }
 },
 "nbformat": 4,
 "nbformat_minor": 5
}
